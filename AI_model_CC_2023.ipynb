{
 "cells": [
  {
   "cell_type": "code",
   "execution_count": 1,
   "id": "e8a5c473-7165-4aa2-b535-e866baeed9bc",
   "metadata": {},
   "outputs": [],
   "source": [
    "# Import required Dependencies\n",
    "import os\n",
    "import sys\n",
    "import numpy as np\n",
    "import matplotlib.pyplot as plt\n",
    "import pandas as pd\n",
    "import seaborn as sns\n",
    "import sklearn\n",
    "import datetime\n",
    "\n",
    "# Pre Processing\n",
    "from sklearn.model_selection import train_test_split, StratifiedKFold\n",
    "from sklearn.preprocessing import StandardScaler\n",
    "from sklearn.preprocessing import MinMaxScaler\n",
    "from sklearn.pipeline import make_pipeline\n",
    "from functools import partial\n",
    "\n",
    "# Error Metrics\n",
    "from sklearn import metrics\n",
    "from sklearn.metrics import mean_absolute_error\n",
    "from sklearn.metrics import mean_squared_error\n",
    "from sklearn.metrics import r2_score\n",
    "from sklearn.metrics import precision_recall_curve, auc\n",
    "from sklearn.inspection import DecisionBoundaryDisplay\n",
    "\n",
    "# Classifiers\n",
    "from sklearn import svm\n",
    "from sklearn.svm import OneClassSVM\n",
    "from sklearn.ensemble import IsolationForest\n",
    "from sklearn.naive_bayes import GaussianNB\n",
    "from sklearn.linear_model import Perceptron\n",
    "from sklearn.linear_model import SGDClassifier\n",
    "from sklearn.neighbors import KNeighborsClassifier\n",
    "from sklearn.tree import DecisionTreeClassifier\n",
    "from sklearn.ensemble import RandomForestClassifier\n",
    "from xgboost import XGBClassifier\n",
    "\n",
    "# DL models\n",
    "from tensorflow.keras import layers \n",
    "from tensorflow.keras.models import Sequential\n",
    "from tensorflow.keras.layers import Dense, Input\n",
    "from tensorflow.keras.models import Model\n",
    "from tensorflow.python.keras.layers import deserialize, serialize\n",
    "from tensorflow.python.keras.saving import saving_utils\n",
    "\n",
    "# Save models\n",
    "import pickle\n",
    "\n",
    "#Cross Validation \n",
    "from sklearn.model_selection import GridSearchCV, RandomizedSearchCV\n",
    "\n",
    "#Parallel backend processing\n",
    "from concurrent.futures import ProcessPoolExecutor\n",
    "from joblib import parallel_backend"
   ]
  },
  {
   "cell_type": "code",
   "execution_count": 2,
   "id": "8a57d8eb-de8c-4ab6-82f4-7f1dfe8faa0b",
   "metadata": {},
   "outputs": [],
   "source": [
    "import os\n",
    "\n",
    "# Where to save the figures\n",
    "PROJECT_ROOT_DIR = \".\"\n",
    "CHAPTER_ID = \"CC_2023\"\n",
    "IMAGES_PATH = os.path.join(PROJECT_ROOT_DIR, \"images\", CHAPTER_ID)\n",
    "os.makedirs(IMAGES_PATH, exist_ok=True)\n",
    "\n",
    "def save_fig(fig_id, tight_layout=True, fig_extension=\"png\", resolution=300):\n",
    "    path = os.path.join(IMAGES_PATH, fig_id + \".\" + fig_extension)\n",
    "    print(\"Saving figure\", fig_id)\n",
    "    if tight_layout:\n",
    "        plt.tight_layout()\n",
    "    plt.savefig(path, format=fig_extension, dpi=resolution, bbox_inches='tight')\n",
    "\n",
    "# Ignore useless warnings (see SciPy issue #5998)\n",
    "import warnings\n",
    "warnings.filterwarnings(action=\"ignore\", message=\"^internal gelsd\")"
   ]
  },
  {
   "cell_type": "markdown",
   "id": "7a4cbbf7-640a-4038-9222-0923a6b7794f",
   "metadata": {},
   "source": [
    "### 2023 data"
   ]
  },
  {
   "cell_type": "code",
   "execution_count": 3,
   "id": "5f59453c-fbb5-4339-8682-ea3d0fd439c9",
   "metadata": {},
   "outputs": [],
   "source": [
    "# Load the saved sample of data in CSV format for 2021 as train data\n",
    "df = pd.read_csv('CC_20230910.csv')"
   ]
  },
  {
   "cell_type": "code",
   "execution_count": 4,
   "id": "768dfa0a-08b5-4bd8-8100-4ec8564539b2",
   "metadata": {},
   "outputs": [
    {
     "data": {
      "text/html": [
       "<div>\n",
       "<style scoped>\n",
       "    .dataframe tbody tr th:only-of-type {\n",
       "        vertical-align: middle;\n",
       "    }\n",
       "\n",
       "    .dataframe tbody tr th {\n",
       "        vertical-align: top;\n",
       "    }\n",
       "\n",
       "    .dataframe thead th {\n",
       "        text-align: right;\n",
       "    }\n",
       "</style>\n",
       "<table border=\"1\" class=\"dataframe\">\n",
       "  <thead>\n",
       "    <tr style=\"text-align: right;\">\n",
       "      <th></th>\n",
       "      <th>blue</th>\n",
       "      <th>dbsi</th>\n",
       "      <th>evi</th>\n",
       "      <th>gi</th>\n",
       "      <th>gndvi</th>\n",
       "      <th>green</th>\n",
       "      <th>kndvi</th>\n",
       "      <th>ndci</th>\n",
       "      <th>ndpi</th>\n",
       "      <th>ndvigb</th>\n",
       "      <th>...</th>\n",
       "      <th>rvi1</th>\n",
       "      <th>rvi2</th>\n",
       "      <th>sipi</th>\n",
       "      <th>srpi</th>\n",
       "      <th>tvi</th>\n",
       "      <th>vari</th>\n",
       "      <th>VH</th>\n",
       "      <th>VV-VH</th>\n",
       "      <th>VV</th>\n",
       "      <th>class</th>\n",
       "    </tr>\n",
       "  </thead>\n",
       "  <tbody>\n",
       "    <tr>\n",
       "      <th>0</th>\n",
       "      <td>884.0</td>\n",
       "      <td>0.332088</td>\n",
       "      <td>0.299619</td>\n",
       "      <td>0.633595</td>\n",
       "      <td>0.408799</td>\n",
       "      <td>1290.0</td>\n",
       "      <td>0.041239</td>\n",
       "      <td>0.085766</td>\n",
       "      <td>0.535219</td>\n",
       "      <td>0.186753</td>\n",
       "      <td>...</td>\n",
       "      <td>1.509823</td>\n",
       "      <td>2.382946</td>\n",
       "      <td>0.553310</td>\n",
       "      <td>0.434185</td>\n",
       "      <td>32440.0</td>\n",
       "      <td>-0.305487</td>\n",
       "      <td>0.015961</td>\n",
       "      <td>4.992914</td>\n",
       "      <td>0.079693</td>\n",
       "      <td>2.0</td>\n",
       "    </tr>\n",
       "    <tr>\n",
       "      <th>1</th>\n",
       "      <td>900.0</td>\n",
       "      <td>0.313104</td>\n",
       "      <td>0.316513</td>\n",
       "      <td>0.655674</td>\n",
       "      <td>0.402827</td>\n",
       "      <td>1352.0</td>\n",
       "      <td>0.045201</td>\n",
       "      <td>0.110632</td>\n",
       "      <td>0.525780</td>\n",
       "      <td>0.200710</td>\n",
       "      <td>...</td>\n",
       "      <td>1.540252</td>\n",
       "      <td>2.349112</td>\n",
       "      <td>0.558391</td>\n",
       "      <td>0.436469</td>\n",
       "      <td>38440.0</td>\n",
       "      <td>-0.282418</td>\n",
       "      <td>0.013790</td>\n",
       "      <td>6.609541</td>\n",
       "      <td>0.091145</td>\n",
       "      <td>2.0</td>\n",
       "    </tr>\n",
       "    <tr>\n",
       "      <th>2</th>\n",
       "      <td>921.0</td>\n",
       "      <td>0.308188</td>\n",
       "      <td>0.321067</td>\n",
       "      <td>0.654215</td>\n",
       "      <td>0.404793</td>\n",
       "      <td>1366.0</td>\n",
       "      <td>0.045702</td>\n",
       "      <td>0.104439</td>\n",
       "      <td>0.522043</td>\n",
       "      <td>0.194578</td>\n",
       "      <td>...</td>\n",
       "      <td>1.544061</td>\n",
       "      <td>2.360176</td>\n",
       "      <td>0.555609</td>\n",
       "      <td>0.441092</td>\n",
       "      <td>39280.0</td>\n",
       "      <td>-0.285038</td>\n",
       "      <td>0.014154</td>\n",
       "      <td>7.793242</td>\n",
       "      <td>0.110306</td>\n",
       "      <td>2.0</td>\n",
       "    </tr>\n",
       "    <tr>\n",
       "      <th>3</th>\n",
       "      <td>924.0</td>\n",
       "      <td>0.314756</td>\n",
       "      <td>0.288697</td>\n",
       "      <td>0.646140</td>\n",
       "      <td>0.397342</td>\n",
       "      <td>1406.0</td>\n",
       "      <td>0.039744</td>\n",
       "      <td>0.105815</td>\n",
       "      <td>0.514167</td>\n",
       "      <td>0.206867</td>\n",
       "      <td>...</td>\n",
       "      <td>1.498162</td>\n",
       "      <td>2.318634</td>\n",
       "      <td>0.558317</td>\n",
       "      <td>0.424632</td>\n",
       "      <td>34240.0</td>\n",
       "      <td>-0.289691</td>\n",
       "      <td>0.011056</td>\n",
       "      <td>9.924413</td>\n",
       "      <td>0.109723</td>\n",
       "      <td>2.0</td>\n",
       "    </tr>\n",
       "    <tr>\n",
       "      <th>4</th>\n",
       "      <td>934.0</td>\n",
       "      <td>0.307736</td>\n",
       "      <td>0.292751</td>\n",
       "      <td>0.638164</td>\n",
       "      <td>0.405949</td>\n",
       "      <td>1418.0</td>\n",
       "      <td>0.041307</td>\n",
       "      <td>0.095461</td>\n",
       "      <td>0.511034</td>\n",
       "      <td>0.205782</td>\n",
       "      <td>...</td>\n",
       "      <td>1.510351</td>\n",
       "      <td>2.366714</td>\n",
       "      <td>0.564569</td>\n",
       "      <td>0.420342</td>\n",
       "      <td>35880.0</td>\n",
       "      <td>-0.297118</td>\n",
       "      <td>0.009376</td>\n",
       "      <td>8.233112</td>\n",
       "      <td>0.077192</td>\n",
       "      <td>2.0</td>\n",
       "    </tr>\n",
       "  </tbody>\n",
       "</table>\n",
       "<p>5 rows × 25 columns</p>\n",
       "</div>"
      ],
      "text/plain": [
       "    blue      dbsi       evi        gi     gndvi   green     kndvi      ndci  \\\n",
       "0  884.0  0.332088  0.299619  0.633595  0.408799  1290.0  0.041239  0.085766   \n",
       "1  900.0  0.313104  0.316513  0.655674  0.402827  1352.0  0.045201  0.110632   \n",
       "2  921.0  0.308188  0.321067  0.654215  0.404793  1366.0  0.045702  0.104439   \n",
       "3  924.0  0.314756  0.288697  0.646140  0.397342  1406.0  0.039744  0.105815   \n",
       "4  934.0  0.307736  0.292751  0.638164  0.405949  1418.0  0.041307  0.095461   \n",
       "\n",
       "       ndpi    ndvigb  ...      rvi1      rvi2      sipi      srpi      tvi  \\\n",
       "0  0.535219  0.186753  ...  1.509823  2.382946  0.553310  0.434185  32440.0   \n",
       "1  0.525780  0.200710  ...  1.540252  2.349112  0.558391  0.436469  38440.0   \n",
       "2  0.522043  0.194578  ...  1.544061  2.360176  0.555609  0.441092  39280.0   \n",
       "3  0.514167  0.206867  ...  1.498162  2.318634  0.558317  0.424632  34240.0   \n",
       "4  0.511034  0.205782  ...  1.510351  2.366714  0.564569  0.420342  35880.0   \n",
       "\n",
       "       vari        VH     VV-VH        VV  class  \n",
       "0 -0.305487  0.015961  4.992914  0.079693    2.0  \n",
       "1 -0.282418  0.013790  6.609541  0.091145    2.0  \n",
       "2 -0.285038  0.014154  7.793242  0.110306    2.0  \n",
       "3 -0.289691  0.011056  9.924413  0.109723    2.0  \n",
       "4 -0.297118  0.009376  8.233112  0.077192    2.0  \n",
       "\n",
       "[5 rows x 25 columns]"
      ]
     },
     "execution_count": 4,
     "metadata": {},
     "output_type": "execute_result"
    }
   ],
   "source": [
    "df.head()"
   ]
  },
  {
   "cell_type": "code",
   "execution_count": 5,
   "id": "9f818a3d-e0cd-4ddc-87c6-51fe2432d223",
   "metadata": {},
   "outputs": [
    {
     "name": "stdout",
     "output_type": "stream",
     "text": [
      "<class 'pandas.core.frame.DataFrame'>\n",
      "RangeIndex: 70836 entries, 0 to 70835\n",
      "Data columns (total 25 columns):\n",
      " #   Column  Non-Null Count  Dtype  \n",
      "---  ------  --------------  -----  \n",
      " 0   blue    70836 non-null  float64\n",
      " 1   dbsi    70836 non-null  float64\n",
      " 2   evi     70836 non-null  float64\n",
      " 3   gi      70836 non-null  float64\n",
      " 4   gndvi   70836 non-null  float64\n",
      " 5   green   70836 non-null  float64\n",
      " 6   kndvi   70836 non-null  float64\n",
      " 7   ndci    70836 non-null  float64\n",
      " 8   ndpi    70836 non-null  float64\n",
      " 9   ndvigb  70836 non-null  float64\n",
      " 10  ndvi    70836 non-null  float64\n",
      " 11  nir     70836 non-null  float64\n",
      " 12  npci    70836 non-null  float64\n",
      " 13  psri    70836 non-null  float64\n",
      " 14  red     70836 non-null  float64\n",
      " 15  rvi1    70836 non-null  float64\n",
      " 16  rvi2    70836 non-null  float64\n",
      " 17  sipi    70836 non-null  float64\n",
      " 18  srpi    70836 non-null  float64\n",
      " 19  tvi     70836 non-null  float64\n",
      " 20  vari    70836 non-null  float64\n",
      " 21  VH      70836 non-null  float64\n",
      " 22  VV-VH   70836 non-null  float64\n",
      " 23  VV      70836 non-null  float64\n",
      " 24  class   70836 non-null  float64\n",
      "dtypes: float64(25)\n",
      "memory usage: 13.5 MB\n"
     ]
    }
   ],
   "source": [
    "df.info()"
   ]
  },
  {
   "cell_type": "code",
   "execution_count": 6,
   "id": "33d41d1c-165b-401a-ab51-05e829fede3a",
   "metadata": {},
   "outputs": [
    {
     "data": {
      "text/html": [
       "<div>\n",
       "<style scoped>\n",
       "    .dataframe tbody tr th:only-of-type {\n",
       "        vertical-align: middle;\n",
       "    }\n",
       "\n",
       "    .dataframe tbody tr th {\n",
       "        vertical-align: top;\n",
       "    }\n",
       "\n",
       "    .dataframe thead th {\n",
       "        text-align: right;\n",
       "    }\n",
       "</style>\n",
       "<table border=\"1\" class=\"dataframe\">\n",
       "  <thead>\n",
       "    <tr style=\"text-align: right;\">\n",
       "      <th></th>\n",
       "      <th>blue</th>\n",
       "      <th>dbsi</th>\n",
       "      <th>evi</th>\n",
       "      <th>gi</th>\n",
       "      <th>gndvi</th>\n",
       "      <th>green</th>\n",
       "      <th>kndvi</th>\n",
       "      <th>ndci</th>\n",
       "      <th>ndpi</th>\n",
       "      <th>ndvigb</th>\n",
       "      <th>...</th>\n",
       "      <th>rvi1</th>\n",
       "      <th>rvi2</th>\n",
       "      <th>sipi</th>\n",
       "      <th>srpi</th>\n",
       "      <th>tvi</th>\n",
       "      <th>vari</th>\n",
       "      <th>VH</th>\n",
       "      <th>VV-VH</th>\n",
       "      <th>VV</th>\n",
       "      <th>class</th>\n",
       "    </tr>\n",
       "  </thead>\n",
       "  <tbody>\n",
       "    <tr>\n",
       "      <th>count</th>\n",
       "      <td>70836.000000</td>\n",
       "      <td>70836.000000</td>\n",
       "      <td>70836.000000</td>\n",
       "      <td>70836.000000</td>\n",
       "      <td>70836.000000</td>\n",
       "      <td>70836.000000</td>\n",
       "      <td>70836.000000</td>\n",
       "      <td>70836.000000</td>\n",
       "      <td>70836.000000</td>\n",
       "      <td>70836.000000</td>\n",
       "      <td>...</td>\n",
       "      <td>70836.000000</td>\n",
       "      <td>70836.000000</td>\n",
       "      <td>70836.000000</td>\n",
       "      <td>70836.000000</td>\n",
       "      <td>70836.000000</td>\n",
       "      <td>70836.000000</td>\n",
       "      <td>70836.000000</td>\n",
       "      <td>70836.000000</td>\n",
       "      <td>70836.000000</td>\n",
       "      <td>70836.000000</td>\n",
       "    </tr>\n",
       "    <tr>\n",
       "      <th>mean</th>\n",
       "      <td>376.800144</td>\n",
       "      <td>-0.079805</td>\n",
       "      <td>1.085273</td>\n",
       "      <td>1.084761</td>\n",
       "      <td>0.588863</td>\n",
       "      <td>775.785843</td>\n",
       "      <td>0.341430</td>\n",
       "      <td>0.313526</td>\n",
       "      <td>0.485703</td>\n",
       "      <td>0.429762</td>\n",
       "      <td>...</td>\n",
       "      <td>5.656533</td>\n",
       "      <td>4.601375</td>\n",
       "      <td>0.776235</td>\n",
       "      <td>0.401815</td>\n",
       "      <td>127811.243718</td>\n",
       "      <td>0.003181</td>\n",
       "      <td>0.018969</td>\n",
       "      <td>8.146039</td>\n",
       "      <td>0.094902</td>\n",
       "      <td>1.618781</td>\n",
       "    </tr>\n",
       "    <tr>\n",
       "      <th>std</th>\n",
       "      <td>306.398753</td>\n",
       "      <td>0.226814</td>\n",
       "      <td>0.541669</td>\n",
       "      <td>0.375716</td>\n",
       "      <td>0.149461</td>\n",
       "      <td>348.908909</td>\n",
       "      <td>0.215045</td>\n",
       "      <td>0.174083</td>\n",
       "      <td>0.083991</td>\n",
       "      <td>0.192829</td>\n",
       "      <td>...</td>\n",
       "      <td>4.548222</td>\n",
       "      <td>2.220480</td>\n",
       "      <td>0.161120</td>\n",
       "      <td>0.108363</td>\n",
       "      <td>69765.553902</td>\n",
       "      <td>0.197747</td>\n",
       "      <td>0.011440</td>\n",
       "      <td>82.474607</td>\n",
       "      <td>0.113980</td>\n",
       "      <td>0.485690</td>\n",
       "    </tr>\n",
       "    <tr>\n",
       "      <th>min</th>\n",
       "      <td>1.000000</td>\n",
       "      <td>-0.523478</td>\n",
       "      <td>0.051656</td>\n",
       "      <td>0.410138</td>\n",
       "      <td>0.067774</td>\n",
       "      <td>89.000000</td>\n",
       "      <td>0.001156</td>\n",
       "      <td>-0.182738</td>\n",
       "      <td>0.022573</td>\n",
       "      <td>0.033264</td>\n",
       "      <td>...</td>\n",
       "      <td>1.070393</td>\n",
       "      <td>1.145403</td>\n",
       "      <td>0.166746</td>\n",
       "      <td>0.003401</td>\n",
       "      <td>-10320.000000</td>\n",
       "      <td>-0.463687</td>\n",
       "      <td>0.000014</td>\n",
       "      <td>0.176180</td>\n",
       "      <td>0.002988</td>\n",
       "      <td>1.000000</td>\n",
       "    </tr>\n",
       "    <tr>\n",
       "      <th>25%</th>\n",
       "      <td>162.000000</td>\n",
       "      <td>-0.279186</td>\n",
       "      <td>0.562421</td>\n",
       "      <td>0.765349</td>\n",
       "      <td>0.452439</td>\n",
       "      <td>545.000000</td>\n",
       "      <td>0.110111</td>\n",
       "      <td>0.152403</td>\n",
       "      <td>0.429531</td>\n",
       "      <td>0.244340</td>\n",
       "      <td>...</td>\n",
       "      <td>1.996276</td>\n",
       "      <td>2.652562</td>\n",
       "      <td>0.623230</td>\n",
       "      <td>0.344523</td>\n",
       "      <td>66255.000000</td>\n",
       "      <td>-0.181062</td>\n",
       "      <td>0.010855</td>\n",
       "      <td>2.790756</td>\n",
       "      <td>0.051536</td>\n",
       "      <td>1.000000</td>\n",
       "    </tr>\n",
       "    <tr>\n",
       "      <th>50%</th>\n",
       "      <td>260.000000</td>\n",
       "      <td>-0.123635</td>\n",
       "      <td>1.162943</td>\n",
       "      <td>1.003804</td>\n",
       "      <td>0.624213</td>\n",
       "      <td>672.000000</td>\n",
       "      <td>0.379781</td>\n",
       "      <td>0.327955</td>\n",
       "      <td>0.479701</td>\n",
       "      <td>0.431676</td>\n",
       "      <td>...</td>\n",
       "      <td>4.439227</td>\n",
       "      <td>4.322160</td>\n",
       "      <td>0.833697</td>\n",
       "      <td>0.419053</td>\n",
       "      <td>132000.000000</td>\n",
       "      <td>0.002395</td>\n",
       "      <td>0.016692</td>\n",
       "      <td>4.578459</td>\n",
       "      <td>0.075628</td>\n",
       "      <td>2.000000</td>\n",
       "    </tr>\n",
       "    <tr>\n",
       "      <th>75%</th>\n",
       "      <td>522.000000</td>\n",
       "      <td>0.123457</td>\n",
       "      <td>1.544538</td>\n",
       "      <td>1.321101</td>\n",
       "      <td>0.709402</td>\n",
       "      <td>914.000000</td>\n",
       "      <td>0.535368</td>\n",
       "      <td>0.455546</td>\n",
       "      <td>0.537425</td>\n",
       "      <td>0.562232</td>\n",
       "      <td>...</td>\n",
       "      <td>7.813347</td>\n",
       "      <td>5.882353</td>\n",
       "      <td>0.908715</td>\n",
       "      <td>0.472434</td>\n",
       "      <td>188080.000000</td>\n",
       "      <td>0.164676</td>\n",
       "      <td>0.024456</td>\n",
       "      <td>7.799378</td>\n",
       "      <td>0.110582</td>\n",
       "      <td>2.000000</td>\n",
       "    </tr>\n",
       "    <tr>\n",
       "      <th>max</th>\n",
       "      <td>2152.000000</td>\n",
       "      <td>0.652618</td>\n",
       "      <td>3.448349</td>\n",
       "      <td>4.183908</td>\n",
       "      <td>0.931488</td>\n",
       "      <td>2834.000000</td>\n",
       "      <td>0.738412</td>\n",
       "      <td>0.826261</td>\n",
       "      <td>0.896451</td>\n",
       "      <td>0.995546</td>\n",
       "      <td>...</td>\n",
       "      <td>73.428571</td>\n",
       "      <td>28.191781</td>\n",
       "      <td>0.999501</td>\n",
       "      <td>1.620690</td>\n",
       "      <td>372760.000000</td>\n",
       "      <td>0.893548</td>\n",
       "      <td>0.147113</td>\n",
       "      <td>16510.246094</td>\n",
       "      <td>5.831423</td>\n",
       "      <td>2.000000</td>\n",
       "    </tr>\n",
       "  </tbody>\n",
       "</table>\n",
       "<p>8 rows × 25 columns</p>\n",
       "</div>"
      ],
      "text/plain": [
       "               blue          dbsi           evi            gi         gndvi  \\\n",
       "count  70836.000000  70836.000000  70836.000000  70836.000000  70836.000000   \n",
       "mean     376.800144     -0.079805      1.085273      1.084761      0.588863   \n",
       "std      306.398753      0.226814      0.541669      0.375716      0.149461   \n",
       "min        1.000000     -0.523478      0.051656      0.410138      0.067774   \n",
       "25%      162.000000     -0.279186      0.562421      0.765349      0.452439   \n",
       "50%      260.000000     -0.123635      1.162943      1.003804      0.624213   \n",
       "75%      522.000000      0.123457      1.544538      1.321101      0.709402   \n",
       "max     2152.000000      0.652618      3.448349      4.183908      0.931488   \n",
       "\n",
       "              green         kndvi          ndci          ndpi        ndvigb  \\\n",
       "count  70836.000000  70836.000000  70836.000000  70836.000000  70836.000000   \n",
       "mean     775.785843      0.341430      0.313526      0.485703      0.429762   \n",
       "std      348.908909      0.215045      0.174083      0.083991      0.192829   \n",
       "min       89.000000      0.001156     -0.182738      0.022573      0.033264   \n",
       "25%      545.000000      0.110111      0.152403      0.429531      0.244340   \n",
       "50%      672.000000      0.379781      0.327955      0.479701      0.431676   \n",
       "75%      914.000000      0.535368      0.455546      0.537425      0.562232   \n",
       "max     2834.000000      0.738412      0.826261      0.896451      0.995546   \n",
       "\n",
       "       ...          rvi1          rvi2          sipi          srpi  \\\n",
       "count  ...  70836.000000  70836.000000  70836.000000  70836.000000   \n",
       "mean   ...      5.656533      4.601375      0.776235      0.401815   \n",
       "std    ...      4.548222      2.220480      0.161120      0.108363   \n",
       "min    ...      1.070393      1.145403      0.166746      0.003401   \n",
       "25%    ...      1.996276      2.652562      0.623230      0.344523   \n",
       "50%    ...      4.439227      4.322160      0.833697      0.419053   \n",
       "75%    ...      7.813347      5.882353      0.908715      0.472434   \n",
       "max    ...     73.428571     28.191781      0.999501      1.620690   \n",
       "\n",
       "                 tvi          vari            VH         VV-VH            VV  \\\n",
       "count   70836.000000  70836.000000  70836.000000  70836.000000  70836.000000   \n",
       "mean   127811.243718      0.003181      0.018969      8.146039      0.094902   \n",
       "std     69765.553902      0.197747      0.011440     82.474607      0.113980   \n",
       "min    -10320.000000     -0.463687      0.000014      0.176180      0.002988   \n",
       "25%     66255.000000     -0.181062      0.010855      2.790756      0.051536   \n",
       "50%    132000.000000      0.002395      0.016692      4.578459      0.075628   \n",
       "75%    188080.000000      0.164676      0.024456      7.799378      0.110582   \n",
       "max    372760.000000      0.893548      0.147113  16510.246094      5.831423   \n",
       "\n",
       "              class  \n",
       "count  70836.000000  \n",
       "mean       1.618781  \n",
       "std        0.485690  \n",
       "min        1.000000  \n",
       "25%        1.000000  \n",
       "50%        2.000000  \n",
       "75%        2.000000  \n",
       "max        2.000000  \n",
       "\n",
       "[8 rows x 25 columns]"
      ]
     },
     "execution_count": 6,
     "metadata": {},
     "output_type": "execute_result"
    }
   ],
   "source": [
    "df.describe()"
   ]
  },
  {
   "cell_type": "code",
   "execution_count": 7,
   "id": "6cb80101-e3a2-4dbc-bf17-2c346f502b14",
   "metadata": {},
   "outputs": [
    {
     "data": {
      "text/plain": [
       "2.0    43832\n",
       "1.0    27004\n",
       "Name: class, dtype: int64"
      ]
     },
     "execution_count": 7,
     "metadata": {},
     "output_type": "execute_result"
    }
   ],
   "source": [
    "df['class'].value_counts()"
   ]
  },
  {
   "cell_type": "code",
   "execution_count": 8,
   "id": "8b69bbc8-d9ba-4e1f-883b-237ed26a566a",
   "metadata": {},
   "outputs": [
    {
     "data": {
      "text/plain": [
       "0"
      ]
     },
     "execution_count": 8,
     "metadata": {},
     "output_type": "execute_result"
    }
   ],
   "source": [
    "np.isinf(df).values.sum()"
   ]
  },
  {
   "cell_type": "code",
   "execution_count": 9,
   "id": "70c7f6e9-9995-491d-b721-d0215408d1d8",
   "metadata": {},
   "outputs": [
    {
     "data": {
      "text/plain": [
       "blue      0\n",
       "dbsi      0\n",
       "evi       0\n",
       "gi        0\n",
       "gndvi     0\n",
       "green     0\n",
       "kndvi     0\n",
       "ndci      0\n",
       "ndpi      0\n",
       "ndvigb    0\n",
       "ndvi      0\n",
       "nir       0\n",
       "npci      0\n",
       "psri      0\n",
       "red       0\n",
       "rvi1      0\n",
       "rvi2      0\n",
       "sipi      0\n",
       "srpi      0\n",
       "tvi       0\n",
       "vari      0\n",
       "VH        0\n",
       "VV-VH     0\n",
       "VV        0\n",
       "class     0\n",
       "dtype: int64"
      ]
     },
     "execution_count": 9,
     "metadata": {},
     "output_type": "execute_result"
    }
   ],
   "source": [
    "df.isnull().sum()"
   ]
  },
  {
   "cell_type": "markdown",
   "id": "0eaa59da-f97a-4fdc-a6dc-4b4cec3dacf5",
   "metadata": {},
   "source": [
    "# Data Preparation for Model Building"
   ]
  },
  {
   "cell_type": "code",
   "execution_count": 10,
   "id": "215ef820-8acd-4ca9-b131-e82167141e56",
   "metadata": {},
   "outputs": [],
   "source": [
    "import warnings\n",
    "warnings.filterwarnings(\"ignore\")"
   ]
  },
  {
   "cell_type": "markdown",
   "id": "5afc5c5a-199b-4b8b-a29b-8ce3b2590956",
   "metadata": {},
   "source": [
    "## Generating noise to the original data to represent 'Others' class"
   ]
  },
  {
   "cell_type": "code",
   "execution_count": 11,
   "id": "241ab8ee-3854-4c5a-9ec5-fa388fab8007",
   "metadata": {
    "scrolled": true
   },
   "outputs": [
    {
     "name": "stdout",
     "output_type": "stream",
     "text": [
      "35418\n",
      "(35418, 24)\n",
      "(35418,)\n",
      "(35418, 25)\n",
      "(106254, 25)\n"
     ]
    },
    {
     "data": {
      "text/html": [
       "<div>\n",
       "<style scoped>\n",
       "    .dataframe tbody tr th:only-of-type {\n",
       "        vertical-align: middle;\n",
       "    }\n",
       "\n",
       "    .dataframe tbody tr th {\n",
       "        vertical-align: top;\n",
       "    }\n",
       "\n",
       "    .dataframe thead th {\n",
       "        text-align: right;\n",
       "    }\n",
       "</style>\n",
       "<table border=\"1\" class=\"dataframe\">\n",
       "  <thead>\n",
       "    <tr style=\"text-align: right;\">\n",
       "      <th></th>\n",
       "      <th>blue</th>\n",
       "      <th>dbsi</th>\n",
       "      <th>evi</th>\n",
       "      <th>gi</th>\n",
       "      <th>gndvi</th>\n",
       "      <th>green</th>\n",
       "      <th>kndvi</th>\n",
       "      <th>ndci</th>\n",
       "      <th>ndpi</th>\n",
       "      <th>ndvigb</th>\n",
       "      <th>...</th>\n",
       "      <th>rvi1</th>\n",
       "      <th>rvi2</th>\n",
       "      <th>sipi</th>\n",
       "      <th>srpi</th>\n",
       "      <th>tvi</th>\n",
       "      <th>vari</th>\n",
       "      <th>VH</th>\n",
       "      <th>VV-VH</th>\n",
       "      <th>VV</th>\n",
       "      <th>class</th>\n",
       "    </tr>\n",
       "  </thead>\n",
       "  <tbody>\n",
       "    <tr>\n",
       "      <th>0</th>\n",
       "      <td>884.000000</td>\n",
       "      <td>0.332088</td>\n",
       "      <td>0.299619</td>\n",
       "      <td>0.633595</td>\n",
       "      <td>0.408799</td>\n",
       "      <td>1290.000000</td>\n",
       "      <td>0.041239</td>\n",
       "      <td>0.085766</td>\n",
       "      <td>0.535219</td>\n",
       "      <td>0.186753</td>\n",
       "      <td>...</td>\n",
       "      <td>1.509823</td>\n",
       "      <td>2.382946</td>\n",
       "      <td>0.553310</td>\n",
       "      <td>0.434185</td>\n",
       "      <td>32440.000000</td>\n",
       "      <td>-0.305487</td>\n",
       "      <td>0.015961</td>\n",
       "      <td>4.992914</td>\n",
       "      <td>0.079693</td>\n",
       "      <td>2.0</td>\n",
       "    </tr>\n",
       "    <tr>\n",
       "      <th>1</th>\n",
       "      <td>900.000000</td>\n",
       "      <td>0.313104</td>\n",
       "      <td>0.316513</td>\n",
       "      <td>0.655674</td>\n",
       "      <td>0.402827</td>\n",
       "      <td>1352.000000</td>\n",
       "      <td>0.045201</td>\n",
       "      <td>0.110632</td>\n",
       "      <td>0.525780</td>\n",
       "      <td>0.200710</td>\n",
       "      <td>...</td>\n",
       "      <td>1.540252</td>\n",
       "      <td>2.349112</td>\n",
       "      <td>0.558391</td>\n",
       "      <td>0.436469</td>\n",
       "      <td>38440.000000</td>\n",
       "      <td>-0.282418</td>\n",
       "      <td>0.013790</td>\n",
       "      <td>6.609541</td>\n",
       "      <td>0.091145</td>\n",
       "      <td>2.0</td>\n",
       "    </tr>\n",
       "    <tr>\n",
       "      <th>2</th>\n",
       "      <td>921.000000</td>\n",
       "      <td>0.308188</td>\n",
       "      <td>0.321067</td>\n",
       "      <td>0.654215</td>\n",
       "      <td>0.404793</td>\n",
       "      <td>1366.000000</td>\n",
       "      <td>0.045702</td>\n",
       "      <td>0.104439</td>\n",
       "      <td>0.522043</td>\n",
       "      <td>0.194578</td>\n",
       "      <td>...</td>\n",
       "      <td>1.544061</td>\n",
       "      <td>2.360176</td>\n",
       "      <td>0.555609</td>\n",
       "      <td>0.441092</td>\n",
       "      <td>39280.000000</td>\n",
       "      <td>-0.285038</td>\n",
       "      <td>0.014154</td>\n",
       "      <td>7.793242</td>\n",
       "      <td>0.110306</td>\n",
       "      <td>2.0</td>\n",
       "    </tr>\n",
       "    <tr>\n",
       "      <th>3</th>\n",
       "      <td>924.000000</td>\n",
       "      <td>0.314756</td>\n",
       "      <td>0.288697</td>\n",
       "      <td>0.646140</td>\n",
       "      <td>0.397342</td>\n",
       "      <td>1406.000000</td>\n",
       "      <td>0.039744</td>\n",
       "      <td>0.105815</td>\n",
       "      <td>0.514167</td>\n",
       "      <td>0.206867</td>\n",
       "      <td>...</td>\n",
       "      <td>1.498162</td>\n",
       "      <td>2.318634</td>\n",
       "      <td>0.558317</td>\n",
       "      <td>0.424632</td>\n",
       "      <td>34240.000000</td>\n",
       "      <td>-0.289691</td>\n",
       "      <td>0.011056</td>\n",
       "      <td>9.924413</td>\n",
       "      <td>0.109723</td>\n",
       "      <td>2.0</td>\n",
       "    </tr>\n",
       "    <tr>\n",
       "      <th>4</th>\n",
       "      <td>934.000000</td>\n",
       "      <td>0.307736</td>\n",
       "      <td>0.292751</td>\n",
       "      <td>0.638164</td>\n",
       "      <td>0.405949</td>\n",
       "      <td>1418.000000</td>\n",
       "      <td>0.041307</td>\n",
       "      <td>0.095461</td>\n",
       "      <td>0.511034</td>\n",
       "      <td>0.205782</td>\n",
       "      <td>...</td>\n",
       "      <td>1.510351</td>\n",
       "      <td>2.366714</td>\n",
       "      <td>0.564569</td>\n",
       "      <td>0.420342</td>\n",
       "      <td>35880.000000</td>\n",
       "      <td>-0.297118</td>\n",
       "      <td>0.009376</td>\n",
       "      <td>8.233112</td>\n",
       "      <td>0.077192</td>\n",
       "      <td>2.0</td>\n",
       "    </tr>\n",
       "    <tr>\n",
       "      <th>...</th>\n",
       "      <td>...</td>\n",
       "      <td>...</td>\n",
       "      <td>...</td>\n",
       "      <td>...</td>\n",
       "      <td>...</td>\n",
       "      <td>...</td>\n",
       "      <td>...</td>\n",
       "      <td>...</td>\n",
       "      <td>...</td>\n",
       "      <td>...</td>\n",
       "      <td>...</td>\n",
       "      <td>...</td>\n",
       "      <td>...</td>\n",
       "      <td>...</td>\n",
       "      <td>...</td>\n",
       "      <td>...</td>\n",
       "      <td>...</td>\n",
       "      <td>...</td>\n",
       "      <td>...</td>\n",
       "      <td>...</td>\n",
       "      <td>...</td>\n",
       "    </tr>\n",
       "    <tr>\n",
       "      <th>35413</th>\n",
       "      <td>184.026217</td>\n",
       "      <td>-0.163574</td>\n",
       "      <td>1.042842</td>\n",
       "      <td>1.085006</td>\n",
       "      <td>0.650180</td>\n",
       "      <td>556.078176</td>\n",
       "      <td>0.410429</td>\n",
       "      <td>0.267383</td>\n",
       "      <td>0.555611</td>\n",
       "      <td>0.385411</td>\n",
       "      <td>...</td>\n",
       "      <td>5.277781</td>\n",
       "      <td>5.119876</td>\n",
       "      <td>0.773961</td>\n",
       "      <td>0.451838</td>\n",
       "      <td>137959.751130</td>\n",
       "      <td>-0.078690</td>\n",
       "      <td>0.085784</td>\n",
       "      <td>3.464153</td>\n",
       "      <td>-0.099280</td>\n",
       "      <td>3.0</td>\n",
       "    </tr>\n",
       "    <tr>\n",
       "      <th>35414</th>\n",
       "      <td>79.915304</td>\n",
       "      <td>-0.361447</td>\n",
       "      <td>2.010803</td>\n",
       "      <td>1.549897</td>\n",
       "      <td>0.901849</td>\n",
       "      <td>327.940401</td>\n",
       "      <td>0.638346</td>\n",
       "      <td>0.390524</td>\n",
       "      <td>0.543102</td>\n",
       "      <td>0.578175</td>\n",
       "      <td>...</td>\n",
       "      <td>15.332574</td>\n",
       "      <td>9.343946</td>\n",
       "      <td>1.010746</td>\n",
       "      <td>0.161246</td>\n",
       "      <td>175140.007461</td>\n",
       "      <td>0.478198</td>\n",
       "      <td>0.042526</td>\n",
       "      <td>48.728449</td>\n",
       "      <td>0.235682</td>\n",
       "      <td>3.0</td>\n",
       "    </tr>\n",
       "    <tr>\n",
       "      <th>35415</th>\n",
       "      <td>988.080046</td>\n",
       "      <td>0.222244</td>\n",
       "      <td>0.279456</td>\n",
       "      <td>0.767634</td>\n",
       "      <td>0.344615</td>\n",
       "      <td>1441.875685</td>\n",
       "      <td>0.026972</td>\n",
       "      <td>-0.072313</td>\n",
       "      <td>0.453782</td>\n",
       "      <td>0.169502</td>\n",
       "      <td>...</td>\n",
       "      <td>1.339497</td>\n",
       "      <td>2.327187</td>\n",
       "      <td>0.609984</td>\n",
       "      <td>0.422423</td>\n",
       "      <td>30160.092860</td>\n",
       "      <td>-0.201014</td>\n",
       "      <td>0.126291</td>\n",
       "      <td>8.782101</td>\n",
       "      <td>-0.068413</td>\n",
       "      <td>3.0</td>\n",
       "    </tr>\n",
       "    <tr>\n",
       "      <th>35416</th>\n",
       "      <td>190.004821</td>\n",
       "      <td>-0.273516</td>\n",
       "      <td>1.742081</td>\n",
       "      <td>1.233282</td>\n",
       "      <td>0.896308</td>\n",
       "      <td>458.009627</td>\n",
       "      <td>0.685576</td>\n",
       "      <td>0.379704</td>\n",
       "      <td>0.628885</td>\n",
       "      <td>0.373050</td>\n",
       "      <td>...</td>\n",
       "      <td>9.235170</td>\n",
       "      <td>7.379354</td>\n",
       "      <td>0.800077</td>\n",
       "      <td>0.587828</td>\n",
       "      <td>183500.115252</td>\n",
       "      <td>0.257201</td>\n",
       "      <td>-0.089801</td>\n",
       "      <td>3.792699</td>\n",
       "      <td>-0.074791</td>\n",
       "      <td>3.0</td>\n",
       "    </tr>\n",
       "    <tr>\n",
       "      <th>35417</th>\n",
       "      <td>178.206470</td>\n",
       "      <td>0.048145</td>\n",
       "      <td>1.290307</td>\n",
       "      <td>1.099649</td>\n",
       "      <td>0.552729</td>\n",
       "      <td>513.930766</td>\n",
       "      <td>0.560382</td>\n",
       "      <td>0.257109</td>\n",
       "      <td>0.622003</td>\n",
       "      <td>0.388565</td>\n",
       "      <td>...</td>\n",
       "      <td>4.566035</td>\n",
       "      <td>4.119754</td>\n",
       "      <td>0.733624</td>\n",
       "      <td>0.454699</td>\n",
       "      <td>106120.018847</td>\n",
       "      <td>0.020490</td>\n",
       "      <td>0.106409</td>\n",
       "      <td>7.044025</td>\n",
       "      <td>-0.029386</td>\n",
       "      <td>3.0</td>\n",
       "    </tr>\n",
       "  </tbody>\n",
       "</table>\n",
       "<p>106254 rows × 25 columns</p>\n",
       "</div>"
      ],
      "text/plain": [
       "             blue      dbsi       evi        gi     gndvi        green  \\\n",
       "0      884.000000  0.332088  0.299619  0.633595  0.408799  1290.000000   \n",
       "1      900.000000  0.313104  0.316513  0.655674  0.402827  1352.000000   \n",
       "2      921.000000  0.308188  0.321067  0.654215  0.404793  1366.000000   \n",
       "3      924.000000  0.314756  0.288697  0.646140  0.397342  1406.000000   \n",
       "4      934.000000  0.307736  0.292751  0.638164  0.405949  1418.000000   \n",
       "...           ...       ...       ...       ...       ...          ...   \n",
       "35413  184.026217 -0.163574  1.042842  1.085006  0.650180   556.078176   \n",
       "35414   79.915304 -0.361447  2.010803  1.549897  0.901849   327.940401   \n",
       "35415  988.080046  0.222244  0.279456  0.767634  0.344615  1441.875685   \n",
       "35416  190.004821 -0.273516  1.742081  1.233282  0.896308   458.009627   \n",
       "35417  178.206470  0.048145  1.290307  1.099649  0.552729   513.930766   \n",
       "\n",
       "          kndvi      ndci      ndpi    ndvigb  ...       rvi1      rvi2  \\\n",
       "0      0.041239  0.085766  0.535219  0.186753  ...   1.509823  2.382946   \n",
       "1      0.045201  0.110632  0.525780  0.200710  ...   1.540252  2.349112   \n",
       "2      0.045702  0.104439  0.522043  0.194578  ...   1.544061  2.360176   \n",
       "3      0.039744  0.105815  0.514167  0.206867  ...   1.498162  2.318634   \n",
       "4      0.041307  0.095461  0.511034  0.205782  ...   1.510351  2.366714   \n",
       "...         ...       ...       ...       ...  ...        ...       ...   \n",
       "35413  0.410429  0.267383  0.555611  0.385411  ...   5.277781  5.119876   \n",
       "35414  0.638346  0.390524  0.543102  0.578175  ...  15.332574  9.343946   \n",
       "35415  0.026972 -0.072313  0.453782  0.169502  ...   1.339497  2.327187   \n",
       "35416  0.685576  0.379704  0.628885  0.373050  ...   9.235170  7.379354   \n",
       "35417  0.560382  0.257109  0.622003  0.388565  ...   4.566035  4.119754   \n",
       "\n",
       "           sipi      srpi            tvi      vari        VH      VV-VH  \\\n",
       "0      0.553310  0.434185   32440.000000 -0.305487  0.015961   4.992914   \n",
       "1      0.558391  0.436469   38440.000000 -0.282418  0.013790   6.609541   \n",
       "2      0.555609  0.441092   39280.000000 -0.285038  0.014154   7.793242   \n",
       "3      0.558317  0.424632   34240.000000 -0.289691  0.011056   9.924413   \n",
       "4      0.564569  0.420342   35880.000000 -0.297118  0.009376   8.233112   \n",
       "...         ...       ...            ...       ...       ...        ...   \n",
       "35413  0.773961  0.451838  137959.751130 -0.078690  0.085784   3.464153   \n",
       "35414  1.010746  0.161246  175140.007461  0.478198  0.042526  48.728449   \n",
       "35415  0.609984  0.422423   30160.092860 -0.201014  0.126291   8.782101   \n",
       "35416  0.800077  0.587828  183500.115252  0.257201 -0.089801   3.792699   \n",
       "35417  0.733624  0.454699  106120.018847  0.020490  0.106409   7.044025   \n",
       "\n",
       "             VV  class  \n",
       "0      0.079693    2.0  \n",
       "1      0.091145    2.0  \n",
       "2      0.110306    2.0  \n",
       "3      0.109723    2.0  \n",
       "4      0.077192    2.0  \n",
       "...         ...    ...  \n",
       "35413 -0.099280    3.0  \n",
       "35414  0.235682    3.0  \n",
       "35415 -0.068413    3.0  \n",
       "35416 -0.074791    3.0  \n",
       "35417 -0.029386    3.0  \n",
       "\n",
       "[106254 rows x 25 columns]"
      ]
     },
     "execution_count": 11,
     "metadata": {},
     "output_type": "execute_result"
    }
   ],
   "source": [
    "# Extract features and labels from half of the original data as we want to generate only half\n",
    "df_half = df.sample(frac=0.5)\n",
    "X_org = df_half.iloc[:, :-1]\n",
    "y_org = df_half.iloc[:, -1]\n",
    "\n",
    "# Set the number of synthetic samples you want to generate (Half of the data to be equal class 1 or 2)\n",
    "num_synthetic_samples = X_org.shape[0]\n",
    "print(num_synthetic_samples)\n",
    "\n",
    "# Specify the mean and standard deviation for the noise\n",
    "mu, sigma = 0, 0.1\n",
    "\n",
    "# Generate synthetic noise with the same dimension as the original features\n",
    "synthetic_noise = np.random.normal(mu, sigma, size=(num_synthetic_samples, 24))\n",
    "\n",
    "# Create synthetic samples by adding noise to the original features\n",
    "synthetic_samples = X_org + synthetic_noise\n",
    "print(synthetic_samples.shape)\n",
    "\n",
    "# Label the synthetic samples as \"Others\" (or any label you prefer)\n",
    "synthetic_labels = pd.Series([3] * num_synthetic_samples, name=y_org.name)\n",
    "#synthetic_labels = pd.Series(np.tile([3], num_synthetic_samples), name=y_org.name)\n",
    "print(synthetic_labels.shape)\n",
    "\n",
    "# Combine the original and synthetic data\n",
    "new_df = pd.concat([synthetic_samples.reset_index(drop=True), synthetic_labels.reset_index(drop=True)], axis=1)\n",
    "print(new_df.shape)\n",
    "dff = pd.concat([df.reset_index(drop=True), new_df.reset_index(drop=True)])\n",
    "print(dff.shape)\n",
    "\n",
    "dff"
   ]
  },
  {
   "cell_type": "code",
   "execution_count": 12,
   "id": "cccdb504-5af4-498a-a54b-d55151258d15",
   "metadata": {},
   "outputs": [],
   "source": [
    "# Creating training set from the 2023 data\n",
    "X_test_noi = dff.iloc[:, :-1]\n",
    "y_test_noi = dff.iloc[:, -1]\n",
    "\n",
    "# Apply MinMax scaling\n",
    "scaler = MinMaxScaler()\n",
    "X_scaled = pd.DataFrame(scaler.fit_transform(X_test_noi), columns=X_test_noi.columns)\n",
    "\n",
    "# Apply horizontal flipping\n",
    "X_flipped_horizontal = pd.DataFrame(np.fliplr(X_scaled.values), columns=X_test_noi.columns)\n",
    "\n",
    "# Multiply the labels (y) by 2\n",
    "y_aug = pd.concat([y_test_noi] * 2, axis=0, ignore_index=True)\n",
    "\n",
    "# Concatenate the augmented features\n",
    "X_aug = pd.concat([X_scaled, X_flipped_horizontal], axis=0, ignore_index=True)\n",
    "\n",
    "# Concatenate the augmented features and labels\n",
    "df_aug_flp = pd.concat([X_aug, y_aug], axis=1, ignore_index=False)\n",
    "\n",
    "# Splitting the data into train and test\n",
    "X_aug_flp = df_aug_flp.iloc[:, :-1]\n",
    "y_aug_flp = df_aug_flp.iloc[:, -1]"
   ]
  },
  {
   "cell_type": "markdown",
   "id": "70b88b24-5440-480f-89f8-6ac77ee1d783",
   "metadata": {},
   "source": [
    "## Test set: 2023"
   ]
  },
  {
   "cell_type": "code",
   "execution_count": 13,
   "id": "88dab746-79fa-4814-b22c-e3a003d69c01",
   "metadata": {},
   "outputs": [
    {
     "name": "stdout",
     "output_type": "stream",
     "text": [
      "(70836, 24)\n",
      "Unique values in y_test_2023: [2. 1.]\n"
     ]
    }
   ],
   "source": [
    "# Creating training set from the 2023 data\n",
    "X_test_2023 = df.iloc[:, :-1]\n",
    "y_test_2023 = df.iloc[:, -1]\n",
    "\n",
    "# Load the scaler object\n",
    "with open('models/CC/scaler.pkl', 'rb') as f:\n",
    "    scaler = pickle.load(f)\n",
    "\n",
    "# Transform the 2023 data using the loaded scaler\n",
    "X_test_2023_scaled = scaler.transform(X_test_2023)\n",
    "\n",
    "print(X_test_2023_scaled.shape)\n",
    "print(\"Unique values in y_test_2023:\", y_test_2023.unique())"
   ]
  },
  {
   "cell_type": "code",
   "execution_count": 14,
   "id": "efe3e403-d91f-4766-9242-502140cdc01a",
   "metadata": {},
   "outputs": [
    {
     "data": {
      "text/html": [
       "<div>\n",
       "<style scoped>\n",
       "    .dataframe tbody tr th:only-of-type {\n",
       "        vertical-align: middle;\n",
       "    }\n",
       "\n",
       "    .dataframe tbody tr th {\n",
       "        vertical-align: top;\n",
       "    }\n",
       "\n",
       "    .dataframe thead th {\n",
       "        text-align: right;\n",
       "    }\n",
       "</style>\n",
       "<table border=\"1\" class=\"dataframe\">\n",
       "  <thead>\n",
       "    <tr style=\"text-align: right;\">\n",
       "      <th></th>\n",
       "      <th>0</th>\n",
       "      <th>1</th>\n",
       "      <th>2</th>\n",
       "      <th>3</th>\n",
       "      <th>4</th>\n",
       "      <th>5</th>\n",
       "      <th>6</th>\n",
       "      <th>7</th>\n",
       "      <th>8</th>\n",
       "      <th>9</th>\n",
       "      <th>...</th>\n",
       "      <th>14</th>\n",
       "      <th>15</th>\n",
       "      <th>16</th>\n",
       "      <th>17</th>\n",
       "      <th>18</th>\n",
       "      <th>19</th>\n",
       "      <th>20</th>\n",
       "      <th>21</th>\n",
       "      <th>22</th>\n",
       "      <th>23</th>\n",
       "    </tr>\n",
       "  </thead>\n",
       "  <tbody>\n",
       "    <tr>\n",
       "      <th>0</th>\n",
       "      <td>0.097205</td>\n",
       "      <td>0.778340</td>\n",
       "      <td>0.939056</td>\n",
       "      <td>0.001421</td>\n",
       "      <td>0.427990</td>\n",
       "      <td>0.149762</td>\n",
       "      <td>0.267012</td>\n",
       "      <td>0.307728</td>\n",
       "      <td>0.733548</td>\n",
       "      <td>0.525194</td>\n",
       "      <td>...</td>\n",
       "      <td>0.246533</td>\n",
       "      <td>0.000186</td>\n",
       "      <td>0.000440</td>\n",
       "      <td>0.513501</td>\n",
       "      <td>0.001850</td>\n",
       "      <td>0.495025</td>\n",
       "      <td>0.000088</td>\n",
       "      <td>0.480762</td>\n",
       "      <td>0.001557</td>\n",
       "      <td>0.019927</td>\n",
       "    </tr>\n",
       "    <tr>\n",
       "      <th>1</th>\n",
       "      <td>0.098965</td>\n",
       "      <td>0.767994</td>\n",
       "      <td>0.939057</td>\n",
       "      <td>0.001468</td>\n",
       "      <td>0.424210</td>\n",
       "      <td>0.156965</td>\n",
       "      <td>0.269311</td>\n",
       "      <td>0.322887</td>\n",
       "      <td>0.728914</td>\n",
       "      <td>0.531399</td>\n",
       "      <td>...</td>\n",
       "      <td>0.249682</td>\n",
       "      <td>0.000192</td>\n",
       "      <td>0.000431</td>\n",
       "      <td>0.516656</td>\n",
       "      <td>0.001857</td>\n",
       "      <td>0.586583</td>\n",
       "      <td>0.000124</td>\n",
       "      <td>0.478656</td>\n",
       "      <td>0.002057</td>\n",
       "      <td>0.020392</td>\n",
       "    </tr>\n",
       "    <tr>\n",
       "      <th>2</th>\n",
       "      <td>0.101276</td>\n",
       "      <td>0.765315</td>\n",
       "      <td>0.939057</td>\n",
       "      <td>0.001465</td>\n",
       "      <td>0.425454</td>\n",
       "      <td>0.158592</td>\n",
       "      <td>0.269603</td>\n",
       "      <td>0.319112</td>\n",
       "      <td>0.727079</td>\n",
       "      <td>0.528673</td>\n",
       "      <td>...</td>\n",
       "      <td>0.252832</td>\n",
       "      <td>0.000192</td>\n",
       "      <td>0.000434</td>\n",
       "      <td>0.514929</td>\n",
       "      <td>0.001870</td>\n",
       "      <td>0.599401</td>\n",
       "      <td>0.000120</td>\n",
       "      <td>0.479009</td>\n",
       "      <td>0.002423</td>\n",
       "      <td>0.021170</td>\n",
       "    </tr>\n",
       "    <tr>\n",
       "      <th>3</th>\n",
       "      <td>0.101606</td>\n",
       "      <td>0.768894</td>\n",
       "      <td>0.939056</td>\n",
       "      <td>0.001448</td>\n",
       "      <td>0.420739</td>\n",
       "      <td>0.163239</td>\n",
       "      <td>0.266144</td>\n",
       "      <td>0.319950</td>\n",
       "      <td>0.723212</td>\n",
       "      <td>0.534137</td>\n",
       "      <td>...</td>\n",
       "      <td>0.263492</td>\n",
       "      <td>0.000184</td>\n",
       "      <td>0.000423</td>\n",
       "      <td>0.516610</td>\n",
       "      <td>0.001823</td>\n",
       "      <td>0.522493</td>\n",
       "      <td>0.000113</td>\n",
       "      <td>0.476005</td>\n",
       "      <td>0.003083</td>\n",
       "      <td>0.021146</td>\n",
       "    </tr>\n",
       "    <tr>\n",
       "      <th>4</th>\n",
       "      <td>0.102707</td>\n",
       "      <td>0.765069</td>\n",
       "      <td>0.939056</td>\n",
       "      <td>0.001431</td>\n",
       "      <td>0.426186</td>\n",
       "      <td>0.164633</td>\n",
       "      <td>0.267051</td>\n",
       "      <td>0.313639</td>\n",
       "      <td>0.721674</td>\n",
       "      <td>0.533654</td>\n",
       "      <td>...</td>\n",
       "      <td>0.269064</td>\n",
       "      <td>0.000186</td>\n",
       "      <td>0.000436</td>\n",
       "      <td>0.520491</td>\n",
       "      <td>0.001811</td>\n",
       "      <td>0.547518</td>\n",
       "      <td>0.000101</td>\n",
       "      <td>0.474375</td>\n",
       "      <td>0.002559</td>\n",
       "      <td>0.019826</td>\n",
       "    </tr>\n",
       "    <tr>\n",
       "      <th>...</th>\n",
       "      <td>...</td>\n",
       "      <td>...</td>\n",
       "      <td>...</td>\n",
       "      <td>...</td>\n",
       "      <td>...</td>\n",
       "      <td>...</td>\n",
       "      <td>...</td>\n",
       "      <td>...</td>\n",
       "      <td>...</td>\n",
       "      <td>...</td>\n",
       "      <td>...</td>\n",
       "      <td>...</td>\n",
       "      <td>...</td>\n",
       "      <td>...</td>\n",
       "      <td>...</td>\n",
       "      <td>...</td>\n",
       "      <td>...</td>\n",
       "      <td>...</td>\n",
       "      <td>...</td>\n",
       "      <td>...</td>\n",
       "      <td>...</td>\n",
       "    </tr>\n",
       "    <tr>\n",
       "      <th>70831</th>\n",
       "      <td>0.014563</td>\n",
       "      <td>0.536314</td>\n",
       "      <td>0.939101</td>\n",
       "      <td>0.001867</td>\n",
       "      <td>0.688274</td>\n",
       "      <td>0.034739</td>\n",
       "      <td>0.564581</td>\n",
       "      <td>0.463533</td>\n",
       "      <td>0.803626</td>\n",
       "      <td>0.613639</td>\n",
       "      <td>...</td>\n",
       "      <td>0.043024</td>\n",
       "      <td>0.001508</td>\n",
       "      <td>0.002447</td>\n",
       "      <td>0.738672</td>\n",
       "      <td>0.001677</td>\n",
       "      <td>2.417737</td>\n",
       "      <td>0.000401</td>\n",
       "      <td>0.472062</td>\n",
       "      <td>0.003989</td>\n",
       "      <td>0.020339</td>\n",
       "    </tr>\n",
       "    <tr>\n",
       "      <th>70832</th>\n",
       "      <td>0.009060</td>\n",
       "      <td>0.479223</td>\n",
       "      <td>0.939099</td>\n",
       "      <td>0.002643</td>\n",
       "      <td>0.657539</td>\n",
       "      <td>0.046706</td>\n",
       "      <td>0.575246</td>\n",
       "      <td>0.480520</td>\n",
       "      <td>0.760462</td>\n",
       "      <td>0.734909</td>\n",
       "      <td>...</td>\n",
       "      <td>0.040359</td>\n",
       "      <td>0.001665</td>\n",
       "      <td>0.001834</td>\n",
       "      <td>0.758681</td>\n",
       "      <td>0.001319</td>\n",
       "      <td>2.596580</td>\n",
       "      <td>0.000736</td>\n",
       "      <td>0.473908</td>\n",
       "      <td>0.002185</td>\n",
       "      <td>0.019228</td>\n",
       "    </tr>\n",
       "    <tr>\n",
       "      <th>70833</th>\n",
       "      <td>0.050987</td>\n",
       "      <td>0.528661</td>\n",
       "      <td>0.939085</td>\n",
       "      <td>0.002016</td>\n",
       "      <td>0.534228</td>\n",
       "      <td>0.090043</td>\n",
       "      <td>0.410835</td>\n",
       "      <td>0.296888</td>\n",
       "      <td>0.676669</td>\n",
       "      <td>0.554031</td>\n",
       "      <td>...</td>\n",
       "      <td>0.102865</td>\n",
       "      <td>0.000542</td>\n",
       "      <td>0.000788</td>\n",
       "      <td>0.619044</td>\n",
       "      <td>0.002170</td>\n",
       "      <td>1.822612</td>\n",
       "      <td>0.000469</td>\n",
       "      <td>0.501888</td>\n",
       "      <td>0.000967</td>\n",
       "      <td>0.021425</td>\n",
       "    </tr>\n",
       "    <tr>\n",
       "      <th>70834</th>\n",
       "      <td>0.011811</td>\n",
       "      <td>0.552320</td>\n",
       "      <td>0.939093</td>\n",
       "      <td>0.002051</td>\n",
       "      <td>0.652723</td>\n",
       "      <td>0.044150</td>\n",
       "      <td>0.537790</td>\n",
       "      <td>0.503867</td>\n",
       "      <td>0.797516</td>\n",
       "      <td>0.690380</td>\n",
       "      <td>...</td>\n",
       "      <td>0.049565</td>\n",
       "      <td>0.001210</td>\n",
       "      <td>0.001761</td>\n",
       "      <td>0.745421</td>\n",
       "      <td>0.001361</td>\n",
       "      <td>2.212648</td>\n",
       "      <td>0.000503</td>\n",
       "      <td>0.491698</td>\n",
       "      <td>0.001202</td>\n",
       "      <td>0.020945</td>\n",
       "    </tr>\n",
       "    <tr>\n",
       "      <th>70835</th>\n",
       "      <td>0.016323</td>\n",
       "      <td>0.507156</td>\n",
       "      <td>0.939098</td>\n",
       "      <td>0.002320</td>\n",
       "      <td>0.645849</td>\n",
       "      <td>0.048797</td>\n",
       "      <td>0.548236</td>\n",
       "      <td>0.415867</td>\n",
       "      <td>0.764795</td>\n",
       "      <td>0.654327</td>\n",
       "      <td>...</td>\n",
       "      <td>0.048233</td>\n",
       "      <td>0.001313</td>\n",
       "      <td>0.001664</td>\n",
       "      <td>0.731841</td>\n",
       "      <td>0.001676</td>\n",
       "      <td>2.383861</td>\n",
       "      <td>0.000621</td>\n",
       "      <td>0.483103</td>\n",
       "      <td>0.000998</td>\n",
       "      <td>0.019070</td>\n",
       "    </tr>\n",
       "  </tbody>\n",
       "</table>\n",
       "<p>70836 rows × 24 columns</p>\n",
       "</div>"
      ],
      "text/plain": [
       "             0         1         2         3         4         5         6   \\\n",
       "0      0.097205  0.778340  0.939056  0.001421  0.427990  0.149762  0.267012   \n",
       "1      0.098965  0.767994  0.939057  0.001468  0.424210  0.156965  0.269311   \n",
       "2      0.101276  0.765315  0.939057  0.001465  0.425454  0.158592  0.269603   \n",
       "3      0.101606  0.768894  0.939056  0.001448  0.420739  0.163239  0.266144   \n",
       "4      0.102707  0.765069  0.939056  0.001431  0.426186  0.164633  0.267051   \n",
       "...         ...       ...       ...       ...       ...       ...       ...   \n",
       "70831  0.014563  0.536314  0.939101  0.001867  0.688274  0.034739  0.564581   \n",
       "70832  0.009060  0.479223  0.939099  0.002643  0.657539  0.046706  0.575246   \n",
       "70833  0.050987  0.528661  0.939085  0.002016  0.534228  0.090043  0.410835   \n",
       "70834  0.011811  0.552320  0.939093  0.002051  0.652723  0.044150  0.537790   \n",
       "70835  0.016323  0.507156  0.939098  0.002320  0.645849  0.048797  0.548236   \n",
       "\n",
       "             7         8         9   ...        14        15        16  \\\n",
       "0      0.307728  0.733548  0.525194  ...  0.246533  0.000186  0.000440   \n",
       "1      0.322887  0.728914  0.531399  ...  0.249682  0.000192  0.000431   \n",
       "2      0.319112  0.727079  0.528673  ...  0.252832  0.000192  0.000434   \n",
       "3      0.319950  0.723212  0.534137  ...  0.263492  0.000184  0.000423   \n",
       "4      0.313639  0.721674  0.533654  ...  0.269064  0.000186  0.000436   \n",
       "...         ...       ...       ...  ...       ...       ...       ...   \n",
       "70831  0.463533  0.803626  0.613639  ...  0.043024  0.001508  0.002447   \n",
       "70832  0.480520  0.760462  0.734909  ...  0.040359  0.001665  0.001834   \n",
       "70833  0.296888  0.676669  0.554031  ...  0.102865  0.000542  0.000788   \n",
       "70834  0.503867  0.797516  0.690380  ...  0.049565  0.001210  0.001761   \n",
       "70835  0.415867  0.764795  0.654327  ...  0.048233  0.001313  0.001664   \n",
       "\n",
       "             17        18        19        20        21        22        23  \n",
       "0      0.513501  0.001850  0.495025  0.000088  0.480762  0.001557  0.019927  \n",
       "1      0.516656  0.001857  0.586583  0.000124  0.478656  0.002057  0.020392  \n",
       "2      0.514929  0.001870  0.599401  0.000120  0.479009  0.002423  0.021170  \n",
       "3      0.516610  0.001823  0.522493  0.000113  0.476005  0.003083  0.021146  \n",
       "4      0.520491  0.001811  0.547518  0.000101  0.474375  0.002559  0.019826  \n",
       "...         ...       ...       ...       ...       ...       ...       ...  \n",
       "70831  0.738672  0.001677  2.417737  0.000401  0.472062  0.003989  0.020339  \n",
       "70832  0.758681  0.001319  2.596580  0.000736  0.473908  0.002185  0.019228  \n",
       "70833  0.619044  0.002170  1.822612  0.000469  0.501888  0.000967  0.021425  \n",
       "70834  0.745421  0.001361  2.212648  0.000503  0.491698  0.001202  0.020945  \n",
       "70835  0.731841  0.001676  2.383861  0.000621  0.483103  0.000998  0.019070  \n",
       "\n",
       "[70836 rows x 24 columns]"
      ]
     },
     "execution_count": 14,
     "metadata": {},
     "output_type": "execute_result"
    }
   ],
   "source": [
    "df_X = pd.DataFrame(X_test_2023_scaled)\n",
    "df_X"
   ]
  },
  {
   "cell_type": "code",
   "execution_count": 15,
   "id": "13e3b1a1-0152-4b2d-ac6f-751fff20359c",
   "metadata": {
    "tags": []
   },
   "outputs": [
    {
     "data": {
      "text/plain": [
       "['Maize', 'Rice']"
      ]
     },
     "execution_count": 15,
     "metadata": {},
     "output_type": "execute_result"
    }
   ],
   "source": [
    "#CC = df.class.unique()\n",
    "CC = ['Maize', 'Rice']\n",
    "CC"
   ]
  },
  {
   "cell_type": "code",
   "execution_count": 16,
   "id": "21b1f108-3b45-4216-961e-3a0977b33147",
   "metadata": {},
   "outputs": [
    {
     "data": {
      "text/plain": [
       "['Maize', 'Rice', 'Other']"
      ]
     },
     "execution_count": 16,
     "metadata": {},
     "output_type": "execute_result"
    }
   ],
   "source": [
    "all_classes = CC + ['Other']\n",
    "all_classes"
   ]
  },
  {
   "cell_type": "markdown",
   "id": "19af4af2-8002-4b84-b0b5-977e88dc7435",
   "metadata": {},
   "source": [
    "### Classifiers"
   ]
  },
  {
   "cell_type": "markdown",
   "id": "d54cd234-780d-4ad1-8afe-d3c604e65e2d",
   "metadata": {},
   "source": [
    "Apply different classifiers on the augemented data, as it has 3 classes (Maize, Rice and Others)"
   ]
  },
  {
   "cell_type": "markdown",
   "id": "3dc255d2-50b8-42e7-ada9-69e910c76a72",
   "metadata": {},
   "source": [
    "### KNeighborsClassifier"
   ]
  },
  {
   "cell_type": "code",
   "execution_count": 36,
   "id": "91a06e91-f78a-49fc-887f-afb62f313930",
   "metadata": {},
   "outputs": [],
   "source": [
    "# Load saved model\n",
    "pickled_knn_model = pickle.load(open('models/CC/knn_cv.pkl', 'rb'))"
   ]
  },
  {
   "cell_type": "code",
   "execution_count": 37,
   "id": "07717a77-1af3-464e-959f-fe1721f53a8b",
   "metadata": {},
   "outputs": [
    {
     "name": "stdout",
     "output_type": "stream",
     "text": [
      "2024-06-11 17:51:22.356769\n",
      "2024-06-11 18:15:16.615133\n"
     ]
    }
   ],
   "source": [
    "print(datetime.datetime.now())\n",
    "y_pred_knn_2023 = pickled_knn_model.predict(X_test_2023_scaled)\n",
    "print(datetime.datetime.now())"
   ]
  },
  {
   "cell_type": "code",
   "execution_count": 38,
   "id": "298a7f61-6892-4387-89da-f8c399f48b9b",
   "metadata": {
    "tags": []
   },
   "outputs": [
    {
     "data": {
      "text/plain": [
       "array([[113245,  60986,  14202],\n",
       "       [ 80110, 196163,  27133],\n",
       "       [     0,      0,      0]], dtype=int64)"
      ]
     },
     "execution_count": 38,
     "metadata": {},
     "output_type": "execute_result"
    }
   ],
   "source": [
    "# evaluation: Confusion Matrix\n",
    "confusion_knn_2023 = metrics.confusion_matrix(y_true = y_test_2023, y_pred = y_pred_knn_2023)\n",
    "confusion_knn_2023"
   ]
  },
  {
   "cell_type": "code",
   "execution_count": 39,
   "id": "1484675d-105c-4b0a-b04a-d8f8673b7bb5",
   "metadata": {
    "tags": []
   },
   "outputs": [
    {
     "name": "stdout",
     "output_type": "stream",
     "text": [
      "Saving figure KNeighbors_2023_cm\n"
     ]
    },
    {
     "data": {
      "image/png": "[encoded data removed]",
      "text/plain": [
       "<Figure size 1000x700 with 2 Axes>"
      ]
     },
     "metadata": {},
     "output_type": "display_data"
    }
   ],
   "source": [
    "df_cm_knn_2023 = pd.DataFrame(confusion_knn_2023, index = all_classes, columns = all_classes)\n",
    "plt.figure(figsize = (10,7))\n",
    "sns.heatmap(df_cm_knn_2023, annot=True,fmt='d',cmap=plt.cm.Blues)\n",
    "save_fig(\"KNeighbors_2023_cm\")"
   ]
  },
  {
   "cell_type": "code",
   "execution_count": 40,
   "id": "d2f42c70-c2ae-4995-a45f-fbe99c1447c4",
   "metadata": {},
   "outputs": [
    {
     "name": "stdout",
     "output_type": "stream",
     "text": [
      "Accuracy: 0.629\n",
      "Recall: 0.629\n",
      "Precision: 0.695\n",
      "F1-Score: 0.659\n"
     ]
    }
   ],
   "source": [
    "# measure accuracy\n",
    "print('Accuracy: %.3f' % metrics.accuracy_score(y_true=y_test_2023, y_pred=y_pred_knn_2023))\n",
    "print('Recall: %.3f' % metrics.recall_score(y_true=y_test_2023, y_pred=y_pred_knn_2023, average='weighted'))\n",
    "print('Precision: %.3f' % metrics.precision_score(y_true=y_test_2023, y_pred=y_pred_knn_2023, average='weighted'))\n",
    "print('F1-Score: %.3f' % metrics.f1_score(y_true=y_test_2023, y_pred=y_pred_knn_2023, average='weighted'))"
   ]
  },
  {
   "cell_type": "markdown",
   "id": "ef71d4c0-3457-4909-a30d-d086c9674a6d",
   "metadata": {},
   "source": [
    "### DecisionTreeClassifier"
   ]
  },
  {
   "cell_type": "code",
   "execution_count": 17,
   "id": "d0fb0794-47f8-45de-a0fc-abcd0379fd4c",
   "metadata": {},
   "outputs": [],
   "source": [
    "# Load saved model\n",
    "pickled_dt_model = pickle.load(open('models/CC/dt_cv.pkl', 'rb'))"
   ]
  },
  {
   "cell_type": "code",
   "execution_count": 18,
   "id": "77f89768-467a-4b67-a4fd-5a7acd7d7990",
   "metadata": {},
   "outputs": [
    {
     "name": "stdout",
     "output_type": "stream",
     "text": [
      "2024-06-11 18:33:49.585465\n",
      "2024-06-11 18:33:49.602028\n"
     ]
    }
   ],
   "source": [
    "print(datetime.datetime.now())\n",
    "y_pred_dt_2023 = pickled_dt_model.predict(X_test_2023_scaled)\n",
    "print(datetime.datetime.now())"
   ]
  },
  {
   "cell_type": "code",
   "execution_count": 19,
   "id": "233622dd-6e8a-4e77-9900-88b4b422e8c5",
   "metadata": {
    "tags": []
   },
   "outputs": [
    {
     "data": {
      "text/plain": [
       "array([[15302,  6040,  5662],\n",
       "       [10968, 19657, 13207],\n",
       "       [    0,     0,     0]], dtype=int64)"
      ]
     },
     "execution_count": 19,
     "metadata": {},
     "output_type": "execute_result"
    }
   ],
   "source": [
    "# evaluation: Confusion Matrix\n",
    "confusion_dt_2023 = metrics.confusion_matrix(y_true = y_test_2023, y_pred = y_pred_dt_2023)\n",
    "confusion_dt_2023"
   ]
  },
  {
   "cell_type": "code",
   "execution_count": 20,
   "id": "19e37c33-5df9-41ab-8c25-599ddca51ed8",
   "metadata": {
    "tags": []
   },
   "outputs": [
    {
     "name": "stdout",
     "output_type": "stream",
     "text": [
      "Saving figure Decision_tree_20230910_cm\n"
     ]
    },
    {
     "data": {
      "image/png": "[encoded data removed]",
      "text/plain": [
       "<Figure size 1000x700 with 2 Axes>"
      ]
     },
     "metadata": {},
     "output_type": "display_data"
    }
   ],
   "source": [
    "df_cm_dt_2023 = pd.DataFrame(confusion_dt_2023, index = all_classes, columns = all_classes)\n",
    "plt.figure(figsize = (10,7))\n",
    "sns.heatmap(df_cm_dt_2023, annot=True,fmt='d',cmap=plt.cm.Blues)\n",
    "save_fig(\"Decision_tree_20230910_cm\")"
   ]
  },
  {
   "cell_type": "code",
   "execution_count": 21,
   "id": "c762e67a-35d6-4489-9f4d-fe9767e166fc",
   "metadata": {},
   "outputs": [
    {
     "name": "stdout",
     "output_type": "stream",
     "text": [
      "Accuracy: 0.494\n",
      "Recall: 0.494\n",
      "Precision: 0.695\n",
      "F1-Score: 0.569\n"
     ]
    }
   ],
   "source": [
    "# measure accuracy\n",
    "print('Accuracy: %.3f' % metrics.accuracy_score(y_true=y_test_2023, y_pred=y_pred_dt_2023))\n",
    "print('Recall: %.3f' % metrics.recall_score(y_true=y_test_2023, y_pred=y_pred_dt_2023, average='weighted'))\n",
    "print('Precision: %.3f' % metrics.precision_score(y_true=y_test_2023, y_pred=y_pred_dt_2023, average='weighted'))\n",
    "print('F1-Score: %.3f' % metrics.f1_score(y_true=y_test_2023, y_pred=y_pred_dt_2023, average='weighted'))"
   ]
  },
  {
   "cell_type": "markdown",
   "id": "1025173d-6bb5-462c-8fa4-5b37bfc4b847",
   "metadata": {},
   "source": [
    "### RandomForestClassifier"
   ]
  },
  {
   "cell_type": "code",
   "execution_count": 17,
   "id": "41a0f47f-48f2-4bf4-a9c2-595fbda75c48",
   "metadata": {},
   "outputs": [],
   "source": [
    "# Load saved model\n",
    "pickled_rf_model = pickle.load(open('models/CC/rf_cv.pkl', 'rb'))"
   ]
  },
  {
   "cell_type": "code",
   "execution_count": 18,
   "id": "b03e8c40-907d-4ed4-a18a-1e996fc1e251",
   "metadata": {},
   "outputs": [
    {
     "name": "stdout",
     "output_type": "stream",
     "text": [
      "2024-06-03 21:19:53.317967\n",
      "2024-06-03 21:20:44.976600\n"
     ]
    }
   ],
   "source": [
    "print(datetime.datetime.now())\n",
    "y_pred_rf_2023 = pickled_rf_model.predict(X_test_2023_scaled)\n",
    "print(datetime.datetime.now())"
   ]
  },
  {
   "cell_type": "code",
   "execution_count": 19,
   "id": "dbfad5e9-96f8-4780-91c2-99c9db4d7832",
   "metadata": {
    "tags": []
   },
   "outputs": [
    {
     "data": {
      "text/plain": [
       "array([[100051,  21686,  66696],\n",
       "       [ 52070, 153665,  97671],\n",
       "       [     0,      0,      0]], dtype=int64)"
      ]
     },
     "execution_count": 19,
     "metadata": {},
     "output_type": "execute_result"
    }
   ],
   "source": [
    "# evaluation: Confusion Matrix\n",
    "confusion_rf_2023 = metrics.confusion_matrix(y_true = y_test_2023, y_pred = y_pred_rf_2023)\n",
    "confusion_rf_2023"
   ]
  },
  {
   "cell_type": "code",
   "execution_count": 20,
   "id": "b188c8e4-1ce8-4078-9a86-3e97e59f7961",
   "metadata": {
    "tags": []
   },
   "outputs": [
    {
     "name": "stdout",
     "output_type": "stream",
     "text": [
      "Saving figure Random_forest_2023_cm\n"
     ]
    },
    {
     "data": {
      "image/png": "[encoded data removed]",
      "text/plain": [
       "<Figure size 1000x700 with 2 Axes>"
      ]
     },
     "metadata": {},
     "output_type": "display_data"
    }
   ],
   "source": [
    "df_cm_rf_2023 = pd.DataFrame(confusion_rf_2023, index = all_classes, columns = all_classes)\n",
    "plt.figure(figsize = (10,7))\n",
    "sns.heatmap(df_cm_rf_2023, annot=True,fmt='d',cmap=plt.cm.Blues)\n",
    "save_fig(\"Random_forest_2023_cm\")"
   ]
  },
  {
   "cell_type": "code",
   "execution_count": 21,
   "id": "6a32acbe-92f5-4b38-ac7c-166896916c0d",
   "metadata": {},
   "outputs": [
    {
     "name": "stdout",
     "output_type": "stream",
     "text": [
      "Accuracy: 0.516\n",
      "Recall: 0.516\n",
      "Precision: 0.793\n",
      "F1-Score: 0.621\n"
     ]
    }
   ],
   "source": [
    "# measure accuracy\n",
    "print('Accuracy: %.3f' % metrics.accuracy_score(y_true=y_test_2023, y_pred=y_pred_rf_2023))\n",
    "print('Recall: %.3f' % metrics.recall_score(y_true=y_test_2023, y_pred=y_pred_rf_2023, average='weighted'))\n",
    "print('Precision: %.3f' % metrics.precision_score(y_true=y_test_2023, y_pred=y_pred_rf_2023, average='weighted'))\n",
    "print('F1-Score: %.3f' % metrics.f1_score(y_true=y_test_2023, y_pred=y_pred_rf_2023, average='weighted'))"
   ]
  },
  {
   "cell_type": "markdown",
   "id": "92ee6ea1-f869-4483-a2c5-c264c6e2b891",
   "metadata": {},
   "source": [
    "### XGBoost (extreme Gradient Boosting) Classifier"
   ]
  },
  {
   "cell_type": "code",
   "execution_count": 22,
   "id": "bc5055fc-fa61-4a68-866e-c2fd2dc529f9",
   "metadata": {
    "tags": []
   },
   "outputs": [],
   "source": [
    "# Load saved model \n",
    "pickled_xgb_model = pickle.load(open('models/CC/xgb_cv.pkl', 'rb'))"
   ]
  },
  {
   "cell_type": "code",
   "execution_count": 23,
   "id": "6c116cfc-2c36-4668-9239-39feff411215",
   "metadata": {},
   "outputs": [],
   "source": [
    "from sklearn.preprocessing import LabelEncoder\n",
    "le = LabelEncoder()\n",
    "ytest_2023 = le.fit_transform(y_test_2023)"
   ]
  },
  {
   "cell_type": "code",
   "execution_count": 24,
   "id": "070acb50-4593-44a1-9e9f-14447888fd9f",
   "metadata": {},
   "outputs": [],
   "source": [
    "# Load the scaler object\n",
    "with open('models/CC/encoder.pkl', 'rb') as f:\n",
    "    encoder = pickle.load(f)\n",
    "\n",
    "ytest_2023 = encoder.transform(y_test_2023)"
   ]
  },
  {
   "cell_type": "code",
   "execution_count": 25,
   "id": "673606db-95a5-458d-8060-2670c97615b3",
   "metadata": {},
   "outputs": [
    {
     "data": {
      "text/plain": [
       "array([1, 1, 1, ..., 0, 0, 0], dtype=int64)"
      ]
     },
     "execution_count": 25,
     "metadata": {},
     "output_type": "execute_result"
    }
   ],
   "source": [
    "ytest_2023"
   ]
  },
  {
   "cell_type": "code",
   "execution_count": 26,
   "id": "a06e1642-d525-4840-a1df-30f774ee7f6a",
   "metadata": {},
   "outputs": [
    {
     "name": "stdout",
     "output_type": "stream",
     "text": [
      "2024-06-03 21:20:49.395714\n",
      "2024-06-03 21:20:50.879892\n"
     ]
    }
   ],
   "source": [
    "print(datetime.datetime.now())\n",
    "y_pred_xgb_2023 = pickled_xgb_model.predict(X_test_2023_scaled)\n",
    "print(datetime.datetime.now())"
   ]
  },
  {
   "cell_type": "code",
   "execution_count": 27,
   "id": "9d0b2cd9-536c-4247-8752-2179fb2711f6",
   "metadata": {},
   "outputs": [
    {
     "data": {
      "text/plain": [
       "array([[ 90367,  21965,  76101],\n",
       "       [ 32636, 159542, 111228],\n",
       "       [     0,      0,      0]], dtype=int64)"
      ]
     },
     "execution_count": 27,
     "metadata": {},
     "output_type": "execute_result"
    }
   ],
   "source": [
    "# evaluation: Confusion Matrix\n",
    "confusion_xgb_2023 = metrics.confusion_matrix(y_true = ytest_2023, y_pred = y_pred_xgb_2023)\n",
    "confusion_xgb_2023"
   ]
  },
  {
   "cell_type": "code",
   "execution_count": 28,
   "id": "60cbf436-ee95-4538-bf02-9452dc4c1371",
   "metadata": {},
   "outputs": [
    {
     "name": "stdout",
     "output_type": "stream",
     "text": [
      "Saving figure xgb_2023_cm\n"
     ]
    },
    {
     "data": {
      "image/png": "[encoded data removed]",
      "text/plain": [
       "<Figure size 1000x700 with 2 Axes>"
      ]
     },
     "metadata": {},
     "output_type": "display_data"
    }
   ],
   "source": [
    "df_cm_xgb_2023 = pd.DataFrame(confusion_xgb_2023, index = all_classes, columns = all_classes)\n",
    "plt.figure(figsize = (10,7))\n",
    "sns.heatmap(df_cm_xgb_2023, annot=True,fmt='d',cmap=plt.cm.Blues)\n",
    "save_fig(\"xgb_2023_cm\")"
   ]
  },
  {
   "cell_type": "code",
   "execution_count": 29,
   "id": "fdc483b8-42af-48cd-9974-8ac0536401fd",
   "metadata": {},
   "outputs": [
    {
     "name": "stdout",
     "output_type": "stream",
     "text": [
      "Accuracy: 0.508\n",
      "Recall: 0.508\n",
      "Precision: 0.824\n",
      "F1-Score: 0.628\n"
     ]
    }
   ],
   "source": [
    "# measure accuracy\n",
    "print('Accuracy: %.3f' % metrics.accuracy_score(y_true=ytest_2023, y_pred=y_pred_xgb_2023))\n",
    "print('Recall: %.3f' % metrics.recall_score(y_true=ytest_2023, y_pred=y_pred_xgb_2023, average='weighted'))\n",
    "print('Precision: %.3f' % metrics.precision_score(y_true=ytest_2023, y_pred=y_pred_xgb_2023, average='weighted'))\n",
    "print('F1-Score: %.3f' % metrics.f1_score(y_true=ytest_2023, y_pred=y_pred_xgb_2023, average='weighted'))"
   ]
  },
  {
   "cell_type": "markdown",
   "id": "46c53f6c-87df-4eb1-87ad-6e818e9637df",
   "metadata": {},
   "source": [
    "### SVM RBF"
   ]
  },
  {
   "cell_type": "code",
   "execution_count": 30,
   "id": "85a52407-abff-4671-b9b1-9165fee391ce",
   "metadata": {},
   "outputs": [
    {
     "data": {
      "text/plain": [
       "<AddedDllDirectory('C:\\\\Program Files\\\\NVIDIA GPU Computing Toolkit\\\\CUDA\\\\v12.3\\\\bin')>"
      ]
     },
     "execution_count": 30,
     "metadata": {},
     "output_type": "execute_result"
    }
   ],
   "source": [
    "import os\n",
    "os.add_dll_directory(\"C:\\\\Program Files\\\\NVIDIA GPU Computing Toolkit\\\\CUDA\\\\v12.3\\\\bin\")"
   ]
  },
  {
   "cell_type": "code",
   "execution_count": 31,
   "id": "cea337fd-f317-46ce-ae7d-c4813a24dd18",
   "metadata": {},
   "outputs": [],
   "source": [
    "import thundersvm\n",
    "from thundersvm import SVC"
   ]
  },
  {
   "cell_type": "code",
   "execution_count": 32,
   "id": "2d3d4df7-626a-4f9a-8c63-d9d39265f015",
   "metadata": {},
   "outputs": [],
   "source": [
    "# Load saved model\n",
    "pickled_svm_model = pickle.load(open('models/CC/svc_rbf_cv.pkl', 'rb'))"
   ]
  },
  {
   "cell_type": "code",
   "execution_count": 33,
   "id": "14024802-9153-4816-b7af-c37bd7f48ab1",
   "metadata": {},
   "outputs": [
    {
     "name": "stdout",
     "output_type": "stream",
     "text": [
      "2024-06-03 21:22:18.197951\n",
      "2024-06-03 21:38:21.537023\n"
     ]
    }
   ],
   "source": [
    "print(datetime.datetime.now())\n",
    "y_pred_svc_2023 = pickled_svm_model.predict(X_test_2023_scaled)\n",
    "print(datetime.datetime.now())"
   ]
  },
  {
   "cell_type": "code",
   "execution_count": 34,
   "id": "c4784c12-d102-4b74-a3d3-1b52d2be861e",
   "metadata": {
    "tags": []
   },
   "outputs": [
    {
     "data": {
      "text/plain": [
       "array([[  4521,   5914, 177998],\n",
       "       [  2792,  18765, 281849],\n",
       "       [     0,      0,      0]], dtype=int64)"
      ]
     },
     "execution_count": 34,
     "metadata": {},
     "output_type": "execute_result"
    }
   ],
   "source": [
    "# evaluation: Confusion Matrix\n",
    "confusion_svmr_2023 = metrics.confusion_matrix(y_true = y_test_2023, y_pred = y_pred_svc_2023)\n",
    "confusion_svmr_2023"
   ]
  },
  {
   "cell_type": "code",
   "execution_count": 35,
   "id": "a9f5eea7-81f6-4a55-8b28-ecbcfe12c3ed",
   "metadata": {
    "tags": []
   },
   "outputs": [
    {
     "name": "stdout",
     "output_type": "stream",
     "text": [
      "Saving figure svm_rbf_2023_cm\n"
     ]
    },
    {
     "data": {
      "image/png": "[encoded data removed]",
      "text/plain": [
       "<Figure size 1000x700 with 2 Axes>"
      ]
     },
     "metadata": {},
     "output_type": "display_data"
    }
   ],
   "source": [
    "df_cm_svmr_2023 = pd.DataFrame(confusion_svmr_2023, index = all_classes, columns = all_classes)\n",
    "plt.figure(figsize = (10,7))\n",
    "sns.heatmap(df_cm_svmr_2023, annot=True,fmt='d',cmap=plt.cm.Blues)\n",
    "save_fig(\"svm_rbf_2023_cm\")"
   ]
  },
  {
   "cell_type": "code",
   "execution_count": 36,
   "id": "7c4b359d-0193-4a09-9881-f929431cf08f",
   "metadata": {},
   "outputs": [
    {
     "name": "stdout",
     "output_type": "stream",
     "text": [
      "Accuracy: 0.047\n",
      "Recall: 0.047\n",
      "Precision: 0.706\n",
      "F1-Score: 0.088\n"
     ]
    }
   ],
   "source": [
    "# measure accuracy\n",
    "print('Accuracy: %.3f' % metrics.accuracy_score(y_true=y_test_2023, y_pred=y_pred_svc_2023))\n",
    "print('Recall: %.3f' % metrics.recall_score(y_true=y_test_2023, y_pred=y_pred_svc_2023, average='weighted'))\n",
    "print('Precision: %.3f' % metrics.precision_score(y_true=y_test_2023, y_pred=y_pred_svc_2023, average='weighted'))\n",
    "print('F1-Score: %.3f' % metrics.f1_score(y_true=y_test_2023, y_pred=y_pred_svc_2023, average='weighted'))"
   ]
  },
  {
   "cell_type": "markdown",
   "id": "cc4a7809-6414-426e-90c1-9fce2db491d3",
   "metadata": {},
   "source": [
    "### LSTM"
   ]
  },
  {
   "cell_type": "code",
   "execution_count": 37,
   "id": "fe9e7c44-8bb0-4455-8e82-b634f179697b",
   "metadata": {},
   "outputs": [],
   "source": [
    "def unpack(model, training_config, weights):\n",
    "    restored_model = deserialize(model)\n",
    "    if training_config is not None:\n",
    "        restored_model.compile(\n",
    "            **saving_utils.compile_args_from_training_config(\n",
    "                training_config\n",
    "            )\n",
    "        )\n",
    "    restored_model.set_weights(weights)\n",
    "    return restored_model\n",
    "\n",
    "# Hotfix function\n",
    "def make_keras_picklable():\n",
    "\n",
    "    def __reduce__(self):\n",
    "        model_metadata = saving_utils.model_metadata(self)\n",
    "        training_config = model_metadata.get(\"training_config\", None)\n",
    "        model = serialize(self)\n",
    "        weights = self.get_weights()\n",
    "        return (unpack, (model, training_config, weights))\n",
    "\n",
    "    cls = Model\n",
    "    cls.__reduce__ = __reduce__\n",
    "\n",
    "# Run the function\n",
    "make_keras_picklable()"
   ]
  },
  {
   "cell_type": "code",
   "execution_count": 38,
   "id": "30652335-728f-4ab1-ac8d-e7c0ec703ee2",
   "metadata": {},
   "outputs": [],
   "source": [
    "# Load the saved model\n",
    "pickled_lstm_model = pickle.load(open('models/CC/lstm_model.pkl', 'rb'))"
   ]
  },
  {
   "cell_type": "code",
   "execution_count": 39,
   "id": "cfcbc774-ed7e-48eb-8327-560329c8e09c",
   "metadata": {},
   "outputs": [],
   "source": [
    "# Reshape the X shape to fit in LSTM (add one dimension)\n",
    "X_test_2023_scaled_reshaped = X_test_2023_scaled.reshape((X_test_2023_scaled.shape[0], X_test_2023_scaled.shape[1], 1))"
   ]
  },
  {
   "cell_type": "code",
   "execution_count": 40,
   "id": "47313330-5d5e-4717-9616-ec4cb725d4b4",
   "metadata": {
    "tags": []
   },
   "outputs": [],
   "source": [
    "# Change Y values to be from 0 to 2 instead of 1 to 3\n",
    "y_test_mod_2023 = y_test_2023 - 1"
   ]
  },
  {
   "cell_type": "code",
   "execution_count": 41,
   "id": "30d0922d-13a1-4dcd-8a90-311f6146699e",
   "metadata": {},
   "outputs": [
    {
     "name": "stdout",
     "output_type": "stream",
     "text": [
      "(491839, 24, 1)\n"
     ]
    }
   ],
   "source": [
    "print(X_test_2023_scaled_reshaped.shape)"
   ]
  },
  {
   "cell_type": "code",
   "execution_count": 42,
   "id": "4284b356-3cbf-4fe1-a6a4-105fca6a2d08",
   "metadata": {},
   "outputs": [],
   "source": [
    "preds_2023 = np.argmax(pickled_lstm_model.predict(X_test_2023_scaled_reshaped), axis=-1)"
   ]
  },
  {
   "cell_type": "code",
   "execution_count": 43,
   "id": "d83cdc63-cec6-42f8-bef7-744e95c29d0f",
   "metadata": {},
   "outputs": [
    {
     "name": "stdout",
     "output_type": "stream",
     "text": [
      "              precision    recall  f1-score   support\n",
      "\n",
      "         0.0       0.51      0.03      0.05    188433\n",
      "         1.0       0.84      0.04      0.08    303406\n",
      "         2.0       0.00      0.00      0.00         0\n",
      "\n",
      "    accuracy                           0.04    491839\n",
      "   macro avg       0.45      0.02      0.04    491839\n",
      "weighted avg       0.71      0.04      0.07    491839\n",
      "\n"
     ]
    }
   ],
   "source": [
    "from sklearn.metrics import classification_report\n",
    "print(classification_report(y_test_mod_2023, preds_2023))"
   ]
  },
  {
   "cell_type": "code",
   "execution_count": 44,
   "id": "b167e93b-2f58-4224-a941-8c2b33659913",
   "metadata": {},
   "outputs": [
    {
     "data": {
      "text/plain": [
       "array([[  5038,   2339, 181056],\n",
       "       [  4833,  12409, 286164],\n",
       "       [     0,      0,      0]], dtype=int64)"
      ]
     },
     "execution_count": 44,
     "metadata": {},
     "output_type": "execute_result"
    }
   ],
   "source": [
    "# evaluation: Confusion Matrix\n",
    "confusion_lstm_2023 = metrics.confusion_matrix(y_true = y_test_mod_2023, y_pred = preds_2023)\n",
    "confusion_lstm_2023"
   ]
  },
  {
   "cell_type": "code",
   "execution_count": 45,
   "id": "2900a278-420d-48fa-af5f-d33f0ac2a161",
   "metadata": {},
   "outputs": [
    {
     "name": "stdout",
     "output_type": "stream",
     "text": [
      "Saving figure lstm_2023_cm\n"
     ]
    },
    {
     "data": {
      "image/png": "[encoded data removed]",
      "text/plain": [
       "<Figure size 1000x700 with 2 Axes>"
      ]
     },
     "metadata": {},
     "output_type": "display_data"
    }
   ],
   "source": [
    "df_cm_lstm_2023 = pd.DataFrame(confusion_lstm_2023, index = all_classes, columns = all_classes)\n",
    "plt.figure(figsize = (10,7))\n",
    "sns.heatmap(df_cm_lstm_2023, annot=True,fmt='d',cmap=plt.cm.Blues)\n",
    "save_fig(\"lstm_2023_cm\")"
   ]
  },
  {
   "cell_type": "code",
   "execution_count": 46,
   "id": "ab3efe93-d0ef-43f5-a94f-17bc0d36a99b",
   "metadata": {},
   "outputs": [
    {
     "name": "stdout",
     "output_type": "stream",
     "text": [
      "Accuracy: 0.035\n",
      "Recall: 0.035\n",
      "Precision: 0.715\n",
      "F1-Score: 0.068\n"
     ]
    }
   ],
   "source": [
    "# measure accuracy\n",
    "print('Accuracy: %.3f' % metrics.accuracy_score(y_true=y_test_mod_2023, y_pred=preds_2023))\n",
    "print('Recall: %.3f' % metrics.recall_score(y_true=y_test_mod_2023, y_pred=preds_2023, average='weighted'))\n",
    "print('Precision: %.3f' % metrics.precision_score(y_true=y_test_mod_2023, y_pred=preds_2023, average='weighted'))\n",
    "print('F1-Score: %.3f' % metrics.f1_score(y_true=y_test_mod_2023, y_pred=preds_2023, average='weighted'))"
   ]
  },
  {
   "cell_type": "code",
   "execution_count": null,
   "id": "f0ce0492-543c-4f1d-bae9-b8d8a2865448",
   "metadata": {},
   "outputs": [],
   "source": []
  }
 ],
 "metadata": {
  "kernelspec": {
   "display_name": "Python 3 (ipykernel)",
   "language": "python",
   "name": "python3"
  },
  "language_info": {
   "codemirror_mode": {
    "name": "ipython",
    "version": 3
   },
   "file_extension": ".py",
   "mimetype": "text/x-python",
   "name": "python",
   "nbconvert_exporter": "python",
   "pygments_lexer": "ipython3",
   "version": "3.8.18"
  }
 },
 "nbformat": 4,
 "nbformat_minor": 5
}
