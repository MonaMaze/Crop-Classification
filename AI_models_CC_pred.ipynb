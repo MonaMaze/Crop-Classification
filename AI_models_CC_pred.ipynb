{
 "cells": [
  {
   "cell_type": "code",
   "execution_count": 1,
   "id": "174f9540-dc66-44ef-b75f-ac851d111dab",
   "metadata": {
    "tags": []
   },
   "outputs": [],
   "source": [
    "# Import required Dependencies\n",
    "import os\n",
    "import sys\n",
    "import numpy as np\n",
    "#import matplotlib.pyplot as plt\n",
    "import pandas as pd\n",
    "#import seaborn as sns\n",
    "import sklearn\n",
    "import datetime\n",
    "\n",
    "# Pre Processing\n",
    "from sklearn.preprocessing import MinMaxScaler\n",
    "#from sklearn.preprocessing import LabelEncoder\n",
    "\n",
    "# Classifiers\n",
    "#from sklearn import svm\n",
    "#from sklearn.svm import SVC, LinearSVC\n",
    "from sklearn.ensemble import RandomForestClassifier\n",
    "#from sklearn.neighbors import KNeighborsClassifier\n",
    "from sklearn.tree import DecisionTreeClassifier\n",
    "from xgboost import XGBClassifier\n",
    "\n",
    "# DL models\n",
    "#import tensorflow as tf\n",
    "#from tensorflow.keras import layers \n",
    "#from tensorflow.keras.models import Sequential\n",
    "#from tensorflow.keras.layers import Dense, Input\n",
    "#from tensorflow.keras.models import Model\n",
    "#from tensorflow.python.keras.layers import deserialize, serialize\n",
    "#from tensorflow.python.keras.saving import saving_utils\n",
    "\n",
    "# Save models\n",
    "import pickle\n",
    "\n",
    "#Geotiff\n",
    "import rasterio"
   ]
  },
  {
   "cell_type": "code",
   "execution_count": 2,
   "id": "657280a7-fcda-426e-9794-06561581aa0d",
   "metadata": {
    "tags": []
   },
   "outputs": [],
   "source": [
    "import os\n",
    "\n",
    "# Where to save the figures\n",
    "PROJECT_ROOT_DIR = \".\"\n",
    "CHAPTER_ID = \"CC\"\n",
    "IMAGES_PATH = os.path.join(PROJECT_ROOT_DIR, \"images\", CHAPTER_ID)\n",
    "os.makedirs(IMAGES_PATH, exist_ok=True)\n",
    "\n",
    "def save_fig(fig_id, tight_layout=True, fig_extension=\"png\", resolution=300):\n",
    "    path = os.path.join(IMAGES_PATH, fig_id + \".\" + fig_extension)\n",
    "    print(\"Saving figure\", fig_id)\n",
    "    if tight_layout:\n",
    "        plt.tight_layout()\n",
    "    plt.savefig(path, format=fig_extension, dpi=resolution, bbox_inches='tight')\n",
    "\n",
    "# Ignore useless warnings (see SciPy issue #5998)\n",
    "import warnings\n",
    "warnings.filterwarnings(action=\"ignore\", message=\"^internal gelsd\")"
   ]
  },
  {
   "cell_type": "code",
   "execution_count": 2,
   "id": "076d9e6c-c996-4877-ae4f-69eee6bd1339",
   "metadata": {
    "tags": []
   },
   "outputs": [],
   "source": [
    "# Load the saved data\n",
    "df = pd.read_csv('CC_all_20230727.csv')"
   ]
  },
  {
   "cell_type": "code",
   "execution_count": 4,
   "id": "bb783d20-429f-471b-b5de-e89c079c3e07",
   "metadata": {
    "tags": []
   },
   "outputs": [
    {
     "data": {
      "text/html": [
       "<div>\n",
       "<style scoped>\n",
       "    .dataframe tbody tr th:only-of-type {\n",
       "        vertical-align: middle;\n",
       "    }\n",
       "\n",
       "    .dataframe tbody tr th {\n",
       "        vertical-align: top;\n",
       "    }\n",
       "\n",
       "    .dataframe thead th {\n",
       "        text-align: right;\n",
       "    }\n",
       "</style>\n",
       "<table border=\"1\" class=\"dataframe\">\n",
       "  <thead>\n",
       "    <tr style=\"text-align: right;\">\n",
       "      <th></th>\n",
       "      <th>awei</th>\n",
       "      <th>blue</th>\n",
       "      <th>dbsi</th>\n",
       "      <th>evi</th>\n",
       "      <th>green</th>\n",
       "      <th>kndvi</th>\n",
       "      <th>mndmi</th>\n",
       "      <th>ndbi</th>\n",
       "      <th>ndpi</th>\n",
       "      <th>ndvi</th>\n",
       "      <th>ndwi</th>\n",
       "      <th>nir</th>\n",
       "      <th>osavi</th>\n",
       "      <th>red</th>\n",
       "      <th>savi</th>\n",
       "      <th>str11</th>\n",
       "      <th>str12</th>\n",
       "      <th>VH</th>\n",
       "      <th>VV-VH</th>\n",
       "      <th>VV</th>\n",
       "    </tr>\n",
       "  </thead>\n",
       "  <tbody>\n",
       "    <tr>\n",
       "      <th>0</th>\n",
       "      <td>962.25</td>\n",
       "      <td>409.0</td>\n",
       "      <td>-0.365920</td>\n",
       "      <td>0.059429</td>\n",
       "      <td>325.0</td>\n",
       "      <td>0.058976</td>\n",
       "      <td>0.608911</td>\n",
       "      <td>-0.012500</td>\n",
       "      <td>-0.608911</td>\n",
       "      <td>-0.242991</td>\n",
       "      <td>0.600985</td>\n",
       "      <td>81.0</td>\n",
       "      <td>-12918.1312</td>\n",
       "      <td>133.0</td>\n",
       "      <td>-16731.00</td>\n",
       "      <td>38.506329</td>\n",
       "      <td>37.506494</td>\n",
       "      <td>0.000288</td>\n",
       "      <td>7.414589</td>\n",
       "      <td>0.002133</td>\n",
       "    </tr>\n",
       "    <tr>\n",
       "      <th>1</th>\n",
       "      <td>891.75</td>\n",
       "      <td>401.0</td>\n",
       "      <td>-0.317651</td>\n",
       "      <td>0.062776</td>\n",
       "      <td>297.0</td>\n",
       "      <td>0.068607</td>\n",
       "      <td>0.579787</td>\n",
       "      <td>0.019355</td>\n",
       "      <td>-0.579787</td>\n",
       "      <td>-0.262136</td>\n",
       "      <td>0.592493</td>\n",
       "      <td>76.0</td>\n",
       "      <td>-12913.8624</td>\n",
       "      <td>130.0</td>\n",
       "      <td>-16726.50</td>\n",
       "      <td>38.506329</td>\n",
       "      <td>37.506494</td>\n",
       "      <td>0.000130</td>\n",
       "      <td>17.670248</td>\n",
       "      <td>0.002293</td>\n",
       "    </tr>\n",
       "    <tr>\n",
       "      <th>2</th>\n",
       "      <td>959.25</td>\n",
       "      <td>409.0</td>\n",
       "      <td>-0.430322</td>\n",
       "      <td>0.046574</td>\n",
       "      <td>317.0</td>\n",
       "      <td>0.043204</td>\n",
       "      <td>0.638243</td>\n",
       "      <td>-0.066667</td>\n",
       "      <td>-0.638243</td>\n",
       "      <td>-0.207921</td>\n",
       "      <td>0.596977</td>\n",
       "      <td>80.0</td>\n",
       "      <td>-9849.2352</td>\n",
       "      <td>122.0</td>\n",
       "      <td>-12757.50</td>\n",
       "      <td>34.007143</td>\n",
       "      <td>33.507246</td>\n",
       "      <td>0.000016</td>\n",
       "      <td>78.076813</td>\n",
       "      <td>0.001272</td>\n",
       "    </tr>\n",
       "    <tr>\n",
       "      <th>3</th>\n",
       "      <td>1000.25</td>\n",
       "      <td>430.0</td>\n",
       "      <td>-0.429883</td>\n",
       "      <td>0.045833</td>\n",
       "      <td>325.0</td>\n",
       "      <td>0.046487</td>\n",
       "      <td>0.645570</td>\n",
       "      <td>-0.066667</td>\n",
       "      <td>-0.645570</td>\n",
       "      <td>-0.215686</td>\n",
       "      <td>0.604938</td>\n",
       "      <td>80.0</td>\n",
       "      <td>-10420.3264</td>\n",
       "      <td>124.0</td>\n",
       "      <td>-13497.00</td>\n",
       "      <td>34.007143</td>\n",
       "      <td>33.507246</td>\n",
       "      <td>0.000032</td>\n",
       "      <td>19.939922</td>\n",
       "      <td>0.000639</td>\n",
       "    </tr>\n",
       "    <tr>\n",
       "      <th>4</th>\n",
       "      <td>990.50</td>\n",
       "      <td>436.0</td>\n",
       "      <td>-0.446256</td>\n",
       "      <td>0.037724</td>\n",
       "      <td>325.0</td>\n",
       "      <td>0.031939</td>\n",
       "      <td>0.625000</td>\n",
       "      <td>-0.062500</td>\n",
       "      <td>-0.625000</td>\n",
       "      <td>-0.178744</td>\n",
       "      <td>0.585366</td>\n",
       "      <td>85.0</td>\n",
       "      <td>-8891.3072</td>\n",
       "      <td>122.0</td>\n",
       "      <td>-11516.25</td>\n",
       "      <td>36.506667</td>\n",
       "      <td>35.006944</td>\n",
       "      <td>0.000018</td>\n",
       "      <td>155.772690</td>\n",
       "      <td>0.002747</td>\n",
       "    </tr>\n",
       "  </tbody>\n",
       "</table>\n",
       "</div>"
      ],
      "text/plain": [
       "      awei   blue      dbsi       evi  green     kndvi     mndmi      ndbi  \\\n",
       "0   962.25  409.0 -0.365920  0.059429  325.0  0.058976  0.608911 -0.012500   \n",
       "1   891.75  401.0 -0.317651  0.062776  297.0  0.068607  0.579787  0.019355   \n",
       "2   959.25  409.0 -0.430322  0.046574  317.0  0.043204  0.638243 -0.066667   \n",
       "3  1000.25  430.0 -0.429883  0.045833  325.0  0.046487  0.645570 -0.066667   \n",
       "4   990.50  436.0 -0.446256  0.037724  325.0  0.031939  0.625000 -0.062500   \n",
       "\n",
       "       ndpi      ndvi      ndwi   nir       osavi    red      savi      str11  \\\n",
       "0 -0.608911 -0.242991  0.600985  81.0 -12918.1312  133.0 -16731.00  38.506329   \n",
       "1 -0.579787 -0.262136  0.592493  76.0 -12913.8624  130.0 -16726.50  38.506329   \n",
       "2 -0.638243 -0.207921  0.596977  80.0  -9849.2352  122.0 -12757.50  34.007143   \n",
       "3 -0.645570 -0.215686  0.604938  80.0 -10420.3264  124.0 -13497.00  34.007143   \n",
       "4 -0.625000 -0.178744  0.585366  85.0  -8891.3072  122.0 -11516.25  36.506667   \n",
       "\n",
       "       str12        VH       VV-VH        VV  \n",
       "0  37.506494  0.000288    7.414589  0.002133  \n",
       "1  37.506494  0.000130   17.670248  0.002293  \n",
       "2  33.507246  0.000016   78.076813  0.001272  \n",
       "3  33.507246  0.000032   19.939922  0.000639  \n",
       "4  35.006944  0.000018  155.772690  0.002747  "
      ]
     },
     "execution_count": 4,
     "metadata": {},
     "output_type": "execute_result"
    }
   ],
   "source": [
    "df.head()"
   ]
  },
  {
   "cell_type": "code",
   "execution_count": 5,
   "id": "09d1058d-5a25-4cc0-a3c4-11c17e9eae0e",
   "metadata": {
    "tags": []
   },
   "outputs": [
    {
     "name": "stdout",
     "output_type": "stream",
     "text": [
      "<class 'pandas.core.frame.DataFrame'>\n",
      "RangeIndex: 120560400 entries, 0 to 120560399\n",
      "Data columns (total 20 columns):\n",
      " #   Column  Dtype  \n",
      "---  ------  -----  \n",
      " 0   awei    float64\n",
      " 1   blue    float64\n",
      " 2   dbsi    float64\n",
      " 3   evi     float64\n",
      " 4   green   float64\n",
      " 5   kndvi   float64\n",
      " 6   mndmi   float64\n",
      " 7   ndbi    float64\n",
      " 8   ndpi    float64\n",
      " 9   ndvi    float64\n",
      " 10  ndwi    float64\n",
      " 11  nir     float64\n",
      " 12  osavi   float64\n",
      " 13  red     float64\n",
      " 14  savi    float64\n",
      " 15  str11   float64\n",
      " 16  str12   float64\n",
      " 17  VH      float64\n",
      " 18  VV-VH   float64\n",
      " 19  VV      float64\n",
      "dtypes: float64(20)\n",
      "memory usage: 18.0 GB\n"
     ]
    }
   ],
   "source": [
    "df.info()"
   ]
  },
  {
   "cell_type": "code",
   "execution_count": 6,
   "id": "2e2ee9b7-8892-4ad2-ab57-efb3810240f1",
   "metadata": {
    "tags": []
   },
   "outputs": [
    {
     "data": {
      "text/html": [
       "<div>\n",
       "<style scoped>\n",
       "    .dataframe tbody tr th:only-of-type {\n",
       "        vertical-align: middle;\n",
       "    }\n",
       "\n",
       "    .dataframe tbody tr th {\n",
       "        vertical-align: top;\n",
       "    }\n",
       "\n",
       "    .dataframe thead th {\n",
       "        text-align: right;\n",
       "    }\n",
       "</style>\n",
       "<table border=\"1\" class=\"dataframe\">\n",
       "  <thead>\n",
       "    <tr style=\"text-align: right;\">\n",
       "      <th></th>\n",
       "      <th>awei</th>\n",
       "      <th>blue</th>\n",
       "      <th>dbsi</th>\n",
       "      <th>evi</th>\n",
       "      <th>green</th>\n",
       "      <th>kndvi</th>\n",
       "      <th>mndmi</th>\n",
       "      <th>ndbi</th>\n",
       "      <th>ndpi</th>\n",
       "      <th>ndvi</th>\n",
       "      <th>ndwi</th>\n",
       "      <th>nir</th>\n",
       "      <th>osavi</th>\n",
       "      <th>red</th>\n",
       "      <th>savi</th>\n",
       "      <th>str11</th>\n",
       "      <th>str12</th>\n",
       "      <th>VH</th>\n",
       "      <th>VV-VH</th>\n",
       "      <th>VV</th>\n",
       "    </tr>\n",
       "  </thead>\n",
       "  <tbody>\n",
       "    <tr>\n",
       "      <th>count</th>\n",
       "      <td>1.205604e+08</td>\n",
       "      <td>1.205604e+08</td>\n",
       "      <td>1.205526e+08</td>\n",
       "      <td>1.205604e+08</td>\n",
       "      <td>1.205604e+08</td>\n",
       "      <td>1.205526e+08</td>\n",
       "      <td>1.205599e+08</td>\n",
       "      <td>1.205599e+08</td>\n",
       "      <td>1.205599e+08</td>\n",
       "      <td>1.205526e+08</td>\n",
       "      <td>1.205594e+08</td>\n",
       "      <td>1.205604e+08</td>\n",
       "      <td>1.205604e+08</td>\n",
       "      <td>1.205604e+08</td>\n",
       "      <td>1.205604e+08</td>\n",
       "      <td>1.205604e+08</td>\n",
       "      <td>1.205604e+08</td>\n",
       "      <td>1.205604e+08</td>\n",
       "      <td>1.205604e+08</td>\n",
       "      <td>1.205604e+08</td>\n",
       "    </tr>\n",
       "    <tr>\n",
       "      <th>mean</th>\n",
       "      <td>-4.462877e+03</td>\n",
       "      <td>5.428684e+02</td>\n",
       "      <td>-2.210391e-01</td>\n",
       "      <td>-1.576497e+00</td>\n",
       "      <td>7.553603e+02</td>\n",
       "      <td>3.640226e-01</td>\n",
       "      <td>-2.314373e-01</td>\n",
       "      <td>-2.279930e-01</td>\n",
       "      <td>2.314373e-01</td>\n",
       "      <td>4.524693e-01</td>\n",
       "      <td>-3.725659e-01</td>\n",
       "      <td>2.758638e+03</td>\n",
       "      <td>1.017849e+07</td>\n",
       "      <td>6.854185e+02</td>\n",
       "      <td>1.316289e+07</td>\n",
       "      <td>8.236723e+02</td>\n",
       "      <td>5.634792e+02</td>\n",
       "      <td>1.686121e-02</td>\n",
       "      <td>2.518611e+01</td>\n",
       "      <td>9.104504e-02</td>\n",
       "    </tr>\n",
       "    <tr>\n",
       "      <th>std</th>\n",
       "      <td>2.991744e+03</td>\n",
       "      <td>4.098897e+02</td>\n",
       "      <td>2.293991e-01</td>\n",
       "      <td>1.832855e+03</td>\n",
       "      <td>4.943895e+02</td>\n",
       "      <td>2.490563e-01</td>\n",
       "      <td>4.546110e-01</td>\n",
       "      <td>2.389484e-01</td>\n",
       "      <td>4.546110e-01</td>\n",
       "      <td>4.571331e-01</td>\n",
       "      <td>5.166087e-01</td>\n",
       "      <td>1.463356e+03</td>\n",
       "      <td>8.387827e+06</td>\n",
       "      <td>7.123683e+02</td>\n",
       "      <td>1.084709e+07</td>\n",
       "      <td>5.062268e+02</td>\n",
       "      <td>4.798425e+02</td>\n",
       "      <td>4.220213e-02</td>\n",
       "      <td>1.132117e+02</td>\n",
       "      <td>7.155829e-01</td>\n",
       "    </tr>\n",
       "    <tr>\n",
       "      <th>min</th>\n",
       "      <td>-3.521700e+04</td>\n",
       "      <td>0.000000e+00</td>\n",
       "      <td>-1.795745e+00</td>\n",
       "      <td>-3.300000e+05</td>\n",
       "      <td>0.000000e+00</td>\n",
       "      <td>0.000000e+00</td>\n",
       "      <td>-1.000000e+00</td>\n",
       "      <td>-1.000000e+00</td>\n",
       "      <td>-1.000000e+00</td>\n",
       "      <td>-1.000000e+00</td>\n",
       "      <td>-1.000000e+00</td>\n",
       "      <td>0.000000e+00</td>\n",
       "      <td>-4.570903e+07</td>\n",
       "      <td>0.000000e+00</td>\n",
       "      <td>-5.910854e+07</td>\n",
       "      <td>0.000000e+00</td>\n",
       "      <td>0.000000e+00</td>\n",
       "      <td>1.644899e-07</td>\n",
       "      <td>6.770266e-04</td>\n",
       "      <td>9.349317e-07</td>\n",
       "    </tr>\n",
       "    <tr>\n",
       "      <th>25%</th>\n",
       "      <td>-6.585500e+03</td>\n",
       "      <td>3.080000e+02</td>\n",
       "      <td>-3.699685e-01</td>\n",
       "      <td>4.027149e-01</td>\n",
       "      <td>4.360000e+02</td>\n",
       "      <td>9.751995e-02</td>\n",
       "      <td>-4.959538e-01</td>\n",
       "      <td>-4.204993e-01</td>\n",
       "      <td>2.689982e-01</td>\n",
       "      <td>1.186703e-01</td>\n",
       "      <td>-7.393768e-01</td>\n",
       "      <td>2.210000e+03</td>\n",
       "      <td>2.469097e+06</td>\n",
       "      <td>2.400000e+02</td>\n",
       "      <td>3.193038e+06</td>\n",
       "      <td>6.405004e+02</td>\n",
       "      <td>3.205008e+02</td>\n",
       "      <td>5.047485e-03</td>\n",
       "      <td>2.996706e+00</td>\n",
       "      <td>2.341818e-02</td>\n",
       "    </tr>\n",
       "    <tr>\n",
       "      <th>50%</th>\n",
       "      <td>-5.382500e+03</td>\n",
       "      <td>3.940000e+02</td>\n",
       "      <td>-2.988851e-01</td>\n",
       "      <td>1.979400e+00</td>\n",
       "      <td>6.060000e+02</td>\n",
       "      <td>4.200827e-01</td>\n",
       "      <td>-4.198773e-01</td>\n",
       "      <td>-2.761240e-01</td>\n",
       "      <td>4.198773e-01</td>\n",
       "      <td>6.567817e-01</td>\n",
       "      <td>-6.049896e-01</td>\n",
       "      <td>3.124000e+03</td>\n",
       "      <td>9.880042e+06</td>\n",
       "      <td>4.100000e+02</td>\n",
       "      <td>1.277704e+07</td>\n",
       "      <td>8.040003e+02</td>\n",
       "      <td>4.400006e+02</td>\n",
       "      <td>1.307114e-02</td>\n",
       "      <td>5.158920e+00</td>\n",
       "      <td>6.121234e-02</td>\n",
       "    </tr>\n",
       "    <tr>\n",
       "      <th>75%</th>\n",
       "      <td>-3.175250e+03</td>\n",
       "      <td>5.780000e+02</td>\n",
       "      <td>-1.045573e-01</td>\n",
       "      <td>2.607357e+00</td>\n",
       "      <td>8.500000e+02</td>\n",
       "      <td>6.038794e-01</td>\n",
       "      <td>-2.689982e-01</td>\n",
       "      <td>-5.230957e-02</td>\n",
       "      <td>4.959538e-01</td>\n",
       "      <td>8.344371e-01</td>\n",
       "      <td>-2.162417e-01</td>\n",
       "      <td>3.764000e+03</td>\n",
       "      <td>1.600539e+07</td>\n",
       "      <td>7.970000e+02</td>\n",
       "      <td>2.069833e+07</td>\n",
       "      <td>1.028000e+03</td>\n",
       "      <td>6.500004e+02</td>\n",
       "      <td>2.353029e-02</td>\n",
       "      <td>9.832112e+00</td>\n",
       "      <td>1.141939e-01</td>\n",
       "    </tr>\n",
       "    <tr>\n",
       "      <th>max</th>\n",
       "      <td>1.587900e+04</td>\n",
       "      <td>8.888000e+03</td>\n",
       "      <td>2.000000e+00</td>\n",
       "      <td>3.300000e+05</td>\n",
       "      <td>9.192000e+03</td>\n",
       "      <td>7.615942e-01</td>\n",
       "      <td>1.000000e+00</td>\n",
       "      <td>1.000000e+00</td>\n",
       "      <td>1.000000e+00</td>\n",
       "      <td>1.000000e+00</td>\n",
       "      <td>1.000000e+00</td>\n",
       "      <td>1.282400e+04</td>\n",
       "      <td>1.628266e+08</td>\n",
       "      <td>9.480000e+03</td>\n",
       "      <td>2.105557e+08</td>\n",
       "      <td>6.967000e+03</td>\n",
       "      <td>7.595500e+03</td>\n",
       "      <td>1.523495e+02</td>\n",
       "      <td>3.100643e+05</td>\n",
       "      <td>3.000135e+03</td>\n",
       "    </tr>\n",
       "  </tbody>\n",
       "</table>\n",
       "</div>"
      ],
      "text/plain": [
       "               awei          blue          dbsi           evi         green  \\\n",
       "count  1.205604e+08  1.205604e+08  1.205526e+08  1.205604e+08  1.205604e+08   \n",
       "mean  -4.462877e+03  5.428684e+02 -2.210391e-01 -1.576497e+00  7.553603e+02   \n",
       "std    2.991744e+03  4.098897e+02  2.293991e-01  1.832855e+03  4.943895e+02   \n",
       "min   -3.521700e+04  0.000000e+00 -1.795745e+00 -3.300000e+05  0.000000e+00   \n",
       "25%   -6.585500e+03  3.080000e+02 -3.699685e-01  4.027149e-01  4.360000e+02   \n",
       "50%   -5.382500e+03  3.940000e+02 -2.988851e-01  1.979400e+00  6.060000e+02   \n",
       "75%   -3.175250e+03  5.780000e+02 -1.045573e-01  2.607357e+00  8.500000e+02   \n",
       "max    1.587900e+04  8.888000e+03  2.000000e+00  3.300000e+05  9.192000e+03   \n",
       "\n",
       "              kndvi         mndmi          ndbi          ndpi          ndvi  \\\n",
       "count  1.205526e+08  1.205599e+08  1.205599e+08  1.205599e+08  1.205526e+08   \n",
       "mean   3.640226e-01 -2.314373e-01 -2.279930e-01  2.314373e-01  4.524693e-01   \n",
       "std    2.490563e-01  4.546110e-01  2.389484e-01  4.546110e-01  4.571331e-01   \n",
       "min    0.000000e+00 -1.000000e+00 -1.000000e+00 -1.000000e+00 -1.000000e+00   \n",
       "25%    9.751995e-02 -4.959538e-01 -4.204993e-01  2.689982e-01  1.186703e-01   \n",
       "50%    4.200827e-01 -4.198773e-01 -2.761240e-01  4.198773e-01  6.567817e-01   \n",
       "75%    6.038794e-01 -2.689982e-01 -5.230957e-02  4.959538e-01  8.344371e-01   \n",
       "max    7.615942e-01  1.000000e+00  1.000000e+00  1.000000e+00  1.000000e+00   \n",
       "\n",
       "               ndwi           nir         osavi           red          savi  \\\n",
       "count  1.205594e+08  1.205604e+08  1.205604e+08  1.205604e+08  1.205604e+08   \n",
       "mean  -3.725659e-01  2.758638e+03  1.017849e+07  6.854185e+02  1.316289e+07   \n",
       "std    5.166087e-01  1.463356e+03  8.387827e+06  7.123683e+02  1.084709e+07   \n",
       "min   -1.000000e+00  0.000000e+00 -4.570903e+07  0.000000e+00 -5.910854e+07   \n",
       "25%   -7.393768e-01  2.210000e+03  2.469097e+06  2.400000e+02  3.193038e+06   \n",
       "50%   -6.049896e-01  3.124000e+03  9.880042e+06  4.100000e+02  1.277704e+07   \n",
       "75%   -2.162417e-01  3.764000e+03  1.600539e+07  7.970000e+02  2.069833e+07   \n",
       "max    1.000000e+00  1.282400e+04  1.628266e+08  9.480000e+03  2.105557e+08   \n",
       "\n",
       "              str11         str12            VH         VV-VH            VV  \n",
       "count  1.205604e+08  1.205604e+08  1.205604e+08  1.205604e+08  1.205604e+08  \n",
       "mean   8.236723e+02  5.634792e+02  1.686121e-02  2.518611e+01  9.104504e-02  \n",
       "std    5.062268e+02  4.798425e+02  4.220213e-02  1.132117e+02  7.155829e-01  \n",
       "min    0.000000e+00  0.000000e+00  1.644899e-07  6.770266e-04  9.349317e-07  \n",
       "25%    6.405004e+02  3.205008e+02  5.047485e-03  2.996706e+00  2.341818e-02  \n",
       "50%    8.040003e+02  4.400006e+02  1.307114e-02  5.158920e+00  6.121234e-02  \n",
       "75%    1.028000e+03  6.500004e+02  2.353029e-02  9.832112e+00  1.141939e-01  \n",
       "max    6.967000e+03  7.595500e+03  1.523495e+02  3.100643e+05  3.000135e+03  "
      ]
     },
     "execution_count": 6,
     "metadata": {},
     "output_type": "execute_result"
    }
   ],
   "source": [
    "df.describe()"
   ]
  },
  {
   "cell_type": "code",
   "execution_count": 3,
   "id": "db1be56b-a0ac-468c-9152-2248ad129c03",
   "metadata": {},
   "outputs": [],
   "source": [
    "df = df.astype('float32')"
   ]
  },
  {
   "cell_type": "code",
   "execution_count": 8,
   "id": "0de13b97-2f24-46c6-8758-6eaef4abd2af",
   "metadata": {},
   "outputs": [
    {
     "data": {
      "text/html": [
       "<div>\n",
       "<style scoped>\n",
       "    .dataframe tbody tr th:only-of-type {\n",
       "        vertical-align: middle;\n",
       "    }\n",
       "\n",
       "    .dataframe tbody tr th {\n",
       "        vertical-align: top;\n",
       "    }\n",
       "\n",
       "    .dataframe thead th {\n",
       "        text-align: right;\n",
       "    }\n",
       "</style>\n",
       "<table border=\"1\" class=\"dataframe\">\n",
       "  <thead>\n",
       "    <tr style=\"text-align: right;\">\n",
       "      <th></th>\n",
       "      <th>awei</th>\n",
       "      <th>blue</th>\n",
       "      <th>dbsi</th>\n",
       "      <th>evi</th>\n",
       "      <th>green</th>\n",
       "      <th>kndvi</th>\n",
       "      <th>mndmi</th>\n",
       "      <th>ndbi</th>\n",
       "      <th>ndpi</th>\n",
       "      <th>ndvi</th>\n",
       "      <th>ndwi</th>\n",
       "      <th>nir</th>\n",
       "      <th>osavi</th>\n",
       "      <th>red</th>\n",
       "      <th>savi</th>\n",
       "      <th>str11</th>\n",
       "      <th>str12</th>\n",
       "      <th>VH</th>\n",
       "      <th>VV-VH</th>\n",
       "      <th>VV</th>\n",
       "    </tr>\n",
       "  </thead>\n",
       "  <tbody>\n",
       "    <tr>\n",
       "      <th>0</th>\n",
       "      <td>962.25</td>\n",
       "      <td>409.0</td>\n",
       "      <td>-0.365920</td>\n",
       "      <td>0.059429</td>\n",
       "      <td>325.0</td>\n",
       "      <td>0.058976</td>\n",
       "      <td>0.608911</td>\n",
       "      <td>-0.012500</td>\n",
       "      <td>-0.608911</td>\n",
       "      <td>-0.242991</td>\n",
       "      <td>0.600985</td>\n",
       "      <td>81.0</td>\n",
       "      <td>-12918.130859</td>\n",
       "      <td>133.0</td>\n",
       "      <td>-16731.00</td>\n",
       "      <td>38.506329</td>\n",
       "      <td>37.506493</td>\n",
       "      <td>0.000288</td>\n",
       "      <td>7.414589</td>\n",
       "      <td>0.002133</td>\n",
       "    </tr>\n",
       "    <tr>\n",
       "      <th>1</th>\n",
       "      <td>891.75</td>\n",
       "      <td>401.0</td>\n",
       "      <td>-0.317651</td>\n",
       "      <td>0.062776</td>\n",
       "      <td>297.0</td>\n",
       "      <td>0.068607</td>\n",
       "      <td>0.579787</td>\n",
       "      <td>0.019355</td>\n",
       "      <td>-0.579787</td>\n",
       "      <td>-0.262136</td>\n",
       "      <td>0.592493</td>\n",
       "      <td>76.0</td>\n",
       "      <td>-12913.862305</td>\n",
       "      <td>130.0</td>\n",
       "      <td>-16726.50</td>\n",
       "      <td>38.506329</td>\n",
       "      <td>37.506493</td>\n",
       "      <td>0.000130</td>\n",
       "      <td>17.670248</td>\n",
       "      <td>0.002293</td>\n",
       "    </tr>\n",
       "    <tr>\n",
       "      <th>2</th>\n",
       "      <td>959.25</td>\n",
       "      <td>409.0</td>\n",
       "      <td>-0.430322</td>\n",
       "      <td>0.046574</td>\n",
       "      <td>317.0</td>\n",
       "      <td>0.043204</td>\n",
       "      <td>0.638243</td>\n",
       "      <td>-0.066667</td>\n",
       "      <td>-0.638243</td>\n",
       "      <td>-0.207921</td>\n",
       "      <td>0.596977</td>\n",
       "      <td>80.0</td>\n",
       "      <td>-9849.235352</td>\n",
       "      <td>122.0</td>\n",
       "      <td>-12757.50</td>\n",
       "      <td>34.007141</td>\n",
       "      <td>33.507248</td>\n",
       "      <td>0.000016</td>\n",
       "      <td>78.076813</td>\n",
       "      <td>0.001272</td>\n",
       "    </tr>\n",
       "    <tr>\n",
       "      <th>3</th>\n",
       "      <td>1000.25</td>\n",
       "      <td>430.0</td>\n",
       "      <td>-0.429883</td>\n",
       "      <td>0.045833</td>\n",
       "      <td>325.0</td>\n",
       "      <td>0.046487</td>\n",
       "      <td>0.645570</td>\n",
       "      <td>-0.066667</td>\n",
       "      <td>-0.645570</td>\n",
       "      <td>-0.215686</td>\n",
       "      <td>0.604938</td>\n",
       "      <td>80.0</td>\n",
       "      <td>-10420.326172</td>\n",
       "      <td>124.0</td>\n",
       "      <td>-13497.00</td>\n",
       "      <td>34.007141</td>\n",
       "      <td>33.507248</td>\n",
       "      <td>0.000032</td>\n",
       "      <td>19.939922</td>\n",
       "      <td>0.000639</td>\n",
       "    </tr>\n",
       "    <tr>\n",
       "      <th>4</th>\n",
       "      <td>990.50</td>\n",
       "      <td>436.0</td>\n",
       "      <td>-0.446256</td>\n",
       "      <td>0.037724</td>\n",
       "      <td>325.0</td>\n",
       "      <td>0.031939</td>\n",
       "      <td>0.625000</td>\n",
       "      <td>-0.062500</td>\n",
       "      <td>-0.625000</td>\n",
       "      <td>-0.178744</td>\n",
       "      <td>0.585366</td>\n",
       "      <td>85.0</td>\n",
       "      <td>-8891.307617</td>\n",
       "      <td>122.0</td>\n",
       "      <td>-11516.25</td>\n",
       "      <td>36.506668</td>\n",
       "      <td>35.006943</td>\n",
       "      <td>0.000018</td>\n",
       "      <td>155.772690</td>\n",
       "      <td>0.002747</td>\n",
       "    </tr>\n",
       "  </tbody>\n",
       "</table>\n",
       "</div>"
      ],
      "text/plain": [
       "      awei   blue      dbsi       evi  green     kndvi     mndmi      ndbi  \\\n",
       "0   962.25  409.0 -0.365920  0.059429  325.0  0.058976  0.608911 -0.012500   \n",
       "1   891.75  401.0 -0.317651  0.062776  297.0  0.068607  0.579787  0.019355   \n",
       "2   959.25  409.0 -0.430322  0.046574  317.0  0.043204  0.638243 -0.066667   \n",
       "3  1000.25  430.0 -0.429883  0.045833  325.0  0.046487  0.645570 -0.066667   \n",
       "4   990.50  436.0 -0.446256  0.037724  325.0  0.031939  0.625000 -0.062500   \n",
       "\n",
       "       ndpi      ndvi      ndwi   nir         osavi    red      savi  \\\n",
       "0 -0.608911 -0.242991  0.600985  81.0 -12918.130859  133.0 -16731.00   \n",
       "1 -0.579787 -0.262136  0.592493  76.0 -12913.862305  130.0 -16726.50   \n",
       "2 -0.638243 -0.207921  0.596977  80.0  -9849.235352  122.0 -12757.50   \n",
       "3 -0.645570 -0.215686  0.604938  80.0 -10420.326172  124.0 -13497.00   \n",
       "4 -0.625000 -0.178744  0.585366  85.0  -8891.307617  122.0 -11516.25   \n",
       "\n",
       "       str11      str12        VH       VV-VH        VV  \n",
       "0  38.506329  37.506493  0.000288    7.414589  0.002133  \n",
       "1  38.506329  37.506493  0.000130   17.670248  0.002293  \n",
       "2  34.007141  33.507248  0.000016   78.076813  0.001272  \n",
       "3  34.007141  33.507248  0.000032   19.939922  0.000639  \n",
       "4  36.506668  35.006943  0.000018  155.772690  0.002747  "
      ]
     },
     "execution_count": 8,
     "metadata": {},
     "output_type": "execute_result"
    }
   ],
   "source": [
    "df.head()"
   ]
  },
  {
   "cell_type": "code",
   "execution_count": 9,
   "id": "34a69ac5-8396-440e-bbfa-5fce0a6d4080",
   "metadata": {},
   "outputs": [
    {
     "name": "stdout",
     "output_type": "stream",
     "text": [
      "<class 'pandas.core.frame.DataFrame'>\n",
      "RangeIndex: 120560400 entries, 0 to 120560399\n",
      "Data columns (total 20 columns):\n",
      " #   Column  Dtype  \n",
      "---  ------  -----  \n",
      " 0   awei    float32\n",
      " 1   blue    float32\n",
      " 2   dbsi    float32\n",
      " 3   evi     float32\n",
      " 4   green   float32\n",
      " 5   kndvi   float32\n",
      " 6   mndmi   float32\n",
      " 7   ndbi    float32\n",
      " 8   ndpi    float32\n",
      " 9   ndvi    float32\n",
      " 10  ndwi    float32\n",
      " 11  nir     float32\n",
      " 12  osavi   float32\n",
      " 13  red     float32\n",
      " 14  savi    float32\n",
      " 15  str11   float32\n",
      " 16  str12   float32\n",
      " 17  VH      float32\n",
      " 18  VV-VH   float32\n",
      " 19  VV      float32\n",
      "dtypes: float32(20)\n",
      "memory usage: 9.0 GB\n"
     ]
    }
   ],
   "source": [
    "df.info()"
   ]
  },
  {
   "cell_type": "code",
   "execution_count": 10,
   "id": "93f9117c-3e64-4e4f-87f1-ff35c2f1ae49",
   "metadata": {},
   "outputs": [
    {
     "data": {
      "text/html": [
       "<div>\n",
       "<style scoped>\n",
       "    .dataframe tbody tr th:only-of-type {\n",
       "        vertical-align: middle;\n",
       "    }\n",
       "\n",
       "    .dataframe tbody tr th {\n",
       "        vertical-align: top;\n",
       "    }\n",
       "\n",
       "    .dataframe thead th {\n",
       "        text-align: right;\n",
       "    }\n",
       "</style>\n",
       "<table border=\"1\" class=\"dataframe\">\n",
       "  <thead>\n",
       "    <tr style=\"text-align: right;\">\n",
       "      <th></th>\n",
       "      <th>awei</th>\n",
       "      <th>blue</th>\n",
       "      <th>dbsi</th>\n",
       "      <th>evi</th>\n",
       "      <th>green</th>\n",
       "      <th>kndvi</th>\n",
       "      <th>mndmi</th>\n",
       "      <th>ndbi</th>\n",
       "      <th>ndpi</th>\n",
       "      <th>ndvi</th>\n",
       "      <th>ndwi</th>\n",
       "      <th>nir</th>\n",
       "      <th>osavi</th>\n",
       "      <th>red</th>\n",
       "      <th>savi</th>\n",
       "      <th>str11</th>\n",
       "      <th>str12</th>\n",
       "      <th>VH</th>\n",
       "      <th>VV-VH</th>\n",
       "      <th>VV</th>\n",
       "    </tr>\n",
       "  </thead>\n",
       "  <tbody>\n",
       "    <tr>\n",
       "      <th>count</th>\n",
       "      <td>1.205604e+08</td>\n",
       "      <td>1.205604e+08</td>\n",
       "      <td>1.205526e+08</td>\n",
       "      <td>1.205604e+08</td>\n",
       "      <td>1.205604e+08</td>\n",
       "      <td>1.205526e+08</td>\n",
       "      <td>1.205599e+08</td>\n",
       "      <td>1.205599e+08</td>\n",
       "      <td>1.205599e+08</td>\n",
       "      <td>1.205526e+08</td>\n",
       "      <td>1.205594e+08</td>\n",
       "      <td>1.205604e+08</td>\n",
       "      <td>1.205604e+08</td>\n",
       "      <td>1.205604e+08</td>\n",
       "      <td>120560400.0</td>\n",
       "      <td>1.205604e+08</td>\n",
       "      <td>1.205604e+08</td>\n",
       "      <td>1.205604e+08</td>\n",
       "      <td>1.205604e+08</td>\n",
       "      <td>1.205604e+08</td>\n",
       "    </tr>\n",
       "    <tr>\n",
       "      <th>mean</th>\n",
       "      <td>-4.462875e+03</td>\n",
       "      <td>5.428680e+02</td>\n",
       "      <td>-2.210384e-01</td>\n",
       "      <td>-1.576493e+00</td>\n",
       "      <td>7.553598e+02</td>\n",
       "      <td>3.640226e-01</td>\n",
       "      <td>-2.314374e-01</td>\n",
       "      <td>-2.279930e-01</td>\n",
       "      <td>2.314374e-01</td>\n",
       "      <td>4.524686e-01</td>\n",
       "      <td>-3.725668e-01</td>\n",
       "      <td>2.758642e+03</td>\n",
       "      <td>1.017850e+07</td>\n",
       "      <td>6.854184e+02</td>\n",
       "      <td>13162852.0</td>\n",
       "      <td>8.236735e+02</td>\n",
       "      <td>5.634774e+02</td>\n",
       "      <td>1.686124e-02</td>\n",
       "      <td>2.518618e+01</td>\n",
       "      <td>9.104492e-02</td>\n",
       "    </tr>\n",
       "    <tr>\n",
       "      <th>std</th>\n",
       "      <td>3.081942e+03</td>\n",
       "      <td>4.469239e+02</td>\n",
       "      <td>1.846113e-01</td>\n",
       "      <td>1.832828e+03</td>\n",
       "      <td>5.778926e+02</td>\n",
       "      <td>2.637890e-01</td>\n",
       "      <td>3.687679e-01</td>\n",
       "      <td>1.881849e-01</td>\n",
       "      <td>3.687679e-01</td>\n",
       "      <td>3.733466e-01</td>\n",
       "      <td>3.731667e-01</td>\n",
       "      <td>1.560464e+03</td>\n",
       "      <td>8.088852e+06</td>\n",
       "      <td>7.222431e+02</td>\n",
       "      <td>10552574.0</td>\n",
       "      <td>5.735591e+02</td>\n",
       "      <td>5.128111e+02</td>\n",
       "      <td>4.054161e-02</td>\n",
       "      <td>1.119266e+02</td>\n",
       "      <td>7.103187e-01</td>\n",
       "    </tr>\n",
       "    <tr>\n",
       "      <th>min</th>\n",
       "      <td>-3.521700e+04</td>\n",
       "      <td>0.000000e+00</td>\n",
       "      <td>-1.795745e+00</td>\n",
       "      <td>-3.300000e+05</td>\n",
       "      <td>0.000000e+00</td>\n",
       "      <td>0.000000e+00</td>\n",
       "      <td>-1.000000e+00</td>\n",
       "      <td>-1.000000e+00</td>\n",
       "      <td>-1.000000e+00</td>\n",
       "      <td>-1.000000e+00</td>\n",
       "      <td>-1.000000e+00</td>\n",
       "      <td>0.000000e+00</td>\n",
       "      <td>-4.570902e+07</td>\n",
       "      <td>0.000000e+00</td>\n",
       "      <td>-59108540.0</td>\n",
       "      <td>0.000000e+00</td>\n",
       "      <td>0.000000e+00</td>\n",
       "      <td>1.644899e-07</td>\n",
       "      <td>6.770266e-04</td>\n",
       "      <td>9.349317e-07</td>\n",
       "    </tr>\n",
       "    <tr>\n",
       "      <th>25%</th>\n",
       "      <td>-6.585500e+03</td>\n",
       "      <td>3.080000e+02</td>\n",
       "      <td>-3.699685e-01</td>\n",
       "      <td>4.027149e-01</td>\n",
       "      <td>4.360000e+02</td>\n",
       "      <td>9.751995e-02</td>\n",
       "      <td>-4.959538e-01</td>\n",
       "      <td>-4.204994e-01</td>\n",
       "      <td>2.689981e-01</td>\n",
       "      <td>1.186703e-01</td>\n",
       "      <td>-7.393768e-01</td>\n",
       "      <td>2.210000e+03</td>\n",
       "      <td>2.469097e+06</td>\n",
       "      <td>2.400000e+02</td>\n",
       "      <td>3193038.0</td>\n",
       "      <td>6.405004e+02</td>\n",
       "      <td>3.205008e+02</td>\n",
       "      <td>5.047485e-03</td>\n",
       "      <td>2.996706e+00</td>\n",
       "      <td>2.341818e-02</td>\n",
       "    </tr>\n",
       "    <tr>\n",
       "      <th>50%</th>\n",
       "      <td>-5.382500e+03</td>\n",
       "      <td>3.940000e+02</td>\n",
       "      <td>-2.988851e-01</td>\n",
       "      <td>1.979400e+00</td>\n",
       "      <td>6.060000e+02</td>\n",
       "      <td>4.200827e-01</td>\n",
       "      <td>-4.198773e-01</td>\n",
       "      <td>-2.761240e-01</td>\n",
       "      <td>4.198773e-01</td>\n",
       "      <td>6.567817e-01</td>\n",
       "      <td>-6.049896e-01</td>\n",
       "      <td>3.124000e+03</td>\n",
       "      <td>9.880042e+06</td>\n",
       "      <td>4.100000e+02</td>\n",
       "      <td>12777041.0</td>\n",
       "      <td>8.040003e+02</td>\n",
       "      <td>4.400006e+02</td>\n",
       "      <td>1.307114e-02</td>\n",
       "      <td>5.158920e+00</td>\n",
       "      <td>6.121234e-02</td>\n",
       "    </tr>\n",
       "    <tr>\n",
       "      <th>75%</th>\n",
       "      <td>-3.175250e+03</td>\n",
       "      <td>5.780000e+02</td>\n",
       "      <td>-1.045573e-01</td>\n",
       "      <td>2.607357e+00</td>\n",
       "      <td>8.500000e+02</td>\n",
       "      <td>6.038793e-01</td>\n",
       "      <td>-2.689981e-01</td>\n",
       "      <td>-5.230958e-02</td>\n",
       "      <td>4.959538e-01</td>\n",
       "      <td>8.344371e-01</td>\n",
       "      <td>-2.162417e-01</td>\n",
       "      <td>3.764000e+03</td>\n",
       "      <td>1.600539e+07</td>\n",
       "      <td>7.970000e+02</td>\n",
       "      <td>20698330.0</td>\n",
       "      <td>1.028000e+03</td>\n",
       "      <td>6.500004e+02</td>\n",
       "      <td>2.353029e-02</td>\n",
       "      <td>9.832112e+00</td>\n",
       "      <td>1.141939e-01</td>\n",
       "    </tr>\n",
       "    <tr>\n",
       "      <th>max</th>\n",
       "      <td>1.587900e+04</td>\n",
       "      <td>8.888000e+03</td>\n",
       "      <td>2.000000e+00</td>\n",
       "      <td>3.300000e+05</td>\n",
       "      <td>9.192000e+03</td>\n",
       "      <td>7.615942e-01</td>\n",
       "      <td>1.000000e+00</td>\n",
       "      <td>1.000000e+00</td>\n",
       "      <td>1.000000e+00</td>\n",
       "      <td>1.000000e+00</td>\n",
       "      <td>1.000000e+00</td>\n",
       "      <td>1.282400e+04</td>\n",
       "      <td>1.628266e+08</td>\n",
       "      <td>9.480000e+03</td>\n",
       "      <td>210555712.0</td>\n",
       "      <td>6.967000e+03</td>\n",
       "      <td>7.595500e+03</td>\n",
       "      <td>1.523495e+02</td>\n",
       "      <td>3.100643e+05</td>\n",
       "      <td>3.000135e+03</td>\n",
       "    </tr>\n",
       "  </tbody>\n",
       "</table>\n",
       "</div>"
      ],
      "text/plain": [
       "               awei          blue          dbsi           evi         green  \\\n",
       "count  1.205604e+08  1.205604e+08  1.205526e+08  1.205604e+08  1.205604e+08   \n",
       "mean  -4.462875e+03  5.428680e+02 -2.210384e-01 -1.576493e+00  7.553598e+02   \n",
       "std    3.081942e+03  4.469239e+02  1.846113e-01  1.832828e+03  5.778926e+02   \n",
       "min   -3.521700e+04  0.000000e+00 -1.795745e+00 -3.300000e+05  0.000000e+00   \n",
       "25%   -6.585500e+03  3.080000e+02 -3.699685e-01  4.027149e-01  4.360000e+02   \n",
       "50%   -5.382500e+03  3.940000e+02 -2.988851e-01  1.979400e+00  6.060000e+02   \n",
       "75%   -3.175250e+03  5.780000e+02 -1.045573e-01  2.607357e+00  8.500000e+02   \n",
       "max    1.587900e+04  8.888000e+03  2.000000e+00  3.300000e+05  9.192000e+03   \n",
       "\n",
       "              kndvi         mndmi          ndbi          ndpi          ndvi  \\\n",
       "count  1.205526e+08  1.205599e+08  1.205599e+08  1.205599e+08  1.205526e+08   \n",
       "mean   3.640226e-01 -2.314374e-01 -2.279930e-01  2.314374e-01  4.524686e-01   \n",
       "std    2.637890e-01  3.687679e-01  1.881849e-01  3.687679e-01  3.733466e-01   \n",
       "min    0.000000e+00 -1.000000e+00 -1.000000e+00 -1.000000e+00 -1.000000e+00   \n",
       "25%    9.751995e-02 -4.959538e-01 -4.204994e-01  2.689981e-01  1.186703e-01   \n",
       "50%    4.200827e-01 -4.198773e-01 -2.761240e-01  4.198773e-01  6.567817e-01   \n",
       "75%    6.038793e-01 -2.689981e-01 -5.230958e-02  4.959538e-01  8.344371e-01   \n",
       "max    7.615942e-01  1.000000e+00  1.000000e+00  1.000000e+00  1.000000e+00   \n",
       "\n",
       "               ndwi           nir         osavi           red         savi  \\\n",
       "count  1.205594e+08  1.205604e+08  1.205604e+08  1.205604e+08  120560400.0   \n",
       "mean  -3.725668e-01  2.758642e+03  1.017850e+07  6.854184e+02   13162852.0   \n",
       "std    3.731667e-01  1.560464e+03  8.088852e+06  7.222431e+02   10552574.0   \n",
       "min   -1.000000e+00  0.000000e+00 -4.570902e+07  0.000000e+00  -59108540.0   \n",
       "25%   -7.393768e-01  2.210000e+03  2.469097e+06  2.400000e+02    3193038.0   \n",
       "50%   -6.049896e-01  3.124000e+03  9.880042e+06  4.100000e+02   12777041.0   \n",
       "75%   -2.162417e-01  3.764000e+03  1.600539e+07  7.970000e+02   20698330.0   \n",
       "max    1.000000e+00  1.282400e+04  1.628266e+08  9.480000e+03  210555712.0   \n",
       "\n",
       "              str11         str12            VH         VV-VH            VV  \n",
       "count  1.205604e+08  1.205604e+08  1.205604e+08  1.205604e+08  1.205604e+08  \n",
       "mean   8.236735e+02  5.634774e+02  1.686124e-02  2.518618e+01  9.104492e-02  \n",
       "std    5.735591e+02  5.128111e+02  4.054161e-02  1.119266e+02  7.103187e-01  \n",
       "min    0.000000e+00  0.000000e+00  1.644899e-07  6.770266e-04  9.349317e-07  \n",
       "25%    6.405004e+02  3.205008e+02  5.047485e-03  2.996706e+00  2.341818e-02  \n",
       "50%    8.040003e+02  4.400006e+02  1.307114e-02  5.158920e+00  6.121234e-02  \n",
       "75%    1.028000e+03  6.500004e+02  2.353029e-02  9.832112e+00  1.141939e-01  \n",
       "max    6.967000e+03  7.595500e+03  1.523495e+02  3.100643e+05  3.000135e+03  "
      ]
     },
     "execution_count": 10,
     "metadata": {},
     "output_type": "execute_result"
    }
   ],
   "source": [
    "df.describe()"
   ]
  },
  {
   "cell_type": "code",
   "execution_count": 11,
   "id": "1852880a-85eb-4b6a-b20c-6ddb0099f1a7",
   "metadata": {
    "tags": []
   },
   "outputs": [
    {
     "data": {
      "text/plain": [
       "0"
      ]
     },
     "execution_count": 11,
     "metadata": {},
     "output_type": "execute_result"
    }
   ],
   "source": [
    "np.isinf(df).values.sum() "
   ]
  },
  {
   "cell_type": "code",
   "execution_count": 12,
   "id": "d3aea05a-666e-4459-b7c8-fbd01da2a7aa",
   "metadata": {
    "tags": []
   },
   "outputs": [
    {
     "data": {
      "text/plain": [
       "awei        0\n",
       "blue        0\n",
       "dbsi     7819\n",
       "evi         6\n",
       "green       0\n",
       "kndvi    7819\n",
       "mndmi     512\n",
       "ndbi      518\n",
       "ndpi      512\n",
       "ndvi     7819\n",
       "ndwi     1035\n",
       "nir         0\n",
       "osavi       0\n",
       "red         0\n",
       "savi        0\n",
       "str11       0\n",
       "str12       0\n",
       "VH          0\n",
       "VV-VH       0\n",
       "VV          0\n",
       "dtype: int64"
      ]
     },
     "execution_count": 12,
     "metadata": {},
     "output_type": "execute_result"
    }
   ],
   "source": [
    "df.isnull().sum()"
   ]
  },
  {
   "cell_type": "code",
   "execution_count": 5,
   "id": "473688bd-3315-4ec4-bd17-9a2c036a2f33",
   "metadata": {},
   "outputs": [],
   "source": [
    "# Replacing the nan to zero\n",
    "df.replace(np.nan, 0, inplace=True)"
   ]
  },
  {
   "cell_type": "markdown",
   "id": "f45bf92b-b6e2-4605-ba16-308f8e02e280",
   "metadata": {},
   "source": [
    "# Data Preparation for Model Building"
   ]
  },
  {
   "cell_type": "code",
   "execution_count": 4,
   "id": "e4956c68-856b-4315-b08e-ca3a173ce7e6",
   "metadata": {
    "tags": []
   },
   "outputs": [],
   "source": [
    "import warnings\n",
    "warnings.filterwarnings(\"ignore\")"
   ]
  },
  {
   "cell_type": "code",
   "execution_count": 5,
   "id": "2205814d-da22-45f7-bb3a-5eec2bc29e5b",
   "metadata": {
    "tags": []
   },
   "outputs": [
    {
     "name": "stdout",
     "output_type": "stream",
     "text": [
      "(120560400, 24)\n"
     ]
    }
   ],
   "source": [
    "# Creating training and test sets\n",
    "# Splitting the data into train and test\n",
    "X = df.iloc[:, :]\n",
    "\n",
    "# Load the scaler object\n",
    "with open('models/CC/scaler.pkl', 'rb') as f:\n",
    "    scaler = pickle.load(f)\n",
    "\n",
    "# Transform the 2023 data using the loaded scaler\n",
    "X_scaled = scaler.transform(X)\n",
    "\n",
    "print(X_scaled.shape)"
   ]
  },
  {
   "cell_type": "code",
   "execution_count": 8,
   "id": "8a39c83f-4f61-4089-b019-46a5176bbd3c",
   "metadata": {},
   "outputs": [
    {
     "data": {
      "text/plain": [
       "dtype('float32')"
      ]
     },
     "execution_count": 8,
     "metadata": {},
     "output_type": "execute_result"
    }
   ],
   "source": [
    "X_scaled.dtype"
   ]
  },
  {
   "cell_type": "code",
   "execution_count": 6,
   "id": "bd21f773-b011-4981-9546-e46475cae1a5",
   "metadata": {},
   "outputs": [
    {
     "data": {
      "text/plain": [
       "0"
      ]
     },
     "execution_count": 6,
     "metadata": {},
     "output_type": "execute_result"
    }
   ],
   "source": [
    "import gc\n",
    "del df\n",
    "del scaler\n",
    "gc.collect()"
   ]
  },
  {
   "cell_type": "markdown",
   "id": "47678e85-5e2e-4be5-8a3d-924e01b15272",
   "metadata": {},
   "source": [
    "## Classifiers"
   ]
  },
  {
   "cell_type": "code",
   "execution_count": 14,
   "id": "fcb2c2c1-861b-4700-a539-29cd5a0be165",
   "metadata": {},
   "outputs": [],
   "source": [
    "# Copy the profile of sentinel-2 band\n",
    "with rasterio.open(\"LU/2023-08-06/blue_2023-08-06.tif\") as src:\n",
    "    out_profile = src.profile.copy()"
   ]
  },
  {
   "cell_type": "code",
   "execution_count": 11,
   "id": "13e3b1a1-0152-4b2d-ac6f-751fff20359c",
   "metadata": {
    "tags": []
   },
   "outputs": [
    {
     "data": {
      "text/plain": [
       "['Cultivated_area',\n",
       " 'Trees_palms',\n",
       " 'Buildings',\n",
       " 'Roads',\n",
       " 'Water_bodies',\n",
       " 'Aqua_culture']"
      ]
     },
     "execution_count": 11,
     "metadata": {},
     "output_type": "execute_result"
    }
   ],
   "source": [
    "#LU = df.class.unique()\n",
    "CC = ['Maize', 'Rice', 'Other']\n",
    "CC"
   ]
  },
  {
   "cell_type": "markdown",
   "id": "ad410421-6bff-4e8d-b68e-b945c618c29b",
   "metadata": {},
   "source": [
    "### KNeighborsClassifier"
   ]
  },
  {
   "cell_type": "code",
   "execution_count": 9,
   "id": "c70cf974-d7a2-472f-8573-5dee1981570b",
   "metadata": {},
   "outputs": [],
   "source": [
    "# Load saved model\n",
    "pickled_knn_model = pickle.load(open('models/CC/knn_cv.pkl', 'rb'))"
   ]
  },
  {
   "cell_type": "code",
   "execution_count": null,
   "id": "eeece1ff-37c1-4cb5-aaef-9db4459a1b6d",
   "metadata": {},
   "outputs": [
    {
     "name": "stdout",
     "output_type": "stream",
     "text": [
      "2024-06-11 18:47:38.904606\n"
     ]
    }
   ],
   "source": [
    "print(datetime.datetime.now())\n",
    "y_pred_knn = pickled_knn_model.predict(X_scaled)\n",
    "print(datetime.datetime.now())"
   ]
  },
  {
   "cell_type": "code",
   "execution_count": 9,
   "id": "23872dd6-296c-4033-909c-17745bc62a25",
   "metadata": {},
   "outputs": [
    {
     "data": {
      "text/plain": [
       "array([1., 2., 2., ..., 1., 1., 1.])"
      ]
     },
     "execution_count": 9,
     "metadata": {},
     "output_type": "execute_result"
    }
   ],
   "source": [
    "y_pred_knn"
   ]
  },
  {
   "cell_type": "code",
   "execution_count": 10,
   "id": "2236df64-2574-4213-9ece-f671c66a530e",
   "metadata": {},
   "outputs": [],
   "source": [
    "# reshape to 2d\n",
    "y_pred_knn_2d = np.reshape(y_pred_knn,(10980,10980))"
   ]
  },
  {
   "cell_type": "code",
   "execution_count": 11,
   "id": "201212c9-ccd1-45c7-8da9-d0bae6175745",
   "metadata": {},
   "outputs": [
    {
     "data": {
      "text/plain": [
       "array([[1., 2., 2., ..., 1., 1., 3.],\n",
       "       [3., 2., 2., ..., 1., 1., 2.],\n",
       "       [1., 2., 2., ..., 2., 3., 1.],\n",
       "       ...,\n",
       "       [1., 1., 1., ..., 1., 1., 1.],\n",
       "       [1., 1., 2., ..., 1., 1., 2.],\n",
       "       [1., 1., 1., ..., 1., 1., 1.]])"
      ]
     },
     "execution_count": 11,
     "metadata": {},
     "output_type": "execute_result"
    }
   ],
   "source": [
    "y_pred_knn_2d"
   ]
  },
  {
   "cell_type": "code",
   "execution_count": 13,
   "id": "3de09c21-a9fd-4ac3-82ea-c9f2b8219d0e",
   "metadata": {},
   "outputs": [],
   "source": [
    "# Save the prediction result as a geotif file\n",
    "with rasterio.open(\"images/CC/predict/knn_20230622.tif\", 'w', **out_profile) as dst:\n",
    "    dst.write(y_pred_knn_2d, indexes=1)"
   ]
  },
  {
   "cell_type": "markdown",
   "id": "efc206cf-0570-4e9a-9903-0ae14a5c25fd",
   "metadata": {},
   "source": [
    "### DecisionTreeClassifier"
   ]
  },
  {
   "cell_type": "code",
   "execution_count": 17,
   "id": "cd96928e-197a-41de-9106-597ea540047d",
   "metadata": {},
   "outputs": [],
   "source": [
    "# Load saved model\n",
    "pickled_dt_model = pickle.load(open('models/CC/dt_cv.pkl', 'rb'))"
   ]
  },
  {
   "cell_type": "code",
   "execution_count": 18,
   "id": "4b9d8692-f55c-4d27-a3ff-0b59549352da",
   "metadata": {},
   "outputs": [
    {
     "name": "stdout",
     "output_type": "stream",
     "text": [
      "2024-06-26 23:17:47.183300\n",
      "2024-06-26 23:18:08.634896\n"
     ]
    }
   ],
   "source": [
    "print(datetime.datetime.now())\n",
    "y_pred_dt = pickled_dt_model.predict(X_scaled)\n",
    "print(datetime.datetime.now())"
   ]
  },
  {
   "cell_type": "code",
   "execution_count": 19,
   "id": "4b03ee1c-4780-4c81-85b1-ce149a9a4a1b",
   "metadata": {},
   "outputs": [
    {
     "data": {
      "text/plain": [
       "array([1., 1., 1., ..., 1., 1., 1.])"
      ]
     },
     "execution_count": 19,
     "metadata": {},
     "output_type": "execute_result"
    }
   ],
   "source": [
    "y_pred_dt"
   ]
  },
  {
   "cell_type": "code",
   "execution_count": 20,
   "id": "d69d664b-2442-4dd7-85a4-2bbe6bdb2696",
   "metadata": {},
   "outputs": [],
   "source": [
    "# reshape to 2d\n",
    "y_pred_dt_2d = np.reshape(y_pred_dt,(10980,10980))"
   ]
  },
  {
   "cell_type": "code",
   "execution_count": 21,
   "id": "59781afd-9b60-4a66-8e6e-535fd134251e",
   "metadata": {},
   "outputs": [
    {
     "data": {
      "text/plain": [
       "array([[1., 1., 1., ..., 3., 3., 3.],\n",
       "       [1., 3., 3., ..., 3., 3., 3.],\n",
       "       [3., 1., 1., ..., 3., 3., 3.],\n",
       "       ...,\n",
       "       [1., 1., 1., ..., 1., 1., 1.],\n",
       "       [1., 1., 1., ..., 1., 1., 1.],\n",
       "       [1., 1., 1., ..., 1., 1., 1.]])"
      ]
     },
     "execution_count": 21,
     "metadata": {},
     "output_type": "execute_result"
    }
   ],
   "source": [
    "y_pred_dt_2d"
   ]
  },
  {
   "cell_type": "code",
   "execution_count": 22,
   "id": "12714a89-5b03-49d1-aceb-375b235ed938",
   "metadata": {},
   "outputs": [],
   "source": [
    "# Save the prediction result as a geotif file\n",
    "with rasterio.open(\"images/CC/predict/dt_20230727.tif\", 'w', **out_profile) as dst:\n",
    "    dst.write(y_pred_dt_2d, indexes=1)"
   ]
  },
  {
   "cell_type": "code",
   "execution_count": 23,
   "id": "d3a7d472-b70d-45b2-b996-480119056046",
   "metadata": {},
   "outputs": [],
   "source": [
    "del pickled_dt_model\n",
    "del y_pred_dt\n",
    "del y_pred_dt_2d"
   ]
  },
  {
   "cell_type": "markdown",
   "id": "587f92a7-d7ab-4a42-86e1-9df21e22c989",
   "metadata": {},
   "source": [
    "### RandomForestClassifier"
   ]
  },
  {
   "cell_type": "code",
   "execution_count": 24,
   "id": "e9851f1b-c127-4938-9de9-2eb24c5b8b2d",
   "metadata": {},
   "outputs": [],
   "source": [
    "# Load saved model \n",
    "pickled_rf_cv = pickle.load(open('models/CC/rf_cv.pkl', 'rb'))"
   ]
  },
  {
   "cell_type": "code",
   "execution_count": 25,
   "id": "1af0dad1-ad9d-4046-bbc7-c549ba9254a9",
   "metadata": {},
   "outputs": [
    {
     "name": "stdout",
     "output_type": "stream",
     "text": [
      "2024-06-26 23:18:19.417569\n",
      "2024-06-27 02:19:43.648285\n"
     ]
    }
   ],
   "source": [
    "print(datetime.datetime.now())\n",
    "y_pred_rf = pickled_rf_cv.predict(X_scaled)\n",
    "print(datetime.datetime.now())"
   ]
  },
  {
   "cell_type": "code",
   "execution_count": 26,
   "id": "6e892bfc-0f83-475b-b748-fefa9907f874",
   "metadata": {},
   "outputs": [
    {
     "data": {
      "text/plain": [
       "array([3., 3., 3., ..., 1., 1., 1.])"
      ]
     },
     "execution_count": 26,
     "metadata": {},
     "output_type": "execute_result"
    }
   ],
   "source": [
    "y_pred_rf"
   ]
  },
  {
   "cell_type": "code",
   "execution_count": 27,
   "id": "e7276c4f-b5cc-4395-bf84-a1ac87fed6ce",
   "metadata": {},
   "outputs": [],
   "source": [
    "# reshape to 2d\n",
    "y_pred_rf_2d = np.reshape(y_pred_rf,(10980,10980))"
   ]
  },
  {
   "cell_type": "code",
   "execution_count": 28,
   "id": "fdedca23-edd5-4e55-add2-7be658e50808",
   "metadata": {},
   "outputs": [
    {
     "data": {
      "text/plain": [
       "array([[3., 3., 3., ..., 3., 3., 1.],\n",
       "       [3., 3., 3., ..., 3., 3., 3.],\n",
       "       [3., 3., 3., ..., 3., 3., 3.],\n",
       "       ...,\n",
       "       [1., 1., 3., ..., 3., 1., 1.],\n",
       "       [1., 1., 3., ..., 1., 1., 1.],\n",
       "       [1., 3., 3., ..., 1., 1., 1.]])"
      ]
     },
     "execution_count": 28,
     "metadata": {},
     "output_type": "execute_result"
    }
   ],
   "source": [
    "y_pred_rf_2d"
   ]
  },
  {
   "cell_type": "code",
   "execution_count": 29,
   "id": "af73b4b4-a34f-4edf-9c55-8553ec534471",
   "metadata": {},
   "outputs": [],
   "source": [
    "# Save the prediction result as a geotif file\n",
    "with rasterio.open(\"images/CC/predict/rf_20230727.tif\", 'w', **out_profile) as dst:\n",
    "    dst.write(y_pred_rf_2d, indexes=1)"
   ]
  },
  {
   "cell_type": "code",
   "execution_count": 30,
   "id": "61d39519-b60d-44e5-9b1a-acabaec13345",
   "metadata": {},
   "outputs": [],
   "source": [
    "del pickled_rf_cv"
   ]
  },
  {
   "cell_type": "markdown",
   "id": "ee11d87e-5fbd-4c40-bdab-e4e2d8acc97e",
   "metadata": {},
   "source": [
    "### XGBoost (extreme Gradient Boosting) Classifier"
   ]
  },
  {
   "cell_type": "code",
   "execution_count": 7,
   "id": "e2093bcc-f505-4496-88a0-751a22831cdb",
   "metadata": {},
   "outputs": [],
   "source": [
    "# Load saved model \n",
    "pickled_xgb_cv = pickle.load(open('models/CC/xgb_cv.pkl', 'rb'))"
   ]
  },
  {
   "cell_type": "code",
   "execution_count": 8,
   "id": "194ced3d-b792-45f0-af53-f0509dfc370c",
   "metadata": {},
   "outputs": [
    {
     "name": "stdout",
     "output_type": "stream",
     "text": [
      "2024-06-26 23:13:19.155095\n",
      "2024-06-26 23:17:14.128185\n"
     ]
    }
   ],
   "source": [
    "print(datetime.datetime.now())\n",
    "y_pred = pickled_xgb_cv.predict(X_scaled)\n",
    "print(datetime.datetime.now())"
   ]
  },
  {
   "cell_type": "code",
   "execution_count": 9,
   "id": "9ce4dfe6-bcb1-446f-9f6e-c4e7c62e1b23",
   "metadata": {},
   "outputs": [
    {
     "data": {
      "text/plain": [
       "array([2, 2, 2, ..., 0, 0, 0], dtype=int64)"
      ]
     },
     "execution_count": 9,
     "metadata": {},
     "output_type": "execute_result"
    }
   ],
   "source": [
    "y_pred"
   ]
  },
  {
   "cell_type": "code",
   "execution_count": 10,
   "id": "68ded944-8791-4e89-a823-878822544d4b",
   "metadata": {},
   "outputs": [],
   "source": [
    "# reshape to 2d\n",
    "y_pred_2d = np.reshape(y_pred,(10980,10980))"
   ]
  },
  {
   "cell_type": "code",
   "execution_count": 11,
   "id": "0275a2d8-9de4-4dcd-9cba-e663b07c750d",
   "metadata": {},
   "outputs": [
    {
     "data": {
      "text/plain": [
       "array([[2, 2, 2, ..., 2, 2, 2],\n",
       "       [2, 2, 2, ..., 2, 2, 2],\n",
       "       [2, 2, 0, ..., 2, 2, 2],\n",
       "       ...,\n",
       "       [0, 0, 2, ..., 2, 0, 0],\n",
       "       [0, 0, 2, ..., 0, 0, 0],\n",
       "       [0, 2, 2, ..., 0, 0, 0]], dtype=int64)"
      ]
     },
     "execution_count": 11,
     "metadata": {},
     "output_type": "execute_result"
    }
   ],
   "source": [
    "y_pred_2d"
   ]
  },
  {
   "cell_type": "code",
   "execution_count": 12,
   "id": "ec9c1b33-a441-4e37-8b02-761c34c32401",
   "metadata": {},
   "outputs": [],
   "source": [
    "y_pred_2d_mod = y_pred_2d + 1"
   ]
  },
  {
   "cell_type": "code",
   "execution_count": 13,
   "id": "ac322456-5026-473e-9560-5fe08b770f65",
   "metadata": {
    "tags": []
   },
   "outputs": [
    {
     "data": {
      "text/plain": [
       "array([[3, 3, 3, ..., 3, 3, 3],\n",
       "       [3, 3, 3, ..., 3, 3, 3],\n",
       "       [3, 3, 1, ..., 3, 3, 3],\n",
       "       ...,\n",
       "       [1, 1, 3, ..., 3, 1, 1],\n",
       "       [1, 1, 3, ..., 1, 1, 1],\n",
       "       [1, 3, 3, ..., 1, 1, 1]], dtype=int64)"
      ]
     },
     "execution_count": 13,
     "metadata": {},
     "output_type": "execute_result"
    }
   ],
   "source": [
    "y_pred_2d_mod"
   ]
  },
  {
   "cell_type": "code",
   "execution_count": 15,
   "id": "682f337f-efbc-43bc-b037-623e7cbb6856",
   "metadata": {},
   "outputs": [],
   "source": [
    "# Save the prediction result as a geotif file\n",
    "with rasterio.open(\"images/CC/predict/xgb_20230727.tif\", 'w', **out_profile) as dst:\n",
    "    dst.write(y_pred_2d_mod, indexes=1)"
   ]
  },
  {
   "cell_type": "code",
   "execution_count": 16,
   "id": "95915d1e-fac3-416e-8d51-79e4f4a908f7",
   "metadata": {},
   "outputs": [],
   "source": [
    "del pickled_xgb_cv\n",
    "del y_pred\n",
    "del y_pred_2d\n",
    "del y_pred_2d_mod"
   ]
  },
  {
   "cell_type": "markdown",
   "id": "717a6478-2f7c-40b0-8a96-4d7bf9930a3d",
   "metadata": {},
   "source": [
    "### SVM RBF"
   ]
  },
  {
   "cell_type": "code",
   "execution_count": 17,
   "id": "0abc17f2-9200-42aa-b40b-32d7b8cf79b1",
   "metadata": {},
   "outputs": [
    {
     "data": {
      "text/plain": [
       "<AddedDllDirectory('C:\\\\Program Files\\\\NVIDIA GPU Computing Toolkit\\\\CUDA\\\\v12.3\\\\bin')>"
      ]
     },
     "execution_count": 17,
     "metadata": {},
     "output_type": "execute_result"
    }
   ],
   "source": [
    "import os\n",
    "os.add_dll_directory(\"C:\\\\Program Files\\\\NVIDIA GPU Computing Toolkit\\\\CUDA\\\\v12.3\\\\bin\")"
   ]
  },
  {
   "cell_type": "code",
   "execution_count": 18,
   "id": "88071f6b-89d3-4180-bbc9-25ae4d439bda",
   "metadata": {},
   "outputs": [],
   "source": [
    "import thundersvm\n",
    "from thundersvm import SVC"
   ]
  },
  {
   "cell_type": "code",
   "execution_count": 19,
   "id": "5b584613-56a8-4f3b-b844-3bb26de87742",
   "metadata": {},
   "outputs": [],
   "source": [
    "# Load saved model \n",
    "pickled_svc_cv = pickle.load(open('models/CC/svc_rbf_cv.pkl', 'rb'))"
   ]
  },
  {
   "cell_type": "code",
   "execution_count": null,
   "id": "ff83af75-eda6-4225-a02f-0c68cf21c6ee",
   "metadata": {},
   "outputs": [
    {
     "name": "stdout",
     "output_type": "stream",
     "text": [
      "2024-06-08 19:15:03.609216\n"
     ]
    }
   ],
   "source": [
    "# Evaluate the model on the entire dataset\n",
    "print(datetime.datetime.now())\n",
    "y_pred_svc = pickled_svc_cv.predict(X_scaled)\n",
    "print(datetime.datetime.now())"
   ]
  },
  {
   "cell_type": "code",
   "execution_count": 11,
   "id": "6aa3a4e5-e814-4605-8227-8e36508e822d",
   "metadata": {
    "collapsed": true,
    "jupyter": {
     "outputs_hidden": true
    }
   },
   "outputs": [
    {
     "ename": "OSError",
     "evalue": "[WinError -529697949] Windows Error 0xe06d7363",
     "output_type": "error",
     "traceback": [
      "\u001b[1;31m---------------------------------------------------------------------------\u001b[0m",
      "\u001b[1;31mOSError\u001b[0m                                   Traceback (most recent call last)",
      "Cell \u001b[1;32mIn[11], line 2\u001b[0m\n\u001b[0;32m      1\u001b[0m \u001b[38;5;28;01mwith\u001b[39;00m \u001b[38;5;28mopen\u001b[39m(\u001b[38;5;124m'\u001b[39m\u001b[38;5;124mmodels/LU/svl_model.pkl\u001b[39m\u001b[38;5;124m'\u001b[39m, \u001b[38;5;124m'\u001b[39m\u001b[38;5;124mrb\u001b[39m\u001b[38;5;124m'\u001b[39m) \u001b[38;5;28;01mas\u001b[39;00m f:\n\u001b[1;32m----> 2\u001b[0m     pickled_model \u001b[38;5;241m=\u001b[39m \u001b[43mpickle\u001b[49m\u001b[38;5;241;43m.\u001b[39;49m\u001b[43mload\u001b[49m\u001b[43m(\u001b[49m\u001b[43mf\u001b[49m\u001b[43m)\u001b[49m\n\u001b[0;32m      3\u001b[0m \u001b[38;5;66;03m#pickled_model = pickle.load(open('models/LU/svl_model.pkl', 'rb'))\u001b[39;00m\n\u001b[0;32m      4\u001b[0m \u001b[38;5;28mprint\u001b[39m(datetime\u001b[38;5;241m.\u001b[39mdatetime\u001b[38;5;241m.\u001b[39mnow())\n",
      "File \u001b[1;32mC:\\ProgramData\\Anaconda3\\newenv\\lib\\thundersvm\\thundersvm.py:511\u001b[0m, in \u001b[0;36mSvmModel.__setstate__\u001b[1;34m(self, state)\u001b[0m\n\u001b[0;32m    509\u001b[0m \u001b[38;5;28mself\u001b[39m\u001b[38;5;241m.\u001b[39m\u001b[38;5;18m__dict__\u001b[39m\u001b[38;5;241m.\u001b[39mupdate(state)\n\u001b[0;32m    510\u001b[0m \u001b[38;5;28;01mif\u001b[39;00m \u001b[38;5;124m'\u001b[39m\u001b[38;5;124m_saved_as_str\u001b[39m\u001b[38;5;124m'\u001b[39m \u001b[38;5;129;01min\u001b[39;00m state:\n\u001b[1;32m--> 511\u001b[0m   \u001b[38;5;28;43mself\u001b[39;49m\u001b[38;5;241;43m.\u001b[39;49m\u001b[43mload_from_string\u001b[49m\u001b[43m(\u001b[49m\u001b[43mstate\u001b[49m\u001b[43m[\u001b[49m\u001b[38;5;124;43m'\u001b[39;49m\u001b[38;5;124;43m_saved_as_str\u001b[39;49m\u001b[38;5;124;43m'\u001b[39;49m\u001b[43m]\u001b[49m\u001b[43m)\u001b[49m\n",
      "File \u001b[1;32mC:\\ProgramData\\Anaconda3\\newenv\\lib\\thundersvm\\thundersvm.py:439\u001b[0m, in \u001b[0;36mSvmModel.load_from_string\u001b[1;34m(self, data)\u001b[0m\n\u001b[0;32m    437\u001b[0m     \u001b[38;5;28;01mif\u001b[39;00m \u001b[38;5;28mself\u001b[39m\u001b[38;5;241m.\u001b[39mmax_mem_size \u001b[38;5;241m!=\u001b[39m \u001b[38;5;241m-\u001b[39m\u001b[38;5;241m1\u001b[39m:\n\u001b[0;32m    438\u001b[0m         thundersvm\u001b[38;5;241m.\u001b[39mset_memory_size(c_void_p(\u001b[38;5;28mself\u001b[39m\u001b[38;5;241m.\u001b[39mmodel), \u001b[38;5;28mself\u001b[39m\u001b[38;5;241m.\u001b[39mmax_mem_size)\n\u001b[1;32m--> 439\u001b[0m \u001b[43mthundersvm\u001b[49m\u001b[38;5;241;43m.\u001b[39;49m\u001b[43mload_from_string_scikit\u001b[49m\u001b[43m(\u001b[49m\u001b[43mc_void_p\u001b[49m\u001b[43m(\u001b[49m\u001b[38;5;28;43mself\u001b[39;49m\u001b[38;5;241;43m.\u001b[39;49m\u001b[43mmodel\u001b[49m\u001b[43m)\u001b[49m\u001b[43m,\u001b[49m\u001b[43m \u001b[49m\u001b[43mdata\u001b[49m\u001b[43m)\u001b[49m\n\u001b[0;32m    440\u001b[0m \u001b[38;5;28mself\u001b[39m\u001b[38;5;241m.\u001b[39m_post_load_init()\n",
      "\u001b[1;31mOSError\u001b[0m: [WinError -529697949] Windows Error 0xe06d7363"
     ]
    }
   ],
   "source": [
    "y_pred_svc"
   ]
  },
  {
   "cell_type": "code",
   "execution_count": null,
   "id": "a23fc9e9-52fe-469c-8c33-42cc64d30e9f",
   "metadata": {},
   "outputs": [],
   "source": [
    "# reshape to 2d\n",
    "y_pred_svc_2d = np.reshape(y_pred_svc,(10980,10980))"
   ]
  },
  {
   "cell_type": "code",
   "execution_count": null,
   "id": "c15f4fd4-bc12-4376-8e88-620e5f559b56",
   "metadata": {
    "tags": []
   },
   "outputs": [],
   "source": [
    "# Save the prediction result as a geotif file\n",
    "with rasterio.open(\"images/CC/predict/svc_20230622.tif\", 'w', **out_profile) as dst:\n",
    "    dst.write(y_pred_svc_2d, indexes=1)"
   ]
  },
  {
   "cell_type": "markdown",
   "id": "eb64bed5-36c9-48e3-9850-b4f5b33268df",
   "metadata": {},
   "source": [
    "### LSTM"
   ]
  },
  {
   "cell_type": "code",
   "execution_count": 13,
   "id": "9f27b768-c89a-406a-822e-186919982a2d",
   "metadata": {},
   "outputs": [],
   "source": [
    "def unpack(model, training_config, weights):\n",
    "    restored_model = deserialize(model)\n",
    "    if training_config is not None:\n",
    "        restored_model.compile(\n",
    "            **saving_utils.compile_args_from_training_config(\n",
    "                training_config\n",
    "            )\n",
    "        )\n",
    "    restored_model.set_weights(weights)\n",
    "    return restored_model\n",
    "\n",
    "# Hotfix function\n",
    "def make_keras_picklable():\n",
    "\n",
    "    def __reduce__(self):\n",
    "        model_metadata = saving_utils.model_metadata(self)\n",
    "        training_config = model_metadata.get(\"training_config\", None)\n",
    "        model = serialize(self)\n",
    "        weights = self.get_weights()\n",
    "        return (unpack, (model, training_config, weights))\n",
    "\n",
    "    cls = Model\n",
    "    cls.__reduce__ = __reduce__\n",
    "\n",
    "# Run the function\n",
    "make_keras_picklable()"
   ]
  },
  {
   "cell_type": "code",
   "execution_count": 14,
   "id": "87c5a3b1-1b38-462d-a36d-f0ec938a5238",
   "metadata": {},
   "outputs": [],
   "source": [
    "#Load the saved model\n",
    "pickled_lstm_model = pickle.load(open('models/CC/lstm_model.pkl', 'rb'))"
   ]
  },
  {
   "cell_type": "code",
   "execution_count": 15,
   "id": "0612f5f5-725b-489a-9c75-b377cb0dfbb1",
   "metadata": {
    "tags": []
   },
   "outputs": [],
   "source": [
    "# Reshape the X shape to fit in LSTM (add one dimension)\n",
    "X_scaled_reshaped = X_scaled.reshape((X_scaled.shape[0], X_scaled.shape[1], 1))"
   ]
  },
  {
   "cell_type": "code",
   "execution_count": 16,
   "id": "44c95e28-add2-4e14-8d53-fd676a2f184c",
   "metadata": {},
   "outputs": [
    {
     "name": "stdout",
     "output_type": "stream",
     "text": [
      "(120560400, 20, 1)\n"
     ]
    }
   ],
   "source": [
    "print(X_scaled_reshaped.shape)"
   ]
  },
  {
   "cell_type": "code",
   "execution_count": null,
   "id": "261473d9-3153-457c-b5e6-3d884547412c",
   "metadata": {},
   "outputs": [
    {
     "name": "stdout",
     "output_type": "stream",
     "text": [
      "2024-06-07 14:56:50.004398\n"
     ]
    }
   ],
   "source": [
    "print(datetime.datetime.now())\n",
    "y_pred_lstm = np.argmax(pickled_lstm_model.predict(X_scaled_reshaped), axis=-1)\n",
    "print(datetime.datetime.now())"
   ]
  },
  {
   "cell_type": "code",
   "execution_count": 18,
   "id": "44f967c0-580f-4c34-8f18-c0ac7bc7166c",
   "metadata": {
    "collapsed": true,
    "jupyter": {
     "outputs_hidden": true
    },
    "scrolled": true
   },
   "outputs": [
    {
     "name": "stdout",
     "output_type": "stream",
     "text": [
      "2024-03-03 10:06:55.018031\n",
      "Epoch 1/100\n",
      "3727/3727 [==============================] - 106791s 29s/step - loss: 0.7491 - accuracy: 0.7073 - val_loss: 0.6010 - val_accuracy: 0.7674\n",
      "Epoch 2/100\n",
      "3727/3727 [==============================] - 16609s 4s/step - loss: 0.5573 - accuracy: 0.7914 - val_loss: 0.4565 - val_accuracy: 0.8323\n",
      "Epoch 3/100\n",
      "3727/3727 [==============================] - 16357s 4s/step - loss: 0.4852 - accuracy: 0.8227 - val_loss: 0.4514 - val_accuracy: 0.8332\n",
      "Epoch 4/100\n",
      "3727/3727 [==============================] - 16201s 4s/step - loss: 0.4668 - accuracy: 0.8298 - val_loss: 0.4327 - val_accuracy: 0.8411\n",
      "Epoch 5/100\n",
      "3727/3727 [==============================] - 18723s 5s/step - loss: 0.4568 - accuracy: 0.8336 - val_loss: 0.4241 - val_accuracy: 0.8440\n",
      "Epoch 6/100\n",
      "3727/3727 [==============================] - 36917s 10s/step - loss: 0.4491 - accuracy: 0.8366 - val_loss: 0.4180 - val_accuracy: 0.8463\n",
      "Epoch 7/100\n",
      "3727/3727 [==============================] - 16238s 4s/step - loss: 0.4422 - accuracy: 0.8392 - val_loss: 0.4117 - val_accuracy: 0.8491\n",
      "Epoch 8/100\n",
      "3727/3727 [==============================] - 16219s 4s/step - loss: 0.4357 - accuracy: 0.8418 - val_loss: 0.4050 - val_accuracy: 0.8516\n",
      "Epoch 9/100\n",
      "3727/3727 [==============================] - 16250s 4s/step - loss: 0.4298 - accuracy: 0.8440 - val_loss: 0.4013 - val_accuracy: 0.8527\n",
      "Epoch 10/100\n",
      "3727/3727 [==============================] - 17728s 5s/step - loss: 0.4243 - accuracy: 0.8461 - val_loss: 0.3928 - val_accuracy: 0.8561\n",
      "Epoch 11/100\n",
      "3727/3727 [==============================] - 14998s 4s/step - loss: 0.4196 - accuracy: 0.8479 - val_loss: 0.3947 - val_accuracy: 0.8552\n",
      "Epoch 12/100\n",
      "3727/3727 [==============================] - 14876s 4s/step - loss: 0.4128 - accuracy: 0.8506 - val_loss: 0.3745 - val_accuracy: 0.8634\n",
      "Epoch 13/100\n",
      "3727/3727 [==============================] - 14768s 4s/step - loss: 0.4029 - accuracy: 0.8543 - val_loss: 0.3668 - val_accuracy: 0.8664\n",
      "Epoch 14/100\n",
      "3727/3727 [==============================] - 16861s 5s/step - loss: 0.3959 - accuracy: 0.8568 - val_loss: 0.3676 - val_accuracy: 0.8658\n",
      "Epoch 15/100\n",
      "3727/3727 [==============================] - 16764s 4s/step - loss: 0.3912 - accuracy: 0.8585 - val_loss: 0.3645 - val_accuracy: 0.8661\n",
      "Epoch 16/100\n",
      "3727/3727 [==============================] - 16209s 4s/step - loss: 0.3873 - accuracy: 0.8599 - val_loss: 0.3588 - val_accuracy: 0.8688\n",
      "Epoch 17/100\n",
      "3727/3727 [==============================] - 15138s 4s/step - loss: 0.3843 - accuracy: 0.8610 - val_loss: 0.3583 - val_accuracy: 0.8696\n",
      "Epoch 18/100\n",
      "3727/3727 [==============================] - 14953s 4s/step - loss: 0.3816 - accuracy: 0.8619 - val_loss: 0.3622 - val_accuracy: 0.8675\n",
      "Epoch 19/100\n",
      "3727/3727 [==============================] - 15010s 4s/step - loss: 0.3794 - accuracy: 0.8628 - val_loss: 0.3561 - val_accuracy: 0.8699\n",
      "Epoch 20/100\n",
      "3727/3727 [==============================] - 19011s 5s/step - loss: 0.3770 - accuracy: 0.8636 - val_loss: 0.3619 - val_accuracy: 0.8673\n",
      "Epoch 21/100\n",
      "3727/3727 [==============================] - 16628s 4s/step - loss: 0.3750 - accuracy: 0.8644 - val_loss: 0.3486 - val_accuracy: 0.8726\n",
      "Epoch 22/100\n",
      "3727/3727 [==============================] - 16362s 4s/step - loss: 0.3725 - accuracy: 0.8653 - val_loss: 0.3458 - val_accuracy: 0.8735\n",
      "Epoch 23/100\n",
      "3727/3727 [==============================] - 16249s 4s/step - loss: 0.3692 - accuracy: 0.8665 - val_loss: 0.3445 - val_accuracy: 0.8738\n",
      "Epoch 24/100\n",
      "3727/3727 [==============================] - 16066s 4s/step - loss: 0.3605 - accuracy: 0.8698 - val_loss: 0.3253 - val_accuracy: 0.8811\n",
      "Epoch 25/100\n",
      "3727/3727 [==============================] - 17840s 5s/step - loss: 0.3477 - accuracy: 0.8746 - val_loss: 0.3203 - val_accuracy: 0.8835\n",
      "Epoch 26/100\n",
      "3727/3727 [==============================] - 16265s 4s/step - loss: 0.3439 - accuracy: 0.8761 - val_loss: 0.3235 - val_accuracy: 0.8819\n",
      "Epoch 27/100\n",
      "3727/3727 [==============================] - 16291s 4s/step - loss: 0.3418 - accuracy: 0.8768 - val_loss: 0.3215 - val_accuracy: 0.8829\n",
      "Epoch 28/100\n",
      "3727/3727 [==============================] - 16329s 4s/step - loss: 0.3399 - accuracy: 0.8774 - val_loss: 0.3198 - val_accuracy: 0.8835\n",
      "Epoch 29/100\n",
      "3727/3727 [==============================] - 16287s 4s/step - loss: 0.3386 - accuracy: 0.8779 - val_loss: 0.3168 - val_accuracy: 0.8844\n",
      "Epoch 30/100\n",
      "3727/3727 [==============================] - 22035s 6s/step - loss: 0.3373 - accuracy: 0.8784 - val_loss: 0.3149 - val_accuracy: 0.8852\n",
      "Epoch 31/100\n",
      "3727/3727 [==============================] - 19806s 5s/step - loss: 0.3363 - accuracy: 0.8787 - val_loss: 0.3157 - val_accuracy: 0.8847\n",
      "Epoch 32/100\n",
      "3727/3727 [==============================] - 16366s 4s/step - loss: 0.3355 - accuracy: 0.8790 - val_loss: 0.3212 - val_accuracy: 0.8828\n",
      "Epoch 33/100\n",
      "3727/3727 [==============================] - 16388s 4s/step - loss: 0.3345 - accuracy: 0.8794 - val_loss: 0.3108 - val_accuracy: 0.8866\n",
      "Epoch 34/100\n",
      "3727/3727 [==============================] - 16340s 4s/step - loss: 0.3335 - accuracy: 0.8797 - val_loss: 0.3122 - val_accuracy: 0.8861\n",
      "Epoch 35/100\n",
      "3727/3727 [==============================] - 20177s 5s/step - loss: 0.3329 - accuracy: 0.8800 - val_loss: 0.3103 - val_accuracy: 0.8869\n",
      "Epoch 36/100\n",
      "3727/3727 [==============================] - 16472s 4s/step - loss: 0.3323 - accuracy: 0.8802 - val_loss: 0.3149 - val_accuracy: 0.8849\n",
      "Epoch 37/100\n",
      "3727/3727 [==============================] - 16281s 4s/step - loss: 0.3317 - accuracy: 0.8803 - val_loss: 0.3102 - val_accuracy: 0.8865\n",
      "Epoch 38/100\n",
      "3727/3727 [==============================] - 17009s 5s/step - loss: 0.3309 - accuracy: 0.8807 - val_loss: 0.3276 - val_accuracy: 0.8801\n",
      "Epoch 39/100\n",
      "3727/3727 [==============================] - 16598s 4s/step - loss: 0.3302 - accuracy: 0.8809 - val_loss: 0.3090 - val_accuracy: 0.8873\n",
      "Epoch 40/100\n",
      "3727/3727 [==============================] - 16686s 4s/step - loss: 0.3297 - accuracy: 0.8811 - val_loss: 0.3141 - val_accuracy: 0.8852\n",
      "Epoch 41/100\n",
      "3727/3727 [==============================] - 16614s 4s/step - loss: 0.3291 - accuracy: 0.8813 - val_loss: 0.3099 - val_accuracy: 0.8870\n",
      "Epoch 42/100\n",
      "3727/3727 [==============================] - 16097s 4s/step - loss: 0.3286 - accuracy: 0.8814 - val_loss: 0.3133 - val_accuracy: 0.8856\n",
      "Epoch 43/100\n",
      "3727/3727 [==============================] - 16242s 4s/step - loss: 0.3280 - accuracy: 0.8816 - val_loss: 0.3078 - val_accuracy: 0.8877\n",
      "Epoch 44/100\n",
      "3727/3727 [==============================] - 16398s 4s/step - loss: 0.3273 - accuracy: 0.8819 - val_loss: 0.3109 - val_accuracy: 0.8862\n",
      "Epoch 45/100\n",
      "3727/3727 [==============================] - 16336s 4s/step - loss: 0.3271 - accuracy: 0.8820 - val_loss: 0.3085 - val_accuracy: 0.8872\n",
      "Epoch 46/100\n",
      "3727/3727 [==============================] - 16412s 4s/step - loss: 0.3265 - accuracy: 0.8821 - val_loss: 0.3068 - val_accuracy: 0.8880\n",
      "Epoch 47/100\n",
      "3727/3727 [==============================] - 16743s 4s/step - loss: 0.3260 - accuracy: 0.8823 - val_loss: 0.3059 - val_accuracy: 0.8880\n",
      "Epoch 48/100\n",
      "3727/3727 [==============================] - 16480s 4s/step - loss: 0.3255 - accuracy: 0.8825 - val_loss: 0.3089 - val_accuracy: 0.8873\n",
      "Epoch 49/100\n",
      "3727/3727 [==============================] - 15949s 4s/step - loss: 0.3253 - accuracy: 0.8826 - val_loss: 0.3042 - val_accuracy: 0.8889\n",
      "Epoch 50/100\n",
      "3727/3727 [==============================] - 16018s 4s/step - loss: 0.3247 - accuracy: 0.8828 - val_loss: 0.3176 - val_accuracy: 0.8840\n",
      "Epoch 51/100\n",
      "3727/3727 [==============================] - 16353s 4s/step - loss: 0.3243 - accuracy: 0.8828 - val_loss: 0.3066 - val_accuracy: 0.8879\n",
      "Epoch 52/100\n",
      "3727/3727 [==============================] - 16384s 4s/step - loss: 0.3238 - accuracy: 0.8830 - val_loss: 0.3037 - val_accuracy: 0.8889\n",
      "Epoch 53/100\n",
      "3727/3727 [==============================] - 16244s 4s/step - loss: 0.3234 - accuracy: 0.8831 - val_loss: 0.3052 - val_accuracy: 0.8883\n",
      "Epoch 54/100\n",
      "3727/3727 [==============================] - 16401s 4s/step - loss: 0.3232 - accuracy: 0.8833 - val_loss: 0.3052 - val_accuracy: 0.8885\n",
      "Epoch 55/100\n",
      "3727/3727 [==============================] - 16261s 4s/step - loss: 0.3228 - accuracy: 0.8834 - val_loss: 0.3042 - val_accuracy: 0.8885\n",
      "Epoch 56/100\n",
      "3727/3727 [==============================] - 16435s 4s/step - loss: 0.3224 - accuracy: 0.8835 - val_loss: 0.3024 - val_accuracy: 0.8895\n",
      "Epoch 57/100\n",
      "3727/3727 [==============================] - 17454s 5s/step - loss: 0.3220 - accuracy: 0.8836 - val_loss: 0.3027 - val_accuracy: 0.8891\n",
      "Epoch 58/100\n",
      "3727/3727 [==============================] - 16341s 4s/step - loss: 0.3217 - accuracy: 0.8838 - val_loss: 0.3050 - val_accuracy: 0.8886\n",
      "Epoch 59/100\n",
      "3727/3727 [==============================] - 16738s 4s/step - loss: 0.3214 - accuracy: 0.8839 - val_loss: 0.3018 - val_accuracy: 0.8896\n",
      "Epoch 60/100\n",
      "3727/3727 [==============================] - 16372s 4s/step - loss: 0.3211 - accuracy: 0.8840 - val_loss: 0.3054 - val_accuracy: 0.8878\n",
      "Epoch 61/100\n",
      "3727/3727 [==============================] - 16314s 4s/step - loss: 0.3207 - accuracy: 0.8841 - val_loss: 0.3097 - val_accuracy: 0.8867\n",
      "Epoch 62/100\n",
      "3727/3727 [==============================] - 15494s 4s/step - loss: 0.3205 - accuracy: 0.8841 - val_loss: 0.3015 - val_accuracy: 0.8895\n",
      "Epoch 63/100\n",
      "3727/3727 [==============================] - 16463s 4s/step - loss: 0.3203 - accuracy: 0.8842 - val_loss: 0.3048 - val_accuracy: 0.8882\n",
      "Epoch 64/100\n",
      "3727/3727 [==============================] - 14673s 4s/step - loss: 0.3200 - accuracy: 0.8844 - val_loss: 0.3043 - val_accuracy: 0.8887\n",
      "Epoch 65/100\n",
      "3727/3727 [==============================] - 14570s 4s/step - loss: 0.3196 - accuracy: 0.8845 - val_loss: 0.3012 - val_accuracy: 0.8898\n",
      "Epoch 66/100\n",
      "3727/3727 [==============================] - 14471s 4s/step - loss: 0.3192 - accuracy: 0.8846 - val_loss: 0.3078 - val_accuracy: 0.8873\n",
      "Epoch 67/100\n",
      "3727/3727 [==============================] - 34652s 9s/step - loss: 0.3191 - accuracy: 0.8846 - val_loss: 0.3115 - val_accuracy: 0.8859\n",
      "Epoch 68/100\n",
      "3727/3727 [==============================] - 16674s 4s/step - loss: 0.3188 - accuracy: 0.8847 - val_loss: 0.3007 - val_accuracy: 0.8899\n",
      "Epoch 69/100\n",
      "3727/3727 [==============================] - 16417s 4s/step - loss: 0.3184 - accuracy: 0.8849 - val_loss: 0.3028 - val_accuracy: 0.8890\n",
      "Epoch 70/100\n",
      "3727/3727 [==============================] - 16406s 4s/step - loss: 0.3182 - accuracy: 0.8850 - val_loss: 0.3034 - val_accuracy: 0.8888\n",
      "Epoch 71/100\n",
      "3727/3727 [==============================] - 16463s 4s/step - loss: 0.3179 - accuracy: 0.8851 - val_loss: 0.3045 - val_accuracy: 0.8885\n",
      "Epoch 72/100\n",
      "3727/3727 [==============================] - 16417s 4s/step - loss: 0.3177 - accuracy: 0.8851 - val_loss: 0.3106 - val_accuracy: 0.8864\n",
      "Epoch 73/100\n",
      "3727/3727 [==============================] - 16543s 4s/step - loss: 0.3173 - accuracy: 0.8852 - val_loss: 0.3031 - val_accuracy: 0.8890\n",
      "Epoch 74/100\n",
      "3727/3727 [==============================] - 16900s 5s/step - loss: 0.3172 - accuracy: 0.8853 - val_loss: 0.3036 - val_accuracy: 0.8886\n",
      "Epoch 75/100\n",
      "3727/3727 [==============================] - 16639s 4s/step - loss: 0.3170 - accuracy: 0.8853 - val_loss: 0.3047 - val_accuracy: 0.8883\n",
      "Epoch 76/100\n",
      "3727/3727 [==============================] - 16423s 4s/step - loss: 0.3166 - accuracy: 0.8854 - val_loss: 0.3032 - val_accuracy: 0.8889\n",
      "Epoch 77/100\n",
      "3727/3727 [==============================] - 16087s 4s/step - loss: 0.3163 - accuracy: 0.8856 - val_loss: 0.3104 - val_accuracy: 0.8859\n",
      "Epoch 78/100\n",
      "3727/3727 [==============================] - 16132s 4s/step - loss: 0.3163 - accuracy: 0.8856 - val_loss: 0.3032 - val_accuracy: 0.8889\n",
      "Epoch 79/100\n",
      "3727/3727 [==============================] - 16821s 5s/step - loss: 0.3157 - accuracy: 0.8858 - val_loss: 0.3045 - val_accuracy: 0.8884\n",
      "Epoch 80/100\n",
      "3727/3727 [==============================] - 42464s 11s/step - loss: 0.3158 - accuracy: 0.8858 - val_loss: 0.3049 - val_accuracy: 0.8882\n",
      "Epoch 81/100\n",
      "3727/3727 [==============================] - 21592s 6s/step - loss: 0.3153 - accuracy: 0.8859 - val_loss: 0.3079 - val_accuracy: 0.8870\n",
      "Epoch 82/100\n",
      "3727/3727 [==============================] - 17201s 5s/step - loss: 0.3151 - accuracy: 0.8860 - val_loss: 0.3035 - val_accuracy: 0.8888\n",
      "Epoch 83/100\n",
      "3727/3727 [==============================] - 16549s 4s/step - loss: 0.3151 - accuracy: 0.8860 - val_loss: 0.3007 - val_accuracy: 0.8896\n",
      "Epoch 84/100\n",
      "3727/3727 [==============================] - 18236s 5s/step - loss: 0.3147 - accuracy: 0.8861 - val_loss: 0.3133 - val_accuracy: 0.8844\n",
      "Epoch 85/100\n",
      "3727/3727 [==============================] - 17180s 5s/step - loss: 0.3146 - accuracy: 0.8862 - val_loss: 0.3030 - val_accuracy: 0.8888\n",
      "Epoch 86/100\n",
      "3727/3727 [==============================] - 16923s 5s/step - loss: 0.3144 - accuracy: 0.8862 - val_loss: 0.3105 - val_accuracy: 0.8861\n",
      "Epoch 87/100\n",
      "3727/3727 [==============================] - 17048s 5s/step - loss: 0.3140 - accuracy: 0.8863 - val_loss: 0.3065 - val_accuracy: 0.8873\n",
      "Epoch 88/100\n",
      "3727/3727 [==============================] - 16935s 5s/step - loss: 0.3139 - accuracy: 0.8864 - val_loss: 0.3082 - val_accuracy: 0.8868\n",
      "Epoch 89/100\n",
      "3727/3727 [==============================] - 17149s 5s/step - loss: 0.3137 - accuracy: 0.8864 - val_loss: 0.3057 - val_accuracy: 0.8881\n",
      "Epoch 90/100\n",
      "3727/3727 [==============================] - 18138s 5s/step - loss: 0.3135 - accuracy: 0.8865 - val_loss: 0.3082 - val_accuracy: 0.8868\n",
      "Epoch 91/100\n",
      "3727/3727 [==============================] - 17019s 5s/step - loss: 0.3131 - accuracy: 0.8866 - val_loss: 0.3050 - val_accuracy: 0.8879\n",
      "Epoch 92/100\n",
      "3727/3727 [==============================] - 16655s 4s/step - loss: 0.3130 - accuracy: 0.8867 - val_loss: 0.3108 - val_accuracy: 0.8857\n",
      "Epoch 93/100\n",
      "3727/3727 [==============================] - 16754s 4s/step - loss: 0.3128 - accuracy: 0.8868 - val_loss: 0.3100 - val_accuracy: 0.8860\n",
      "Epoch 94/100\n",
      "3727/3727 [==============================] - 20874s 6s/step - loss: 0.3125 - accuracy: 0.8868 - val_loss: 0.3091 - val_accuracy: 0.8866\n",
      "Epoch 95/100\n",
      "3727/3727 [==============================] - 19291s 5s/step - loss: 0.3123 - accuracy: 0.8869 - val_loss: 0.3048 - val_accuracy: 0.8881\n",
      "Epoch 96/100\n",
      "3727/3727 [==============================] - 16758s 4s/step - loss: 0.3118 - accuracy: 0.8871 - val_loss: 0.3102 - val_accuracy: 0.8856\n",
      "Epoch 97/100\n",
      "3727/3727 [==============================] - 16827s 5s/step - loss: 0.3117 - accuracy: 0.8871 - val_loss: 0.3072 - val_accuracy: 0.8871\n",
      "Epoch 98/100\n",
      "3727/3727 [==============================] - 16728s 4s/step - loss: 0.3115 - accuracy: 0.8871 - val_loss: 0.3140 - val_accuracy: 0.8844\n",
      "Epoch 99/100\n",
      "3727/3727 [==============================] - 23025s 6s/step - loss: 0.3113 - accuracy: 0.8872 - val_loss: 0.3073 - val_accuracy: 0.8871\n",
      "Epoch 100/100\n",
      "3727/3727 [==============================] - 28394s 8s/step - loss: 0.3110 - accuracy: 0.8873 - val_loss: 0.3081 - val_accuracy: 0.8866\n",
      "2024-03-24 18:14:47.087632\n"
     ]
    }
   ],
   "source": [
    "y_pred_lstm"
   ]
  },
  {
   "cell_type": "code",
   "execution_count": 19,
   "id": "48eb5909-2b19-4da5-b98b-16f65c65836c",
   "metadata": {},
   "outputs": [],
   "source": [
    "# reshape to 2d\n",
    "y_pred_lstm_2d = np.reshape(y_pred,(10980,10980))"
   ]
  },
  {
   "cell_type": "code",
   "execution_count": 20,
   "id": "37a338da-0d5f-4ff6-88b3-d22569c22025",
   "metadata": {
    "tags": []
   },
   "outputs": [],
   "source": [
    "y_pred_lstm_2d"
   ]
  },
  {
   "cell_type": "code",
   "execution_count": 21,
   "id": "4d674981-fd3e-440e-a165-3ce15dbbd57d",
   "metadata": {
    "tags": []
   },
   "outputs": [
    {
     "data": {
      "text/plain": [
       "array([0, 0, 5, ..., 4, 1, 4], dtype=int64)"
      ]
     },
     "execution_count": 21,
     "metadata": {},
     "output_type": "execute_result"
    }
   ],
   "source": [
    "y_pred_lstm_2d_mod = y_pred_lstm_2d + 1"
   ]
  },
  {
   "cell_type": "code",
   "execution_count": 22,
   "id": "accfd752-88d9-4ee0-8a68-339c2f7c2926",
   "metadata": {},
   "outputs": [
    {
     "data": {
      "text/plain": [
       "array([[1193454,  131725,    4818,   47830,   21307,   13322],\n",
       "       [  42693, 1347161,    2656,   15159,    5634,     182],\n",
       "       [   2846,    2945, 1327123,   79523,    1021,     702],\n",
       "       [  43177,   19090,  118133, 1199859,   11193,   22644],\n",
       "       [  65189,   25755,    1335,   49299, 1211260,   60600],\n",
       "       [  21331,     572,     430,   60481,   89644, 1239272]],\n",
       "      dtype=int64)"
      ]
     },
     "execution_count": 22,
     "metadata": {},
     "output_type": "execute_result"
    }
   ],
   "source": [
    "# Save the prediction result as a geotif file\n",
    "with rasterio.open(\"images/CC/predict/lstm_20230622.tif\", 'w', **out_profile) as dst:\n",
    "    dst.write(y_pred_lstm_2d_mod, indexes=1)"
   ]
  },
  {
   "cell_type": "code",
   "execution_count": null,
   "id": "ad420d21-570d-476a-8ba4-5fc094657a7e",
   "metadata": {},
   "outputs": [],
   "source": []
  }
 ],
 "metadata": {
  "kernelspec": {
   "display_name": "Python 3 (ipykernel)",
   "language": "python",
   "name": "python3"
  },
  "language_info": {
   "codemirror_mode": {
    "name": "ipython",
    "version": 3
   },
   "file_extension": ".py",
   "mimetype": "text/x-python",
   "name": "python",
   "nbconvert_exporter": "python",
   "pygments_lexer": "ipython3",
   "version": "3.8.18"
  }
 },
 "nbformat": 4,
 "nbformat_minor": 5
}
