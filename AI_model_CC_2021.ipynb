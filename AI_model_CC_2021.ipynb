{
 "cells": [
  {
   "cell_type": "code",
   "execution_count": 1,
   "id": "ea4f0f1d-4e6f-4e2f-a574-9f5baf365636",
   "metadata": {},
   "outputs": [],
   "source": [
    "# Import required Dependencies\n",
    "import os\n",
    "import sys\n",
    "import numpy as np\n",
    "import matplotlib.pyplot as plt\n",
    "import pandas as pd\n",
    "import seaborn as sns\n",
    "import sklearn\n",
    "import datetime\n",
    "\n",
    "# Pre Processing\n",
    "from sklearn.model_selection import train_test_split, StratifiedKFold\n",
    "from sklearn.preprocessing import StandardScaler\n",
    "from sklearn.preprocessing import MinMaxScaler\n",
    "from sklearn.pipeline import make_pipeline\n",
    "from functools import partial\n",
    "\n",
    "# Error Metrics\n",
    "from sklearn import metrics\n",
    "from sklearn.metrics import mean_absolute_error\n",
    "from sklearn.metrics import mean_squared_error\n",
    "from sklearn.metrics import r2_score\n",
    "from sklearn.metrics import precision_recall_curve, auc\n",
    "from sklearn.inspection import DecisionBoundaryDisplay\n",
    "\n",
    "# Classifiers\n",
    "from sklearn import svm\n",
    "from sklearn.linear_model import Perceptron\n",
    "from sklearn.linear_model import SGDClassifier\n",
    "from sklearn.neighbors import KNeighborsClassifier\n",
    "from sklearn.tree import DecisionTreeClassifier\n",
    "from sklearn.ensemble import RandomForestClassifier\n",
    "from xgboost import XGBClassifier\n",
    "\n",
    "# DL models\n",
    "from tensorflow.keras import layers \n",
    "from tensorflow.keras.models import Sequential\n",
    "from tensorflow.keras.layers import Dense, Input\n",
    "from tensorflow.keras.models import Model\n",
    "from tensorflow.python.keras.layers import deserialize, serialize\n",
    "from tensorflow.python.keras.saving import saving_utils\n",
    "\n",
    "# Save models\n",
    "import pickle\n",
    "\n",
    "#Cross Validation \n",
    "from sklearn.model_selection import GridSearchCV, RandomizedSearchCV\n",
    "\n",
    "#Parallel backend processing\n",
    "from concurrent.futures import ProcessPoolExecutor\n",
    "from joblib import parallel_backend"
   ]
  },
  {
   "cell_type": "code",
   "execution_count": 2,
   "id": "48c41a1f-c87c-4d5b-931f-8a0dbc656ef9",
   "metadata": {},
   "outputs": [],
   "source": [
    "import os\n",
    "\n",
    "# Where to save the figures\n",
    "PROJECT_ROOT_DIR = \".\"\n",
    "CHAPTER_ID = \"CC\"\n",
    "IMAGES_PATH = os.path.join(PROJECT_ROOT_DIR, \"images\", CHAPTER_ID)\n",
    "os.makedirs(IMAGES_PATH, exist_ok=True)\n",
    "\n",
    "def save_fig(fig_id, tight_layout=True, fig_extension=\"png\", resolution=300):\n",
    "    path = os.path.join(IMAGES_PATH, fig_id + \".\" + fig_extension)\n",
    "    print(\"Saving figure\", fig_id)\n",
    "    if tight_layout:\n",
    "        plt.tight_layout()\n",
    "    plt.savefig(path, format=fig_extension, dpi=resolution, bbox_inches='tight')\n",
    "\n",
    "# Ignore useless warnings (see SciPy issue #5998)\n",
    "import warnings\n",
    "warnings.filterwarnings(action=\"ignore\", message=\"^internal gelsd\")"
   ]
  },
  {
   "cell_type": "markdown",
   "id": "14581968-2015-4f10-866e-9549970b0be1",
   "metadata": {},
   "source": [
    "## 2021 data"
   ]
  },
  {
   "cell_type": "code",
   "execution_count": 3,
   "id": "2ab4174a-9288-4086-9229-5669b1cc9753",
   "metadata": {},
   "outputs": [],
   "source": [
    "# Load the saved sample of data in CSV format for 2021 as train data\n",
    "df = pd.read_csv('CC_data_resample.csv')"
   ]
  },
  {
   "cell_type": "code",
   "execution_count": 4,
   "id": "9fcac58c-f969-4a75-b219-0b36c5858a8f",
   "metadata": {},
   "outputs": [
    {
     "data": {
      "text/html": [
       "<div>\n",
       "<style scoped>\n",
       "    .dataframe tbody tr th:only-of-type {\n",
       "        vertical-align: middle;\n",
       "    }\n",
       "\n",
       "    .dataframe tbody tr th {\n",
       "        vertical-align: top;\n",
       "    }\n",
       "\n",
       "    .dataframe thead th {\n",
       "        text-align: right;\n",
       "    }\n",
       "</style>\n",
       "<table border=\"1\" class=\"dataframe\">\n",
       "  <thead>\n",
       "    <tr style=\"text-align: right;\">\n",
       "      <th></th>\n",
       "      <th>blue</th>\n",
       "      <th>dbsi</th>\n",
       "      <th>evi</th>\n",
       "      <th>gi</th>\n",
       "      <th>gndvi</th>\n",
       "      <th>green</th>\n",
       "      <th>kndvi</th>\n",
       "      <th>ndci</th>\n",
       "      <th>ndpi</th>\n",
       "      <th>ndvigb</th>\n",
       "      <th>...</th>\n",
       "      <th>rvi1</th>\n",
       "      <th>rvi2</th>\n",
       "      <th>sipi</th>\n",
       "      <th>srpi</th>\n",
       "      <th>tvi</th>\n",
       "      <th>vari</th>\n",
       "      <th>VH</th>\n",
       "      <th>VV-VH</th>\n",
       "      <th>VV</th>\n",
       "      <th>class</th>\n",
       "    </tr>\n",
       "  </thead>\n",
       "  <tbody>\n",
       "    <tr>\n",
       "      <th>0</th>\n",
       "      <td>420.0</td>\n",
       "      <td>-0.182015</td>\n",
       "      <td>1.618649</td>\n",
       "      <td>1.097070</td>\n",
       "      <td>0.496850</td>\n",
       "      <td>599.0</td>\n",
       "      <td>0.274648</td>\n",
       "      <td>0.258152</td>\n",
       "      <td>0.348913</td>\n",
       "      <td>0.175662</td>\n",
       "      <td>...</td>\n",
       "      <td>3.263736</td>\n",
       "      <td>2.974958</td>\n",
       "      <td>0.618529</td>\n",
       "      <td>0.769231</td>\n",
       "      <td>10744.0</td>\n",
       "      <td>0.073103</td>\n",
       "      <td>0.012528</td>\n",
       "      <td>8.969604</td>\n",
       "      <td>0.112369</td>\n",
       "      <td>2.0</td>\n",
       "    </tr>\n",
       "    <tr>\n",
       "      <th>1</th>\n",
       "      <td>343.0</td>\n",
       "      <td>-0.113368</td>\n",
       "      <td>1.268323</td>\n",
       "      <td>1.076621</td>\n",
       "      <td>0.472570</td>\n",
       "      <td>548.0</td>\n",
       "      <td>0.245611</td>\n",
       "      <td>0.290592</td>\n",
       "      <td>0.387367</td>\n",
       "      <td>0.230079</td>\n",
       "      <td>...</td>\n",
       "      <td>3.005894</td>\n",
       "      <td>2.791971</td>\n",
       "      <td>0.633743</td>\n",
       "      <td>0.673870</td>\n",
       "      <td>62820.0</td>\n",
       "      <td>0.054622</td>\n",
       "      <td>0.009737</td>\n",
       "      <td>8.673847</td>\n",
       "      <td>0.084453</td>\n",
       "      <td>2.0</td>\n",
       "    </tr>\n",
       "    <tr>\n",
       "      <th>2</th>\n",
       "      <td>341.0</td>\n",
       "      <td>-0.250545</td>\n",
       "      <td>1.339956</td>\n",
       "      <td>1.171315</td>\n",
       "      <td>0.464481</td>\n",
       "      <td>588.0</td>\n",
       "      <td>0.268044</td>\n",
       "      <td>0.257945</td>\n",
       "      <td>0.273626</td>\n",
       "      <td>0.265877</td>\n",
       "      <td>...</td>\n",
       "      <td>3.203187</td>\n",
       "      <td>2.734694</td>\n",
       "      <td>0.650077</td>\n",
       "      <td>0.679283</td>\n",
       "      <td>4264.0</td>\n",
       "      <td>0.114820</td>\n",
       "      <td>0.008923</td>\n",
       "      <td>9.209814</td>\n",
       "      <td>0.082180</td>\n",
       "      <td>2.0</td>\n",
       "    </tr>\n",
       "    <tr>\n",
       "      <th>3</th>\n",
       "      <td>336.0</td>\n",
       "      <td>-0.315290</td>\n",
       "      <td>1.837561</td>\n",
       "      <td>1.297674</td>\n",
       "      <td>0.525106</td>\n",
       "      <td>558.0</td>\n",
       "      <td>0.358986</td>\n",
       "      <td>0.328649</td>\n",
       "      <td>0.297671</td>\n",
       "      <td>0.248322</td>\n",
       "      <td>...</td>\n",
       "      <td>4.167442</td>\n",
       "      <td>3.211470</td>\n",
       "      <td>0.684211</td>\n",
       "      <td>0.781395</td>\n",
       "      <td>21304.0</td>\n",
       "      <td>0.196319</td>\n",
       "      <td>0.005892</td>\n",
       "      <td>16.092522</td>\n",
       "      <td>0.094815</td>\n",
       "      <td>2.0</td>\n",
       "    </tr>\n",
       "    <tr>\n",
       "      <th>4</th>\n",
       "      <td>329.0</td>\n",
       "      <td>-0.254732</td>\n",
       "      <td>2.047013</td>\n",
       "      <td>1.357143</td>\n",
       "      <td>0.511478</td>\n",
       "      <td>532.0</td>\n",
       "      <td>0.361496</td>\n",
       "      <td>0.367742</td>\n",
       "      <td>0.360577</td>\n",
       "      <td>0.235772</td>\n",
       "      <td>...</td>\n",
       "      <td>4.198980</td>\n",
       "      <td>3.093985</td>\n",
       "      <td>0.666835</td>\n",
       "      <td>0.839286</td>\n",
       "      <td>15304.0</td>\n",
       "      <td>0.235294</td>\n",
       "      <td>0.010234</td>\n",
       "      <td>12.326612</td>\n",
       "      <td>0.126151</td>\n",
       "      <td>2.0</td>\n",
       "    </tr>\n",
       "  </tbody>\n",
       "</table>\n",
       "<p>5 rows × 25 columns</p>\n",
       "</div>"
      ],
      "text/plain": [
       "    blue      dbsi       evi        gi     gndvi  green     kndvi      ndci  \\\n",
       "0  420.0 -0.182015  1.618649  1.097070  0.496850  599.0  0.274648  0.258152   \n",
       "1  343.0 -0.113368  1.268323  1.076621  0.472570  548.0  0.245611  0.290592   \n",
       "2  341.0 -0.250545  1.339956  1.171315  0.464481  588.0  0.268044  0.257945   \n",
       "3  336.0 -0.315290  1.837561  1.297674  0.525106  558.0  0.358986  0.328649   \n",
       "4  329.0 -0.254732  2.047013  1.357143  0.511478  532.0  0.361496  0.367742   \n",
       "\n",
       "       ndpi    ndvigb  ...      rvi1      rvi2      sipi      srpi      tvi  \\\n",
       "0  0.348913  0.175662  ...  3.263736  2.974958  0.618529  0.769231  10744.0   \n",
       "1  0.387367  0.230079  ...  3.005894  2.791971  0.633743  0.673870  62820.0   \n",
       "2  0.273626  0.265877  ...  3.203187  2.734694  0.650077  0.679283   4264.0   \n",
       "3  0.297671  0.248322  ...  4.167442  3.211470  0.684211  0.781395  21304.0   \n",
       "4  0.360577  0.235772  ...  4.198980  3.093985  0.666835  0.839286  15304.0   \n",
       "\n",
       "       vari        VH      VV-VH        VV  class  \n",
       "0  0.073103  0.012528   8.969604  0.112369    2.0  \n",
       "1  0.054622  0.009737   8.673847  0.084453    2.0  \n",
       "2  0.114820  0.008923   9.209814  0.082180    2.0  \n",
       "3  0.196319  0.005892  16.092522  0.094815    2.0  \n",
       "4  0.235294  0.010234  12.326612  0.126151    2.0  \n",
       "\n",
       "[5 rows x 25 columns]"
      ]
     },
     "execution_count": 4,
     "metadata": {},
     "output_type": "execute_result"
    }
   ],
   "source": [
    "df.head()"
   ]
  },
  {
   "cell_type": "code",
   "execution_count": 5,
   "id": "335ab770-2469-45ea-9b95-c27ad2bfcd0d",
   "metadata": {},
   "outputs": [
    {
     "name": "stdout",
     "output_type": "stream",
     "text": [
      "<class 'pandas.core.frame.DataFrame'>\n",
      "RangeIndex: 2311488 entries, 0 to 2311487\n",
      "Data columns (total 25 columns):\n",
      " #   Column  Dtype  \n",
      "---  ------  -----  \n",
      " 0   blue    float64\n",
      " 1   dbsi    float64\n",
      " 2   evi     float64\n",
      " 3   gi      float64\n",
      " 4   gndvi   float64\n",
      " 5   green   float64\n",
      " 6   kndvi   float64\n",
      " 7   ndci    float64\n",
      " 8   ndpi    float64\n",
      " 9   ndvigb  float64\n",
      " 10  ndvi    float64\n",
      " 11  nir     float64\n",
      " 12  npci    float64\n",
      " 13  psri    float64\n",
      " 14  red     float64\n",
      " 15  rvi1    float64\n",
      " 16  rvi2    float64\n",
      " 17  sipi    float64\n",
      " 18  srpi    float64\n",
      " 19  tvi     float64\n",
      " 20  vari    float64\n",
      " 21  VH      float64\n",
      " 22  VV-VH   float64\n",
      " 23  VV      float64\n",
      " 24  class   float64\n",
      "dtypes: float64(25)\n",
      "memory usage: 440.9 MB\n"
     ]
    }
   ],
   "source": [
    "df.info()"
   ]
  },
  {
   "cell_type": "code",
   "execution_count": 6,
   "id": "1bf0e92c-8e25-43e3-b6d8-bfc1aad2f306",
   "metadata": {},
   "outputs": [
    {
     "data": {
      "text/html": [
       "<div>\n",
       "<style scoped>\n",
       "    .dataframe tbody tr th:only-of-type {\n",
       "        vertical-align: middle;\n",
       "    }\n",
       "\n",
       "    .dataframe tbody tr th {\n",
       "        vertical-align: top;\n",
       "    }\n",
       "\n",
       "    .dataframe thead th {\n",
       "        text-align: right;\n",
       "    }\n",
       "</style>\n",
       "<table border=\"1\" class=\"dataframe\">\n",
       "  <thead>\n",
       "    <tr style=\"text-align: right;\">\n",
       "      <th></th>\n",
       "      <th>blue</th>\n",
       "      <th>dbsi</th>\n",
       "      <th>evi</th>\n",
       "      <th>gi</th>\n",
       "      <th>gndvi</th>\n",
       "      <th>green</th>\n",
       "      <th>kndvi</th>\n",
       "      <th>ndci</th>\n",
       "      <th>ndpi</th>\n",
       "      <th>ndvigb</th>\n",
       "      <th>...</th>\n",
       "      <th>rvi1</th>\n",
       "      <th>rvi2</th>\n",
       "      <th>sipi</th>\n",
       "      <th>srpi</th>\n",
       "      <th>tvi</th>\n",
       "      <th>vari</th>\n",
       "      <th>VH</th>\n",
       "      <th>VV-VH</th>\n",
       "      <th>VV</th>\n",
       "      <th>class</th>\n",
       "    </tr>\n",
       "  </thead>\n",
       "  <tbody>\n",
       "    <tr>\n",
       "      <th>count</th>\n",
       "      <td>2.311488e+06</td>\n",
       "      <td>2.311488e+06</td>\n",
       "      <td>2.311488e+06</td>\n",
       "      <td>2.311488e+06</td>\n",
       "      <td>2.311488e+06</td>\n",
       "      <td>2.311488e+06</td>\n",
       "      <td>2.311488e+06</td>\n",
       "      <td>2.311488e+06</td>\n",
       "      <td>2.311488e+06</td>\n",
       "      <td>2.311488e+06</td>\n",
       "      <td>...</td>\n",
       "      <td>2.311488e+06</td>\n",
       "      <td>2.311488e+06</td>\n",
       "      <td>2.311488e+06</td>\n",
       "      <td>2.311488e+06</td>\n",
       "      <td>2.311488e+06</td>\n",
       "      <td>2.311488e+06</td>\n",
       "      <td>2.311488e+06</td>\n",
       "      <td>2.311488e+06</td>\n",
       "      <td>2.311488e+06</td>\n",
       "      <td>2311488.0</td>\n",
       "    </tr>\n",
       "    <tr>\n",
       "      <th>mean</th>\n",
       "      <td>3.788445e+02</td>\n",
       "      <td>-2.497862e-01</td>\n",
       "      <td>2.020292e+00</td>\n",
       "      <td>1.453894e+00</td>\n",
       "      <td>6.512780e-01</td>\n",
       "      <td>6.241995e+02</td>\n",
       "      <td>4.761289e-01</td>\n",
       "      <td>3.583120e-01</td>\n",
       "      <td>4.588809e-01</td>\n",
       "      <td>2.614761e-01</td>\n",
       "      <td>...</td>\n",
       "      <td>9.373468e+00</td>\n",
       "      <td>5.767140e+00</td>\n",
       "      <td>7.674252e-01</td>\n",
       "      <td>8.303713e-01</td>\n",
       "      <td>3.226307e+04</td>\n",
       "      <td>7.782638e+00</td>\n",
       "      <td>1.830850e-02</td>\n",
       "      <td>7.324447e+00</td>\n",
       "      <td>9.593845e-02</td>\n",
       "      <td>1.5</td>\n",
       "    </tr>\n",
       "    <tr>\n",
       "      <th>std</th>\n",
       "      <td>1.855067e+02</td>\n",
       "      <td>1.554535e-01</td>\n",
       "      <td>1.965226e+01</td>\n",
       "      <td>1.131360e+00</td>\n",
       "      <td>1.497559e-01</td>\n",
       "      <td>2.035687e+02</td>\n",
       "      <td>1.856416e-01</td>\n",
       "      <td>1.376394e-01</td>\n",
       "      <td>1.090051e-01</td>\n",
       "      <td>8.635219e-02</td>\n",
       "      <td>...</td>\n",
       "      <td>2.516122e+01</td>\n",
       "      <td>3.723462e+00</td>\n",
       "      <td>1.381105e-01</td>\n",
       "      <td>2.984677e-01</td>\n",
       "      <td>1.884807e+04</td>\n",
       "      <td>1.967303e+01</td>\n",
       "      <td>1.206974e-02</td>\n",
       "      <td>9.999259e+00</td>\n",
       "      <td>7.654909e-02</td>\n",
       "      <td>0.5</td>\n",
       "    </tr>\n",
       "    <tr>\n",
       "      <th>min</th>\n",
       "      <td>1.000000e+00</td>\n",
       "      <td>-9.346241e-01</td>\n",
       "      <td>-2.726833e+04</td>\n",
       "      <td>3.344482e-03</td>\n",
       "      <td>-1.666667e-01</td>\n",
       "      <td>1.000000e+00</td>\n",
       "      <td>0.000000e+00</td>\n",
       "      <td>-2.911392e-01</td>\n",
       "      <td>-7.920937e-01</td>\n",
       "      <td>-9.944904e-01</td>\n",
       "      <td>...</td>\n",
       "      <td>6.658163e-01</td>\n",
       "      <td>7.142857e-01</td>\n",
       "      <td>-2.158273e-01</td>\n",
       "      <td>4.854369e-03</td>\n",
       "      <td>0.000000e+00</td>\n",
       "      <td>0.000000e+00</td>\n",
       "      <td>4.897626e-05</td>\n",
       "      <td>1.523661e-02</td>\n",
       "      <td>2.100922e-04</td>\n",
       "      <td>1.0</td>\n",
       "    </tr>\n",
       "    <tr>\n",
       "      <th>25%</th>\n",
       "      <td>2.770000e+02</td>\n",
       "      <td>-3.492517e-01</td>\n",
       "      <td>1.715183e+00</td>\n",
       "      <td>1.164228e+00</td>\n",
       "      <td>5.881579e-01</td>\n",
       "      <td>5.020000e+02</td>\n",
       "      <td>3.917501e-01</td>\n",
       "      <td>2.765957e-01</td>\n",
       "      <td>4.004267e-01</td>\n",
       "      <td>2.045455e-01</td>\n",
       "      <td>...</td>\n",
       "      <td>4.605364e+00</td>\n",
       "      <td>3.856287e+00</td>\n",
       "      <td>7.251842e-01</td>\n",
       "      <td>6.914894e-01</td>\n",
       "      <td>1.591200e+04</td>\n",
       "      <td>1.916084e-01</td>\n",
       "      <td>9.628372e-03</td>\n",
       "      <td>3.019870e+00</td>\n",
       "      <td>4.870462e-02</td>\n",
       "      <td>1.0</td>\n",
       "    </tr>\n",
       "    <tr>\n",
       "      <th>50%</th>\n",
       "      <td>3.488894e+02</td>\n",
       "      <td>-2.897484e-01</td>\n",
       "      <td>2.188730e+00</td>\n",
       "      <td>1.402597e+00</td>\n",
       "      <td>6.860497e-01</td>\n",
       "      <td>6.020000e+02</td>\n",
       "      <td>5.278769e-01</td>\n",
       "      <td>3.672627e-01</td>\n",
       "      <td>4.760726e-01</td>\n",
       "      <td>2.564103e-01</td>\n",
       "      <td>...</td>\n",
       "      <td>7.555556e+00</td>\n",
       "      <td>5.370504e+00</td>\n",
       "      <td>8.076286e-01</td>\n",
       "      <td>8.014354e-01</td>\n",
       "      <td>3.188800e+04</td>\n",
       "      <td>3.326572e-01</td>\n",
       "      <td>1.559603e-02</td>\n",
       "      <td>4.994045e+00</td>\n",
       "      <td>8.286895e-02</td>\n",
       "      <td>1.5</td>\n",
       "    </tr>\n",
       "    <tr>\n",
       "      <th>75%</th>\n",
       "      <td>4.360000e+02</td>\n",
       "      <td>-1.944158e-01</td>\n",
       "      <td>2.512675e+00</td>\n",
       "      <td>1.706840e+00</td>\n",
       "      <td>7.580288e-01</td>\n",
       "      <td>7.090000e+02</td>\n",
       "      <td>6.192802e-01</td>\n",
       "      <td>4.586777e-01</td>\n",
       "      <td>5.309829e-01</td>\n",
       "      <td>3.117207e-01</td>\n",
       "      <td>...</td>\n",
       "      <td>1.240000e+01</td>\n",
       "      <td>7.265539e+00</td>\n",
       "      <td>8.608696e-01</td>\n",
       "      <td>9.414634e-01</td>\n",
       "      <td>4.848800e+04</td>\n",
       "      <td>4.928910e-01</td>\n",
       "      <td>2.404580e-02</td>\n",
       "      <td>8.410636e+00</td>\n",
       "      <td>1.262599e-01</td>\n",
       "      <td>2.0</td>\n",
       "    </tr>\n",
       "    <tr>\n",
       "      <th>max</th>\n",
       "      <td>9.088000e+03</td>\n",
       "      <td>5.492288e-01</td>\n",
       "      <td>1.770000e+03</td>\n",
       "      <td>4.690000e+02</td>\n",
       "      <td>9.994809e-01</td>\n",
       "      <td>8.608000e+03</td>\n",
       "      <td>1.000000e+00</td>\n",
       "      <td>9.972028e-01</td>\n",
       "      <td>9.987179e-01</td>\n",
       "      <td>9.955157e-01</td>\n",
       "      <td>...</td>\n",
       "      <td>5.304000e+03</td>\n",
       "      <td>3.852000e+03</td>\n",
       "      <td>9.996201e-01</td>\n",
       "      <td>3.490000e+02</td>\n",
       "      <td>6.553200e+04</td>\n",
       "      <td>6.342039e+02</td>\n",
       "      <td>2.529018e-01</td>\n",
       "      <td>3.231396e+03</td>\n",
       "      <td>2.422261e+01</td>\n",
       "      <td>2.0</td>\n",
       "    </tr>\n",
       "  </tbody>\n",
       "</table>\n",
       "<p>8 rows × 25 columns</p>\n",
       "</div>"
      ],
      "text/plain": [
       "               blue          dbsi           evi            gi         gndvi  \\\n",
       "count  2.311488e+06  2.311488e+06  2.311488e+06  2.311488e+06  2.311488e+06   \n",
       "mean   3.788445e+02 -2.497862e-01  2.020292e+00  1.453894e+00  6.512780e-01   \n",
       "std    1.855067e+02  1.554535e-01  1.965226e+01  1.131360e+00  1.497559e-01   \n",
       "min    1.000000e+00 -9.346241e-01 -2.726833e+04  3.344482e-03 -1.666667e-01   \n",
       "25%    2.770000e+02 -3.492517e-01  1.715183e+00  1.164228e+00  5.881579e-01   \n",
       "50%    3.488894e+02 -2.897484e-01  2.188730e+00  1.402597e+00  6.860497e-01   \n",
       "75%    4.360000e+02 -1.944158e-01  2.512675e+00  1.706840e+00  7.580288e-01   \n",
       "max    9.088000e+03  5.492288e-01  1.770000e+03  4.690000e+02  9.994809e-01   \n",
       "\n",
       "              green         kndvi          ndci          ndpi        ndvigb  \\\n",
       "count  2.311488e+06  2.311488e+06  2.311488e+06  2.311488e+06  2.311488e+06   \n",
       "mean   6.241995e+02  4.761289e-01  3.583120e-01  4.588809e-01  2.614761e-01   \n",
       "std    2.035687e+02  1.856416e-01  1.376394e-01  1.090051e-01  8.635219e-02   \n",
       "min    1.000000e+00  0.000000e+00 -2.911392e-01 -7.920937e-01 -9.944904e-01   \n",
       "25%    5.020000e+02  3.917501e-01  2.765957e-01  4.004267e-01  2.045455e-01   \n",
       "50%    6.020000e+02  5.278769e-01  3.672627e-01  4.760726e-01  2.564103e-01   \n",
       "75%    7.090000e+02  6.192802e-01  4.586777e-01  5.309829e-01  3.117207e-01   \n",
       "max    8.608000e+03  1.000000e+00  9.972028e-01  9.987179e-01  9.955157e-01   \n",
       "\n",
       "       ...          rvi1          rvi2          sipi          srpi  \\\n",
       "count  ...  2.311488e+06  2.311488e+06  2.311488e+06  2.311488e+06   \n",
       "mean   ...  9.373468e+00  5.767140e+00  7.674252e-01  8.303713e-01   \n",
       "std    ...  2.516122e+01  3.723462e+00  1.381105e-01  2.984677e-01   \n",
       "min    ...  6.658163e-01  7.142857e-01 -2.158273e-01  4.854369e-03   \n",
       "25%    ...  4.605364e+00  3.856287e+00  7.251842e-01  6.914894e-01   \n",
       "50%    ...  7.555556e+00  5.370504e+00  8.076286e-01  8.014354e-01   \n",
       "75%    ...  1.240000e+01  7.265539e+00  8.608696e-01  9.414634e-01   \n",
       "max    ...  5.304000e+03  3.852000e+03  9.996201e-01  3.490000e+02   \n",
       "\n",
       "                tvi          vari            VH         VV-VH            VV  \\\n",
       "count  2.311488e+06  2.311488e+06  2.311488e+06  2.311488e+06  2.311488e+06   \n",
       "mean   3.226307e+04  7.782638e+00  1.830850e-02  7.324447e+00  9.593845e-02   \n",
       "std    1.884807e+04  1.967303e+01  1.206974e-02  9.999259e+00  7.654909e-02   \n",
       "min    0.000000e+00  0.000000e+00  4.897626e-05  1.523661e-02  2.100922e-04   \n",
       "25%    1.591200e+04  1.916084e-01  9.628372e-03  3.019870e+00  4.870462e-02   \n",
       "50%    3.188800e+04  3.326572e-01  1.559603e-02  4.994045e+00  8.286895e-02   \n",
       "75%    4.848800e+04  4.928910e-01  2.404580e-02  8.410636e+00  1.262599e-01   \n",
       "max    6.553200e+04  6.342039e+02  2.529018e-01  3.231396e+03  2.422261e+01   \n",
       "\n",
       "           class  \n",
       "count  2311488.0  \n",
       "mean         1.5  \n",
       "std          0.5  \n",
       "min          1.0  \n",
       "25%          1.0  \n",
       "50%          1.5  \n",
       "75%          2.0  \n",
       "max          2.0  \n",
       "\n",
       "[8 rows x 25 columns]"
      ]
     },
     "execution_count": 6,
     "metadata": {},
     "output_type": "execute_result"
    }
   ],
   "source": [
    "df.describe()"
   ]
  },
  {
   "cell_type": "code",
   "execution_count": 7,
   "id": "5f6df383-71a3-47da-a751-786096aa838c",
   "metadata": {},
   "outputs": [
    {
     "data": {
      "text/plain": [
       "2.0    1155744\n",
       "1.0    1155744\n",
       "Name: class, dtype: int64"
      ]
     },
     "execution_count": 7,
     "metadata": {},
     "output_type": "execute_result"
    }
   ],
   "source": [
    "df['class'].value_counts()"
   ]
  },
  {
   "cell_type": "code",
   "execution_count": 8,
   "id": "2a5a5ff9-1787-44af-a218-6e5897263a9d",
   "metadata": {},
   "outputs": [
    {
     "data": {
      "text/plain": [
       "0"
      ]
     },
     "execution_count": 8,
     "metadata": {},
     "output_type": "execute_result"
    }
   ],
   "source": [
    "np.isinf(df).values.sum()"
   ]
  },
  {
   "cell_type": "code",
   "execution_count": 9,
   "id": "2a95fca3-0ec9-426e-b293-55de08eb5c39",
   "metadata": {},
   "outputs": [
    {
     "data": {
      "text/plain": [
       "blue      0\n",
       "dbsi      0\n",
       "evi       0\n",
       "gi        0\n",
       "gndvi     0\n",
       "green     0\n",
       "kndvi     0\n",
       "ndci      0\n",
       "ndpi      0\n",
       "ndvigb    0\n",
       "ndvi      0\n",
       "nir       0\n",
       "npci      0\n",
       "psri      0\n",
       "red       0\n",
       "rvi1      0\n",
       "rvi2      0\n",
       "sipi      0\n",
       "srpi      0\n",
       "tvi       0\n",
       "vari      0\n",
       "VH        0\n",
       "VV-VH     0\n",
       "VV        0\n",
       "class     0\n",
       "dtype: int64"
      ]
     },
     "execution_count": 9,
     "metadata": {},
     "output_type": "execute_result"
    }
   ],
   "source": [
    "df.isnull().sum()"
   ]
  },
  {
   "cell_type": "markdown",
   "id": "a2029461-ade4-40ef-baa2-c80d2715f48f",
   "metadata": {},
   "source": [
    "# Data Preparation for Model Building"
   ]
  },
  {
   "cell_type": "code",
   "execution_count": 3,
   "id": "df90fac8-55f9-4918-8e2a-09bd1203f5f3",
   "metadata": {},
   "outputs": [],
   "source": [
    "import warnings\n",
    "warnings.filterwarnings(\"ignore\")"
   ]
  },
  {
   "cell_type": "markdown",
   "id": "90c66562-6109-4642-94c2-f3de0c7fa62b",
   "metadata": {},
   "source": [
    "## Train and test sets: 2021"
   ]
  },
  {
   "cell_type": "code",
   "execution_count": 11,
   "id": "ac844c48-a62b-4deb-895a-ab2bdbfd8c02",
   "metadata": {},
   "outputs": [
    {
     "name": "stdout",
     "output_type": "stream",
     "text": [
      "(1849190, 24)\n",
      "(462298, 24)\n",
      "(1849190,)\n",
      "(462298,)\n"
     ]
    }
   ],
   "source": [
    "# Creating training and test sets\n",
    "# Splitting the data into train and test\n",
    "X = df.iloc[:, :-1]\n",
    "y = df.iloc[:, -1]\n",
    "\n",
    "# Rescaling the features\n",
    "scaler=MinMaxScaler()\n",
    "X=scaler.fit_transform(X)\n",
    "\n",
    "# train test split with train_size=80% and test_size=20%\n",
    "X_train, X_test, y_train, y_test = train_test_split(X, y, train_size=0.80, random_state=101)\n",
    "print(X_train.shape)\n",
    "print(X_test.shape)\n",
    "print(y_train.shape)\n",
    "print(y_test.shape)"
   ]
  },
  {
   "cell_type": "code",
   "execution_count": 13,
   "id": "4f391184-7635-4ba9-a520-21413b613165",
   "metadata": {},
   "outputs": [
    {
     "data": {
      "text/html": [
       "<div>\n",
       "<style scoped>\n",
       "    .dataframe tbody tr th:only-of-type {\n",
       "        vertical-align: middle;\n",
       "    }\n",
       "\n",
       "    .dataframe tbody tr th {\n",
       "        vertical-align: top;\n",
       "    }\n",
       "\n",
       "    .dataframe thead th {\n",
       "        text-align: right;\n",
       "    }\n",
       "</style>\n",
       "<table border=\"1\" class=\"dataframe\">\n",
       "  <thead>\n",
       "    <tr style=\"text-align: right;\">\n",
       "      <th></th>\n",
       "      <th>0</th>\n",
       "      <th>1</th>\n",
       "      <th>2</th>\n",
       "      <th>3</th>\n",
       "      <th>4</th>\n",
       "      <th>5</th>\n",
       "      <th>6</th>\n",
       "      <th>7</th>\n",
       "      <th>8</th>\n",
       "      <th>9</th>\n",
       "      <th>...</th>\n",
       "      <th>14</th>\n",
       "      <th>15</th>\n",
       "      <th>16</th>\n",
       "      <th>17</th>\n",
       "      <th>18</th>\n",
       "      <th>19</th>\n",
       "      <th>20</th>\n",
       "      <th>21</th>\n",
       "      <th>22</th>\n",
       "      <th>23</th>\n",
       "    </tr>\n",
       "  </thead>\n",
       "  <tbody>\n",
       "    <tr>\n",
       "      <th>0</th>\n",
       "      <td>0.027072</td>\n",
       "      <td>0.361531</td>\n",
       "      <td>0.939129</td>\n",
       "      <td>0.003918</td>\n",
       "      <td>0.823210</td>\n",
       "      <td>0.061694</td>\n",
       "      <td>0.651677</td>\n",
       "      <td>0.616079</td>\n",
       "      <td>0.712576</td>\n",
       "      <td>0.683588</td>\n",
       "      <td>...</td>\n",
       "      <td>0.034888</td>\n",
       "      <td>0.002886</td>\n",
       "      <td>0.002067</td>\n",
       "      <td>0.916736</td>\n",
       "      <td>0.002435</td>\n",
       "      <td>0.109809</td>\n",
       "      <td>0.000668</td>\n",
       "      <td>0.068176</td>\n",
       "      <td>0.000500</td>\n",
       "      <td>0.001156</td>\n",
       "    </tr>\n",
       "    <tr>\n",
       "      <th>1</th>\n",
       "      <td>0.037196</td>\n",
       "      <td>0.402427</td>\n",
       "      <td>0.939128</td>\n",
       "      <td>0.003243</td>\n",
       "      <td>0.787493</td>\n",
       "      <td>0.069130</td>\n",
       "      <td>0.597077</td>\n",
       "      <td>0.532371</td>\n",
       "      <td>0.717232</td>\n",
       "      <td>0.637866</td>\n",
       "      <td>...</td>\n",
       "      <td>0.047244</td>\n",
       "      <td>0.001902</td>\n",
       "      <td>0.001646</td>\n",
       "      <td>0.877526</td>\n",
       "      <td>0.002470</td>\n",
       "      <td>0.616065</td>\n",
       "      <td>0.000499</td>\n",
       "      <td>0.144721</td>\n",
       "      <td>0.000389</td>\n",
       "      <td>0.001914</td>\n",
       "    </tr>\n",
       "    <tr>\n",
       "      <th>2</th>\n",
       "      <td>0.031253</td>\n",
       "      <td>0.493036</td>\n",
       "      <td>0.939116</td>\n",
       "      <td>0.002839</td>\n",
       "      <td>0.761323</td>\n",
       "      <td>0.061926</td>\n",
       "      <td>0.546902</td>\n",
       "      <td>0.494442</td>\n",
       "      <td>0.766475</td>\n",
       "      <td>0.652520</td>\n",
       "      <td>...</td>\n",
       "      <td>0.048334</td>\n",
       "      <td>0.001428</td>\n",
       "      <td>0.001417</td>\n",
       "      <td>0.869354</td>\n",
       "      <td>0.002028</td>\n",
       "      <td>0.733199</td>\n",
       "      <td>0.000326</td>\n",
       "      <td>0.093514</td>\n",
       "      <td>0.001116</td>\n",
       "      <td>0.003534</td>\n",
       "    </tr>\n",
       "    <tr>\n",
       "      <th>3</th>\n",
       "      <td>0.046550</td>\n",
       "      <td>0.488754</td>\n",
       "      <td>0.939106</td>\n",
       "      <td>0.002445</td>\n",
       "      <td>0.633780</td>\n",
       "      <td>0.075520</td>\n",
       "      <td>0.363914</td>\n",
       "      <td>0.435667</td>\n",
       "      <td>0.670241</td>\n",
       "      <td>0.605854</td>\n",
       "      <td>...</td>\n",
       "      <td>0.068443</td>\n",
       "      <td>0.000672</td>\n",
       "      <td>0.000769</td>\n",
       "      <td>0.752731</td>\n",
       "      <td>0.002133</td>\n",
       "      <td>0.725508</td>\n",
       "      <td>0.000169</td>\n",
       "      <td>0.307820</td>\n",
       "      <td>0.000601</td>\n",
       "      <td>0.006285</td>\n",
       "    </tr>\n",
       "    <tr>\n",
       "      <th>4</th>\n",
       "      <td>0.036426</td>\n",
       "      <td>0.371459</td>\n",
       "      <td>0.939139</td>\n",
       "      <td>0.003502</td>\n",
       "      <td>0.788536</td>\n",
       "      <td>0.060881</td>\n",
       "      <td>0.610234</td>\n",
       "      <td>0.554422</td>\n",
       "      <td>0.698486</td>\n",
       "      <td>0.612910</td>\n",
       "      <td>...</td>\n",
       "      <td>0.038522</td>\n",
       "      <td>0.002076</td>\n",
       "      <td>0.001656</td>\n",
       "      <td>0.865623</td>\n",
       "      <td>0.002968</td>\n",
       "      <td>0.243118</td>\n",
       "      <td>0.000634</td>\n",
       "      <td>0.049454</td>\n",
       "      <td>0.000400</td>\n",
       "      <td>0.000669</td>\n",
       "    </tr>\n",
       "    <tr>\n",
       "      <th>...</th>\n",
       "      <td>...</td>\n",
       "      <td>...</td>\n",
       "      <td>...</td>\n",
       "      <td>...</td>\n",
       "      <td>...</td>\n",
       "      <td>...</td>\n",
       "      <td>...</td>\n",
       "      <td>...</td>\n",
       "      <td>...</td>\n",
       "      <td>...</td>\n",
       "      <td>...</td>\n",
       "      <td>...</td>\n",
       "      <td>...</td>\n",
       "      <td>...</td>\n",
       "      <td>...</td>\n",
       "      <td>...</td>\n",
       "      <td>...</td>\n",
       "      <td>...</td>\n",
       "      <td>...</td>\n",
       "      <td>...</td>\n",
       "      <td>...</td>\n",
       "    </tr>\n",
       "    <tr>\n",
       "      <th>462293</th>\n",
       "      <td>0.064378</td>\n",
       "      <td>0.464685</td>\n",
       "      <td>0.939103</td>\n",
       "      <td>0.002215</td>\n",
       "      <td>0.668327</td>\n",
       "      <td>0.100500</td>\n",
       "      <td>0.372354</td>\n",
       "      <td>0.378064</td>\n",
       "      <td>0.654684</td>\n",
       "      <td>0.596645</td>\n",
       "      <td>...</td>\n",
       "      <td>0.100545</td>\n",
       "      <td>0.000693</td>\n",
       "      <td>0.000896</td>\n",
       "      <td>0.770290</td>\n",
       "      <td>0.002007</td>\n",
       "      <td>0.561985</td>\n",
       "      <td>0.000050</td>\n",
       "      <td>0.129321</td>\n",
       "      <td>0.001543</td>\n",
       "      <td>0.006752</td>\n",
       "    </tr>\n",
       "    <tr>\n",
       "      <th>462294</th>\n",
       "      <td>0.061957</td>\n",
       "      <td>0.587130</td>\n",
       "      <td>0.939063</td>\n",
       "      <td>0.002096</td>\n",
       "      <td>0.355411</td>\n",
       "      <td>0.108865</td>\n",
       "      <td>0.058172</td>\n",
       "      <td>0.350376</td>\n",
       "      <td>0.541658</td>\n",
       "      <td>0.624868</td>\n",
       "      <td>...</td>\n",
       "      <td>0.115082</td>\n",
       "      <td>0.000183</td>\n",
       "      <td>0.000245</td>\n",
       "      <td>0.562552</td>\n",
       "      <td>0.001685</td>\n",
       "      <td>0.545993</td>\n",
       "      <td>0.077974</td>\n",
       "      <td>0.018658</td>\n",
       "      <td>0.006314</td>\n",
       "      <td>0.004009</td>\n",
       "    </tr>\n",
       "    <tr>\n",
       "      <th>462295</th>\n",
       "      <td>0.037636</td>\n",
       "      <td>0.374868</td>\n",
       "      <td>0.939136</td>\n",
       "      <td>0.003838</td>\n",
       "      <td>0.784793</td>\n",
       "      <td>0.071337</td>\n",
       "      <td>0.620852</td>\n",
       "      <td>0.555074</td>\n",
       "      <td>0.706944</td>\n",
       "      <td>0.642418</td>\n",
       "      <td>...</td>\n",
       "      <td>0.041187</td>\n",
       "      <td>0.002239</td>\n",
       "      <td>0.001620</td>\n",
       "      <td>0.878121</td>\n",
       "      <td>0.002868</td>\n",
       "      <td>0.769883</td>\n",
       "      <td>0.000705</td>\n",
       "      <td>0.076042</td>\n",
       "      <td>0.002287</td>\n",
       "      <td>0.005885</td>\n",
       "    </tr>\n",
       "    <tr>\n",
       "      <th>462296</th>\n",
       "      <td>0.043909</td>\n",
       "      <td>0.470396</td>\n",
       "      <td>0.939131</td>\n",
       "      <td>0.003027</td>\n",
       "      <td>0.747619</td>\n",
       "      <td>0.071802</td>\n",
       "      <td>0.546641</td>\n",
       "      <td>0.457585</td>\n",
       "      <td>0.747583</td>\n",
       "      <td>0.607740</td>\n",
       "      <td>...</td>\n",
       "      <td>0.052574</td>\n",
       "      <td>0.001426</td>\n",
       "      <td>0.001316</td>\n",
       "      <td>0.834937</td>\n",
       "      <td>0.002621</td>\n",
       "      <td>0.991699</td>\n",
       "      <td>0.000444</td>\n",
       "      <td>0.135222</td>\n",
       "      <td>0.002715</td>\n",
       "      <td>0.012417</td>\n",
       "    </tr>\n",
       "    <tr>\n",
       "      <th>462297</th>\n",
       "      <td>0.048751</td>\n",
       "      <td>0.516619</td>\n",
       "      <td>0.939098</td>\n",
       "      <td>0.002289</td>\n",
       "      <td>0.624625</td>\n",
       "      <td>0.081329</td>\n",
       "      <td>0.331065</td>\n",
       "      <td>0.384066</td>\n",
       "      <td>0.676002</td>\n",
       "      <td>0.612533</td>\n",
       "      <td>...</td>\n",
       "      <td>0.078740</td>\n",
       "      <td>0.000598</td>\n",
       "      <td>0.000740</td>\n",
       "      <td>0.751980</td>\n",
       "      <td>0.001940</td>\n",
       "      <td>0.721541</td>\n",
       "      <td>0.000087</td>\n",
       "      <td>0.023335</td>\n",
       "      <td>0.003961</td>\n",
       "      <td>0.003139</td>\n",
       "    </tr>\n",
       "  </tbody>\n",
       "</table>\n",
       "<p>462298 rows × 24 columns</p>\n",
       "</div>"
      ],
      "text/plain": [
       "              0         1         2         3         4         5         6   \\\n",
       "0       0.027072  0.361531  0.939129  0.003918  0.823210  0.061694  0.651677   \n",
       "1       0.037196  0.402427  0.939128  0.003243  0.787493  0.069130  0.597077   \n",
       "2       0.031253  0.493036  0.939116  0.002839  0.761323  0.061926  0.546902   \n",
       "3       0.046550  0.488754  0.939106  0.002445  0.633780  0.075520  0.363914   \n",
       "4       0.036426  0.371459  0.939139  0.003502  0.788536  0.060881  0.610234   \n",
       "...          ...       ...       ...       ...       ...       ...       ...   \n",
       "462293  0.064378  0.464685  0.939103  0.002215  0.668327  0.100500  0.372354   \n",
       "462294  0.061957  0.587130  0.939063  0.002096  0.355411  0.108865  0.058172   \n",
       "462295  0.037636  0.374868  0.939136  0.003838  0.784793  0.071337  0.620852   \n",
       "462296  0.043909  0.470396  0.939131  0.003027  0.747619  0.071802  0.546641   \n",
       "462297  0.048751  0.516619  0.939098  0.002289  0.624625  0.081329  0.331065   \n",
       "\n",
       "              7         8         9   ...        14        15        16  \\\n",
       "0       0.616079  0.712576  0.683588  ...  0.034888  0.002886  0.002067   \n",
       "1       0.532371  0.717232  0.637866  ...  0.047244  0.001902  0.001646   \n",
       "2       0.494442  0.766475  0.652520  ...  0.048334  0.001428  0.001417   \n",
       "3       0.435667  0.670241  0.605854  ...  0.068443  0.000672  0.000769   \n",
       "4       0.554422  0.698486  0.612910  ...  0.038522  0.002076  0.001656   \n",
       "...          ...       ...       ...  ...       ...       ...       ...   \n",
       "462293  0.378064  0.654684  0.596645  ...  0.100545  0.000693  0.000896   \n",
       "462294  0.350376  0.541658  0.624868  ...  0.115082  0.000183  0.000245   \n",
       "462295  0.555074  0.706944  0.642418  ...  0.041187  0.002239  0.001620   \n",
       "462296  0.457585  0.747583  0.607740  ...  0.052574  0.001426  0.001316   \n",
       "462297  0.384066  0.676002  0.612533  ...  0.078740  0.000598  0.000740   \n",
       "\n",
       "              17        18        19        20        21        22        23  \n",
       "0       0.916736  0.002435  0.109809  0.000668  0.068176  0.000500  0.001156  \n",
       "1       0.877526  0.002470  0.616065  0.000499  0.144721  0.000389  0.001914  \n",
       "2       0.869354  0.002028  0.733199  0.000326  0.093514  0.001116  0.003534  \n",
       "3       0.752731  0.002133  0.725508  0.000169  0.307820  0.000601  0.006285  \n",
       "4       0.865623  0.002968  0.243118  0.000634  0.049454  0.000400  0.000669  \n",
       "...          ...       ...       ...       ...       ...       ...       ...  \n",
       "462293  0.770290  0.002007  0.561985  0.000050  0.129321  0.001543  0.006752  \n",
       "462294  0.562552  0.001685  0.545993  0.077974  0.018658  0.006314  0.004009  \n",
       "462295  0.878121  0.002868  0.769883  0.000705  0.076042  0.002287  0.005885  \n",
       "462296  0.834937  0.002621  0.991699  0.000444  0.135222  0.002715  0.012417  \n",
       "462297  0.751980  0.001940  0.721541  0.000087  0.023335  0.003961  0.003139  \n",
       "\n",
       "[462298 rows x 24 columns]"
      ]
     },
     "execution_count": 13,
     "metadata": {},
     "output_type": "execute_result"
    }
   ],
   "source": [
    "df_X = pd.DataFrame(X_test)\n",
    "df_X"
   ]
  },
  {
   "cell_type": "markdown",
   "id": "94b8a537-72f2-4f34-83c2-2384861a7606",
   "metadata": {},
   "source": [
    "## Classifiers"
   ]
  },
  {
   "cell_type": "markdown",
   "id": "3b0352f8-74b0-4140-bd38-f03586e16e16",
   "metadata": {},
   "source": [
    "### GridSearch/RandomSearch or testing many parameters each classifier"
   ]
  },
  {
   "cell_type": "code",
   "execution_count": 4,
   "id": "f082103c-3618-4f9d-9ff0-98cea390293d",
   "metadata": {
    "tags": []
   },
   "outputs": [],
   "source": [
    "def set_grid(est, param, cv = 10):\n",
    "    cv = GridSearchCV(\n",
    "        estimator = est,\n",
    "        param_grid = param,\n",
    "        cv = cv,\n",
    "        scoring = \"accuracy\",\n",
    "        verbose = 10,\n",
    "        n_jobs = -1\n",
    "    )\n",
    "    return cv\n",
    "\n",
    "def set_rand(est, param, cv = 10):\n",
    "    cv = RandomizedSearchCV(\n",
    "        estimator = est,\n",
    "        param_distributions = param,\n",
    "        cv = cv,\n",
    "        scoring = \"accuracy\",\n",
    "        verbose = 10,\n",
    "        n_jobs = 5\n",
    "    )\n",
    "    return cv\n",
    "\n",
    "def print_results(model_cv, X_test_s, y_test):\n",
    "    return (model_cv.best_score_, model_cv.best_params_, model_cv.score(X_test_s, y_test))\n",
    "\n",
    "def print_result(model):\n",
    "    return (model_cv.best_params_)"
   ]
  },
  {
   "cell_type": "code",
   "execution_count": 5,
   "id": "13e3b1a1-0152-4b2d-ac6f-751fff20359c",
   "metadata": {
    "tags": []
   },
   "outputs": [
    {
     "data": {
      "text/plain": [
       "['Maize', 'Rice']"
      ]
     },
     "execution_count": 5,
     "metadata": {},
     "output_type": "execute_result"
    }
   ],
   "source": [
    "#CC = df.class.unique()\n",
    "CC = ['Maize', 'Rice']\n",
    "CC"
   ]
  },
  {
   "cell_type": "code",
   "execution_count": 6,
   "id": "21b1f108-3b45-4216-961e-3a0977b33147",
   "metadata": {},
   "outputs": [
    {
     "data": {
      "text/plain": [
       "['Maize', 'Rice', 'Other']"
      ]
     },
     "execution_count": 6,
     "metadata": {},
     "output_type": "execute_result"
    }
   ],
   "source": [
    "all_classes = CC + ['Other']\n",
    "all_classes"
   ]
  },
  {
   "cell_type": "markdown",
   "id": "bb0050f4-d3e0-4719-9900-7efd0d79d1cb",
   "metadata": {},
   "source": [
    "## Generating noise to the original data to represent 'Others' class"
   ]
  },
  {
   "cell_type": "code",
   "execution_count": 378,
   "id": "241ab8ee-3854-4c5a-9ec5-fa388fab8007",
   "metadata": {},
   "outputs": [
    {
     "name": "stdout",
     "output_type": "stream",
     "text": [
      "1155744\n",
      "(1155744, 24)\n",
      "(1155744,)\n",
      "(1155744, 25)\n",
      "(3467232, 25)\n"
     ]
    }
   ],
   "source": [
    "# Extract features and labels from half of the original data as we want to generate only half\n",
    "df_half = df.sample(frac=0.5)\n",
    "X_org = df_half.iloc[:, :-1]\n",
    "y_org = df_half.iloc[:, -1]\n",
    "\n",
    "# Set the number of synthetic samples you want to generate (Half of the data to be equal class 1 or 2)\n",
    "num_synthetic_samples = X_org.shape[0]\n",
    "print(num_synthetic_samples)\n",
    "\n",
    "# Specify the mean and standard deviation for the noise\n",
    "mu, sigma = 0, 0.1\n",
    "\n",
    "# Generate synthetic noise with the same dimension as the original features\n",
    "synthetic_noise = np.random.normal(mu, sigma, size=(num_synthetic_samples, 24))\n",
    "\n",
    "# Create synthetic samples by adding noise to the original features\n",
    "synthetic_samples = X_org + synthetic_noise\n",
    "print(synthetic_samples.shape)\n",
    "\n",
    "# Label the synthetic samples as \"Others\" (or any label you prefer)\n",
    "synthetic_labels = pd.Series([3] * num_synthetic_samples, name=y_org.name)\n",
    "#synthetic_labels = pd.Series(np.tile([3], num_synthetic_samples), name=y_org.name)\n",
    "print(synthetic_labels.shape)\n",
    "\n",
    "# Combine the original and synthetic data\n",
    "new_df = pd.concat([synthetic_samples.reset_index(drop=True), synthetic_labels.reset_index(drop=True)], axis=1)\n",
    "print(new_df.shape)\n",
    "augmented_data = pd.concat([df.reset_index(drop=True), new_df.reset_index(drop=True)])\n",
    "print(augmented_data.shape)\n",
    "\n",
    "# Save the augmented dataset\n",
    "augmented_data.to_csv(\"CC_augmented_data.csv\", index=False)"
   ]
  },
  {
   "cell_type": "markdown",
   "id": "ba4492fc-8a67-45eb-8991-62d7c0178b24",
   "metadata": {},
   "source": [
    "## 2021 Augmented data"
   ]
  },
  {
   "cell_type": "code",
   "execution_count": 7,
   "id": "512c8936-f55c-4249-9bf2-1e95866ab861",
   "metadata": {},
   "outputs": [],
   "source": [
    "# Load the saved sample of data in CSV format for 2021 as train data\n",
    "df_aug = pd.read_csv('CC_augmented_data.csv')"
   ]
  },
  {
   "cell_type": "code",
   "execution_count": 8,
   "id": "b09a4054-e447-4fad-986d-26eb67936989",
   "metadata": {},
   "outputs": [
    {
     "data": {
      "text/html": [
       "<div>\n",
       "<style scoped>\n",
       "    .dataframe tbody tr th:only-of-type {\n",
       "        vertical-align: middle;\n",
       "    }\n",
       "\n",
       "    .dataframe tbody tr th {\n",
       "        vertical-align: top;\n",
       "    }\n",
       "\n",
       "    .dataframe thead th {\n",
       "        text-align: right;\n",
       "    }\n",
       "</style>\n",
       "<table border=\"1\" class=\"dataframe\">\n",
       "  <thead>\n",
       "    <tr style=\"text-align: right;\">\n",
       "      <th></th>\n",
       "      <th>blue</th>\n",
       "      <th>dbsi</th>\n",
       "      <th>evi</th>\n",
       "      <th>gi</th>\n",
       "      <th>gndvi</th>\n",
       "      <th>green</th>\n",
       "      <th>kndvi</th>\n",
       "      <th>ndci</th>\n",
       "      <th>ndpi</th>\n",
       "      <th>ndvigb</th>\n",
       "      <th>...</th>\n",
       "      <th>rvi1</th>\n",
       "      <th>rvi2</th>\n",
       "      <th>sipi</th>\n",
       "      <th>srpi</th>\n",
       "      <th>tvi</th>\n",
       "      <th>vari</th>\n",
       "      <th>VH</th>\n",
       "      <th>VV-VH</th>\n",
       "      <th>VV</th>\n",
       "      <th>class</th>\n",
       "    </tr>\n",
       "  </thead>\n",
       "  <tbody>\n",
       "    <tr>\n",
       "      <th>0</th>\n",
       "      <td>420.0</td>\n",
       "      <td>-0.182015</td>\n",
       "      <td>1.618649</td>\n",
       "      <td>1.097070</td>\n",
       "      <td>0.496850</td>\n",
       "      <td>599.0</td>\n",
       "      <td>0.274648</td>\n",
       "      <td>0.258152</td>\n",
       "      <td>0.348913</td>\n",
       "      <td>0.175662</td>\n",
       "      <td>...</td>\n",
       "      <td>3.263736</td>\n",
       "      <td>2.974958</td>\n",
       "      <td>0.618529</td>\n",
       "      <td>0.769231</td>\n",
       "      <td>10744.0</td>\n",
       "      <td>0.073103</td>\n",
       "      <td>0.012528</td>\n",
       "      <td>8.969604</td>\n",
       "      <td>0.112369</td>\n",
       "      <td>2.0</td>\n",
       "    </tr>\n",
       "    <tr>\n",
       "      <th>1</th>\n",
       "      <td>343.0</td>\n",
       "      <td>-0.113368</td>\n",
       "      <td>1.268323</td>\n",
       "      <td>1.076621</td>\n",
       "      <td>0.472570</td>\n",
       "      <td>548.0</td>\n",
       "      <td>0.245611</td>\n",
       "      <td>0.290592</td>\n",
       "      <td>0.387367</td>\n",
       "      <td>0.230079</td>\n",
       "      <td>...</td>\n",
       "      <td>3.005894</td>\n",
       "      <td>2.791971</td>\n",
       "      <td>0.633743</td>\n",
       "      <td>0.673870</td>\n",
       "      <td>62820.0</td>\n",
       "      <td>0.054622</td>\n",
       "      <td>0.009737</td>\n",
       "      <td>8.673847</td>\n",
       "      <td>0.084453</td>\n",
       "      <td>2.0</td>\n",
       "    </tr>\n",
       "    <tr>\n",
       "      <th>2</th>\n",
       "      <td>341.0</td>\n",
       "      <td>-0.250545</td>\n",
       "      <td>1.339956</td>\n",
       "      <td>1.171315</td>\n",
       "      <td>0.464481</td>\n",
       "      <td>588.0</td>\n",
       "      <td>0.268044</td>\n",
       "      <td>0.257945</td>\n",
       "      <td>0.273626</td>\n",
       "      <td>0.265877</td>\n",
       "      <td>...</td>\n",
       "      <td>3.203187</td>\n",
       "      <td>2.734694</td>\n",
       "      <td>0.650077</td>\n",
       "      <td>0.679283</td>\n",
       "      <td>4264.0</td>\n",
       "      <td>0.114820</td>\n",
       "      <td>0.008923</td>\n",
       "      <td>9.209814</td>\n",
       "      <td>0.082180</td>\n",
       "      <td>2.0</td>\n",
       "    </tr>\n",
       "    <tr>\n",
       "      <th>3</th>\n",
       "      <td>336.0</td>\n",
       "      <td>-0.315290</td>\n",
       "      <td>1.837561</td>\n",
       "      <td>1.297674</td>\n",
       "      <td>0.525106</td>\n",
       "      <td>558.0</td>\n",
       "      <td>0.358986</td>\n",
       "      <td>0.328649</td>\n",
       "      <td>0.297671</td>\n",
       "      <td>0.248322</td>\n",
       "      <td>...</td>\n",
       "      <td>4.167442</td>\n",
       "      <td>3.211470</td>\n",
       "      <td>0.684211</td>\n",
       "      <td>0.781395</td>\n",
       "      <td>21304.0</td>\n",
       "      <td>0.196319</td>\n",
       "      <td>0.005892</td>\n",
       "      <td>16.092522</td>\n",
       "      <td>0.094815</td>\n",
       "      <td>2.0</td>\n",
       "    </tr>\n",
       "    <tr>\n",
       "      <th>4</th>\n",
       "      <td>329.0</td>\n",
       "      <td>-0.254732</td>\n",
       "      <td>2.047013</td>\n",
       "      <td>1.357143</td>\n",
       "      <td>0.511478</td>\n",
       "      <td>532.0</td>\n",
       "      <td>0.361496</td>\n",
       "      <td>0.367742</td>\n",
       "      <td>0.360577</td>\n",
       "      <td>0.235772</td>\n",
       "      <td>...</td>\n",
       "      <td>4.198980</td>\n",
       "      <td>3.093985</td>\n",
       "      <td>0.666835</td>\n",
       "      <td>0.839286</td>\n",
       "      <td>15304.0</td>\n",
       "      <td>0.235294</td>\n",
       "      <td>0.010234</td>\n",
       "      <td>12.326612</td>\n",
       "      <td>0.126151</td>\n",
       "      <td>2.0</td>\n",
       "    </tr>\n",
       "  </tbody>\n",
       "</table>\n",
       "<p>5 rows × 25 columns</p>\n",
       "</div>"
      ],
      "text/plain": [
       "    blue      dbsi       evi        gi     gndvi  green     kndvi      ndci  \\\n",
       "0  420.0 -0.182015  1.618649  1.097070  0.496850  599.0  0.274648  0.258152   \n",
       "1  343.0 -0.113368  1.268323  1.076621  0.472570  548.0  0.245611  0.290592   \n",
       "2  341.0 -0.250545  1.339956  1.171315  0.464481  588.0  0.268044  0.257945   \n",
       "3  336.0 -0.315290  1.837561  1.297674  0.525106  558.0  0.358986  0.328649   \n",
       "4  329.0 -0.254732  2.047013  1.357143  0.511478  532.0  0.361496  0.367742   \n",
       "\n",
       "       ndpi    ndvigb  ...      rvi1      rvi2      sipi      srpi      tvi  \\\n",
       "0  0.348913  0.175662  ...  3.263736  2.974958  0.618529  0.769231  10744.0   \n",
       "1  0.387367  0.230079  ...  3.005894  2.791971  0.633743  0.673870  62820.0   \n",
       "2  0.273626  0.265877  ...  3.203187  2.734694  0.650077  0.679283   4264.0   \n",
       "3  0.297671  0.248322  ...  4.167442  3.211470  0.684211  0.781395  21304.0   \n",
       "4  0.360577  0.235772  ...  4.198980  3.093985  0.666835  0.839286  15304.0   \n",
       "\n",
       "       vari        VH      VV-VH        VV  class  \n",
       "0  0.073103  0.012528   8.969604  0.112369    2.0  \n",
       "1  0.054622  0.009737   8.673847  0.084453    2.0  \n",
       "2  0.114820  0.008923   9.209814  0.082180    2.0  \n",
       "3  0.196319  0.005892  16.092522  0.094815    2.0  \n",
       "4  0.235294  0.010234  12.326612  0.126151    2.0  \n",
       "\n",
       "[5 rows x 25 columns]"
      ]
     },
     "execution_count": 8,
     "metadata": {},
     "output_type": "execute_result"
    }
   ],
   "source": [
    "df_aug.head()"
   ]
  },
  {
   "cell_type": "code",
   "execution_count": 9,
   "id": "a16e03f8-929f-4d13-853a-007bf19d2473",
   "metadata": {},
   "outputs": [
    {
     "name": "stdout",
     "output_type": "stream",
     "text": [
      "<class 'pandas.core.frame.DataFrame'>\n",
      "RangeIndex: 3467232 entries, 0 to 3467231\n",
      "Data columns (total 25 columns):\n",
      " #   Column  Dtype  \n",
      "---  ------  -----  \n",
      " 0   blue    float64\n",
      " 1   dbsi    float64\n",
      " 2   evi     float64\n",
      " 3   gi      float64\n",
      " 4   gndvi   float64\n",
      " 5   green   float64\n",
      " 6   kndvi   float64\n",
      " 7   ndci    float64\n",
      " 8   ndpi    float64\n",
      " 9   ndvigb  float64\n",
      " 10  ndvi    float64\n",
      " 11  nir     float64\n",
      " 12  npci    float64\n",
      " 13  psri    float64\n",
      " 14  red     float64\n",
      " 15  rvi1    float64\n",
      " 16  rvi2    float64\n",
      " 17  sipi    float64\n",
      " 18  srpi    float64\n",
      " 19  tvi     float64\n",
      " 20  vari    float64\n",
      " 21  VH      float64\n",
      " 22  VV-VH   float64\n",
      " 23  VV      float64\n",
      " 24  class   float64\n",
      "dtypes: float64(25)\n",
      "memory usage: 661.3 MB\n"
     ]
    }
   ],
   "source": [
    "df_aug.info()"
   ]
  },
  {
   "cell_type": "code",
   "execution_count": 10,
   "id": "1215ccc5-4a1e-4c2e-ad5c-908f1c5be87a",
   "metadata": {},
   "outputs": [
    {
     "data": {
      "text/html": [
       "<div>\n",
       "<style scoped>\n",
       "    .dataframe tbody tr th:only-of-type {\n",
       "        vertical-align: middle;\n",
       "    }\n",
       "\n",
       "    .dataframe tbody tr th {\n",
       "        vertical-align: top;\n",
       "    }\n",
       "\n",
       "    .dataframe thead th {\n",
       "        text-align: right;\n",
       "    }\n",
       "</style>\n",
       "<table border=\"1\" class=\"dataframe\">\n",
       "  <thead>\n",
       "    <tr style=\"text-align: right;\">\n",
       "      <th></th>\n",
       "      <th>blue</th>\n",
       "      <th>dbsi</th>\n",
       "      <th>evi</th>\n",
       "      <th>gi</th>\n",
       "      <th>gndvi</th>\n",
       "      <th>green</th>\n",
       "      <th>kndvi</th>\n",
       "      <th>ndci</th>\n",
       "      <th>ndpi</th>\n",
       "      <th>ndvigb</th>\n",
       "      <th>...</th>\n",
       "      <th>rvi1</th>\n",
       "      <th>rvi2</th>\n",
       "      <th>sipi</th>\n",
       "      <th>srpi</th>\n",
       "      <th>tvi</th>\n",
       "      <th>vari</th>\n",
       "      <th>VH</th>\n",
       "      <th>VV-VH</th>\n",
       "      <th>VV</th>\n",
       "      <th>class</th>\n",
       "    </tr>\n",
       "  </thead>\n",
       "  <tbody>\n",
       "    <tr>\n",
       "      <th>count</th>\n",
       "      <td>3.467232e+06</td>\n",
       "      <td>3.467232e+06</td>\n",
       "      <td>3.467232e+06</td>\n",
       "      <td>3.467232e+06</td>\n",
       "      <td>3.467232e+06</td>\n",
       "      <td>3.467232e+06</td>\n",
       "      <td>3.467232e+06</td>\n",
       "      <td>3.467232e+06</td>\n",
       "      <td>3.467232e+06</td>\n",
       "      <td>3.467232e+06</td>\n",
       "      <td>...</td>\n",
       "      <td>3.467232e+06</td>\n",
       "      <td>3.467232e+06</td>\n",
       "      <td>3.467232e+06</td>\n",
       "      <td>3.467232e+06</td>\n",
       "      <td>3.467232e+06</td>\n",
       "      <td>3.467232e+06</td>\n",
       "      <td>3.467232e+06</td>\n",
       "      <td>3.467232e+06</td>\n",
       "      <td>3.467232e+06</td>\n",
       "      <td>3.467232e+06</td>\n",
       "    </tr>\n",
       "    <tr>\n",
       "      <th>mean</th>\n",
       "      <td>3.788147e+02</td>\n",
       "      <td>-2.498711e-01</td>\n",
       "      <td>2.025408e+00</td>\n",
       "      <td>1.453569e+00</td>\n",
       "      <td>6.512251e-01</td>\n",
       "      <td>6.241696e+02</td>\n",
       "      <td>4.760884e-01</td>\n",
       "      <td>3.583229e-01</td>\n",
       "      <td>4.588374e-01</td>\n",
       "      <td>2.614786e-01</td>\n",
       "      <td>...</td>\n",
       "      <td>9.367552e+00</td>\n",
       "      <td>5.766855e+00</td>\n",
       "      <td>7.674496e-01</td>\n",
       "      <td>8.302521e-01</td>\n",
       "      <td>3.226953e+04</td>\n",
       "      <td>7.787143e+00</td>\n",
       "      <td>1.831552e-02</td>\n",
       "      <td>7.327970e+00</td>\n",
       "      <td>9.600633e-02</td>\n",
       "      <td>2.000000e+00</td>\n",
       "    </tr>\n",
       "    <tr>\n",
       "      <th>std</th>\n",
       "      <td>1.855543e+02</td>\n",
       "      <td>1.658152e-01</td>\n",
       "      <td>1.611100e+01</td>\n",
       "      <td>1.105831e+00</td>\n",
       "      <td>1.605258e-01</td>\n",
       "      <td>2.035727e+02</td>\n",
       "      <td>1.944163e-01</td>\n",
       "      <td>1.492360e-01</td>\n",
       "      <td>1.233942e-01</td>\n",
       "      <td>1.038736e-01</td>\n",
       "      <td>...</td>\n",
       "      <td>2.491942e+01</td>\n",
       "      <td>3.999415e+00</td>\n",
       "      <td>1.497180e-01</td>\n",
       "      <td>2.739005e-01</td>\n",
       "      <td>1.884669e+04</td>\n",
       "      <td>1.968197e+01</td>\n",
       "      <td>5.896424e-02</td>\n",
       "      <td>1.015245e+01</td>\n",
       "      <td>9.669593e-02</td>\n",
       "      <td>8.164967e-01</td>\n",
       "    </tr>\n",
       "    <tr>\n",
       "      <th>min</th>\n",
       "      <td>6.649370e-01</td>\n",
       "      <td>-1.096173e+00</td>\n",
       "      <td>-2.726833e+04</td>\n",
       "      <td>-3.284531e-02</td>\n",
       "      <td>-2.674063e-01</td>\n",
       "      <td>1.000000e+00</td>\n",
       "      <td>-4.188174e-01</td>\n",
       "      <td>-4.190372e-01</td>\n",
       "      <td>-9.587276e-01</td>\n",
       "      <td>-9.944904e-01</td>\n",
       "      <td>...</td>\n",
       "      <td>5.238605e-01</td>\n",
       "      <td>6.879161e-01</td>\n",
       "      <td>-2.738239e-01</td>\n",
       "      <td>-2.120017e-01</td>\n",
       "      <td>-2.038291e-01</td>\n",
       "      <td>-3.614009e-01</td>\n",
       "      <td>-4.797642e-01</td>\n",
       "      <td>-3.736762e-02</td>\n",
       "      <td>-4.111960e-01</td>\n",
       "      <td>1.000000e+00</td>\n",
       "    </tr>\n",
       "    <tr>\n",
       "      <th>25%</th>\n",
       "      <td>2.770000e+02</td>\n",
       "      <td>-3.546255e-01</td>\n",
       "      <td>1.711691e+00</td>\n",
       "      <td>1.159908e+00</td>\n",
       "      <td>5.747765e-01</td>\n",
       "      <td>5.020000e+02</td>\n",
       "      <td>3.805259e-01</td>\n",
       "      <td>2.674163e-01</td>\n",
       "      <td>3.905429e-01</td>\n",
       "      <td>1.964854e-01</td>\n",
       "      <td>...</td>\n",
       "      <td>4.605210e+00</td>\n",
       "      <td>3.855176e+00</td>\n",
       "      <td>7.089911e-01</td>\n",
       "      <td>6.880071e-01</td>\n",
       "      <td>1.592400e+04</td>\n",
       "      <td>1.896024e-01</td>\n",
       "      <td>7.184722e-03</td>\n",
       "      <td>3.021160e+00</td>\n",
       "      <td>4.284088e-02</td>\n",
       "      <td>1.000000e+00</td>\n",
       "    </tr>\n",
       "    <tr>\n",
       "      <th>50%</th>\n",
       "      <td>3.487339e+02</td>\n",
       "      <td>-2.856330e-01</td>\n",
       "      <td>2.187130e+00</td>\n",
       "      <td>1.404846e+00</td>\n",
       "      <td>6.830136e-01</td>\n",
       "      <td>6.020000e+02</td>\n",
       "      <td>5.237998e-01</td>\n",
       "      <td>3.667582e-01</td>\n",
       "      <td>4.737281e-01</td>\n",
       "      <td>2.569779e-01</td>\n",
       "      <td>...</td>\n",
       "      <td>7.556522e+00</td>\n",
       "      <td>5.370769e+00</td>\n",
       "      <td>8.038109e-01</td>\n",
       "      <td>8.037037e-01</td>\n",
       "      <td>3.189200e+04</td>\n",
       "      <td>3.333333e-01</td>\n",
       "      <td>1.573140e-02</td>\n",
       "      <td>4.995420e+00</td>\n",
       "      <td>8.461265e-02</td>\n",
       "      <td>2.000000e+00</td>\n",
       "    </tr>\n",
       "    <tr>\n",
       "      <th>75%</th>\n",
       "      <td>4.360000e+02</td>\n",
       "      <td>-1.829821e-01</td>\n",
       "      <td>2.513941e+00</td>\n",
       "      <td>1.709080e+00</td>\n",
       "      <td>7.629382e-01</td>\n",
       "      <td>7.090000e+02</td>\n",
       "      <td>6.211531e-01</td>\n",
       "      <td>4.636449e-01</td>\n",
       "      <td>5.372411e-01</td>\n",
       "      <td>3.211991e-01</td>\n",
       "      <td>...</td>\n",
       "      <td>1.239721e+01</td>\n",
       "      <td>7.264755e+00</td>\n",
       "      <td>8.656898e-01</td>\n",
       "      <td>9.480367e-01</td>\n",
       "      <td>4.849200e+04</td>\n",
       "      <td>5.013405e-01</td>\n",
       "      <td>2.989678e-02</td>\n",
       "      <td>8.413568e+00</td>\n",
       "      <td>1.382617e-01</td>\n",
       "      <td>3.000000e+00</td>\n",
       "    </tr>\n",
       "    <tr>\n",
       "      <th>max</th>\n",
       "      <td>9.088029e+03</td>\n",
       "      <td>7.388367e-01</td>\n",
       "      <td>1.770000e+03</td>\n",
       "      <td>4.690000e+02</td>\n",
       "      <td>1.312550e+00</td>\n",
       "      <td>8.608000e+03</td>\n",
       "      <td>1.304162e+00</td>\n",
       "      <td>1.221380e+00</td>\n",
       "      <td>1.077875e+00</td>\n",
       "      <td>1.254667e+00</td>\n",
       "      <td>...</td>\n",
       "      <td>5.304218e+03</td>\n",
       "      <td>3.852000e+03</td>\n",
       "      <td>1.336948e+00</td>\n",
       "      <td>3.490000e+02</td>\n",
       "      <td>6.553223e+04</td>\n",
       "      <td>6.342039e+02</td>\n",
       "      <td>5.513598e-01</td>\n",
       "      <td>3.231421e+03</td>\n",
       "      <td>2.422261e+01</td>\n",
       "      <td>3.000000e+00</td>\n",
       "    </tr>\n",
       "  </tbody>\n",
       "</table>\n",
       "<p>8 rows × 25 columns</p>\n",
       "</div>"
      ],
      "text/plain": [
       "               blue          dbsi           evi            gi         gndvi  \\\n",
       "count  3.467232e+06  3.467232e+06  3.467232e+06  3.467232e+06  3.467232e+06   \n",
       "mean   3.788147e+02 -2.498711e-01  2.025408e+00  1.453569e+00  6.512251e-01   \n",
       "std    1.855543e+02  1.658152e-01  1.611100e+01  1.105831e+00  1.605258e-01   \n",
       "min    6.649370e-01 -1.096173e+00 -2.726833e+04 -3.284531e-02 -2.674063e-01   \n",
       "25%    2.770000e+02 -3.546255e-01  1.711691e+00  1.159908e+00  5.747765e-01   \n",
       "50%    3.487339e+02 -2.856330e-01  2.187130e+00  1.404846e+00  6.830136e-01   \n",
       "75%    4.360000e+02 -1.829821e-01  2.513941e+00  1.709080e+00  7.629382e-01   \n",
       "max    9.088029e+03  7.388367e-01  1.770000e+03  4.690000e+02  1.312550e+00   \n",
       "\n",
       "              green         kndvi          ndci          ndpi        ndvigb  \\\n",
       "count  3.467232e+06  3.467232e+06  3.467232e+06  3.467232e+06  3.467232e+06   \n",
       "mean   6.241696e+02  4.760884e-01  3.583229e-01  4.588374e-01  2.614786e-01   \n",
       "std    2.035727e+02  1.944163e-01  1.492360e-01  1.233942e-01  1.038736e-01   \n",
       "min    1.000000e+00 -4.188174e-01 -4.190372e-01 -9.587276e-01 -9.944904e-01   \n",
       "25%    5.020000e+02  3.805259e-01  2.674163e-01  3.905429e-01  1.964854e-01   \n",
       "50%    6.020000e+02  5.237998e-01  3.667582e-01  4.737281e-01  2.569779e-01   \n",
       "75%    7.090000e+02  6.211531e-01  4.636449e-01  5.372411e-01  3.211991e-01   \n",
       "max    8.608000e+03  1.304162e+00  1.221380e+00  1.077875e+00  1.254667e+00   \n",
       "\n",
       "       ...          rvi1          rvi2          sipi          srpi  \\\n",
       "count  ...  3.467232e+06  3.467232e+06  3.467232e+06  3.467232e+06   \n",
       "mean   ...  9.367552e+00  5.766855e+00  7.674496e-01  8.302521e-01   \n",
       "std    ...  2.491942e+01  3.999415e+00  1.497180e-01  2.739005e-01   \n",
       "min    ...  5.238605e-01  6.879161e-01 -2.738239e-01 -2.120017e-01   \n",
       "25%    ...  4.605210e+00  3.855176e+00  7.089911e-01  6.880071e-01   \n",
       "50%    ...  7.556522e+00  5.370769e+00  8.038109e-01  8.037037e-01   \n",
       "75%    ...  1.239721e+01  7.264755e+00  8.656898e-01  9.480367e-01   \n",
       "max    ...  5.304218e+03  3.852000e+03  1.336948e+00  3.490000e+02   \n",
       "\n",
       "                tvi          vari            VH         VV-VH            VV  \\\n",
       "count  3.467232e+06  3.467232e+06  3.467232e+06  3.467232e+06  3.467232e+06   \n",
       "mean   3.226953e+04  7.787143e+00  1.831552e-02  7.327970e+00  9.600633e-02   \n",
       "std    1.884669e+04  1.968197e+01  5.896424e-02  1.015245e+01  9.669593e-02   \n",
       "min   -2.038291e-01 -3.614009e-01 -4.797642e-01 -3.736762e-02 -4.111960e-01   \n",
       "25%    1.592400e+04  1.896024e-01  7.184722e-03  3.021160e+00  4.284088e-02   \n",
       "50%    3.189200e+04  3.333333e-01  1.573140e-02  4.995420e+00  8.461265e-02   \n",
       "75%    4.849200e+04  5.013405e-01  2.989678e-02  8.413568e+00  1.382617e-01   \n",
       "max    6.553223e+04  6.342039e+02  5.513598e-01  3.231421e+03  2.422261e+01   \n",
       "\n",
       "              class  \n",
       "count  3.467232e+06  \n",
       "mean   2.000000e+00  \n",
       "std    8.164967e-01  \n",
       "min    1.000000e+00  \n",
       "25%    1.000000e+00  \n",
       "50%    2.000000e+00  \n",
       "75%    3.000000e+00  \n",
       "max    3.000000e+00  \n",
       "\n",
       "[8 rows x 25 columns]"
      ]
     },
     "execution_count": 10,
     "metadata": {},
     "output_type": "execute_result"
    }
   ],
   "source": [
    "df_aug.describe()"
   ]
  },
  {
   "cell_type": "code",
   "execution_count": 11,
   "id": "b1fbc58d-6444-4e44-a1fb-06498d971902",
   "metadata": {},
   "outputs": [
    {
     "data": {
      "text/plain": [
       "2.0    1155744\n",
       "1.0    1155744\n",
       "3.0    1155744\n",
       "Name: class, dtype: int64"
      ]
     },
     "execution_count": 11,
     "metadata": {},
     "output_type": "execute_result"
    }
   ],
   "source": [
    "df_aug['class'].value_counts()"
   ]
  },
  {
   "cell_type": "code",
   "execution_count": 12,
   "id": "599ed32c-d3d6-48c8-9ab5-77327118e0db",
   "metadata": {},
   "outputs": [
    {
     "data": {
      "text/plain": [
       "0"
      ]
     },
     "execution_count": 12,
     "metadata": {},
     "output_type": "execute_result"
    }
   ],
   "source": [
    "np.isinf(df_aug).values.sum()"
   ]
  },
  {
   "cell_type": "code",
   "execution_count": 13,
   "id": "9fa5dc73-5cab-4054-a846-013ed9d10511",
   "metadata": {},
   "outputs": [
    {
     "data": {
      "text/plain": [
       "blue      0\n",
       "dbsi      0\n",
       "evi       0\n",
       "gi        0\n",
       "gndvi     0\n",
       "green     0\n",
       "kndvi     0\n",
       "ndci      0\n",
       "ndpi      0\n",
       "ndvigb    0\n",
       "ndvi      0\n",
       "nir       0\n",
       "npci      0\n",
       "psri      0\n",
       "red       0\n",
       "rvi1      0\n",
       "rvi2      0\n",
       "sipi      0\n",
       "srpi      0\n",
       "tvi       0\n",
       "vari      0\n",
       "VH        0\n",
       "VV-VH     0\n",
       "VV        0\n",
       "class     0\n",
       "dtype: int64"
      ]
     },
     "execution_count": 13,
     "metadata": {},
     "output_type": "execute_result"
    }
   ],
   "source": [
    "df_aug.isnull().sum()"
   ]
  },
  {
   "cell_type": "markdown",
   "id": "4bf34527-319e-4c1c-8683-324f948757aa",
   "metadata": {},
   "source": [
    "## Train and test sets: 2021 Augmented data"
   ]
  },
  {
   "cell_type": "code",
   "execution_count": 14,
   "id": "86c6d4f1-566c-45cd-8739-40ad36f2697d",
   "metadata": {},
   "outputs": [],
   "source": [
    "# Separate features (X) and labels (y)\n",
    "X_new = df_aug.iloc[:, :-1]\n",
    "y_new = df_aug.iloc[:, -1]\n",
    "\n",
    "# Apply MinMax scaling\n",
    "scaler = MinMaxScaler()\n",
    "X_scaled = pd.DataFrame(scaler.fit_transform(X_new), columns=X_new.columns)\n",
    "\n",
    "# Apply horizontal flipping\n",
    "X_flipped_horizontal = pd.DataFrame(np.fliplr(X_scaled.values), columns=X_new.columns)\n",
    "\n",
    "# Multiply the labels (y) by 2\n",
    "y_aug = pd.concat([y_new] * 2, axis=0, ignore_index=True)\n",
    "\n",
    "# Concatenate the augmented features\n",
    "X_aug = pd.concat([X_scaled, X_flipped_horizontal], axis=0, ignore_index=True)"
   ]
  },
  {
   "cell_type": "code",
   "execution_count": 15,
   "id": "24dd4add-a2e5-4445-9c39-c18e80c49da1",
   "metadata": {},
   "outputs": [],
   "source": [
    "# Save the scaler object\n",
    "with open('models/CC/scaler.pkl', 'wb') as f:\n",
    "    pickle.dump(scaler, f)"
   ]
  },
  {
   "cell_type": "code",
   "execution_count": 16,
   "id": "2ee60272-0d82-45a3-abed-7a407e77922b",
   "metadata": {},
   "outputs": [
    {
     "name": "stdout",
     "output_type": "stream",
     "text": [
      "(6934464, 24)\n",
      "(6934464,)\n"
     ]
    }
   ],
   "source": [
    "print(X_aug.shape)\n",
    "print(y_aug.shape)"
   ]
  },
  {
   "cell_type": "code",
   "execution_count": 17,
   "id": "66c204b5-1757-405c-88a5-87311085f5ba",
   "metadata": {},
   "outputs": [
    {
     "data": {
      "text/html": [
       "<div>\n",
       "<style scoped>\n",
       "    .dataframe tbody tr th:only-of-type {\n",
       "        vertical-align: middle;\n",
       "    }\n",
       "\n",
       "    .dataframe tbody tr th {\n",
       "        vertical-align: top;\n",
       "    }\n",
       "\n",
       "    .dataframe thead th {\n",
       "        text-align: right;\n",
       "    }\n",
       "</style>\n",
       "<table border=\"1\" class=\"dataframe\">\n",
       "  <thead>\n",
       "    <tr style=\"text-align: right;\">\n",
       "      <th></th>\n",
       "      <th>blue</th>\n",
       "      <th>dbsi</th>\n",
       "      <th>evi</th>\n",
       "      <th>gi</th>\n",
       "      <th>gndvi</th>\n",
       "      <th>green</th>\n",
       "      <th>kndvi</th>\n",
       "      <th>ndci</th>\n",
       "      <th>ndpi</th>\n",
       "      <th>ndvigb</th>\n",
       "      <th>...</th>\n",
       "      <th>rvi1</th>\n",
       "      <th>rvi2</th>\n",
       "      <th>sipi</th>\n",
       "      <th>srpi</th>\n",
       "      <th>tvi</th>\n",
       "      <th>vari</th>\n",
       "      <th>VH</th>\n",
       "      <th>VV-VH</th>\n",
       "      <th>VV</th>\n",
       "      <th>class</th>\n",
       "    </tr>\n",
       "  </thead>\n",
       "  <tbody>\n",
       "    <tr>\n",
       "      <th>0</th>\n",
       "      <td>0.046145</td>\n",
       "      <td>0.498176</td>\n",
       "      <td>0.939102</td>\n",
       "      <td>0.002409</td>\n",
       "      <td>0.483720</td>\n",
       "      <td>0.069478</td>\n",
       "      <td>0.402481</td>\n",
       "      <td>0.412815</td>\n",
       "      <td>0.642070</td>\n",
       "      <td>0.520263</td>\n",
       "      <td>...</td>\n",
       "      <td>0.000517</td>\n",
       "      <td>0.000594</td>\n",
       "      <td>0.553991</td>\n",
       "      <td>0.002810</td>\n",
       "      <td>0.163952</td>\n",
       "      <td>0.000685</td>\n",
       "      <td>0.477432</td>\n",
       "      <td>0.002787</td>\n",
       "      <td>0.021254</td>\n",
       "      <td>2.0</td>\n",
       "    </tr>\n",
       "    <tr>\n",
       "      <th>1</th>\n",
       "      <td>0.037672</td>\n",
       "      <td>0.535585</td>\n",
       "      <td>0.939090</td>\n",
       "      <td>0.002365</td>\n",
       "      <td>0.468352</td>\n",
       "      <td>0.063553</td>\n",
       "      <td>0.385627</td>\n",
       "      <td>0.432591</td>\n",
       "      <td>0.660951</td>\n",
       "      <td>0.544457</td>\n",
       "      <td>...</td>\n",
       "      <td>0.000468</td>\n",
       "      <td>0.000546</td>\n",
       "      <td>0.563436</td>\n",
       "      <td>0.002537</td>\n",
       "      <td>0.958612</td>\n",
       "      <td>0.000656</td>\n",
       "      <td>0.474725</td>\n",
       "      <td>0.002696</td>\n",
       "      <td>0.020121</td>\n",
       "      <td>2.0</td>\n",
       "    </tr>\n",
       "    <tr>\n",
       "      <th>2</th>\n",
       "      <td>0.037451</td>\n",
       "      <td>0.460830</td>\n",
       "      <td>0.939092</td>\n",
       "      <td>0.002567</td>\n",
       "      <td>0.463233</td>\n",
       "      <td>0.068200</td>\n",
       "      <td>0.398647</td>\n",
       "      <td>0.412689</td>\n",
       "      <td>0.605103</td>\n",
       "      <td>0.560373</td>\n",
       "      <td>...</td>\n",
       "      <td>0.000505</td>\n",
       "      <td>0.000531</td>\n",
       "      <td>0.573576</td>\n",
       "      <td>0.002552</td>\n",
       "      <td>0.065070</td>\n",
       "      <td>0.000750</td>\n",
       "      <td>0.473936</td>\n",
       "      <td>0.002862</td>\n",
       "      <td>0.020028</td>\n",
       "      <td>2.0</td>\n",
       "    </tr>\n",
       "    <tr>\n",
       "      <th>3</th>\n",
       "      <td>0.036901</td>\n",
       "      <td>0.425547</td>\n",
       "      <td>0.939109</td>\n",
       "      <td>0.002837</td>\n",
       "      <td>0.501604</td>\n",
       "      <td>0.064715</td>\n",
       "      <td>0.451429</td>\n",
       "      <td>0.455791</td>\n",
       "      <td>0.616909</td>\n",
       "      <td>0.552568</td>\n",
       "      <td>...</td>\n",
       "      <td>0.000687</td>\n",
       "      <td>0.000655</td>\n",
       "      <td>0.594767</td>\n",
       "      <td>0.002845</td>\n",
       "      <td>0.325094</td>\n",
       "      <td>0.000879</td>\n",
       "      <td>0.470997</td>\n",
       "      <td>0.004992</td>\n",
       "      <td>0.020541</td>\n",
       "      <td>2.0</td>\n",
       "    </tr>\n",
       "    <tr>\n",
       "      <th>4</th>\n",
       "      <td>0.036131</td>\n",
       "      <td>0.458548</td>\n",
       "      <td>0.939117</td>\n",
       "      <td>0.002964</td>\n",
       "      <td>0.492979</td>\n",
       "      <td>0.061694</td>\n",
       "      <td>0.452886</td>\n",
       "      <td>0.479621</td>\n",
       "      <td>0.647797</td>\n",
       "      <td>0.546988</td>\n",
       "      <td>...</td>\n",
       "      <td>0.000693</td>\n",
       "      <td>0.000625</td>\n",
       "      <td>0.583980</td>\n",
       "      <td>0.003010</td>\n",
       "      <td>0.233536</td>\n",
       "      <td>0.000940</td>\n",
       "      <td>0.475208</td>\n",
       "      <td>0.003826</td>\n",
       "      <td>0.021813</td>\n",
       "      <td>2.0</td>\n",
       "    </tr>\n",
       "  </tbody>\n",
       "</table>\n",
       "<p>5 rows × 25 columns</p>\n",
       "</div>"
      ],
      "text/plain": [
       "       blue      dbsi       evi        gi     gndvi     green     kndvi  \\\n",
       "0  0.046145  0.498176  0.939102  0.002409  0.483720  0.069478  0.402481   \n",
       "1  0.037672  0.535585  0.939090  0.002365  0.468352  0.063553  0.385627   \n",
       "2  0.037451  0.460830  0.939092  0.002567  0.463233  0.068200  0.398647   \n",
       "3  0.036901  0.425547  0.939109  0.002837  0.501604  0.064715  0.451429   \n",
       "4  0.036131  0.458548  0.939117  0.002964  0.492979  0.061694  0.452886   \n",
       "\n",
       "       ndci      ndpi    ndvigb  ...      rvi1      rvi2      sipi      srpi  \\\n",
       "0  0.412815  0.642070  0.520263  ...  0.000517  0.000594  0.553991  0.002810   \n",
       "1  0.432591  0.660951  0.544457  ...  0.000468  0.000546  0.563436  0.002537   \n",
       "2  0.412689  0.605103  0.560373  ...  0.000505  0.000531  0.573576  0.002552   \n",
       "3  0.455791  0.616909  0.552568  ...  0.000687  0.000655  0.594767  0.002845   \n",
       "4  0.479621  0.647797  0.546988  ...  0.000693  0.000625  0.583980  0.003010   \n",
       "\n",
       "        tvi      vari        VH     VV-VH        VV  class  \n",
       "0  0.163952  0.000685  0.477432  0.002787  0.021254    2.0  \n",
       "1  0.958612  0.000656  0.474725  0.002696  0.020121    2.0  \n",
       "2  0.065070  0.000750  0.473936  0.002862  0.020028    2.0  \n",
       "3  0.325094  0.000879  0.470997  0.004992  0.020541    2.0  \n",
       "4  0.233536  0.000940  0.475208  0.003826  0.021813    2.0  \n",
       "\n",
       "[5 rows x 25 columns]"
      ]
     },
     "execution_count": 17,
     "metadata": {},
     "output_type": "execute_result"
    }
   ],
   "source": [
    "# Concatenate the augmented features and labels\n",
    "df_aug_flp = pd.concat([X_aug, y_aug], axis=1, ignore_index=False)\n",
    "df_aug_flp.head()"
   ]
  },
  {
   "cell_type": "code",
   "execution_count": 18,
   "id": "bd6b5a8b-20a6-45c1-93e3-9deda8257ad1",
   "metadata": {},
   "outputs": [
    {
     "name": "stdout",
     "output_type": "stream",
     "text": [
      "(5547571, 24)\n",
      "(1386893, 24)\n",
      "(5547571,)\n",
      "(1386893,)\n",
      "Unique values in y_train_aug: [3. 2. 1.]\n",
      "Unique values in y_test_aug: [1. 2. 3.]\n"
     ]
    }
   ],
   "source": [
    "# Creating training and test sets\n",
    "# Splitting the data into train and test\n",
    "X_aug_flp = df_aug_flp.iloc[:, :-1]\n",
    "y_aug_flp = df_aug_flp.iloc[:, -1]\n",
    "\n",
    "# Rescaling the features\n",
    "#scaler=MinMaxScaler()\n",
    "#X_aug=scaler.fit_transform(X_aug)\n",
    "\n",
    "# train test split with train_size=80% and test_size=20%\n",
    "X_train_aug, X_test_aug, y_train_aug, y_test_aug = train_test_split(X_aug_flp, y_aug_flp, train_size=0.80, random_state=101)\n",
    "print(X_train_aug.shape)\n",
    "print(X_test_aug.shape)\n",
    "print(y_train_aug.shape)\n",
    "print(y_test_aug.shape)\n",
    "print(\"Unique values in y_train_aug:\", y_train_aug.unique())\n",
    "print(\"Unique values in y_test_aug:\", y_test_aug.unique())"
   ]
  },
  {
   "cell_type": "markdown",
   "id": "ac0afa38-0a2b-4e33-9330-dfebdd571128",
   "metadata": {},
   "source": [
    "### Classifiers"
   ]
  },
  {
   "cell_type": "markdown",
   "id": "1ba8e4f7-8f9c-48f7-b699-1b0669f747d6",
   "metadata": {},
   "source": [
    "Apply different classifiers on the augemented data, as it has 3 classes (Maize, Rice and Others)"
   ]
  },
  {
   "cell_type": "markdown",
   "id": "856ded07-5c40-4fd3-bf2a-cd901ad6c737",
   "metadata": {},
   "source": [
    "### KNeighborsClassifier"
   ]
  },
  {
   "cell_type": "code",
   "execution_count": 19,
   "id": "37dba930-f61c-464f-b112-e1e4b052dc05",
   "metadata": {
    "tags": []
   },
   "outputs": [
    {
     "data": {
      "text/plain": [
       "{'cv': 10,\n",
       " 'error_score': nan,\n",
       " 'estimator__algorithm': 'auto',\n",
       " 'estimator__leaf_size': 30,\n",
       " 'estimator__metric': 'minkowski',\n",
       " 'estimator__metric_params': None,\n",
       " 'estimator__n_jobs': None,\n",
       " 'estimator__n_neighbors': 5,\n",
       " 'estimator__p': 2,\n",
       " 'estimator__weights': 'uniform',\n",
       " 'estimator': KNeighborsClassifier(),\n",
       " 'n_iter': 10,\n",
       " 'n_jobs': 5,\n",
       " 'param_distributions': {'n_neighbors': range(3, 6)},\n",
       " 'pre_dispatch': '2*n_jobs',\n",
       " 'random_state': None,\n",
       " 'refit': True,\n",
       " 'return_train_score': False,\n",
       " 'scoring': 'accuracy',\n",
       " 'verbose': 10}"
      ]
     },
     "execution_count": 19,
     "metadata": {},
     "output_type": "execute_result"
    }
   ],
   "source": [
    "knn = KNeighborsClassifier()\n",
    "param_cv = {\"n_neighbors\" : range(3, 6)}\n",
    "\n",
    "knn_cv = set_rand(knn, param_cv)\n",
    "knn_cv.get_params()"
   ]
  },
  {
   "cell_type": "code",
   "execution_count": 20,
   "id": "ecf95f73-4fc2-4aae-b90c-d6636536736c",
   "metadata": {
    "tags": []
   },
   "outputs": [
    {
     "name": "stdout",
     "output_type": "stream",
     "text": [
      "2024-06-10 21:38:23.897368\n",
      "Fitting 10 folds for each of 3 candidates, totalling 30 fits\n",
      "2024-06-11 09:06:55.983861\n"
     ]
    }
   ],
   "source": [
    "print(datetime.datetime.now())\n",
    "with parallel_backend('multiprocessing'):\n",
    "    knn_cv.fit(X_train_aug, y_train_aug)\n",
    "print(datetime.datetime.now())"
   ]
  },
  {
   "cell_type": "code",
   "execution_count": 21,
   "id": "4c30baea-c32b-4ef7-b1db-5cbafa354f54",
   "metadata": {
    "tags": []
   },
   "outputs": [
    {
     "data": {
      "text/plain": [
       "(0.897203839263257, {'n_neighbors': 3}, 0.8988083435420036)"
      ]
     },
     "execution_count": 21,
     "metadata": {},
     "output_type": "execute_result"
    }
   ],
   "source": [
    "print_results(knn_cv, X_test_aug, y_test_aug)"
   ]
  },
  {
   "cell_type": "code",
   "execution_count": 22,
   "id": "aa0cf594-c609-4199-a871-8fa441550b42",
   "metadata": {},
   "outputs": [
    {
     "name": "stdout",
     "output_type": "stream",
     "text": [
      "2024-06-11 12:53:04.200740\n",
      "2024-06-11 14:01:06.385919\n"
     ]
    }
   ],
   "source": [
    "print(datetime.datetime.now())\n",
    "y_pred_knn = knn_cv.predict(X_test_aug)\n",
    "print(datetime.datetime.now())"
   ]
  },
  {
   "cell_type": "code",
   "execution_count": 23,
   "id": "7efe8d77-82b9-40d7-a423-a4c41af407dc",
   "metadata": {
    "tags": []
   },
   "outputs": [
    {
     "data": {
      "text/plain": [
       "array([[415224,  47017,      7],\n",
       "       [ 56740, 405573,      6],\n",
       "       [ 17407,  19165, 425754]], dtype=int64)"
      ]
     },
     "execution_count": 23,
     "metadata": {},
     "output_type": "execute_result"
    }
   ],
   "source": [
    "# evaluation: Confusion Matrix\n",
    "confusion_knn = metrics.confusion_matrix(y_true = y_test_aug, y_pred = y_pred_knn)\n",
    "confusion_knn"
   ]
  },
  {
   "cell_type": "code",
   "execution_count": 24,
   "id": "22a0eb5c-f288-4e1c-8590-87c78088c528",
   "metadata": {
    "tags": []
   },
   "outputs": [
    {
     "name": "stdout",
     "output_type": "stream",
     "text": [
      "Saving figure KNeighbors_cm\n"
     ]
    },
    {
     "data": {
      "image/png": "[encoded data removed]",
      "text/plain": [
       "<Figure size 1000x700 with 2 Axes>"
      ]
     },
     "metadata": {},
     "output_type": "display_data"
    }
   ],
   "source": [
    "df_cm_knn = pd.DataFrame(confusion_knn, index = [i for i in all_classes],\n",
    "                  columns = [i for i in all_classes])\n",
    "plt.figure(figsize = (10,7))\n",
    "sns.heatmap(df_cm_knn, annot=True,fmt='d',cmap=plt.cm.Blues)\n",
    "save_fig(\"KNeighbors_cm\")"
   ]
  },
  {
   "cell_type": "code",
   "execution_count": 25,
   "id": "553c091c-95af-483e-b316-3e5e2a471c1e",
   "metadata": {
    "tags": []
   },
   "outputs": [
    {
     "name": "stdout",
     "output_type": "stream",
     "text": [
      "Accuracy: 0.899\n",
      "Recall: 0.899\n",
      "Precision: 0.903\n",
      "F1-Score: 0.900\n"
     ]
    }
   ],
   "source": [
    "# measure accuracy\n",
    "print('Accuracy: %.3f' % metrics.accuracy_score(y_true=y_test_aug, y_pred=y_pred_knn))\n",
    "print('Recall: %.3f' % metrics.recall_score(y_true=y_test_aug, y_pred=y_pred_knn, average='weighted'))\n",
    "print('Precision: %.3f' % metrics.precision_score(y_true=y_test_aug, y_pred=y_pred_knn, average='weighted'))\n",
    "print('F1-Score: %.3f' % metrics.f1_score(y_true=y_test_aug, y_pred=y_pred_knn, average='weighted'))"
   ]
  },
  {
   "cell_type": "code",
   "execution_count": 26,
   "id": "be55bcd5-4d47-4826-a8fd-fd635c1bdbc3",
   "metadata": {
    "tags": []
   },
   "outputs": [],
   "source": [
    "# Save model as pkl file \n",
    "pickle.dump(knn_cv, open('models/CC/knn_cv.pkl', 'wb'))\n",
    "#pickled_model = pickle.load(open('models/CC/knn_cv.pkl', 'rb'))\n",
    "#pickled_model.predict(X_test)"
   ]
  },
  {
   "cell_type": "markdown",
   "id": "88ced9e2-e927-4422-981f-67f7f11b234f",
   "metadata": {},
   "source": [
    "### DecisionTreeClassifier"
   ]
  },
  {
   "cell_type": "code",
   "execution_count": 20,
   "id": "e2980046-1a78-4716-b1f8-1a72af0fd6db",
   "metadata": {},
   "outputs": [
    {
     "data": {
      "text/plain": [
       "<bound method BaseEstimator.get_params of RandomizedSearchCV(cv=10, estimator=DecisionTreeClassifier(criterion='entropy'),\n",
       "                   n_jobs=5,\n",
       "                   param_distributions={'max_depth': [20, 22, 25],\n",
       "                                        'min_samples_split': [50, 80, 100]},\n",
       "                   scoring='accuracy', verbose=10)>"
      ]
     },
     "execution_count": 20,
     "metadata": {},
     "output_type": "execute_result"
    }
   ],
   "source": [
    "dt = DecisionTreeClassifier(criterion='entropy')\n",
    "param_cv = {\"max_depth\" : [20, 22, 25], \"min_samples_split\" : [50,80,100]}\n",
    "dt_cv = set_rand(dt, param_cv)\n",
    "dt_cv.get_params"
   ]
  },
  {
   "cell_type": "code",
   "execution_count": 21,
   "id": "17b57438-df87-46fc-903d-1758bb0d7729",
   "metadata": {
    "tags": []
   },
   "outputs": [
    {
     "name": "stdout",
     "output_type": "stream",
     "text": [
      "2024-06-10 11:16:17.005417\n",
      "Fitting 10 folds for each of 9 candidates, totalling 90 fits\n",
      "2024-06-10 13:27:00.301943\n"
     ]
    }
   ],
   "source": [
    "print(datetime.datetime.now())\n",
    "with parallel_backend('multiprocessing'):\n",
    "    dt_cv.fit(X_train_aug, y_train_aug)\n",
    "print(datetime.datetime.now())"
   ]
  },
  {
   "cell_type": "code",
   "execution_count": 22,
   "id": "111e005b-969e-4e28-b77c-5f53ad829c0e",
   "metadata": {},
   "outputs": [
    {
     "data": {
      "text/plain": [
       "(0.9177229096443149,\n",
       " {'min_samples_split': 50, 'max_depth': 25},\n",
       " 0.9181818640659373)"
      ]
     },
     "execution_count": 22,
     "metadata": {},
     "output_type": "execute_result"
    }
   ],
   "source": [
    "print_results(dt_cv, X_test_aug, y_test_aug)"
   ]
  },
  {
   "cell_type": "code",
   "execution_count": 23,
   "id": "7e65389c-c174-40a3-a7b7-daa50bd5e5e0",
   "metadata": {},
   "outputs": [
    {
     "name": "stdout",
     "output_type": "stream",
     "text": [
      "2024-06-10 13:34:19.213160\n",
      "2024-06-10 13:34:19.558976\n"
     ]
    }
   ],
   "source": [
    "print(datetime.datetime.now())\n",
    "y_pred_dt = dt_cv.predict(X_test_aug)\n",
    "print(datetime.datetime.now())"
   ]
  },
  {
   "cell_type": "code",
   "execution_count": 26,
   "id": "5899e802-d055-4b4d-a5a3-03a77c674b19",
   "metadata": {
    "tags": []
   },
   "outputs": [
    {
     "data": {
      "text/plain": [
       "array([[417282,  42579,   2387],\n",
       "       [ 55218, 405027,   2074],\n",
       "       [  7168,   4047, 451111]], dtype=int64)"
      ]
     },
     "execution_count": 26,
     "metadata": {},
     "output_type": "execute_result"
    }
   ],
   "source": [
    "# evaluation: Confusion Matrix\n",
    "confusion_dt = metrics.confusion_matrix(y_true = y_test_aug, y_pred = dt_cv.predict(X_test_aug))\n",
    "confusion_dt"
   ]
  },
  {
   "cell_type": "code",
   "execution_count": 27,
   "id": "f3adc54f-010f-444f-8ce4-47275f281f83",
   "metadata": {
    "tags": []
   },
   "outputs": [
    {
     "name": "stdout",
     "output_type": "stream",
     "text": [
      "Saving figure Decision_tree_cm\n"
     ]
    },
    {
     "data": {
      "image/png": "[encoded data removed]",
      "text/plain": [
       "<Figure size 1000x700 with 2 Axes>"
      ]
     },
     "metadata": {},
     "output_type": "display_data"
    }
   ],
   "source": [
    "df_cm_dt = pd.DataFrame(confusion_dt, index = [i for i in all_classes],\n",
    "                  columns = [i for i in all_classes])\n",
    "plt.figure(figsize = (10,7))\n",
    "sns.heatmap(df_cm_dt, annot=True,fmt='d',cmap=plt.cm.Blues)\n",
    "save_fig(\"Decision_tree_cm\")"
   ]
  },
  {
   "cell_type": "code",
   "execution_count": 28,
   "id": "ae35f152-807d-4ea9-bd49-d2746d454112",
   "metadata": {},
   "outputs": [
    {
     "name": "stdout",
     "output_type": "stream",
     "text": [
      "Accuracy: 0.918\n",
      "Recall: 0.918\n",
      "Precision: 0.919\n",
      "F1-Score: 0.918\n"
     ]
    }
   ],
   "source": [
    "# measure accuracy\n",
    "print('Accuracy: %.3f' % metrics.accuracy_score(y_true=y_test_aug, y_pred=y_pred_dt))\n",
    "print('Recall: %.3f' % metrics.recall_score(y_true=y_test_aug, y_pred=y_pred_dt, average='weighted'))\n",
    "print('Precision: %.3f' % metrics.precision_score(y_true=y_test_aug, y_pred=y_pred_dt, average='weighted'))\n",
    "print('F1-Score: %.3f' % metrics.f1_score(y_true=y_test_aug, y_pred=y_pred_dt, average='weighted'))"
   ]
  },
  {
   "cell_type": "code",
   "execution_count": 29,
   "id": "cc5fc3a2-f027-43df-8266-dab084f4d70b",
   "metadata": {
    "tags": []
   },
   "outputs": [],
   "source": [
    "# Save model as pkl file \n",
    "pickle.dump(dt_cv, open('models/CC/dt_cv.pkl', 'wb'))\n",
    "#pickled_model = pickle.load(open('models/CC/dt_cv.pkl', 'rb'))\n",
    "#pickled_model.predict(X_test_aug)"
   ]
  },
  {
   "cell_type": "markdown",
   "id": "dd138326-550c-45c0-a8d8-6cc6e8922f58",
   "metadata": {},
   "source": [
    "### RandomForestClassifier"
   ]
  },
  {
   "cell_type": "code",
   "execution_count": 403,
   "id": "02017491-27ee-4597-8a71-e602152bec02",
   "metadata": {
    "scrolled": true
   },
   "outputs": [
    {
     "data": {
      "text/plain": [
       "{'cv': 10,\n",
       " 'error_score': nan,\n",
       " 'estimator__bootstrap': True,\n",
       " 'estimator__ccp_alpha': 0.0,\n",
       " 'estimator__class_weight': None,\n",
       " 'estimator__criterion': 'entropy',\n",
       " 'estimator__max_depth': None,\n",
       " 'estimator__max_features': 'sqrt',\n",
       " 'estimator__max_leaf_nodes': None,\n",
       " 'estimator__max_samples': None,\n",
       " 'estimator__min_impurity_decrease': 0.0,\n",
       " 'estimator__min_samples_leaf': 1,\n",
       " 'estimator__min_samples_split': 80,\n",
       " 'estimator__min_weight_fraction_leaf': 0.0,\n",
       " 'estimator__n_estimators': 100,\n",
       " 'estimator__n_jobs': None,\n",
       " 'estimator__oob_score': False,\n",
       " 'estimator__random_state': None,\n",
       " 'estimator__verbose': 0,\n",
       " 'estimator__warm_start': False,\n",
       " 'estimator': RandomForestClassifier(criterion='entropy', min_samples_split=80),\n",
       " 'n_iter': 10,\n",
       " 'n_jobs': -1,\n",
       " 'param_distributions': {'n_estimators': [500, 700, 1000],\n",
       "  'max_depth': [20, 22, 25]},\n",
       " 'pre_dispatch': '2*n_jobs',\n",
       " 'random_state': None,\n",
       " 'refit': True,\n",
       " 'return_train_score': False,\n",
       " 'scoring': 'accuracy',\n",
       " 'verbose': 10}"
      ]
     },
     "execution_count": 403,
     "metadata": {},
     "output_type": "execute_result"
    }
   ],
   "source": [
    "rf = RandomForestClassifier(criterion='entropy', min_samples_split=80)\n",
    "param_cv = {\"n_estimators\" : [500, 700, 1000], \"max_depth\" : [20, 22, 25]}\n",
    "rf_cv = set_rand(rf, param_cv)\n",
    "rf_cv.get_params()"
   ]
  },
  {
   "cell_type": "code",
   "execution_count": 404,
   "id": "a4756a19-1b88-4edb-9f4d-cfb71a7396ae",
   "metadata": {
    "tags": []
   },
   "outputs": [
    {
     "name": "stdout",
     "output_type": "stream",
     "text": [
      "2024-01-17 19:27:56.765246\n",
      "Fitting 10 folds for each of 9 candidates, totalling 90 fits\n",
      "2024-01-23 04:58:31.179999\n"
     ]
    }
   ],
   "source": [
    "print(datetime.datetime.now())\n",
    "with parallel_backend('multiprocessing'):\n",
    "    rf_cv.fit(X_train_aug, y_train_aug)\n",
    "print(datetime.datetime.now())"
   ]
  },
  {
   "cell_type": "code",
   "execution_count": 405,
   "id": "1ad6c1b6-e7d4-4d86-a0c6-4f2ff53b35d8",
   "metadata": {},
   "outputs": [
    {
     "data": {
      "text/plain": [
       "(0.9311143562104442,\n",
       " {'n_estimators': 700, 'max_depth': 25},\n",
       " 0.9310941795798234)"
      ]
     },
     "execution_count": 405,
     "metadata": {},
     "output_type": "execute_result"
    }
   ],
   "source": [
    "print_results(rf_cv, X_test_aug, y_test_aug)"
   ]
  },
  {
   "cell_type": "code",
   "execution_count": 406,
   "id": "11e1f5de-df2f-402a-bf27-eab2af41ca67",
   "metadata": {},
   "outputs": [
    {
     "name": "stdout",
     "output_type": "stream",
     "text": [
      "2024-01-23 05:26:09.981479\n",
      "2024-01-23 05:29:21.729150\n"
     ]
    }
   ],
   "source": [
    "print(datetime.datetime.now())\n",
    "y_pred_rf = rf_cv.predict(X_test_aug)\n",
    "print(datetime.datetime.now())"
   ]
  },
  {
   "cell_type": "code",
   "execution_count": 407,
   "id": "b8de687d-9f5f-43eb-8020-4f6243e9decb",
   "metadata": {
    "tags": []
   },
   "outputs": [
    {
     "data": {
      "text/plain": [
       "array([[425889,  35644,    715],\n",
       "       [ 56249, 405705,    365],\n",
       "       [  2068,    524, 459734]], dtype=int64)"
      ]
     },
     "execution_count": 407,
     "metadata": {},
     "output_type": "execute_result"
    }
   ],
   "source": [
    "# evaluation: Confusion Matrix\n",
    "confusion_rf = metrics.confusion_matrix(y_true = y_test_aug, y_pred = y_pred_rf)\n",
    "confusion_rf"
   ]
  },
  {
   "cell_type": "code",
   "execution_count": 408,
   "id": "addd1f44-b472-422c-ab88-2e16a926e839",
   "metadata": {
    "tags": []
   },
   "outputs": [
    {
     "name": "stdout",
     "output_type": "stream",
     "text": [
      "Saving figure Random_forest_aug_cm\n"
     ]
    },
    {
     "data": {
      "image/png": "[encoded data removed]",
      "text/plain": [
       "<Figure size 1000x700 with 2 Axes>"
      ]
     },
     "metadata": {},
     "output_type": "display_data"
    }
   ],
   "source": [
    "df_cm_rf = pd.DataFrame(confusion_rf, index = all_classes, columns = all_classes)\n",
    "plt.figure(figsize = (10,7))\n",
    "sns.heatmap(df_cm_rf, annot=True,fmt='d',cmap=plt.cm.Blues)\n",
    "save_fig(\"Random_forest_aug_cm\")"
   ]
  },
  {
   "cell_type": "code",
   "execution_count": 410,
   "id": "575b48ba-c10d-4d16-9397-7ec8814a919d",
   "metadata": {},
   "outputs": [
    {
     "name": "stdout",
     "output_type": "stream",
     "text": [
      "Accuracy: 0.931\n",
      "Recall: 0.931\n",
      "Precision: 0.932\n",
      "F1-Score: 0.931\n"
     ]
    }
   ],
   "source": [
    "# measure accuracy\n",
    "print('Accuracy: %.3f' % metrics.accuracy_score(y_true=y_test_aug, y_pred=y_pred_rf))\n",
    "print('Recall: %.3f' % metrics.recall_score(y_true=y_test_aug, y_pred=y_pred_rf, average='weighted'))\n",
    "print('Precision: %.3f' % metrics.precision_score(y_true=y_test_aug, y_pred=y_pred_rf, average='weighted'))\n",
    "print('F1-Score: %.3f' % metrics.f1_score(y_true=y_test_aug, y_pred=y_pred_rf, average='weighted'))"
   ]
  },
  {
   "cell_type": "code",
   "execution_count": 411,
   "id": "0082c98d-aac1-4e85-aef8-dac9ca1471a8",
   "metadata": {
    "tags": []
   },
   "outputs": [],
   "source": [
    "# Save model as pkl file \n",
    "pickle.dump(rf_cv, open('models/CC/rf_cv.pkl', 'wb'))\n",
    "#pickled_model = pickle.load(open('models/CC/rf_cv.pkl', 'rb'))\n",
    "#pickled_model.predict(X_test_aug)"
   ]
  },
  {
   "cell_type": "markdown",
   "id": "4dd663c2-3d0e-4b1f-8ee1-b4f69594096f",
   "metadata": {},
   "source": [
    "### XGBoost (extreme Gradient Boosting) Classifier"
   ]
  },
  {
   "cell_type": "code",
   "execution_count": 6,
   "id": "e0f0f1f4-0937-4986-b5e1-35ed37346882",
   "metadata": {},
   "outputs": [],
   "source": [
    "from sklearn.preprocessing import LabelEncoder\n",
    "le = LabelEncoder()\n",
    "ytrain = le.fit_transform(y_train_aug)\n",
    "ytest = le.fit_transform(y_test_aug)"
   ]
  },
  {
   "cell_type": "code",
   "execution_count": 7,
   "id": "791149c4-1e9a-4c51-967d-48b9129dcd56",
   "metadata": {},
   "outputs": [],
   "source": [
    "# Save the scaler object\n",
    "with open('models/CC/encoder.pkl', 'wb') as f:\n",
    "    pickle.dump(le, f)"
   ]
  },
  {
   "cell_type": "code",
   "execution_count": 29,
   "id": "50f0cae7-db9e-4024-a458-c241d89fed69",
   "metadata": {},
   "outputs": [
    {
     "name": "stdout",
     "output_type": "stream",
     "text": [
      "(5547571,)\n",
      "(1386893,)\n"
     ]
    }
   ],
   "source": [
    "print(ytrain.shape)\n",
    "print(ytest.shape)"
   ]
  },
  {
   "cell_type": "code",
   "execution_count": 32,
   "id": "29af308c-71a3-4b85-a4d6-fc008acc4e01",
   "metadata": {
    "scrolled": true
   },
   "outputs": [
    {
     "data": {
      "text/plain": [
       "{'cv': 10,\n",
       " 'error_score': nan,\n",
       " 'estimator__objective': 'binary:logistic',\n",
       " 'estimator__base_score': None,\n",
       " 'estimator__booster': None,\n",
       " 'estimator__callbacks': None,\n",
       " 'estimator__colsample_bylevel': None,\n",
       " 'estimator__colsample_bynode': None,\n",
       " 'estimator__colsample_bytree': None,\n",
       " 'estimator__device': 'cuda',\n",
       " 'estimator__early_stopping_rounds': None,\n",
       " 'estimator__enable_categorical': False,\n",
       " 'estimator__eval_metric': None,\n",
       " 'estimator__feature_types': None,\n",
       " 'estimator__gamma': None,\n",
       " 'estimator__grow_policy': None,\n",
       " 'estimator__importance_type': None,\n",
       " 'estimator__interaction_constraints': None,\n",
       " 'estimator__learning_rate': None,\n",
       " 'estimator__max_bin': None,\n",
       " 'estimator__max_cat_threshold': None,\n",
       " 'estimator__max_cat_to_onehot': None,\n",
       " 'estimator__max_delta_step': None,\n",
       " 'estimator__max_depth': None,\n",
       " 'estimator__max_leaves': None,\n",
       " 'estimator__min_child_weight': None,\n",
       " 'estimator__missing': nan,\n",
       " 'estimator__monotone_constraints': None,\n",
       " 'estimator__multi_strategy': None,\n",
       " 'estimator__n_estimators': 1000,\n",
       " 'estimator__n_jobs': None,\n",
       " 'estimator__num_parallel_tree': None,\n",
       " 'estimator__random_state': 42,\n",
       " 'estimator__reg_alpha': None,\n",
       " 'estimator__reg_lambda': None,\n",
       " 'estimator__sampling_method': None,\n",
       " 'estimator__scale_pos_weight': None,\n",
       " 'estimator__subsample': None,\n",
       " 'estimator__tree_method': 'hist',\n",
       " 'estimator__validate_parameters': None,\n",
       " 'estimator__verbosity': None,\n",
       " 'estimator': XGBClassifier(base_score=None, booster=None, callbacks=None,\n",
       "               colsample_bylevel=None, colsample_bynode=None,\n",
       "               colsample_bytree=None, device='cuda', early_stopping_rounds=None,\n",
       "               enable_categorical=False, eval_metric=None, feature_types=None,\n",
       "               gamma=None, grow_policy=None, importance_type=None,\n",
       "               interaction_constraints=None, learning_rate=None, max_bin=None,\n",
       "               max_cat_threshold=None, max_cat_to_onehot=None,\n",
       "               max_delta_step=None, max_depth=None, max_leaves=None,\n",
       "               min_child_weight=None, missing=nan, monotone_constraints=None,\n",
       "               multi_strategy=None, n_estimators=1000, n_jobs=None,\n",
       "               num_parallel_tree=None, random_state=42, ...),\n",
       " 'n_iter': 10,\n",
       " 'n_jobs': 2,\n",
       " 'param_distributions': {'gamma': [0],\n",
       "  'learning_rate': [0.08],\n",
       "  'max_depth': [20]},\n",
       " 'pre_dispatch': '2*n_jobs',\n",
       " 'random_state': None,\n",
       " 'refit': True,\n",
       " 'return_train_score': False,\n",
       " 'scoring': 'accuracy',\n",
       " 'verbose': 10}"
      ]
     },
     "execution_count": 32,
     "metadata": {},
     "output_type": "execute_result"
    }
   ],
   "source": [
    "xgbc = XGBClassifier(n_estimators = 1000, tree_method = \"hist\", device = \"cuda\", random_state=42)\n",
    "param_cv = {\"gamma\": [0], \"learning_rate\": [0.08], \"max_depth\": [20]}   #, 18, 20, 0.1, 0.3, 0.001, 0.01\n",
    "xgb_cv = set_rand(xgbc, param_cv)\n",
    "xgb_cv.get_params()"
   ]
  },
  {
   "cell_type": "code",
   "execution_count": 33,
   "id": "19746b9f-5b49-4424-824a-cb1368715619",
   "metadata": {
    "tags": []
   },
   "outputs": [
    {
     "name": "stdout",
     "output_type": "stream",
     "text": [
      "2024-01-30 22:01:20.319058\n",
      "Fitting 10 folds for each of 1 candidates, totalling 10 fits\n",
      "2024-01-31 01:19:09.800714\n"
     ]
    }
   ],
   "source": [
    "print(datetime.datetime.now())\n",
    "with parallel_backend('multiprocessing'):\n",
    "    xgb_cv.fit(X_train_aug, ytrain)\n",
    "print(datetime.datetime.now())"
   ]
  },
  {
   "cell_type": "code",
   "execution_count": 34,
   "id": "d3806999-9baf-4d5a-a650-63fc1ede4edf",
   "metadata": {},
   "outputs": [
    {
     "data": {
      "text/plain": [
       "(0.9429072652444365,\n",
       " {'max_depth': 20, 'learning_rate': 0.08, 'gamma': 0},\n",
       " 0.9432184025732339)"
      ]
     },
     "execution_count": 34,
     "metadata": {},
     "output_type": "execute_result"
    }
   ],
   "source": [
    "print_results(xgb_cv, X_test_aug, ytest)"
   ]
  },
  {
   "cell_type": "code",
   "execution_count": 35,
   "id": "4d5dd7e6-ae1e-4a2f-9f64-397d1d72c98e",
   "metadata": {},
   "outputs": [
    {
     "name": "stdout",
     "output_type": "stream",
     "text": [
      "2024-01-31 02:25:50.550513\n",
      "2024-01-31 02:25:53.568213\n"
     ]
    }
   ],
   "source": [
    "print(datetime.datetime.now())\n",
    "y_pred_xgb = xgb_cv.predict(X_test_aug)\n",
    "print(datetime.datetime.now())"
   ]
  },
  {
   "cell_type": "code",
   "execution_count": 37,
   "id": "36621a25-026b-4ba0-a307-2b2083f96df4",
   "metadata": {},
   "outputs": [
    {
     "data": {
      "text/plain": [
       "array([[425850,  36391,      7],\n",
       "       [ 42182, 420125,     12],\n",
       "       [    89,     69, 462168]], dtype=int64)"
      ]
     },
     "execution_count": 37,
     "metadata": {},
     "output_type": "execute_result"
    }
   ],
   "source": [
    "# evaluation: Confusion Matrix\n",
    "confusion_xgb = metrics.confusion_matrix(y_true = ytest, y_pred = y_pred_xgb)\n",
    "confusion_xgb"
   ]
  },
  {
   "cell_type": "code",
   "execution_count": 38,
   "id": "a62c211b-7834-48b3-8f7c-0d2610119f20",
   "metadata": {},
   "outputs": [
    {
     "name": "stdout",
     "output_type": "stream",
     "text": [
      "Saving figure xgb_aug_cm\n"
     ]
    },
    {
     "data": {
      "image/png": "[encoded data removed]",
      "text/plain": [
       "<Figure size 1000x700 with 2 Axes>"
      ]
     },
     "metadata": {},
     "output_type": "display_data"
    }
   ],
   "source": [
    "df_cm_xgb = pd.DataFrame(confusion_xgb, index = all_classes, columns = all_classes)\n",
    "plt.figure(figsize = (10,7))\n",
    "sns.heatmap(df_cm_xgb, annot=True,fmt='d',cmap=plt.cm.Blues)\n",
    "save_fig(\"xgb_aug_cm\")"
   ]
  },
  {
   "cell_type": "code",
   "execution_count": 39,
   "id": "2d1df15c-006e-4652-bf8e-29ea4059adf9",
   "metadata": {},
   "outputs": [
    {
     "name": "stdout",
     "output_type": "stream",
     "text": [
      "Accuracy: 0.943\n",
      "Recall: 0.943\n",
      "Precision: 0.943\n",
      "F1-Score: 0.943\n"
     ]
    }
   ],
   "source": [
    "# measure accuracy\n",
    "print('Accuracy: %.3f' % metrics.accuracy_score(y_true=ytest, y_pred=y_pred_xgb))\n",
    "print('Recall: %.3f' % metrics.recall_score(y_true=ytest, y_pred=y_pred_xgb, average='weighted'))\n",
    "print('Precision: %.3f' % metrics.precision_score(y_true=ytest, y_pred=y_pred_xgb, average='weighted'))\n",
    "print('F1-Score: %.3f' % metrics.f1_score(y_true=ytest, y_pred=y_pred_xgb, average='weighted'))"
   ]
  },
  {
   "cell_type": "code",
   "execution_count": 40,
   "id": "77cf08c0-15a6-4a12-9cdd-e77f22147933",
   "metadata": {
    "tags": []
   },
   "outputs": [],
   "source": [
    "# Save model as pkl file \n",
    "pickle.dump(xgb_cv, open('models/CC/xgb_cv.pkl', 'wb'))\n",
    "#pickled_model = pickle.load(open('models/CC/gb_cv.pkl', 'rb'))\n",
    "#pickled_model.predict(X_test_aug)"
   ]
  },
  {
   "cell_type": "markdown",
   "id": "22f39892-cf8c-4c4f-a1e5-5f6087b3e50c",
   "metadata": {},
   "source": [
    "### SVM RBF"
   ]
  },
  {
   "cell_type": "code",
   "execution_count": 17,
   "id": "443b1adb-fcde-4827-909c-9ae09b7aeed4",
   "metadata": {},
   "outputs": [
    {
     "data": {
      "text/plain": [
       "<AddedDllDirectory('C:\\\\Program Files\\\\NVIDIA GPU Computing Toolkit\\\\CUDA\\\\v12.3\\\\bin')>"
      ]
     },
     "execution_count": 17,
     "metadata": {},
     "output_type": "execute_result"
    }
   ],
   "source": [
    "import os\n",
    "os.add_dll_directory(\"C:\\\\Program Files\\\\NVIDIA GPU Computing Toolkit\\\\CUDA\\\\v12.3\\\\bin\")"
   ]
  },
  {
   "cell_type": "code",
   "execution_count": 18,
   "id": "3b3ba1e4-a88b-46ec-b46d-773e2ce28d69",
   "metadata": {},
   "outputs": [],
   "source": [
    "import thundersvm\n",
    "from thundersvm import SVC"
   ]
  },
  {
   "cell_type": "code",
   "execution_count": 19,
   "id": "85f4d58c-2d69-4c85-a80d-29bc22d1fcdf",
   "metadata": {
    "scrolled": true
   },
   "outputs": [
    {
     "data": {
      "text/plain": [
       "{'cv': 10,\n",
       " 'error_score': nan,\n",
       " 'estimator__C': 1.0,\n",
       " 'estimator__cache_size': None,\n",
       " 'estimator__class_weight': None,\n",
       " 'estimator__coef0': 0.0,\n",
       " 'estimator__decision_function_shape': 'ovo',\n",
       " 'estimator__degree': 3,\n",
       " 'estimator__gamma': 'auto',\n",
       " 'estimator__gpu_id': 0,\n",
       " 'estimator__kernel': 'rbf',\n",
       " 'estimator__max_iter': -1,\n",
       " 'estimator__max_mem_size': -1,\n",
       " 'estimator__n_jobs': -1,\n",
       " 'estimator__probability': False,\n",
       " 'estimator__random_state': None,\n",
       " 'estimator__shrinking': False,\n",
       " 'estimator__tol': 0.001,\n",
       " 'estimator__verbose': False,\n",
       " 'estimator': SVC(),\n",
       " 'n_iter': 10,\n",
       " 'n_jobs': 5,\n",
       " 'param_distributions': {'C': [10, 20, 30], 'gamma': [0.1, 1, 5]},\n",
       " 'pre_dispatch': '2*n_jobs',\n",
       " 'random_state': None,\n",
       " 'refit': True,\n",
       " 'return_train_score': False,\n",
       " 'scoring': 'accuracy',\n",
       " 'verbose': 10}"
      ]
     },
     "execution_count": 19,
     "metadata": {},
     "output_type": "execute_result"
    }
   ],
   "source": [
    "svc_rbf = thundersvm.SVC(gpu_id=0, kernel = \"rbf\")\n",
    "param_cv = {\"C\" : [5, 8, 10], \"gamma\" : [0.5, 1, 3]}\n",
    "svc_rbf_cv = set_rand(svc_rbf, param_cv)\n",
    "svc_rbf_cv.get_params()"
   ]
  },
  {
   "cell_type": "code",
   "execution_count": null,
   "id": "fef66cfc-db6f-4396-8f97-00eb8ad4d82c",
   "metadata": {
    "tags": []
   },
   "outputs": [
    {
     "name": "stdout",
     "output_type": "stream",
     "text": [
      "2024-02-04 11:21:01.049646\n",
      "Fitting 10 folds for each of 9 candidates, totalling 90 fits\n"
     ]
    }
   ],
   "source": [
    "print(datetime.datetime.now())\n",
    "with parallel_backend('multiprocessing'):\n",
    "    svc_rbf_cv.fit(X_train_aug, y_train_aug)\n",
    "print(datetime.datetime.now())"
   ]
  },
  {
   "cell_type": "code",
   "execution_count": null,
   "id": "9be7ef10-e431-4cab-9a52-e79a0bbf13cd",
   "metadata": {},
   "outputs": [],
   "source": [
    "print_results(svc_rbf_cv, X_test_aug, y_test_aug)"
   ]
  },
  {
   "cell_type": "code",
   "execution_count": null,
   "id": "a66578da-82d0-4351-991a-bc39e277f16d",
   "metadata": {},
   "outputs": [],
   "source": [
    "print(datetime.datetime.now())\n",
    "y_pred_svc = svc_rbf_cv.predict(X_test_aug)\n",
    "print(datetime.datetime.now())"
   ]
  },
  {
   "cell_type": "code",
   "execution_count": 22,
   "id": "a4d9820c-d20d-43e6-9566-6cadcbbbfac4",
   "metadata": {},
   "outputs": [],
   "source": [
    "def random_searchrbf(X_train_aug, X_test_aug, y_train_aug, y_test_aug):\n",
    "    results = []\n",
    "\n",
    "    for C in [5, 8, 10]:\n",
    "        for gamma in [1]:\n",
    "            try:\n",
    "                model = thundersvm.SVC(\n",
    "                    gpu_id=0,\n",
    "                    kernel=\"rbf\",\n",
    "                    C=C,\n",
    "                    gamma=gamma\n",
    "                )\n",
    "                model.fit(X_train_aug, y_train_aug)\n",
    "                y_pred_svc = model.predict(X_test_aug)\n",
    "                result = metrics.accuracy_score(y_true=y_test_aug, y_pred=y_pred_svc)\n",
    "        \n",
    "                results.append((C, gamma, result))\n",
    "            except Exception as e:\n",
    "                print(f\"Exception in random_search: {e}\")\n",
    "\n",
    "    return results"
   ]
  },
  {
   "cell_type": "code",
   "execution_count": 23,
   "id": "e2b1fcbd-70ed-4f6c-bf45-d440f0c9d5fe",
   "metadata": {},
   "outputs": [
    {
     "name": "stdout",
     "output_type": "stream",
     "text": [
      "2024-02-10 09:05:15.232138\n",
      "[(5, 1, 0.9314568607671969), (8, 1, 0.932643686282936), (10, 1, 0.9331621112803944)]\n",
      "Best C: 10, Best Gamma: 1, Best Performance: 0.9331621112803944\n",
      "2024-02-11 19:26:09.430248\n"
     ]
    }
   ],
   "source": [
    "# Call the function to get the results\n",
    "print(datetime.datetime.now())\n",
    "svr_random_search = random_searchrbf(X_train_aug, X_test_aug, y_train_aug, y_test_aug)\n",
    "print(svr_random_search)\n",
    "# Find the best result based on the mean accuracy\n",
    "best_result = max(svr_random_search, key=lambda x: x[2])\n",
    "best_C, best_gamma, best_performance = best_result\n",
    "\n",
    "print(f\"Best C: {best_C}, Best Gamma: {best_gamma}, Best Performance: {best_performance}\")\n",
    "print(datetime.datetime.now())"
   ]
  },
  {
   "cell_type": "code",
   "execution_count": 24,
   "id": "3202b1ae-e336-4ec4-b590-30c135bdc1ac",
   "metadata": {},
   "outputs": [
    {
     "name": "stdout",
     "output_type": "stream",
     "text": [
      "2024-02-11 23:19:09.977981\n",
      "2024-02-12 10:17:49.565658\n",
      "2024-02-12 11:03:04.475803\n"
     ]
    }
   ],
   "source": [
    "svc_rbf_gpu = thundersvm.SVC(gpu_id=0, C=10, gamma=1, kernel='rbf')\n",
    "print(datetime.datetime.now())\n",
    "svc_rbf_gpu.fit(X_train_aug, y_train_aug)\n",
    "print(datetime.datetime.now())\n",
    "# Evaluate the model on the entire dataset\n",
    "y_pred_svc = svc_rbf_gpu.predict(X_test_aug)\n",
    "print(datetime.datetime.now())"
   ]
  },
  {
   "cell_type": "code",
   "execution_count": 25,
   "id": "b1d516bd-c1dc-4e4c-bdaf-863088e0ae18",
   "metadata": {},
   "outputs": [
    {
     "data": {
      "text/plain": [
       "0.9331621112803944"
      ]
     },
     "execution_count": 25,
     "metadata": {},
     "output_type": "execute_result"
    }
   ],
   "source": [
    "# measure accuracy\n",
    "metrics.accuracy_score(y_true=y_test_aug, y_pred=y_pred_svc)"
   ]
  },
  {
   "cell_type": "code",
   "execution_count": 26,
   "id": "47103f43-4487-41c0-93e9-77f48d096cb6",
   "metadata": {
    "tags": []
   },
   "outputs": [
    {
     "data": {
      "text/plain": [
       "array([[424905,  37138,    205],\n",
       "       [ 51371, 410805,    143],\n",
       "       [  1933,   1907, 458486]], dtype=int64)"
      ]
     },
     "execution_count": 26,
     "metadata": {},
     "output_type": "execute_result"
    }
   ],
   "source": [
    "# evaluation: Confusion Matrix\n",
    "confusion_svmr = metrics.confusion_matrix(y_true = y_test_aug, y_pred = y_pred_svc)\n",
    "confusion_svmr"
   ]
  },
  {
   "cell_type": "code",
   "execution_count": 27,
   "id": "0e8bfdc2-57c0-4f2a-a714-c0db7e4631f0",
   "metadata": {
    "tags": []
   },
   "outputs": [
    {
     "name": "stdout",
     "output_type": "stream",
     "text": [
      "Saving figure svm_rbf_aug_cm\n"
     ]
    },
    {
     "data": {
      "image/png": "[encoded data removed]",
      "text/plain": [
       "<Figure size 1000x700 with 2 Axes>"
      ]
     },
     "metadata": {},
     "output_type": "display_data"
    }
   ],
   "source": [
    "df_cm_svmr = pd.DataFrame(confusion_svmr, index = all_classes, columns = all_classes)\n",
    "plt.figure(figsize = (10,7))\n",
    "sns.heatmap(df_cm_svmr, annot=True,fmt='d',cmap=plt.cm.Blues)\n",
    "save_fig(\"svm_rbf_aug_cm\")"
   ]
  },
  {
   "cell_type": "code",
   "execution_count": 28,
   "id": "3d498402-9a47-4696-9b8c-b2dee053ce22",
   "metadata": {},
   "outputs": [
    {
     "name": "stdout",
     "output_type": "stream",
     "text": [
      "Accuracy: 0.933\n",
      "Recall: 0.933\n",
      "Precision: 0.934\n",
      "F1-Score: 0.933\n"
     ]
    }
   ],
   "source": [
    "# measure accuracy\n",
    "print('Accuracy: %.3f' % metrics.accuracy_score(y_true=y_test_aug, y_pred=y_pred_svc))\n",
    "print('Recall: %.3f' % metrics.recall_score(y_true=y_test_aug, y_pred=y_pred_svc, average='weighted'))\n",
    "print('Precision: %.3f' % metrics.precision_score(y_true=y_test_aug, y_pred=y_pred_svc, average='weighted'))\n",
    "print('F1-Score: %.3f' % metrics.f1_score(y_true=y_test_aug, y_pred=y_pred_svc, average='weighted'))"
   ]
  },
  {
   "cell_type": "code",
   "execution_count": 30,
   "id": "114ce9db-be22-4abe-9185-674ee1374cdc",
   "metadata": {},
   "outputs": [],
   "source": [
    "# Save model as pkl file \n",
    "pickle.dump(svc_rbf_gpu, open('models/CC/svc_rbf_cv.pkl', 'wb'))\n",
    "#pickled_model = pickle.load(open('models/CC/svc_rbf_cv.pkl', 'rb'))\n",
    "#pickled_model.predict(X_test_aug)"
   ]
  },
  {
   "cell_type": "markdown",
   "id": "8b5ef66b-8743-463a-8cf3-afeb9c45c75d",
   "metadata": {},
   "source": [
    "### LSTM"
   ]
  },
  {
   "cell_type": "code",
   "execution_count": 8,
   "id": "b29d9bfe-3fa2-405a-95ad-2c22907123b6",
   "metadata": {},
   "outputs": [],
   "source": [
    "# Reshape the X shape to fit in LSTM (add one dimension)\n",
    "train_X = X_train_aug.values.reshape(X_train_aug.shape[0],X_train_aug.shape[1],1)\n",
    "test_X = X_test_aug.values.reshape(X_test_aug.shape[0],X_test_aug.shape[1],1)"
   ]
  },
  {
   "cell_type": "code",
   "execution_count": 9,
   "id": "1fb4f07e-f30c-4dae-9bdd-7f2a114778f3",
   "metadata": {
    "tags": []
   },
   "outputs": [],
   "source": [
    "# Change Y values to be from 0 to 2 instead of 1 to 3\n",
    "y_train_mod = y_train_aug - 1\n",
    "y_test_mod = y_test_aug - 1"
   ]
  },
  {
   "cell_type": "code",
   "execution_count": 10,
   "id": "12698026-8a3b-4c6d-96b4-97410a7709de",
   "metadata": {},
   "outputs": [
    {
     "name": "stdout",
     "output_type": "stream",
     "text": [
      "(5547571, 24, 1)\n",
      "(1386893, 24, 1)\n"
     ]
    }
   ],
   "source": [
    "print(train_X.shape)\n",
    "print(test_X.shape)"
   ]
  },
  {
   "cell_type": "code",
   "execution_count": 11,
   "id": "5746295e-36b2-4871-ae91-70513051c71e",
   "metadata": {
    "scrolled": true
   },
   "outputs": [
    {
     "name": "stdout",
     "output_type": "stream",
     "text": [
      "Model: \"sequential\"\n",
      "_________________________________________________________________\n",
      " Layer (type)                Output Shape              Param #   \n",
      "=================================================================\n",
      " bidirectional (Bidirectiona  (None, 24, 32)           2304      \n",
      " l)                                                              \n",
      "                                                                 \n",
      " dropout (Dropout)           (None, 24, 32)            0         \n",
      "                                                                 \n",
      " bidirectional_1 (Bidirectio  (None, 24, 64)           16640     \n",
      " nal)                                                            \n",
      "                                                                 \n",
      " dropout_1 (Dropout)         (None, 24, 64)            0         \n",
      "                                                                 \n",
      " bidirectional_2 (Bidirectio  (None, 24, 128)          66048     \n",
      " nal)                                                            \n",
      "                                                                 \n",
      " dropout_2 (Dropout)         (None, 24, 128)           0         \n",
      "                                                                 \n",
      " bidirectional_3 (Bidirectio  (None, 24, 128)          98816     \n",
      " nal)                                                            \n",
      "                                                                 \n",
      " dropout_3 (Dropout)         (None, 24, 128)           0         \n",
      "                                                                 \n",
      " bidirectional_4 (Bidirectio  (None, 24, 64)           41216     \n",
      " nal)                                                            \n",
      "                                                                 \n",
      " dropout_4 (Dropout)         (None, 24, 64)            0         \n",
      "                                                                 \n",
      " bidirectional_5 (Bidirectio  (None, 32)               10368     \n",
      " nal)                                                            \n",
      "                                                                 \n",
      " dropout_5 (Dropout)         (None, 32)                0         \n",
      "                                                                 \n",
      " dense (Dense)               (None, 3)                 99        \n",
      "                                                                 \n",
      "=================================================================\n",
      "Total params: 235,491\n",
      "Trainable params: 235,491\n",
      "Non-trainable params: 0\n",
      "_________________________________________________________________\n"
     ]
    }
   ],
   "source": [
    "# Define the LSTM model\n",
    "model = Sequential()\n",
    "model.add(layers.Bidirectional(layers.LSTM(16, return_sequences=True), input_shape=(24, 1)))\n",
    "model.add(layers.Dropout(0.2))\n",
    "model.add(layers.Bidirectional(layers.LSTM(32, return_sequences=True)))\n",
    "model.add(layers.Dropout(0.2))\n",
    "model.add(layers.Bidirectional(layers.LSTM(64, return_sequences=True)))\n",
    "model.add(layers.Dropout(0.2))\n",
    "model.add(layers.Bidirectional(layers.LSTM(64, return_sequences=True)))  # Return sequences for the last LSTM layer\n",
    "model.add(layers.Dropout(0.2))\n",
    "model.add(layers.Bidirectional(layers.LSTM(32, return_sequences=True)))  # Return sequences for the last LSTM layer\n",
    "model.add(layers.Dropout(0.2))\n",
    "model.add(layers.Bidirectional(layers.LSTM(16, return_sequences=False)))  # No return_sequences for the last LSTM layer\n",
    "model.add(layers.Dropout(0.2))\n",
    "model.add(layers.Dense(3, activation=\"softmax\"))\n",
    "model.compile(loss=\"sparse_categorical_crossentropy\", optimizer=\"adam\", metrics=['accuracy'])\n",
    "model.summary()"
   ]
  },
  {
   "cell_type": "code",
   "execution_count": 15,
   "id": "bd6b3f8c-b172-4ef9-86af-ad48be84e44d",
   "metadata": {},
   "outputs": [
    {
     "name": "stdout",
     "output_type": "stream",
     "text": [
      "('You must install pydot (`pip install pydot`) and install graphviz (see instructions at https://graphviz.gitlab.io/download/) ', 'for plot_model/model_to_dot to work.')\n"
     ]
    }
   ],
   "source": [
    "from tensorflow.keras.utils import plot_model\n",
    "plot_model(model, to_file='lstm_model.png', show_shapes=True, show_layer_names=True)"
   ]
  },
  {
   "cell_type": "code",
   "execution_count": 21,
   "id": "9baaa9e6-5e61-4993-a6d8-fdabb6e1dc20",
   "metadata": {
    "scrolled": true
   },
   "outputs": [
    {
     "name": "stdout",
     "output_type": "stream",
     "text": [
      "2024-02-12 16:53:23.893812\n",
      "Epoch 1/100\n",
      "2438/2438 [==============================] - 3325s 1s/step - loss: 0.8801 - accuracy: 0.5860 - val_loss: 0.6742 - val_accuracy: 0.7211\n",
      "Epoch 2/100\n",
      "2438/2438 [==============================] - 3561s 1s/step - loss: 0.6816 - accuracy: 0.7205 - val_loss: 0.5515 - val_accuracy: 0.7835\n",
      "Epoch 3/100\n",
      "2438/2438 [==============================] - 3508s 1s/step - loss: 0.5274 - accuracy: 0.7971 - val_loss: 0.4108 - val_accuracy: 0.8471\n",
      "Epoch 4/100\n",
      "2438/2438 [==============================] - 3489s 1s/step - loss: 0.4344 - accuracy: 0.8379 - val_loss: 0.3407 - val_accuracy: 0.8743\n",
      "Epoch 5/100\n",
      "2438/2438 [==============================] - 3531s 1s/step - loss: 0.3992 - accuracy: 0.8523 - val_loss: 0.3203 - val_accuracy: 0.8827\n",
      "Epoch 6/100\n",
      "2438/2438 [==============================] - 3542s 1s/step - loss: 0.3592 - accuracy: 0.8686 - val_loss: 0.3045 - val_accuracy: 0.8897\n",
      "Epoch 7/100\n",
      "2438/2438 [==============================] - 3766s 2s/step - loss: 0.3386 - accuracy: 0.8769 - val_loss: 0.2935 - val_accuracy: 0.8927\n",
      "Epoch 8/100\n",
      "2438/2438 [==============================] - 3862s 2s/step - loss: 0.3209 - accuracy: 0.8836 - val_loss: 0.2769 - val_accuracy: 0.8999\n",
      "Epoch 9/100\n",
      "2438/2438 [==============================] - 3571s 1s/step - loss: 0.3069 - accuracy: 0.8888 - val_loss: 0.2650 - val_accuracy: 0.9043\n",
      "Epoch 10/100\n",
      "2438/2438 [==============================] - 3596s 1s/step - loss: 0.2933 - accuracy: 0.8938 - val_loss: 0.2535 - val_accuracy: 0.9082\n",
      "Epoch 11/100\n",
      "2438/2438 [==============================] - 3616s 1s/step - loss: 0.2805 - accuracy: 0.8987 - val_loss: 0.2428 - val_accuracy: 0.9125\n",
      "Epoch 12/100\n",
      "2438/2438 [==============================] - 3624s 1s/step - loss: 0.2709 - accuracy: 0.9024 - val_loss: 0.2348 - val_accuracy: 0.9149\n",
      "Epoch 13/100\n",
      "2438/2438 [==============================] - 3629s 1s/step - loss: 0.2616 - accuracy: 0.9059 - val_loss: 0.2303 - val_accuracy: 0.9173\n",
      "Epoch 14/100\n",
      "2438/2438 [==============================] - 3652s 1s/step - loss: 0.2557 - accuracy: 0.9080 - val_loss: 0.2394 - val_accuracy: 0.9132\n",
      "Epoch 15/100\n",
      "2438/2438 [==============================] - 3630s 1s/step - loss: 0.2493 - accuracy: 0.9102 - val_loss: 0.2293 - val_accuracy: 0.9169\n",
      "Epoch 16/100\n",
      "2438/2438 [==============================] - 8290s 3s/step - loss: 0.2442 - accuracy: 0.9120 - val_loss: 0.2176 - val_accuracy: 0.9218\n",
      "Epoch 17/100\n",
      "2438/2438 [==============================] - 15842s 7s/step - loss: 0.2396 - accuracy: 0.9137 - val_loss: 0.2268 - val_accuracy: 0.9162\n",
      "Epoch 18/100\n",
      "2438/2438 [==============================] - 8203s 3s/step - loss: 0.2364 - accuracy: 0.9148 - val_loss: 0.2182 - val_accuracy: 0.9207\n",
      "Epoch 19/100\n",
      "2438/2438 [==============================] - 3629s 1s/step - loss: 0.2415 - accuracy: 0.9136 - val_loss: 0.2194 - val_accuracy: 0.9208\n",
      "Epoch 20/100\n",
      "2438/2438 [==============================] - 3629s 1s/step - loss: 0.2297 - accuracy: 0.9174 - val_loss: 0.2168 - val_accuracy: 0.9213\n",
      "Epoch 21/100\n",
      "2438/2438 [==============================] - 3634s 1s/step - loss: 0.2268 - accuracy: 0.9185 - val_loss: 0.2120 - val_accuracy: 0.9234\n",
      "Epoch 22/100\n",
      "2438/2438 [==============================] - 3601s 1s/step - loss: 0.2238 - accuracy: 0.9194 - val_loss: 0.2045 - val_accuracy: 0.9263\n",
      "Epoch 23/100\n",
      "2438/2438 [==============================] - 3602s 1s/step - loss: 0.2217 - accuracy: 0.9202 - val_loss: 0.2034 - val_accuracy: 0.9263\n",
      "Epoch 24/100\n",
      "2438/2438 [==============================] - 3587s 1s/step - loss: 0.2292 - accuracy: 0.9177 - val_loss: 0.2015 - val_accuracy: 0.9273\n",
      "Epoch 25/100\n",
      "2438/2438 [==============================] - 3617s 1s/step - loss: 0.2168 - accuracy: 0.9219 - val_loss: 0.2158 - val_accuracy: 0.9213\n",
      "Epoch 26/100\n",
      "2438/2438 [==============================] - 3600s 1s/step - loss: 0.2224 - accuracy: 0.9200 - val_loss: 0.2010 - val_accuracy: 0.9270\n",
      "Epoch 27/100\n",
      "2438/2438 [==============================] - 3604s 1s/step - loss: 0.2118 - accuracy: 0.9236 - val_loss: 0.1958 - val_accuracy: 0.9291\n",
      "Epoch 28/100\n",
      "2438/2438 [==============================] - 3590s 1s/step - loss: 0.2099 - accuracy: 0.9242 - val_loss: 0.2012 - val_accuracy: 0.9271\n",
      "Epoch 29/100\n",
      "2438/2438 [==============================] - 3593s 1s/step - loss: 0.2086 - accuracy: 0.9246 - val_loss: 0.1905 - val_accuracy: 0.9311\n",
      "Epoch 30/100\n",
      "2438/2438 [==============================] - 3585s 1s/step - loss: 0.2074 - accuracy: 0.9250 - val_loss: 0.1941 - val_accuracy: 0.9299\n",
      "Epoch 31/100\n",
      "2438/2438 [==============================] - 3600s 1s/step - loss: 0.2044 - accuracy: 0.9261 - val_loss: 0.1925 - val_accuracy: 0.9302\n",
      "Epoch 32/100\n",
      "2438/2438 [==============================] - 3588s 1s/step - loss: 0.2037 - accuracy: 0.9263 - val_loss: 0.1959 - val_accuracy: 0.9288\n",
      "Epoch 33/100\n",
      "2438/2438 [==============================] - 3591s 1s/step - loss: 0.2021 - accuracy: 0.9269 - val_loss: 0.1877 - val_accuracy: 0.9323\n",
      "Epoch 34/100\n",
      "2438/2438 [==============================] - 3596s 1s/step - loss: 0.2012 - accuracy: 0.9272 - val_loss: 0.1900 - val_accuracy: 0.9310\n",
      "Epoch 35/100\n",
      "2438/2438 [==============================] - 3630s 1s/step - loss: 0.1995 - accuracy: 0.9277 - val_loss: 0.1870 - val_accuracy: 0.9324\n",
      "Epoch 36/100\n",
      "2438/2438 [==============================] - 3598s 1s/step - loss: 0.1981 - accuracy: 0.9282 - val_loss: 0.1842 - val_accuracy: 0.9331\n",
      "Epoch 37/100\n",
      "2438/2438 [==============================] - 3589s 1s/step - loss: 0.1973 - accuracy: 0.9285 - val_loss: 0.1867 - val_accuracy: 0.9327\n",
      "Epoch 38/100\n",
      "2438/2438 [==============================] - 4483s 2s/step - loss: 0.1964 - accuracy: 0.9287 - val_loss: 0.1840 - val_accuracy: 0.9330\n",
      "Epoch 39/100\n",
      "2438/2438 [==============================] - 4740s 2s/step - loss: 0.1954 - accuracy: 0.9291 - val_loss: 0.1830 - val_accuracy: 0.9339\n",
      "Epoch 40/100\n",
      "2438/2438 [==============================] - 3603s 1s/step - loss: 0.1945 - accuracy: 0.9294 - val_loss: 0.1829 - val_accuracy: 0.9336\n",
      "Epoch 41/100\n",
      "2438/2438 [==============================] - 3577s 1s/step - loss: 0.1939 - accuracy: 0.9295 - val_loss: 0.1895 - val_accuracy: 0.9306\n",
      "Epoch 42/100\n",
      "2438/2438 [==============================] - 3521s 1s/step - loss: 0.1929 - accuracy: 0.9299 - val_loss: 0.1823 - val_accuracy: 0.9339\n",
      "Epoch 43/100\n",
      "2438/2438 [==============================] - 3494s 1s/step - loss: 0.1923 - accuracy: 0.9301 - val_loss: 0.1831 - val_accuracy: 0.9336\n",
      "Epoch 44/100\n",
      "2438/2438 [==============================] - 3517s 1s/step - loss: 0.1916 - accuracy: 0.9304 - val_loss: 0.1785 - val_accuracy: 0.9352\n",
      "Epoch 45/100\n",
      "2438/2438 [==============================] - 3500s 1s/step - loss: 0.1909 - accuracy: 0.9306 - val_loss: 0.1832 - val_accuracy: 0.9336\n",
      "Epoch 46/100\n",
      "2438/2438 [==============================] - 3505s 1s/step - loss: 0.1901 - accuracy: 0.9310 - val_loss: 0.1810 - val_accuracy: 0.9344\n",
      "Epoch 47/100\n",
      "2438/2438 [==============================] - 3508s 1s/step - loss: 0.1897 - accuracy: 0.9310 - val_loss: 0.1854 - val_accuracy: 0.9322\n",
      "Epoch 48/100\n",
      "2438/2438 [==============================] - 3553s 1s/step - loss: 0.1887 - accuracy: 0.9315 - val_loss: 0.1815 - val_accuracy: 0.9343\n",
      "Epoch 49/100\n",
      "2438/2438 [==============================] - 3533s 1s/step - loss: 0.1887 - accuracy: 0.9314 - val_loss: 0.1796 - val_accuracy: 0.9351\n",
      "Epoch 50/100\n",
      "2438/2438 [==============================] - 3533s 1s/step - loss: 0.1881 - accuracy: 0.9316 - val_loss: 0.1803 - val_accuracy: 0.9342\n",
      "Epoch 51/100\n",
      "2438/2438 [==============================] - 3542s 1s/step - loss: 0.1878 - accuracy: 0.9317 - val_loss: 0.1779 - val_accuracy: 0.9352\n",
      "Epoch 52/100\n",
      "2438/2438 [==============================] - 3561s 1s/step - loss: 0.1870 - accuracy: 0.9320 - val_loss: 0.1800 - val_accuracy: 0.9344\n",
      "Epoch 53/100\n",
      "2438/2438 [==============================] - 3531s 1s/step - loss: 0.1865 - accuracy: 0.9322 - val_loss: 0.1765 - val_accuracy: 0.9359\n",
      "Epoch 54/100\n",
      "2438/2438 [==============================] - 3543s 1s/step - loss: 0.1861 - accuracy: 0.9323 - val_loss: 0.1803 - val_accuracy: 0.9344\n",
      "Epoch 55/100\n",
      "2438/2438 [==============================] - 3535s 1s/step - loss: 0.1857 - accuracy: 0.9324 - val_loss: 0.1785 - val_accuracy: 0.9351\n",
      "Epoch 56/100\n",
      "2438/2438 [==============================] - 3537s 1s/step - loss: 0.1914 - accuracy: 0.9307 - val_loss: 0.1778 - val_accuracy: 0.9355\n",
      "Epoch 57/100\n",
      "2438/2438 [==============================] - 6725s 3s/step - loss: 0.1847 - accuracy: 0.9329 - val_loss: 0.1833 - val_accuracy: 0.9333\n",
      "Epoch 58/100\n",
      "2438/2438 [==============================] - 3546s 1s/step - loss: 0.1846 - accuracy: 0.9328 - val_loss: 0.1766 - val_accuracy: 0.9360\n",
      "Epoch 59/100\n",
      "2438/2438 [==============================] - 3550s 1s/step - loss: 0.1845 - accuracy: 0.9330 - val_loss: 0.1766 - val_accuracy: 0.9363\n",
      "Epoch 60/100\n",
      "2438/2438 [==============================] - 3569s 1s/step - loss: 0.1844 - accuracy: 0.9329 - val_loss: 0.1764 - val_accuracy: 0.9360\n",
      "Epoch 61/100\n",
      "2438/2438 [==============================] - 5240s 2s/step - loss: 0.1837 - accuracy: 0.9332 - val_loss: 0.1782 - val_accuracy: 0.9351\n",
      "Epoch 62/100\n",
      "2438/2438 [==============================] - 4615s 2s/step - loss: 0.1836 - accuracy: 0.9331 - val_loss: 0.1798 - val_accuracy: 0.9341\n",
      "Epoch 63/100\n",
      "2438/2438 [==============================] - 3630s 1s/step - loss: 0.1832 - accuracy: 0.9332 - val_loss: 0.1773 - val_accuracy: 0.9354\n",
      "Epoch 64/100\n",
      "2438/2438 [==============================] - 3542s 1s/step - loss: 0.1828 - accuracy: 0.9334 - val_loss: 0.1780 - val_accuracy: 0.9347\n",
      "Epoch 65/100\n",
      "2438/2438 [==============================] - 3561s 1s/step - loss: 0.1829 - accuracy: 0.9334 - val_loss: 0.1738 - val_accuracy: 0.9369\n",
      "Epoch 66/100\n",
      "2438/2438 [==============================] - 3603s 1s/step - loss: 0.1823 - accuracy: 0.9335 - val_loss: 0.1737 - val_accuracy: 0.9368\n",
      "Epoch 67/100\n",
      "2438/2438 [==============================] - 3653s 1s/step - loss: 0.1820 - accuracy: 0.9337 - val_loss: 0.1764 - val_accuracy: 0.9357\n",
      "Epoch 68/100\n",
      "2438/2438 [==============================] - 3698s 2s/step - loss: 0.1820 - accuracy: 0.9338 - val_loss: 0.1773 - val_accuracy: 0.9352\n",
      "Epoch 69/100\n",
      "2438/2438 [==============================] - 3575s 1s/step - loss: 0.1817 - accuracy: 0.9339 - val_loss: 0.1737 - val_accuracy: 0.9367\n",
      "Epoch 70/100\n",
      "2438/2438 [==============================] - 3581s 1s/step - loss: 0.1815 - accuracy: 0.9339 - val_loss: 0.1750 - val_accuracy: 0.9362\n",
      "Epoch 71/100\n",
      "2438/2438 [==============================] - 3569s 1s/step - loss: 0.1813 - accuracy: 0.9340 - val_loss: 0.1769 - val_accuracy: 0.9354\n",
      "Epoch 72/100\n",
      "2438/2438 [==============================] - 15298s 6s/step - loss: 0.1808 - accuracy: 0.9342 - val_loss: 0.1739 - val_accuracy: 0.9366\n",
      "Epoch 73/100\n",
      "2438/2438 [==============================] - 3547s 1s/step - loss: 0.1811 - accuracy: 0.9340 - val_loss: 0.1756 - val_accuracy: 0.9359\n",
      "Epoch 74/100\n",
      "2438/2438 [==============================] - 3550s 1s/step - loss: 0.1806 - accuracy: 0.9343 - val_loss: 0.1812 - val_accuracy: 0.9329\n",
      "Epoch 75/100\n",
      "2438/2438 [==============================] - 3550s 1s/step - loss: 0.1801 - accuracy: 0.9343 - val_loss: 0.1760 - val_accuracy: 0.9363\n",
      "Epoch 76/100\n",
      "2438/2438 [==============================] - 9990s 4s/step - loss: 0.1799 - accuracy: 0.9345 - val_loss: 0.1740 - val_accuracy: 0.9362\n",
      "Epoch 77/100\n",
      "2438/2438 [==============================] - 3520s 1s/step - loss: 0.1799 - accuracy: 0.9345 - val_loss: 0.1739 - val_accuracy: 0.9366\n",
      "Epoch 78/100\n",
      "2438/2438 [==============================] - 3555s 1s/step - loss: 0.1799 - accuracy: 0.9345 - val_loss: 0.1727 - val_accuracy: 0.9371\n",
      "Epoch 79/100\n",
      "2438/2438 [==============================] - 8520s 3s/step - loss: 0.1795 - accuracy: 0.9346 - val_loss: 0.1746 - val_accuracy: 0.9367\n",
      "Epoch 80/100\n",
      "2438/2438 [==============================] - 3525s 1s/step - loss: 0.1793 - accuracy: 0.9347 - val_loss: 0.1754 - val_accuracy: 0.9359\n",
      "Epoch 81/100\n",
      "2438/2438 [==============================] - 3550s 1s/step - loss: 0.1793 - accuracy: 0.9348 - val_loss: 0.1753 - val_accuracy: 0.9358\n",
      "Epoch 82/100\n",
      "2438/2438 [==============================] - 3527s 1s/step - loss: 0.1791 - accuracy: 0.9349 - val_loss: 0.1725 - val_accuracy: 0.9374\n",
      "Epoch 83/100\n",
      "2438/2438 [==============================] - 3573s 1s/step - loss: 0.1789 - accuracy: 0.9349 - val_loss: 0.1750 - val_accuracy: 0.9365\n",
      "Epoch 84/100\n",
      "2438/2438 [==============================] - 3595s 1s/step - loss: 0.1787 - accuracy: 0.9349 - val_loss: 0.1724 - val_accuracy: 0.9373\n",
      "Epoch 85/100\n",
      "2438/2438 [==============================] - 3591s 1s/step - loss: 0.1785 - accuracy: 0.9350 - val_loss: 0.1761 - val_accuracy: 0.9361\n",
      "Epoch 86/100\n",
      "2438/2438 [==============================] - 3583s 1s/step - loss: 0.1784 - accuracy: 0.9350 - val_loss: 0.1717 - val_accuracy: 0.9374\n",
      "Epoch 87/100\n",
      "2438/2438 [==============================] - 3573s 1s/step - loss: 0.1783 - accuracy: 0.9350 - val_loss: 0.1722 - val_accuracy: 0.9373\n",
      "Epoch 88/100\n",
      "2438/2438 [==============================] - 3584s 1s/step - loss: 0.1782 - accuracy: 0.9351 - val_loss: 0.1725 - val_accuracy: 0.9372\n",
      "Epoch 89/100\n",
      "2438/2438 [==============================] - 3576s 1s/step - loss: 0.1780 - accuracy: 0.9352 - val_loss: 0.1718 - val_accuracy: 0.9373\n",
      "Epoch 90/100\n",
      "2438/2438 [==============================] - 3577s 1s/step - loss: 0.1779 - accuracy: 0.9352 - val_loss: 0.1707 - val_accuracy: 0.9380\n",
      "Epoch 91/100\n",
      "2438/2438 [==============================] - 3562s 1s/step - loss: 0.1776 - accuracy: 0.9353 - val_loss: 0.1727 - val_accuracy: 0.9370\n",
      "Epoch 92/100\n",
      "2438/2438 [==============================] - 3587s 1s/step - loss: 0.1777 - accuracy: 0.9353 - val_loss: 0.1711 - val_accuracy: 0.9374\n",
      "Epoch 93/100\n",
      "2438/2438 [==============================] - 3582s 1s/step - loss: 0.1773 - accuracy: 0.9354 - val_loss: 0.1733 - val_accuracy: 0.9369\n",
      "Epoch 94/100\n",
      "2438/2438 [==============================] - 3592s 1s/step - loss: 0.1772 - accuracy: 0.9354 - val_loss: 0.1706 - val_accuracy: 0.9378\n",
      "Epoch 95/100\n",
      "2438/2438 [==============================] - 3584s 1s/step - loss: 0.1773 - accuracy: 0.9354 - val_loss: 0.1719 - val_accuracy: 0.9375\n",
      "Epoch 96/100\n",
      "2438/2438 [==============================] - 11980s 5s/step - loss: 0.1770 - accuracy: 0.9355 - val_loss: 0.1711 - val_accuracy: 0.9377\n",
      "Epoch 97/100\n",
      "2438/2438 [==============================] - 3556s 1s/step - loss: 0.1769 - accuracy: 0.9355 - val_loss: 0.1706 - val_accuracy: 0.9380\n",
      "Epoch 98/100\n",
      "2438/2438 [==============================] - 3588s 1s/step - loss: 0.1767 - accuracy: 0.9357 - val_loss: 0.1735 - val_accuracy: 0.9364\n",
      "Epoch 99/100\n",
      "2438/2438 [==============================] - 3594s 1s/step - loss: 0.1767 - accuracy: 0.9356 - val_loss: 0.1722 - val_accuracy: 0.9372\n",
      "Epoch 100/100\n",
      "2438/2438 [==============================] - 3702s 2s/step - loss: 0.1766 - accuracy: 0.9356 - val_loss: 0.1713 - val_accuracy: 0.9376\n",
      "2024-02-17 13:13:11.028447\n"
     ]
    }
   ],
   "source": [
    "#train \n",
    "print(datetime.datetime.now())\n",
    "history = model.fit(train_X, y_train_mod, batch_size=2048, epochs=100, validation_split=0.1)\n",
    "print(datetime.datetime.now())"
   ]
  },
  {
   "cell_type": "code",
   "execution_count": 22,
   "id": "12dc04e5-2092-4a1c-a3ff-f9f8a2ab740b",
   "metadata": {},
   "outputs": [],
   "source": [
    "preds = model.predict(test_X)"
   ]
  },
  {
   "cell_type": "code",
   "execution_count": 24,
   "id": "37a338da-0d5f-4ff6-88b3-d22569c22025",
   "metadata": {
    "tags": []
   },
   "outputs": [],
   "source": [
    "val_pred = np.argmax(model.predict(test_X), axis=-1)"
   ]
  },
  {
   "cell_type": "code",
   "execution_count": 25,
   "id": "4d674981-fd3e-440e-a165-3ce15dbbd57d",
   "metadata": {
    "tags": []
   },
   "outputs": [
    {
     "data": {
      "text/plain": [
       "array([0, 0, 1, ..., 0, 1, 0], dtype=int64)"
      ]
     },
     "execution_count": 25,
     "metadata": {},
     "output_type": "execute_result"
    }
   ],
   "source": [
    "preds.argmax(axis=1)"
   ]
  },
  {
   "cell_type": "code",
   "execution_count": 26,
   "id": "7ac34c68-57ab-4a98-a6f7-bbaba71a3683",
   "metadata": {},
   "outputs": [
    {
     "data": {
      "text/plain": [
       "array([[427263,  34959,     26],\n",
       "       [ 50203, 412064,     52],\n",
       "       [   678,    646, 461002]], dtype=int64)"
      ]
     },
     "execution_count": 26,
     "metadata": {},
     "output_type": "execute_result"
    }
   ],
   "source": [
    "# evaluation: Confusion Matrix\n",
    "confusion_lstm = metrics.confusion_matrix(y_true = y_test_mod, y_pred = val_pred)\n",
    "confusion_lstm"
   ]
  },
  {
   "cell_type": "code",
   "execution_count": 27,
   "id": "7f6417a3-cfd1-4eb6-a2cb-cfaf6fad3ab3",
   "metadata": {},
   "outputs": [
    {
     "name": "stdout",
     "output_type": "stream",
     "text": [
      "Saving figure lstm_aug_cm\n"
     ]
    },
    {
     "data": {
      "image/png": "[encoded data removed]",
      "text/plain": [
       "<Figure size 1000x700 with 2 Axes>"
      ]
     },
     "metadata": {},
     "output_type": "display_data"
    }
   ],
   "source": [
    "df_cm_lstm = pd.DataFrame(confusion_lstm, index = all_classes, columns = all_classes)\n",
    "plt.figure(figsize = (10,7))\n",
    "sns.heatmap(df_cm_lstm, annot=True,fmt='d',cmap=plt.cm.Blues)\n",
    "save_fig(\"lstm_aug_cm\")"
   ]
  },
  {
   "cell_type": "code",
   "execution_count": 29,
   "id": "40f69631-b7eb-4999-a0c9-1c507d4fde28",
   "metadata": {},
   "outputs": [
    {
     "name": "stdout",
     "output_type": "stream",
     "text": [
      "Accuracy: 0.938\n",
      "Recall: 0.938\n",
      "Precision: 0.938\n",
      "F1-Score: 0.938\n"
     ]
    }
   ],
   "source": [
    "# measure accuracy\n",
    "print('Accuracy: %.3f' % metrics.accuracy_score(y_true=y_test_mod, y_pred=val_pred))\n",
    "print('Recall: %.3f' % metrics.recall_score(y_true=y_test_mod, y_pred=val_pred, average='weighted'))\n",
    "print('Precision: %.3f' % metrics.precision_score(y_true=y_test_mod, y_pred=val_pred, average='weighted'))\n",
    "print('F1-Score: %.3f' % metrics.f1_score(y_true=y_test_mod, y_pred=val_pred, average='weighted'))"
   ]
  },
  {
   "cell_type": "code",
   "execution_count": 36,
   "id": "6ff4b9b5-8aa4-456a-afa1-200d9540d3ad",
   "metadata": {},
   "outputs": [],
   "source": [
    "# Save model as pkl file\n",
    "model.save('models/CC/lstm_model.keras')\n",
    "model.save('models/CC/lstm_model.h5', save_format='h5')\n",
    "# It can be used to reconstruct the model identically.\n",
    "#reconstructed_model = keras.models.load_model(\"models/CC/lstm_model.keras\")\n",
    "# Let's check:\n",
    "#np.testing.assert_allclose(\n",
    "#    model.predict(test_input), reconstructed_model.predict(test_input)\n",
    "#)"
   ]
  },
  {
   "cell_type": "code",
   "execution_count": 42,
   "id": "b16dd726-1cec-4ad9-ba2b-67bc029ac386",
   "metadata": {},
   "outputs": [],
   "source": [
    "def unpack(model, training_config, weights):\n",
    "    restored_model = deserialize(model)\n",
    "    if training_config is not None:\n",
    "        restored_model.compile(\n",
    "            **saving_utils.compile_args_from_training_config(\n",
    "                training_config\n",
    "            )\n",
    "        )\n",
    "    restored_model.set_weights(weights)\n",
    "    return restored_model\n",
    "\n",
    "# Hotfix function\n",
    "def make_keras_picklable():\n",
    "\n",
    "    def __reduce__(self):\n",
    "        model_metadata = saving_utils.model_metadata(self)\n",
    "        training_config = model_metadata.get(\"training_config\", None)\n",
    "        model = serialize(self)\n",
    "        weights = self.get_weights()\n",
    "        return (unpack, (model, training_config, weights))\n",
    "\n",
    "    cls = Model\n",
    "    cls.__reduce__ = __reduce__\n",
    "\n",
    "# Run the function\n",
    "make_keras_picklable()"
   ]
  },
  {
   "cell_type": "code",
   "execution_count": 43,
   "id": "74f4a44d-3713-4eed-93b8-37ba70487e6e",
   "metadata": {},
   "outputs": [],
   "source": [
    "# Save model as pkl file \n",
    "pickle.dump(model, open('models/CC/lstm_model.pkl', 'wb'))\n",
    "#pickled_model = pickle.load(open('models/CC/model.pkl', 'rb'))\n",
    "#pickled_model.predict(X_test)"
   ]
  },
  {
   "cell_type": "code",
   "execution_count": null,
   "id": "ac05e0f0-c6c0-4d47-ba69-1d24740fbedb",
   "metadata": {},
   "outputs": [],
   "source": []
  },
  {
   "cell_type": "code",
   "execution_count": null,
   "id": "464cc56a-1a34-4e13-9151-e97cf02b385d",
   "metadata": {},
   "outputs": [],
   "source": []
  }
 ],
 "metadata": {
  "kernelspec": {
   "display_name": "Python 3 (ipykernel)",
   "language": "python",
   "name": "python3"
  },
  "language_info": {
   "codemirror_mode": {
    "name": "ipython",
    "version": 3
   },
   "file_extension": ".py",
   "mimetype": "text/x-python",
   "name": "python",
   "nbconvert_exporter": "python",
   "pygments_lexer": "ipython3",
   "version": "3.8.18"
  }
 },
 "nbformat": 4,
 "nbformat_minor": 5
}
