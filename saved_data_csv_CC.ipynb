{
 "cells": [
  {
   "cell_type": "code",
   "execution_count": 1,
   "id": "b46bda95-4464-45b0-b06b-42733c063d39",
   "metadata": {
    "tags": []
   },
   "outputs": [],
   "source": [
    "# Load all libraries\n",
    "import rasterio\n",
    "import numpy as np\n",
    "import pandas as pd\n",
    "import os\n",
    "from collections import Counter\n",
    "import matplotlib.pyplot as plt\n",
    "%matplotlib inline"
   ]
  },
  {
   "cell_type": "code",
   "execution_count": 2,
   "id": "77d883a1-239f-4a67-9468-1ea557c39555",
   "metadata": {
    "tags": []
   },
   "outputs": [],
   "source": [
    "# Create the column names of dataframe from indices' names\n",
    "colNames = []\n",
    "folder = 'masked_CC'\n",
    "i = 0\n",
    "for subfolder in os.listdir(folder):\n",
    "    for filename in os.listdir(os.path.join(folder, subfolder)):\n",
    "        img_name = filename.split('_')[1]\n",
    "        colNames.append(img_name)\n",
    "    i += 1\n",
    "    if i > 0:\n",
    "        break"
   ]
  },
  {
   "cell_type": "code",
   "execution_count": 3,
   "id": "be419413-796a-4bcb-8dc1-a8a0a4480c46",
   "metadata": {
    "tags": []
   },
   "outputs": [
    {
     "data": {
      "text/plain": [
       "['blue',\n",
       " 'dbsi',\n",
       " 'evi',\n",
       " 'gi',\n",
       " 'gndvi',\n",
       " 'green',\n",
       " 'kndvi',\n",
       " 'ndci',\n",
       " 'ndpi',\n",
       " 'ndvigb',\n",
       " 'ndvi',\n",
       " 'nir',\n",
       " 'npci',\n",
       " 'psri',\n",
       " 'red',\n",
       " 'rvi1',\n",
       " 'rvi2',\n",
       " 'sipi',\n",
       " 'srpi',\n",
       " 'tvi',\n",
       " 'vari',\n",
       " 'VH',\n",
       " 'VV-VH',\n",
       " 'VV']"
      ]
     },
     "execution_count": 3,
     "metadata": {},
     "output_type": "execute_result"
    }
   ],
   "source": [
    "colNames"
   ]
  },
  {
   "cell_type": "code",
   "execution_count": 4,
   "id": "b88f8617-f949-40a4-a074-f16c229f3fd2",
   "metadata": {
    "tags": []
   },
   "outputs": [],
   "source": [
    "colNames.append('class')"
   ]
  },
  {
   "cell_type": "code",
   "execution_count": 5,
   "id": "4001958c-2e57-42c0-b4e3-26cac4b9e580",
   "metadata": {
    "tags": []
   },
   "outputs": [
    {
     "data": {
      "text/plain": [
       "['blue',\n",
       " 'dbsi',\n",
       " 'evi',\n",
       " 'gi',\n",
       " 'gndvi',\n",
       " 'green',\n",
       " 'kndvi',\n",
       " 'ndci',\n",
       " 'ndpi',\n",
       " 'ndvigb',\n",
       " 'ndvi',\n",
       " 'nir',\n",
       " 'npci',\n",
       " 'psri',\n",
       " 'red',\n",
       " 'rvi1',\n",
       " 'rvi2',\n",
       " 'sipi',\n",
       " 'srpi',\n",
       " 'tvi',\n",
       " 'vari',\n",
       " 'VH',\n",
       " 'VV-VH',\n",
       " 'VV',\n",
       " 'class']"
      ]
     },
     "execution_count": 5,
     "metadata": {},
     "output_type": "execute_result"
    }
   ],
   "source": [
    "colNames"
   ]
  },
  {
   "cell_type": "code",
   "execution_count": 6,
   "id": "c184afcd-5dff-48bb-b285-d11dfbc0f593",
   "metadata": {
    "tags": []
   },
   "outputs": [],
   "source": [
    "df = pd.DataFrame(columns = colNames)"
   ]
  },
  {
   "cell_type": "code",
   "execution_count": 7,
   "id": "bd00f1c8-1770-4099-bf53-a977ae9db992",
   "metadata": {
    "tags": []
   },
   "outputs": [
    {
     "data": {
      "text/html": [
       "<div>\n",
       "<style scoped>\n",
       "    .dataframe tbody tr th:only-of-type {\n",
       "        vertical-align: middle;\n",
       "    }\n",
       "\n",
       "    .dataframe tbody tr th {\n",
       "        vertical-align: top;\n",
       "    }\n",
       "\n",
       "    .dataframe thead th {\n",
       "        text-align: right;\n",
       "    }\n",
       "</style>\n",
       "<table border=\"1\" class=\"dataframe\">\n",
       "  <thead>\n",
       "    <tr style=\"text-align: right;\">\n",
       "      <th></th>\n",
       "      <th>blue</th>\n",
       "      <th>dbsi</th>\n",
       "      <th>evi</th>\n",
       "      <th>gi</th>\n",
       "      <th>gndvi</th>\n",
       "      <th>green</th>\n",
       "      <th>kndvi</th>\n",
       "      <th>ndci</th>\n",
       "      <th>ndpi</th>\n",
       "      <th>ndvigb</th>\n",
       "      <th>...</th>\n",
       "      <th>rvi1</th>\n",
       "      <th>rvi2</th>\n",
       "      <th>sipi</th>\n",
       "      <th>srpi</th>\n",
       "      <th>tvi</th>\n",
       "      <th>vari</th>\n",
       "      <th>VH</th>\n",
       "      <th>VV-VH</th>\n",
       "      <th>VV</th>\n",
       "      <th>class</th>\n",
       "    </tr>\n",
       "  </thead>\n",
       "  <tbody>\n",
       "  </tbody>\n",
       "</table>\n",
       "<p>0 rows × 25 columns</p>\n",
       "</div>"
      ],
      "text/plain": [
       "Empty DataFrame\n",
       "Columns: [blue, dbsi, evi, gi, gndvi, green, kndvi, ndci, ndpi, ndvigb, ndvi, nir, npci, psri, red, rvi1, rvi2, sipi, srpi, tvi, vari, VH, VV-VH, VV, class]\n",
       "Index: []\n",
       "\n",
       "[0 rows x 25 columns]"
      ]
     },
     "execution_count": 7,
     "metadata": {},
     "output_type": "execute_result"
    }
   ],
   "source": [
    "df"
   ]
  },
  {
   "cell_type": "code",
   "execution_count": 8,
   "id": "511e46ef-4ad6-4c2e-b986-f442c2df6081",
   "metadata": {
    "tags": []
   },
   "outputs": [],
   "source": [
    "# Get the values of images in one dataframe, excluding from it zero class\n",
    "for subfolder in os.listdir(folder):\n",
    "    x = len([name for name in os.listdir(os.path.join(folder, subfolder)) if os.path.isfile(os.path.join(folder, subfolder, name))])\n",
    "    i = 0\n",
    "    array = {}\n",
    "    for filename in os.listdir(os.path.join(folder, subfolder)):\n",
    "        if i < x:\n",
    "            img = rasterio.open(os.path.join(folder, subfolder, filename))\n",
    "            array[f'var{i}'] = img.read()\n",
    "            i += 1\n",
    "    imgy =  rasterio.open('images/CC_2023/vector_2023.tif')\n",
    "    array[f'var{i+1}'] = imgy.read()\n",
    "    arra = np.concatenate(list(array.values()),0)\n",
    "    df_img = pd.DataFrame(arra.reshape([x+1,-1]).T, columns=colNames)\n",
    "    df_filtered = df_img[df_img['class'] > 0]\n",
    "    df = pd.concat([df, df_filtered])"
   ]
  },
  {
   "cell_type": "code",
   "execution_count": 22,
   "id": "87e5ea18-adec-45c4-8898-2872c1af931f",
   "metadata": {
    "tags": []
   },
   "outputs": [
    {
     "data": {
      "text/html": [
       "<div>\n",
       "<style scoped>\n",
       "    .dataframe tbody tr th:only-of-type {\n",
       "        vertical-align: middle;\n",
       "    }\n",
       "\n",
       "    .dataframe tbody tr th {\n",
       "        vertical-align: top;\n",
       "    }\n",
       "\n",
       "    .dataframe thead th {\n",
       "        text-align: right;\n",
       "    }\n",
       "</style>\n",
       "<table border=\"1\" class=\"dataframe\">\n",
       "  <thead>\n",
       "    <tr style=\"text-align: right;\">\n",
       "      <th></th>\n",
       "      <th>blue</th>\n",
       "      <th>dbsi</th>\n",
       "      <th>evi</th>\n",
       "      <th>gi</th>\n",
       "      <th>gndvi</th>\n",
       "      <th>green</th>\n",
       "      <th>kndvi</th>\n",
       "      <th>ndci</th>\n",
       "      <th>ndpi</th>\n",
       "      <th>ndvigb</th>\n",
       "      <th>...</th>\n",
       "      <th>rvi1</th>\n",
       "      <th>rvi2</th>\n",
       "      <th>sipi</th>\n",
       "      <th>srpi</th>\n",
       "      <th>tvi</th>\n",
       "      <th>vari</th>\n",
       "      <th>VH</th>\n",
       "      <th>VV-VH</th>\n",
       "      <th>VV</th>\n",
       "      <th>class</th>\n",
       "    </tr>\n",
       "  </thead>\n",
       "  <tbody>\n",
       "    <tr>\n",
       "      <th>1328</th>\n",
       "      <td>187.0</td>\n",
       "      <td>-0.360341</td>\n",
       "      <td>1.699176</td>\n",
       "      <td>1.343949</td>\n",
       "      <td>0.652102</td>\n",
       "      <td>422.0</td>\n",
       "      <td>0.486567</td>\n",
       "      <td>0.407547</td>\n",
       "      <td>0.368736</td>\n",
       "      <td>0.385878</td>\n",
       "      <td>...</td>\n",
       "      <td>6.382166</td>\n",
       "      <td>4.748815</td>\n",
       "      <td>0.829302</td>\n",
       "      <td>0.595541</td>\n",
       "      <td>105720.0</td>\n",
       "      <td>0.196721</td>\n",
       "      <td>0.009269</td>\n",
       "      <td>10.602147</td>\n",
       "      <td>0.098267</td>\n",
       "      <td>2.0</td>\n",
       "    </tr>\n",
       "    <tr>\n",
       "      <th>1329</th>\n",
       "      <td>215.0</td>\n",
       "      <td>-0.352234</td>\n",
       "      <td>1.978818</td>\n",
       "      <td>1.434343</td>\n",
       "      <td>0.658927</td>\n",
       "      <td>426.0</td>\n",
       "      <td>0.509010</td>\n",
       "      <td>0.420488</td>\n",
       "      <td>0.397028</td>\n",
       "      <td>0.329173</td>\n",
       "      <td>...</td>\n",
       "      <td>6.976431</td>\n",
       "      <td>4.863850</td>\n",
       "      <td>0.811981</td>\n",
       "      <td>0.723906</td>\n",
       "      <td>111660.0</td>\n",
       "      <td>0.253937</td>\n",
       "      <td>0.006035</td>\n",
       "      <td>8.921235</td>\n",
       "      <td>0.053838</td>\n",
       "      <td>2.0</td>\n",
       "    </tr>\n",
       "    <tr>\n",
       "      <th>1330</th>\n",
       "      <td>150.0</td>\n",
       "      <td>-0.369787</td>\n",
       "      <td>1.790232</td>\n",
       "      <td>1.471014</td>\n",
       "      <td>0.701471</td>\n",
       "      <td>406.0</td>\n",
       "      <td>0.550549</td>\n",
       "      <td>0.450199</td>\n",
       "      <td>0.417085</td>\n",
       "      <td>0.460432</td>\n",
       "      <td>...</td>\n",
       "      <td>8.384058</td>\n",
       "      <td>5.699507</td>\n",
       "      <td>0.878247</td>\n",
       "      <td>0.543478</td>\n",
       "      <td>127480.0</td>\n",
       "      <td>0.244361</td>\n",
       "      <td>0.011688</td>\n",
       "      <td>3.941949</td>\n",
       "      <td>0.046072</td>\n",
       "      <td>2.0</td>\n",
       "    </tr>\n",
       "    <tr>\n",
       "      <th>1331</th>\n",
       "      <td>134.0</td>\n",
       "      <td>-0.300559</td>\n",
       "      <td>1.926244</td>\n",
       "      <td>1.527426</td>\n",
       "      <td>0.741244</td>\n",
       "      <td>362.0</td>\n",
       "      <td>0.589427</td>\n",
       "      <td>0.446908</td>\n",
       "      <td>0.522112</td>\n",
       "      <td>0.459677</td>\n",
       "      <td>...</td>\n",
       "      <td>10.278481</td>\n",
       "      <td>6.729282</td>\n",
       "      <td>0.895720</td>\n",
       "      <td>0.565401</td>\n",
       "      <td>136940.0</td>\n",
       "      <td>0.268817</td>\n",
       "      <td>0.014747</td>\n",
       "      <td>5.431677</td>\n",
       "      <td>0.080100</td>\n",
       "      <td>2.0</td>\n",
       "    </tr>\n",
       "    <tr>\n",
       "      <th>1332</th>\n",
       "      <td>139.0</td>\n",
       "      <td>-0.329117</td>\n",
       "      <td>2.054994</td>\n",
       "      <td>1.659193</td>\n",
       "      <td>0.752674</td>\n",
       "      <td>370.0</td>\n",
       "      <td>0.611331</td>\n",
       "      <td>0.470937</td>\n",
       "      <td>0.514117</td>\n",
       "      <td>0.453831</td>\n",
       "      <td>...</td>\n",
       "      <td>11.757848</td>\n",
       "      <td>7.086486</td>\n",
       "      <td>0.899312</td>\n",
       "      <td>0.623318</td>\n",
       "      <td>149820.0</td>\n",
       "      <td>0.323789</td>\n",
       "      <td>0.015965</td>\n",
       "      <td>5.754610</td>\n",
       "      <td>0.091873</td>\n",
       "      <td>2.0</td>\n",
       "    </tr>\n",
       "  </tbody>\n",
       "</table>\n",
       "<p>5 rows × 25 columns</p>\n",
       "</div>"
      ],
      "text/plain": [
       "       blue      dbsi       evi        gi     gndvi  green     kndvi  \\\n",
       "1328  187.0 -0.360341  1.699176  1.343949  0.652102  422.0  0.486567   \n",
       "1329  215.0 -0.352234  1.978818  1.434343  0.658927  426.0  0.509010   \n",
       "1330  150.0 -0.369787  1.790232  1.471014  0.701471  406.0  0.550549   \n",
       "1331  134.0 -0.300559  1.926244  1.527426  0.741244  362.0  0.589427   \n",
       "1332  139.0 -0.329117  2.054994  1.659193  0.752674  370.0  0.611331   \n",
       "\n",
       "          ndci      ndpi    ndvigb  ...       rvi1      rvi2      sipi  \\\n",
       "1328  0.407547  0.368736  0.385878  ...   6.382166  4.748815  0.829302   \n",
       "1329  0.420488  0.397028  0.329173  ...   6.976431  4.863850  0.811981   \n",
       "1330  0.450199  0.417085  0.460432  ...   8.384058  5.699507  0.878247   \n",
       "1331  0.446908  0.522112  0.459677  ...  10.278481  6.729282  0.895720   \n",
       "1332  0.470937  0.514117  0.453831  ...  11.757848  7.086486  0.899312   \n",
       "\n",
       "          srpi       tvi      vari        VH      VV-VH        VV  class  \n",
       "1328  0.595541  105720.0  0.196721  0.009269  10.602147  0.098267    2.0  \n",
       "1329  0.723906  111660.0  0.253937  0.006035   8.921235  0.053838    2.0  \n",
       "1330  0.543478  127480.0  0.244361  0.011688   3.941949  0.046072    2.0  \n",
       "1331  0.565401  136940.0  0.268817  0.014747   5.431677  0.080100    2.0  \n",
       "1332  0.623318  149820.0  0.323789  0.015965   5.754610  0.091873    2.0  \n",
       "\n",
       "[5 rows x 25 columns]"
      ]
     },
     "execution_count": 22,
     "metadata": {},
     "output_type": "execute_result"
    }
   ],
   "source": [
    "df.head()"
   ]
  },
  {
   "cell_type": "code",
   "execution_count": 23,
   "id": "3162f791-d96e-4351-9093-2521250d32bb",
   "metadata": {
    "tags": []
   },
   "outputs": [
    {
     "name": "stdout",
     "output_type": "stream",
     "text": [
      "<class 'pandas.core.frame.DataFrame'>\n",
      "Int64Index: 373624 entries, 1328 to 12691959\n",
      "Data columns (total 25 columns):\n",
      " #   Column  Non-Null Count   Dtype  \n",
      "---  ------  --------------   -----  \n",
      " 0   blue    373624 non-null  float64\n",
      " 1   dbsi    373624 non-null  float64\n",
      " 2   evi     373624 non-null  float64\n",
      " 3   gi      373624 non-null  float64\n",
      " 4   gndvi   373624 non-null  float64\n",
      " 5   green   373624 non-null  float64\n",
      " 6   kndvi   373624 non-null  float64\n",
      " 7   ndci    373624 non-null  float64\n",
      " 8   ndpi    373624 non-null  float64\n",
      " 9   ndvigb  373624 non-null  float64\n",
      " 10  ndvi    373624 non-null  float64\n",
      " 11  nir     373624 non-null  float64\n",
      " 12  npci    373624 non-null  float64\n",
      " 13  psri    373624 non-null  float64\n",
      " 14  red     373624 non-null  float64\n",
      " 15  rvi1    373624 non-null  float64\n",
      " 16  rvi2    373624 non-null  float64\n",
      " 17  sipi    373624 non-null  float64\n",
      " 18  srpi    373624 non-null  float64\n",
      " 19  tvi     373624 non-null  float64\n",
      " 20  vari    373624 non-null  float64\n",
      " 21  VH      373624 non-null  float64\n",
      " 22  VV-VH   373624 non-null  float64\n",
      " 23  VV      373624 non-null  float64\n",
      " 24  class   373624 non-null  float64\n",
      "dtypes: float64(25)\n",
      "memory usage: 74.1 MB\n"
     ]
    }
   ],
   "source": [
    "df.info()"
   ]
  },
  {
   "cell_type": "code",
   "execution_count": 24,
   "id": "6d0f26d3-0ab0-42ae-8e02-5bab3678233e",
   "metadata": {
    "tags": []
   },
   "outputs": [
    {
     "data": {
      "text/html": [
       "<div>\n",
       "<style scoped>\n",
       "    .dataframe tbody tr th:only-of-type {\n",
       "        vertical-align: middle;\n",
       "    }\n",
       "\n",
       "    .dataframe tbody tr th {\n",
       "        vertical-align: top;\n",
       "    }\n",
       "\n",
       "    .dataframe thead th {\n",
       "        text-align: right;\n",
       "    }\n",
       "</style>\n",
       "<table border=\"1\" class=\"dataframe\">\n",
       "  <thead>\n",
       "    <tr style=\"text-align: right;\">\n",
       "      <th></th>\n",
       "      <th>blue</th>\n",
       "      <th>dbsi</th>\n",
       "      <th>evi</th>\n",
       "      <th>gi</th>\n",
       "      <th>gndvi</th>\n",
       "      <th>green</th>\n",
       "      <th>kndvi</th>\n",
       "      <th>ndci</th>\n",
       "      <th>ndpi</th>\n",
       "      <th>ndvigb</th>\n",
       "      <th>...</th>\n",
       "      <th>rvi1</th>\n",
       "      <th>rvi2</th>\n",
       "      <th>sipi</th>\n",
       "      <th>srpi</th>\n",
       "      <th>tvi</th>\n",
       "      <th>vari</th>\n",
       "      <th>VH</th>\n",
       "      <th>VV-VH</th>\n",
       "      <th>VV</th>\n",
       "      <th>class</th>\n",
       "    </tr>\n",
       "  </thead>\n",
       "  <tbody>\n",
       "    <tr>\n",
       "      <th>count</th>\n",
       "      <td>373624.000000</td>\n",
       "      <td>373624.000000</td>\n",
       "      <td>373624.000000</td>\n",
       "      <td>373624.000000</td>\n",
       "      <td>373624.000000</td>\n",
       "      <td>373624.000000</td>\n",
       "      <td>373624.000000</td>\n",
       "      <td>373624.000000</td>\n",
       "      <td>373624.000000</td>\n",
       "      <td>373624.000000</td>\n",
       "      <td>...</td>\n",
       "      <td>373624.000000</td>\n",
       "      <td>373624.000000</td>\n",
       "      <td>373624.000000</td>\n",
       "      <td>373624.000000</td>\n",
       "      <td>373624.000000</td>\n",
       "      <td>373624.000000</td>\n",
       "      <td>373624.000000</td>\n",
       "      <td>373624.000000</td>\n",
       "      <td>373624.000000</td>\n",
       "      <td>373624.000000</td>\n",
       "    </tr>\n",
       "    <tr>\n",
       "      <th>mean</th>\n",
       "      <td>383.012108</td>\n",
       "      <td>-0.247624</td>\n",
       "      <td>1.855023</td>\n",
       "      <td>1.388786</td>\n",
       "      <td>0.631860</td>\n",
       "      <td>653.122749</td>\n",
       "      <td>0.448365</td>\n",
       "      <td>0.350517</td>\n",
       "      <td>0.437672</td>\n",
       "      <td>0.288717</td>\n",
       "      <td>...</td>\n",
       "      <td>8.301150</td>\n",
       "      <td>5.380053</td>\n",
       "      <td>0.765744</td>\n",
       "      <td>0.750706</td>\n",
       "      <td>156563.706293</td>\n",
       "      <td>0.205721</td>\n",
       "      <td>0.020839</td>\n",
       "      <td>8.131402</td>\n",
       "      <td>0.114432</td>\n",
       "      <td>1.634258</td>\n",
       "    </tr>\n",
       "    <tr>\n",
       "      <th>std</th>\n",
       "      <td>204.078670</td>\n",
       "      <td>0.133928</td>\n",
       "      <td>4.353043</td>\n",
       "      <td>0.419624</td>\n",
       "      <td>0.145304</td>\n",
       "      <td>228.183729</td>\n",
       "      <td>0.181182</td>\n",
       "      <td>0.140395</td>\n",
       "      <td>0.137232</td>\n",
       "      <td>0.123104</td>\n",
       "      <td>...</td>\n",
       "      <td>6.719706</td>\n",
       "      <td>2.716593</td>\n",
       "      <td>0.127082</td>\n",
       "      <td>0.194672</td>\n",
       "      <td>61032.490637</td>\n",
       "      <td>0.191018</td>\n",
       "      <td>0.014182</td>\n",
       "      <td>16.316112</td>\n",
       "      <td>0.096464</td>\n",
       "      <td>0.481638</td>\n",
       "    </tr>\n",
       "    <tr>\n",
       "      <th>min</th>\n",
       "      <td>1.000000</td>\n",
       "      <td>-0.881061</td>\n",
       "      <td>-1561.666667</td>\n",
       "      <td>0.071563</td>\n",
       "      <td>-0.074931</td>\n",
       "      <td>38.000000</td>\n",
       "      <td>0.000000</td>\n",
       "      <td>-0.283364</td>\n",
       "      <td>-0.691574</td>\n",
       "      <td>-0.744108</td>\n",
       "      <td>...</td>\n",
       "      <td>0.666248</td>\n",
       "      <td>0.860585</td>\n",
       "      <td>0.085880</td>\n",
       "      <td>0.007299</td>\n",
       "      <td>-27960.000000</td>\n",
       "      <td>-1.954023</td>\n",
       "      <td>0.000014</td>\n",
       "      <td>0.092521</td>\n",
       "      <td>0.000973</td>\n",
       "      <td>1.000000</td>\n",
       "    </tr>\n",
       "    <tr>\n",
       "      <th>25%</th>\n",
       "      <td>247.000000</td>\n",
       "      <td>-0.334216</td>\n",
       "      <td>1.469871</td>\n",
       "      <td>1.107692</td>\n",
       "      <td>0.546649</td>\n",
       "      <td>494.000000</td>\n",
       "      <td>0.330932</td>\n",
       "      <td>0.258902</td>\n",
       "      <td>0.366833</td>\n",
       "      <td>0.207430</td>\n",
       "      <td>...</td>\n",
       "      <td>3.835687</td>\n",
       "      <td>3.411592</td>\n",
       "      <td>0.698935</td>\n",
       "      <td>0.603133</td>\n",
       "      <td>115180.000000</td>\n",
       "      <td>0.075515</td>\n",
       "      <td>0.010681</td>\n",
       "      <td>3.208276</td>\n",
       "      <td>0.059507</td>\n",
       "      <td>1.000000</td>\n",
       "    </tr>\n",
       "    <tr>\n",
       "      <th>50%</th>\n",
       "      <td>351.000000</td>\n",
       "      <td>-0.279949</td>\n",
       "      <td>1.984782</td>\n",
       "      <td>1.314869</td>\n",
       "      <td>0.654239</td>\n",
       "      <td>619.500000</td>\n",
       "      <td>0.485070</td>\n",
       "      <td>0.347994</td>\n",
       "      <td>0.454809</td>\n",
       "      <td>0.254400</td>\n",
       "      <td>...</td>\n",
       "      <td>6.345679</td>\n",
       "      <td>4.784344</td>\n",
       "      <td>0.790016</td>\n",
       "      <td>0.734828</td>\n",
       "      <td>163080.000000</td>\n",
       "      <td>0.202469</td>\n",
       "      <td>0.017541</td>\n",
       "      <td>5.341186</td>\n",
       "      <td>0.095606</td>\n",
       "      <td>2.000000</td>\n",
       "    </tr>\n",
       "    <tr>\n",
       "      <th>75%</th>\n",
       "      <td>481.000000</td>\n",
       "      <td>-0.192233</td>\n",
       "      <td>2.341211</td>\n",
       "      <td>1.601852</td>\n",
       "      <td>0.741152</td>\n",
       "      <td>781.000000</td>\n",
       "      <td>0.598199</td>\n",
       "      <td>0.447279</td>\n",
       "      <td>0.530317</td>\n",
       "      <td>0.342725</td>\n",
       "      <td>...</td>\n",
       "      <td>10.824926</td>\n",
       "      <td>6.726539</td>\n",
       "      <td>0.860963</td>\n",
       "      <td>0.866667</td>\n",
       "      <td>201440.000000</td>\n",
       "      <td>0.341031</td>\n",
       "      <td>0.027436</td>\n",
       "      <td>9.185428</td>\n",
       "      <td>0.146852</td>\n",
       "      <td>2.000000</td>\n",
       "    </tr>\n",
       "    <tr>\n",
       "      <th>max</th>\n",
       "      <td>5776.000000</td>\n",
       "      <td>0.492399</td>\n",
       "      <td>691.428571</td>\n",
       "      <td>26.600000</td>\n",
       "      <td>0.974565</td>\n",
       "      <td>5596.000000</td>\n",
       "      <td>0.757573</td>\n",
       "      <td>0.974684</td>\n",
       "      <td>0.952736</td>\n",
       "      <td>0.993671</td>\n",
       "      <td>...</td>\n",
       "      <td>418.800000</td>\n",
       "      <td>77.631579</td>\n",
       "      <td>0.999573</td>\n",
       "      <td>2.540000</td>\n",
       "      <td>400560.000000</td>\n",
       "      <td>1.257143</td>\n",
       "      <td>0.171081</td>\n",
       "      <td>4986.297363</td>\n",
       "      <td>18.766241</td>\n",
       "      <td>2.000000</td>\n",
       "    </tr>\n",
       "  </tbody>\n",
       "</table>\n",
       "<p>8 rows × 25 columns</p>\n",
       "</div>"
      ],
      "text/plain": [
       "                blue           dbsi            evi             gi  \\\n",
       "count  373624.000000  373624.000000  373624.000000  373624.000000   \n",
       "mean      383.012108      -0.247624       1.855023       1.388786   \n",
       "std       204.078670       0.133928       4.353043       0.419624   \n",
       "min         1.000000      -0.881061   -1561.666667       0.071563   \n",
       "25%       247.000000      -0.334216       1.469871       1.107692   \n",
       "50%       351.000000      -0.279949       1.984782       1.314869   \n",
       "75%       481.000000      -0.192233       2.341211       1.601852   \n",
       "max      5776.000000       0.492399     691.428571      26.600000   \n",
       "\n",
       "               gndvi          green          kndvi           ndci  \\\n",
       "count  373624.000000  373624.000000  373624.000000  373624.000000   \n",
       "mean        0.631860     653.122749       0.448365       0.350517   \n",
       "std         0.145304     228.183729       0.181182       0.140395   \n",
       "min        -0.074931      38.000000       0.000000      -0.283364   \n",
       "25%         0.546649     494.000000       0.330932       0.258902   \n",
       "50%         0.654239     619.500000       0.485070       0.347994   \n",
       "75%         0.741152     781.000000       0.598199       0.447279   \n",
       "max         0.974565    5596.000000       0.757573       0.974684   \n",
       "\n",
       "                ndpi         ndvigb  ...           rvi1           rvi2  \\\n",
       "count  373624.000000  373624.000000  ...  373624.000000  373624.000000   \n",
       "mean        0.437672       0.288717  ...       8.301150       5.380053   \n",
       "std         0.137232       0.123104  ...       6.719706       2.716593   \n",
       "min        -0.691574      -0.744108  ...       0.666248       0.860585   \n",
       "25%         0.366833       0.207430  ...       3.835687       3.411592   \n",
       "50%         0.454809       0.254400  ...       6.345679       4.784344   \n",
       "75%         0.530317       0.342725  ...      10.824926       6.726539   \n",
       "max         0.952736       0.993671  ...     418.800000      77.631579   \n",
       "\n",
       "                sipi           srpi            tvi           vari  \\\n",
       "count  373624.000000  373624.000000  373624.000000  373624.000000   \n",
       "mean        0.765744       0.750706  156563.706293       0.205721   \n",
       "std         0.127082       0.194672   61032.490637       0.191018   \n",
       "min         0.085880       0.007299  -27960.000000      -1.954023   \n",
       "25%         0.698935       0.603133  115180.000000       0.075515   \n",
       "50%         0.790016       0.734828  163080.000000       0.202469   \n",
       "75%         0.860963       0.866667  201440.000000       0.341031   \n",
       "max         0.999573       2.540000  400560.000000       1.257143   \n",
       "\n",
       "                  VH          VV-VH             VV          class  \n",
       "count  373624.000000  373624.000000  373624.000000  373624.000000  \n",
       "mean        0.020839       8.131402       0.114432       1.634258  \n",
       "std         0.014182      16.316112       0.096464       0.481638  \n",
       "min         0.000014       0.092521       0.000973       1.000000  \n",
       "25%         0.010681       3.208276       0.059507       1.000000  \n",
       "50%         0.017541       5.341186       0.095606       2.000000  \n",
       "75%         0.027436       9.185428       0.146852       2.000000  \n",
       "max         0.171081    4986.297363      18.766241       2.000000  \n",
       "\n",
       "[8 rows x 25 columns]"
      ]
     },
     "execution_count": 24,
     "metadata": {},
     "output_type": "execute_result"
    }
   ],
   "source": [
    "df.describe()"
   ]
  },
  {
   "cell_type": "code",
   "execution_count": 12,
   "id": "e47a8caf-5e5b-487a-93c3-eb3b1f9a7c72",
   "metadata": {},
   "outputs": [
    {
     "data": {
      "text/plain": [
       "2.0    336540\n",
       "1.0    203340\n",
       "Name: class, dtype: int64"
      ]
     },
     "execution_count": 12,
     "metadata": {},
     "output_type": "execute_result"
    }
   ],
   "source": [
    "df['class'].value_counts()"
   ]
  },
  {
   "cell_type": "code",
   "execution_count": 13,
   "id": "e31c38eb-2573-440f-aa0c-77da4dffe4ba",
   "metadata": {
    "tags": []
   },
   "outputs": [
    {
     "data": {
      "text/plain": [
       "4"
      ]
     },
     "execution_count": 13,
     "metadata": {},
     "output_type": "execute_result"
    }
   ],
   "source": [
    "# Check for infinity values\n",
    "np.isinf(df).values.sum() "
   ]
  },
  {
   "cell_type": "code",
   "execution_count": 14,
   "id": "2f841337-c83c-4d7e-a28b-c7f9a72a4b0f",
   "metadata": {
    "tags": []
   },
   "outputs": [
    {
     "data": {
      "text/plain": [
       "gi        gi\n",
       "psri    psri\n",
       "rvi1    rvi1\n",
       "rvi2    rvi2\n",
       "dtype: object"
      ]
     },
     "execution_count": 14,
     "metadata": {},
     "output_type": "execute_result"
    }
   ],
   "source": [
    "# Check at which column the infinity values are\n",
    "df.columns.to_series()[np.isinf(df).any()]"
   ]
  },
  {
   "cell_type": "code",
   "execution_count": 15,
   "id": "917a98ac-3f4e-475f-a1ee-1537adc17fe0",
   "metadata": {
    "tags": []
   },
   "outputs": [],
   "source": [
    "# Replacing infinite with nan\n",
    "df.replace([np.inf, -np.inf], np.nan, inplace=True)"
   ]
  },
  {
   "cell_type": "code",
   "execution_count": 16,
   "id": "af31c97d-c392-44ce-ba19-a6d567cea8f3",
   "metadata": {},
   "outputs": [
    {
     "data": {
      "text/plain": [
       "blue      0\n",
       "dbsi      0\n",
       "evi       0\n",
       "gi        1\n",
       "gndvi     0\n",
       "green     0\n",
       "kndvi     0\n",
       "ndci      0\n",
       "ndpi      0\n",
       "ndvigb    0\n",
       "ndvi      0\n",
       "nir       0\n",
       "npci      1\n",
       "psri      1\n",
       "red       0\n",
       "rvi1      1\n",
       "rvi2      1\n",
       "sipi      0\n",
       "srpi      1\n",
       "tvi       0\n",
       "vari      0\n",
       "VH        0\n",
       "VV-VH     0\n",
       "VV        0\n",
       "class     0\n",
       "dtype: int64"
      ]
     },
     "execution_count": 16,
     "metadata": {},
     "output_type": "execute_result"
    }
   ],
   "source": [
    "df.isnull().sum()"
   ]
  },
  {
   "cell_type": "code",
   "execution_count": 17,
   "id": "ecfac0d9-72b0-4e1c-9e57-3e16850810cc",
   "metadata": {
    "tags": []
   },
   "outputs": [],
   "source": [
    "df.drop(df[df['VV'] <= -99999].index, inplace=True)"
   ]
  },
  {
   "cell_type": "code",
   "execution_count": 18,
   "id": "841e27e6-54ae-416b-8569-e0bf32f5dde2",
   "metadata": {},
   "outputs": [],
   "source": [
    "df.drop(df[df['blue'] == 0].index, inplace=True)"
   ]
  },
  {
   "cell_type": "code",
   "execution_count": 19,
   "id": "feb2c368-2ee3-4531-bb5b-4e02bc33fef5",
   "metadata": {},
   "outputs": [],
   "source": [
    "df.drop(df[df['blue'] > 10000].index, inplace=True)"
   ]
  },
  {
   "cell_type": "code",
   "execution_count": 20,
   "id": "f997edd0-2d9f-4d2f-8abe-edd019f6bed1",
   "metadata": {},
   "outputs": [],
   "source": [
    "df.dropna(inplace=True)"
   ]
  },
  {
   "cell_type": "code",
   "execution_count": 21,
   "id": "5d1c8d99-ad56-4782-bc31-6682dd93ef3e",
   "metadata": {
    "tags": []
   },
   "outputs": [
    {
     "data": {
      "text/plain": [
       "2.0    236974\n",
       "1.0    136650\n",
       "Name: class, dtype: int64"
      ]
     },
     "execution_count": 21,
     "metadata": {},
     "output_type": "execute_result"
    }
   ],
   "source": [
    "df['class'].value_counts()"
   ]
  },
  {
   "cell_type": "code",
   "execution_count": 25,
   "id": "f7ccdbc4-be86-4923-ba2c-8f4ec63314ac",
   "metadata": {},
   "outputs": [],
   "source": [
    "# Save the dataframe in csv file\n",
    "df.to_csv('CC_2023_JJ.csv', index=False)"
   ]
  },
  {
   "cell_type": "code",
   "execution_count": 13,
   "id": "45c639e9-cebc-42e3-bd01-1a92f275297e",
   "metadata": {
    "tags": []
   },
   "outputs": [],
   "source": [
    "#df = pd.read_csv('CC_data.csv')"
   ]
  },
  {
   "cell_type": "code",
   "execution_count": 21,
   "id": "a2409a5d-f43d-44c1-b012-08c01937f8eb",
   "metadata": {
    "tags": []
   },
   "outputs": [
    {
     "name": "stdout",
     "output_type": "stream",
     "text": [
      "Class=2.0, n=1155744 (50.0)\n",
      "Class=1.0, n=1155744 (50.0)\n"
     ]
    },
    {
     "data": {
      "image/png": "[encoded data removed]",
      "text/plain": [
       "<Figure size 640x480 with 1 Axes>"
      ]
     },
     "metadata": {},
     "output_type": "display_data"
    }
   ],
   "source": [
    "# Balance between the classes by using SMOTE\n",
    "oversample = SMOTE()\n",
    "data = df.values\n",
    "X, y = data[:, :-1], data[:, -1]\n",
    "X, y = oversample.fit_resample(X, y)\n",
    "counter = Counter(y)\n",
    "for k, v in counter.items():\n",
    "    per = v / len(y) * 100\n",
    "    print('Class={}, n={} ({})'.format(k, v, per))\n",
    "plt.bar(counter.keys(), counter.values())\n",
    "plt.show()"
   ]
  },
  {
   "cell_type": "code",
   "execution_count": 22,
   "id": "94b69ed0-37a6-4645-92a7-c0c607d805d1",
   "metadata": {
    "tags": []
   },
   "outputs": [
    {
     "data": {
      "text/plain": [
       "dtype('float64')"
      ]
     },
     "execution_count": 22,
     "metadata": {},
     "output_type": "execute_result"
    }
   ],
   "source": [
    "X.dtype"
   ]
  },
  {
   "cell_type": "code",
   "execution_count": 23,
   "id": "d93fcc84-3a73-4936-91d4-3765ec4c246d",
   "metadata": {
    "tags": []
   },
   "outputs": [
    {
     "data": {
      "text/plain": [
       "(2311488, 24)"
      ]
     },
     "execution_count": 23,
     "metadata": {},
     "output_type": "execute_result"
    }
   ],
   "source": [
    "X.shape"
   ]
  },
  {
   "cell_type": "code",
   "execution_count": 24,
   "id": "6552ed22-ab91-4438-8a7e-7fb0e71b6a85",
   "metadata": {
    "tags": []
   },
   "outputs": [],
   "source": [
    "# Combine X and y in one array\n",
    "arrayz = np.column_stack((X, y))"
   ]
  },
  {
   "cell_type": "code",
   "execution_count": 25,
   "id": "0c642977-4479-40ab-82bd-448ad7ea26e1",
   "metadata": {
    "tags": []
   },
   "outputs": [
    {
     "data": {
      "text/plain": [
       "array([[ 4.20000000e+02, -1.82014792e-01,  1.61864851e+00, ...,\n",
       "         8.96960354e+00,  1.12368703e-01,  2.00000000e+00],\n",
       "       [ 3.43000000e+02, -1.13368410e-01,  1.26832298e+00, ...,\n",
       "         8.67384720e+00,  8.44534263e-02,  2.00000000e+00],\n",
       "       [ 3.41000000e+02, -2.50544921e-01,  1.33995638e+00, ...,\n",
       "         9.20981407e+00,  8.21796879e-02,  2.00000000e+00],\n",
       "       ...,\n",
       "       [ 3.49509919e+02, -2.59123460e-01,  1.89084137e+00, ...,\n",
       "         5.49078648e+00,  1.31357638e-01,  1.00000000e+00],\n",
       "       [ 7.57186108e+02,  6.88008182e-02,  3.19068402e-01, ...,\n",
       "         1.34232560e+01,  6.57399760e-02,  1.00000000e+00],\n",
       "       [ 3.12932331e+02, -3.08809393e-01,  2.55131854e+00, ...,\n",
       "         3.80111520e+00,  5.25948228e-02,  1.00000000e+00]])"
      ]
     },
     "execution_count": 25,
     "metadata": {},
     "output_type": "execute_result"
    }
   ],
   "source": [
    "arrayz"
   ]
  },
  {
   "cell_type": "code",
   "execution_count": 26,
   "id": "479e932f-27c1-4907-8fef-6643bf7950c6",
   "metadata": {
    "tags": []
   },
   "outputs": [],
   "source": [
    "df = pd.DataFrame(arrayz, columns=colNames)"
   ]
  },
  {
   "cell_type": "code",
   "execution_count": 27,
   "id": "99e812c8-5377-4117-9407-e0b2bd61a163",
   "metadata": {
    "tags": []
   },
   "outputs": [
    {
     "data": {
      "text/html": [
       "<div>\n",
       "<style scoped>\n",
       "    .dataframe tbody tr th:only-of-type {\n",
       "        vertical-align: middle;\n",
       "    }\n",
       "\n",
       "    .dataframe tbody tr th {\n",
       "        vertical-align: top;\n",
       "    }\n",
       "\n",
       "    .dataframe thead th {\n",
       "        text-align: right;\n",
       "    }\n",
       "</style>\n",
       "<table border=\"1\" class=\"dataframe\">\n",
       "  <thead>\n",
       "    <tr style=\"text-align: right;\">\n",
       "      <th></th>\n",
       "      <th>blue</th>\n",
       "      <th>dbsi</th>\n",
       "      <th>evi</th>\n",
       "      <th>gi</th>\n",
       "      <th>gndvi</th>\n",
       "      <th>green</th>\n",
       "      <th>kndvi</th>\n",
       "      <th>ndci</th>\n",
       "      <th>ndpi</th>\n",
       "      <th>ndvigb</th>\n",
       "      <th>...</th>\n",
       "      <th>rvi1</th>\n",
       "      <th>rvi2</th>\n",
       "      <th>sipi</th>\n",
       "      <th>srpi</th>\n",
       "      <th>tvi</th>\n",
       "      <th>vari</th>\n",
       "      <th>VH</th>\n",
       "      <th>VV-VH</th>\n",
       "      <th>VV</th>\n",
       "      <th>class</th>\n",
       "    </tr>\n",
       "  </thead>\n",
       "  <tbody>\n",
       "    <tr>\n",
       "      <th>0</th>\n",
       "      <td>420.0</td>\n",
       "      <td>-0.182015</td>\n",
       "      <td>1.618649</td>\n",
       "      <td>1.097070</td>\n",
       "      <td>0.496850</td>\n",
       "      <td>599.0</td>\n",
       "      <td>0.274648</td>\n",
       "      <td>0.258152</td>\n",
       "      <td>0.348913</td>\n",
       "      <td>0.175662</td>\n",
       "      <td>...</td>\n",
       "      <td>3.263736</td>\n",
       "      <td>2.974958</td>\n",
       "      <td>0.618529</td>\n",
       "      <td>0.769231</td>\n",
       "      <td>10744.0</td>\n",
       "      <td>0.073103</td>\n",
       "      <td>0.012528</td>\n",
       "      <td>8.969604</td>\n",
       "      <td>0.112369</td>\n",
       "      <td>2.0</td>\n",
       "    </tr>\n",
       "    <tr>\n",
       "      <th>1</th>\n",
       "      <td>343.0</td>\n",
       "      <td>-0.113368</td>\n",
       "      <td>1.268323</td>\n",
       "      <td>1.076621</td>\n",
       "      <td>0.472570</td>\n",
       "      <td>548.0</td>\n",
       "      <td>0.245611</td>\n",
       "      <td>0.290592</td>\n",
       "      <td>0.387367</td>\n",
       "      <td>0.230079</td>\n",
       "      <td>...</td>\n",
       "      <td>3.005894</td>\n",
       "      <td>2.791971</td>\n",
       "      <td>0.633743</td>\n",
       "      <td>0.673870</td>\n",
       "      <td>62820.0</td>\n",
       "      <td>0.054622</td>\n",
       "      <td>0.009737</td>\n",
       "      <td>8.673847</td>\n",
       "      <td>0.084453</td>\n",
       "      <td>2.0</td>\n",
       "    </tr>\n",
       "    <tr>\n",
       "      <th>2</th>\n",
       "      <td>341.0</td>\n",
       "      <td>-0.250545</td>\n",
       "      <td>1.339956</td>\n",
       "      <td>1.171315</td>\n",
       "      <td>0.464481</td>\n",
       "      <td>588.0</td>\n",
       "      <td>0.268044</td>\n",
       "      <td>0.257945</td>\n",
       "      <td>0.273626</td>\n",
       "      <td>0.265877</td>\n",
       "      <td>...</td>\n",
       "      <td>3.203187</td>\n",
       "      <td>2.734694</td>\n",
       "      <td>0.650077</td>\n",
       "      <td>0.679283</td>\n",
       "      <td>4264.0</td>\n",
       "      <td>0.114820</td>\n",
       "      <td>0.008923</td>\n",
       "      <td>9.209814</td>\n",
       "      <td>0.082180</td>\n",
       "      <td>2.0</td>\n",
       "    </tr>\n",
       "    <tr>\n",
       "      <th>3</th>\n",
       "      <td>336.0</td>\n",
       "      <td>-0.315290</td>\n",
       "      <td>1.837561</td>\n",
       "      <td>1.297674</td>\n",
       "      <td>0.525106</td>\n",
       "      <td>558.0</td>\n",
       "      <td>0.358986</td>\n",
       "      <td>0.328649</td>\n",
       "      <td>0.297671</td>\n",
       "      <td>0.248322</td>\n",
       "      <td>...</td>\n",
       "      <td>4.167442</td>\n",
       "      <td>3.211470</td>\n",
       "      <td>0.684211</td>\n",
       "      <td>0.781395</td>\n",
       "      <td>21304.0</td>\n",
       "      <td>0.196319</td>\n",
       "      <td>0.005892</td>\n",
       "      <td>16.092522</td>\n",
       "      <td>0.094815</td>\n",
       "      <td>2.0</td>\n",
       "    </tr>\n",
       "    <tr>\n",
       "      <th>4</th>\n",
       "      <td>329.0</td>\n",
       "      <td>-0.254732</td>\n",
       "      <td>2.047013</td>\n",
       "      <td>1.357143</td>\n",
       "      <td>0.511478</td>\n",
       "      <td>532.0</td>\n",
       "      <td>0.361496</td>\n",
       "      <td>0.367742</td>\n",
       "      <td>0.360577</td>\n",
       "      <td>0.235772</td>\n",
       "      <td>...</td>\n",
       "      <td>4.198980</td>\n",
       "      <td>3.093985</td>\n",
       "      <td>0.666835</td>\n",
       "      <td>0.839286</td>\n",
       "      <td>15304.0</td>\n",
       "      <td>0.235294</td>\n",
       "      <td>0.010234</td>\n",
       "      <td>12.326612</td>\n",
       "      <td>0.126151</td>\n",
       "      <td>2.0</td>\n",
       "    </tr>\n",
       "  </tbody>\n",
       "</table>\n",
       "<p>5 rows × 25 columns</p>\n",
       "</div>"
      ],
      "text/plain": [
       "    blue      dbsi       evi        gi     gndvi  green     kndvi      ndci  \\\n",
       "0  420.0 -0.182015  1.618649  1.097070  0.496850  599.0  0.274648  0.258152   \n",
       "1  343.0 -0.113368  1.268323  1.076621  0.472570  548.0  0.245611  0.290592   \n",
       "2  341.0 -0.250545  1.339956  1.171315  0.464481  588.0  0.268044  0.257945   \n",
       "3  336.0 -0.315290  1.837561  1.297674  0.525106  558.0  0.358986  0.328649   \n",
       "4  329.0 -0.254732  2.047013  1.357143  0.511478  532.0  0.361496  0.367742   \n",
       "\n",
       "       ndpi    ndvigb  ...      rvi1      rvi2      sipi      srpi      tvi  \\\n",
       "0  0.348913  0.175662  ...  3.263736  2.974958  0.618529  0.769231  10744.0   \n",
       "1  0.387367  0.230079  ...  3.005894  2.791971  0.633743  0.673870  62820.0   \n",
       "2  0.273626  0.265877  ...  3.203187  2.734694  0.650077  0.679283   4264.0   \n",
       "3  0.297671  0.248322  ...  4.167442  3.211470  0.684211  0.781395  21304.0   \n",
       "4  0.360577  0.235772  ...  4.198980  3.093985  0.666835  0.839286  15304.0   \n",
       "\n",
       "       vari        VH      VV-VH        VV  class  \n",
       "0  0.073103  0.012528   8.969604  0.112369    2.0  \n",
       "1  0.054622  0.009737   8.673847  0.084453    2.0  \n",
       "2  0.114820  0.008923   9.209814  0.082180    2.0  \n",
       "3  0.196319  0.005892  16.092522  0.094815    2.0  \n",
       "4  0.235294  0.010234  12.326612  0.126151    2.0  \n",
       "\n",
       "[5 rows x 25 columns]"
      ]
     },
     "execution_count": 27,
     "metadata": {},
     "output_type": "execute_result"
    }
   ],
   "source": [
    "df.head()"
   ]
  },
  {
   "cell_type": "code",
   "execution_count": 28,
   "id": "cf695be0-bdea-49ce-891d-2292d33a3ed8",
   "metadata": {
    "tags": []
   },
   "outputs": [
    {
     "name": "stdout",
     "output_type": "stream",
     "text": [
      "<class 'pandas.core.frame.DataFrame'>\n",
      "RangeIndex: 2311488 entries, 0 to 2311487\n",
      "Data columns (total 25 columns):\n",
      " #   Column  Dtype  \n",
      "---  ------  -----  \n",
      " 0   blue    float64\n",
      " 1   dbsi    float64\n",
      " 2   evi     float64\n",
      " 3   gi      float64\n",
      " 4   gndvi   float64\n",
      " 5   green   float64\n",
      " 6   kndvi   float64\n",
      " 7   ndci    float64\n",
      " 8   ndpi    float64\n",
      " 9   ndvigb  float64\n",
      " 10  ndvi    float64\n",
      " 11  nir     float64\n",
      " 12  npci    float64\n",
      " 13  psri    float64\n",
      " 14  red     float64\n",
      " 15  rvi1    float64\n",
      " 16  rvi2    float64\n",
      " 17  sipi    float64\n",
      " 18  srpi    float64\n",
      " 19  tvi     float64\n",
      " 20  vari    float64\n",
      " 21  VH      float64\n",
      " 22  VV-VH   float64\n",
      " 23  VV      float64\n",
      " 24  class   float64\n",
      "dtypes: float64(25)\n",
      "memory usage: 440.9 MB\n"
     ]
    }
   ],
   "source": [
    "df.info()"
   ]
  },
  {
   "cell_type": "code",
   "execution_count": 29,
   "id": "91ae3b20-109f-41fd-a120-df3778a47c92",
   "metadata": {
    "tags": []
   },
   "outputs": [
    {
     "data": {
      "text/html": [
       "<div>\n",
       "<style scoped>\n",
       "    .dataframe tbody tr th:only-of-type {\n",
       "        vertical-align: middle;\n",
       "    }\n",
       "\n",
       "    .dataframe tbody tr th {\n",
       "        vertical-align: top;\n",
       "    }\n",
       "\n",
       "    .dataframe thead th {\n",
       "        text-align: right;\n",
       "    }\n",
       "</style>\n",
       "<table border=\"1\" class=\"dataframe\">\n",
       "  <thead>\n",
       "    <tr style=\"text-align: right;\">\n",
       "      <th></th>\n",
       "      <th>blue</th>\n",
       "      <th>dbsi</th>\n",
       "      <th>evi</th>\n",
       "      <th>gi</th>\n",
       "      <th>gndvi</th>\n",
       "      <th>green</th>\n",
       "      <th>kndvi</th>\n",
       "      <th>ndci</th>\n",
       "      <th>ndpi</th>\n",
       "      <th>ndvigb</th>\n",
       "      <th>...</th>\n",
       "      <th>rvi1</th>\n",
       "      <th>rvi2</th>\n",
       "      <th>sipi</th>\n",
       "      <th>srpi</th>\n",
       "      <th>tvi</th>\n",
       "      <th>vari</th>\n",
       "      <th>VH</th>\n",
       "      <th>VV-VH</th>\n",
       "      <th>VV</th>\n",
       "      <th>class</th>\n",
       "    </tr>\n",
       "  </thead>\n",
       "  <tbody>\n",
       "    <tr>\n",
       "      <th>count</th>\n",
       "      <td>2.311488e+06</td>\n",
       "      <td>2.311488e+06</td>\n",
       "      <td>2.311488e+06</td>\n",
       "      <td>2.311488e+06</td>\n",
       "      <td>2.311488e+06</td>\n",
       "      <td>2.311488e+06</td>\n",
       "      <td>2.311488e+06</td>\n",
       "      <td>2.311488e+06</td>\n",
       "      <td>2.311488e+06</td>\n",
       "      <td>2.311488e+06</td>\n",
       "      <td>...</td>\n",
       "      <td>2.311488e+06</td>\n",
       "      <td>2.311488e+06</td>\n",
       "      <td>2.311488e+06</td>\n",
       "      <td>2.311488e+06</td>\n",
       "      <td>2.311488e+06</td>\n",
       "      <td>2.311488e+06</td>\n",
       "      <td>2.311488e+06</td>\n",
       "      <td>2.311488e+06</td>\n",
       "      <td>2.311488e+06</td>\n",
       "      <td>2311488.0</td>\n",
       "    </tr>\n",
       "    <tr>\n",
       "      <th>mean</th>\n",
       "      <td>3.788445e+02</td>\n",
       "      <td>-2.497862e-01</td>\n",
       "      <td>2.020292e+00</td>\n",
       "      <td>1.453894e+00</td>\n",
       "      <td>6.512780e-01</td>\n",
       "      <td>6.241995e+02</td>\n",
       "      <td>4.761289e-01</td>\n",
       "      <td>3.583120e-01</td>\n",
       "      <td>4.588809e-01</td>\n",
       "      <td>2.614761e-01</td>\n",
       "      <td>...</td>\n",
       "      <td>9.373468e+00</td>\n",
       "      <td>5.767140e+00</td>\n",
       "      <td>7.674252e-01</td>\n",
       "      <td>8.303713e-01</td>\n",
       "      <td>3.226307e+04</td>\n",
       "      <td>7.782638e+00</td>\n",
       "      <td>1.830850e-02</td>\n",
       "      <td>7.324447e+00</td>\n",
       "      <td>9.593845e-02</td>\n",
       "      <td>1.5</td>\n",
       "    </tr>\n",
       "    <tr>\n",
       "      <th>std</th>\n",
       "      <td>1.855067e+02</td>\n",
       "      <td>1.554535e-01</td>\n",
       "      <td>1.965226e+01</td>\n",
       "      <td>1.131360e+00</td>\n",
       "      <td>1.497559e-01</td>\n",
       "      <td>2.035687e+02</td>\n",
       "      <td>1.856416e-01</td>\n",
       "      <td>1.376394e-01</td>\n",
       "      <td>1.090051e-01</td>\n",
       "      <td>8.635219e-02</td>\n",
       "      <td>...</td>\n",
       "      <td>2.516122e+01</td>\n",
       "      <td>3.723462e+00</td>\n",
       "      <td>1.381105e-01</td>\n",
       "      <td>2.984677e-01</td>\n",
       "      <td>1.884807e+04</td>\n",
       "      <td>1.967303e+01</td>\n",
       "      <td>1.206974e-02</td>\n",
       "      <td>9.999259e+00</td>\n",
       "      <td>7.654909e-02</td>\n",
       "      <td>0.5</td>\n",
       "    </tr>\n",
       "    <tr>\n",
       "      <th>min</th>\n",
       "      <td>1.000000e+00</td>\n",
       "      <td>-9.346241e-01</td>\n",
       "      <td>-2.726833e+04</td>\n",
       "      <td>3.344482e-03</td>\n",
       "      <td>-1.666667e-01</td>\n",
       "      <td>1.000000e+00</td>\n",
       "      <td>0.000000e+00</td>\n",
       "      <td>-2.911392e-01</td>\n",
       "      <td>-7.920937e-01</td>\n",
       "      <td>-9.944904e-01</td>\n",
       "      <td>...</td>\n",
       "      <td>6.658163e-01</td>\n",
       "      <td>7.142857e-01</td>\n",
       "      <td>-2.158273e-01</td>\n",
       "      <td>4.854369e-03</td>\n",
       "      <td>0.000000e+00</td>\n",
       "      <td>0.000000e+00</td>\n",
       "      <td>4.897626e-05</td>\n",
       "      <td>1.523661e-02</td>\n",
       "      <td>2.100922e-04</td>\n",
       "      <td>1.0</td>\n",
       "    </tr>\n",
       "    <tr>\n",
       "      <th>25%</th>\n",
       "      <td>2.770000e+02</td>\n",
       "      <td>-3.492517e-01</td>\n",
       "      <td>1.715183e+00</td>\n",
       "      <td>1.164228e+00</td>\n",
       "      <td>5.881579e-01</td>\n",
       "      <td>5.020000e+02</td>\n",
       "      <td>3.917501e-01</td>\n",
       "      <td>2.765957e-01</td>\n",
       "      <td>4.004267e-01</td>\n",
       "      <td>2.045455e-01</td>\n",
       "      <td>...</td>\n",
       "      <td>4.605364e+00</td>\n",
       "      <td>3.856287e+00</td>\n",
       "      <td>7.251842e-01</td>\n",
       "      <td>6.914894e-01</td>\n",
       "      <td>1.591200e+04</td>\n",
       "      <td>1.916084e-01</td>\n",
       "      <td>9.628372e-03</td>\n",
       "      <td>3.019870e+00</td>\n",
       "      <td>4.870462e-02</td>\n",
       "      <td>1.0</td>\n",
       "    </tr>\n",
       "    <tr>\n",
       "      <th>50%</th>\n",
       "      <td>3.488894e+02</td>\n",
       "      <td>-2.897484e-01</td>\n",
       "      <td>2.188730e+00</td>\n",
       "      <td>1.402597e+00</td>\n",
       "      <td>6.860497e-01</td>\n",
       "      <td>6.020000e+02</td>\n",
       "      <td>5.278769e-01</td>\n",
       "      <td>3.672627e-01</td>\n",
       "      <td>4.760726e-01</td>\n",
       "      <td>2.564103e-01</td>\n",
       "      <td>...</td>\n",
       "      <td>7.555556e+00</td>\n",
       "      <td>5.370504e+00</td>\n",
       "      <td>8.076286e-01</td>\n",
       "      <td>8.014354e-01</td>\n",
       "      <td>3.188800e+04</td>\n",
       "      <td>3.326572e-01</td>\n",
       "      <td>1.559603e-02</td>\n",
       "      <td>4.994045e+00</td>\n",
       "      <td>8.286895e-02</td>\n",
       "      <td>1.5</td>\n",
       "    </tr>\n",
       "    <tr>\n",
       "      <th>75%</th>\n",
       "      <td>4.360000e+02</td>\n",
       "      <td>-1.944158e-01</td>\n",
       "      <td>2.512675e+00</td>\n",
       "      <td>1.706840e+00</td>\n",
       "      <td>7.580288e-01</td>\n",
       "      <td>7.090000e+02</td>\n",
       "      <td>6.192802e-01</td>\n",
       "      <td>4.586777e-01</td>\n",
       "      <td>5.309829e-01</td>\n",
       "      <td>3.117207e-01</td>\n",
       "      <td>...</td>\n",
       "      <td>1.240000e+01</td>\n",
       "      <td>7.265539e+00</td>\n",
       "      <td>8.608696e-01</td>\n",
       "      <td>9.414634e-01</td>\n",
       "      <td>4.848800e+04</td>\n",
       "      <td>4.928910e-01</td>\n",
       "      <td>2.404580e-02</td>\n",
       "      <td>8.410636e+00</td>\n",
       "      <td>1.262599e-01</td>\n",
       "      <td>2.0</td>\n",
       "    </tr>\n",
       "    <tr>\n",
       "      <th>max</th>\n",
       "      <td>9.088000e+03</td>\n",
       "      <td>5.492288e-01</td>\n",
       "      <td>1.770000e+03</td>\n",
       "      <td>4.690000e+02</td>\n",
       "      <td>9.994809e-01</td>\n",
       "      <td>8.608000e+03</td>\n",
       "      <td>1.000000e+00</td>\n",
       "      <td>9.972028e-01</td>\n",
       "      <td>9.987179e-01</td>\n",
       "      <td>9.955157e-01</td>\n",
       "      <td>...</td>\n",
       "      <td>5.304000e+03</td>\n",
       "      <td>3.852000e+03</td>\n",
       "      <td>9.996201e-01</td>\n",
       "      <td>3.490000e+02</td>\n",
       "      <td>6.553200e+04</td>\n",
       "      <td>6.342039e+02</td>\n",
       "      <td>2.529018e-01</td>\n",
       "      <td>3.231396e+03</td>\n",
       "      <td>2.422261e+01</td>\n",
       "      <td>2.0</td>\n",
       "    </tr>\n",
       "  </tbody>\n",
       "</table>\n",
       "<p>8 rows × 25 columns</p>\n",
       "</div>"
      ],
      "text/plain": [
       "               blue          dbsi           evi            gi         gndvi  \\\n",
       "count  2.311488e+06  2.311488e+06  2.311488e+06  2.311488e+06  2.311488e+06   \n",
       "mean   3.788445e+02 -2.497862e-01  2.020292e+00  1.453894e+00  6.512780e-01   \n",
       "std    1.855067e+02  1.554535e-01  1.965226e+01  1.131360e+00  1.497559e-01   \n",
       "min    1.000000e+00 -9.346241e-01 -2.726833e+04  3.344482e-03 -1.666667e-01   \n",
       "25%    2.770000e+02 -3.492517e-01  1.715183e+00  1.164228e+00  5.881579e-01   \n",
       "50%    3.488894e+02 -2.897484e-01  2.188730e+00  1.402597e+00  6.860497e-01   \n",
       "75%    4.360000e+02 -1.944158e-01  2.512675e+00  1.706840e+00  7.580288e-01   \n",
       "max    9.088000e+03  5.492288e-01  1.770000e+03  4.690000e+02  9.994809e-01   \n",
       "\n",
       "              green         kndvi          ndci          ndpi        ndvigb  \\\n",
       "count  2.311488e+06  2.311488e+06  2.311488e+06  2.311488e+06  2.311488e+06   \n",
       "mean   6.241995e+02  4.761289e-01  3.583120e-01  4.588809e-01  2.614761e-01   \n",
       "std    2.035687e+02  1.856416e-01  1.376394e-01  1.090051e-01  8.635219e-02   \n",
       "min    1.000000e+00  0.000000e+00 -2.911392e-01 -7.920937e-01 -9.944904e-01   \n",
       "25%    5.020000e+02  3.917501e-01  2.765957e-01  4.004267e-01  2.045455e-01   \n",
       "50%    6.020000e+02  5.278769e-01  3.672627e-01  4.760726e-01  2.564103e-01   \n",
       "75%    7.090000e+02  6.192802e-01  4.586777e-01  5.309829e-01  3.117207e-01   \n",
       "max    8.608000e+03  1.000000e+00  9.972028e-01  9.987179e-01  9.955157e-01   \n",
       "\n",
       "       ...          rvi1          rvi2          sipi          srpi  \\\n",
       "count  ...  2.311488e+06  2.311488e+06  2.311488e+06  2.311488e+06   \n",
       "mean   ...  9.373468e+00  5.767140e+00  7.674252e-01  8.303713e-01   \n",
       "std    ...  2.516122e+01  3.723462e+00  1.381105e-01  2.984677e-01   \n",
       "min    ...  6.658163e-01  7.142857e-01 -2.158273e-01  4.854369e-03   \n",
       "25%    ...  4.605364e+00  3.856287e+00  7.251842e-01  6.914894e-01   \n",
       "50%    ...  7.555556e+00  5.370504e+00  8.076286e-01  8.014354e-01   \n",
       "75%    ...  1.240000e+01  7.265539e+00  8.608696e-01  9.414634e-01   \n",
       "max    ...  5.304000e+03  3.852000e+03  9.996201e-01  3.490000e+02   \n",
       "\n",
       "                tvi          vari            VH         VV-VH            VV  \\\n",
       "count  2.311488e+06  2.311488e+06  2.311488e+06  2.311488e+06  2.311488e+06   \n",
       "mean   3.226307e+04  7.782638e+00  1.830850e-02  7.324447e+00  9.593845e-02   \n",
       "std    1.884807e+04  1.967303e+01  1.206974e-02  9.999259e+00  7.654909e-02   \n",
       "min    0.000000e+00  0.000000e+00  4.897626e-05  1.523661e-02  2.100922e-04   \n",
       "25%    1.591200e+04  1.916084e-01  9.628372e-03  3.019870e+00  4.870462e-02   \n",
       "50%    3.188800e+04  3.326572e-01  1.559603e-02  4.994045e+00  8.286895e-02   \n",
       "75%    4.848800e+04  4.928910e-01  2.404580e-02  8.410636e+00  1.262599e-01   \n",
       "max    6.553200e+04  6.342039e+02  2.529018e-01  3.231396e+03  2.422261e+01   \n",
       "\n",
       "           class  \n",
       "count  2311488.0  \n",
       "mean         1.5  \n",
       "std          0.5  \n",
       "min          1.0  \n",
       "25%          1.0  \n",
       "50%          1.5  \n",
       "75%          2.0  \n",
       "max          2.0  \n",
       "\n",
       "[8 rows x 25 columns]"
      ]
     },
     "execution_count": 29,
     "metadata": {},
     "output_type": "execute_result"
    }
   ],
   "source": [
    "df.describe()"
   ]
  },
  {
   "cell_type": "code",
   "execution_count": 30,
   "id": "e0617ca9-4f8f-4bf2-982a-f9bf2d3f9b3e",
   "metadata": {
    "tags": []
   },
   "outputs": [
    {
     "data": {
      "text/plain": [
       "class\n",
       "2.0    1155744\n",
       "1.0    1155744\n",
       "Name: count, dtype: int64"
      ]
     },
     "execution_count": 30,
     "metadata": {},
     "output_type": "execute_result"
    }
   ],
   "source": [
    "df['class'].value_counts()"
   ]
  },
  {
   "cell_type": "code",
   "execution_count": 31,
   "id": "40aa47ce-adea-4556-8248-f2872017df7e",
   "metadata": {
    "tags": []
   },
   "outputs": [
    {
     "data": {
      "text/plain": [
       "0"
      ]
     },
     "execution_count": 31,
     "metadata": {},
     "output_type": "execute_result"
    }
   ],
   "source": [
    "np.isinf(df).values.sum() "
   ]
  },
  {
   "cell_type": "code",
   "execution_count": 32,
   "id": "a19c1d67-7ebd-431e-a2c8-3cb55999f6ab",
   "metadata": {
    "tags": []
   },
   "outputs": [
    {
     "data": {
      "text/plain": [
       "blue      0\n",
       "dbsi      0\n",
       "evi       0\n",
       "gi        0\n",
       "gndvi     0\n",
       "green     0\n",
       "kndvi     0\n",
       "ndci      0\n",
       "ndpi      0\n",
       "ndvigb    0\n",
       "ndvi      0\n",
       "nir       0\n",
       "npci      0\n",
       "psri      0\n",
       "red       0\n",
       "rvi1      0\n",
       "rvi2      0\n",
       "sipi      0\n",
       "srpi      0\n",
       "tvi       0\n",
       "vari      0\n",
       "VH        0\n",
       "VV-VH     0\n",
       "VV        0\n",
       "class     0\n",
       "dtype: int64"
      ]
     },
     "execution_count": 32,
     "metadata": {},
     "output_type": "execute_result"
    }
   ],
   "source": [
    "df.isnull().sum()"
   ]
  },
  {
   "cell_type": "code",
   "execution_count": 33,
   "id": "f30ea5da-0810-48a1-bdab-87ba23925bc1",
   "metadata": {
    "tags": []
   },
   "outputs": [],
   "source": [
    "# Save the resampled data to CSV file\n",
    "df.to_csv('CC_data_resample.csv', index=False)"
   ]
  },
  {
   "cell_type": "code",
   "execution_count": 34,
   "id": "7d620dea-e2e7-4cf9-bdca-0c973ba2f5f1",
   "metadata": {},
   "outputs": [],
   "source": [
    "# Get only 10% of the data and save it\n",
    "df_sample = df.sample(frac =.25)"
   ]
  },
  {
   "cell_type": "code",
   "execution_count": 35,
   "id": "fb874f5d-6d74-4896-8bd0-9a9b5473f34e",
   "metadata": {
    "tags": []
   },
   "outputs": [],
   "source": [
    "# Save the sample data to CSV file\n",
    "df_sample.to_csv('CC_data_sample.csv', index=False)"
   ]
  },
  {
   "cell_type": "code",
   "execution_count": null,
   "id": "5e05cc3a-7860-4e22-b490-30353cb26773",
   "metadata": {},
   "outputs": [],
   "source": [
    "# Save the data unresampled to CSV file\n",
    "df.to_csv('CC_data_2023_all.csv', index=False)"
   ]
  },
  {
   "cell_type": "code",
   "execution_count": null,
   "id": "e719ee3b-2873-4ef9-97e9-5449f8aaf154",
   "metadata": {},
   "outputs": [],
   "source": []
  }
 ],
 "metadata": {
  "kernelspec": {
   "display_name": "Python 3 (ipykernel)",
   "language": "python",
   "name": "python3"
  },
  "language_info": {
   "codemirror_mode": {
    "name": "ipython",
    "version": 3
   },
   "file_extension": ".py",
   "mimetype": "text/x-python",
   "name": "python",
   "nbconvert_exporter": "python",
   "pygments_lexer": "ipython3",
   "version": "3.8.18"
  }
 },
 "nbformat": 4,
 "nbformat_minor": 5
}
